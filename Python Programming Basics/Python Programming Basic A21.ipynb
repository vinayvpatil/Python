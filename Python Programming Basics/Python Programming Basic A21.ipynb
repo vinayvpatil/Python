{
 "cells": [
  {
   "cell_type": "markdown",
   "metadata": {},
   "source": [
    "## Python Programming Basic A21\n",
    "### 1. Write a function that takes a list and a number as arguments. Add the number to the end of the list, then remove the first element of the list. The function should then return the updated list.\n",
    "Examples                           \n",
    "next_in_line([5, 6, 7, 8, 9], 1) ➞ [6, 7, 8, 9, 1]                       \n",
    "next_in_line([7, 6, 3, 23, 17], 10) ➞ [6, 3, 23, 17, 10]                     \n",
    "next_in_line([1, 10, 20, 42 ], 6) ➞ [10, 20, 42, 6]                                \n",
    "next_in_line([], 6) ➞ \"No list has been selected\"                 \n",
    "#### Answer :"
   ]
  },
  {
   "cell_type": "code",
   "execution_count": 2,
   "metadata": {},
   "outputs": [
    {
     "name": "stdout",
     "output_type": "stream",
     "text": [
      "New Updated List ➞ [6, 7, 8, 9, 1]\n",
      "New Updated List ➞ [6, 3, 23, 17, 10]\n",
      "New Updated List ➞ [10, 20, 42, 6]\n",
      "No list has been selected\n"
     ]
    }
   ],
   "source": [
    "def next_in_line(list1,number):\n",
    "    if len(list1) > 1:\n",
    "        list1.append(number)\n",
    "        list1.remove(list1[0])\n",
    "        print('New Updated List ➞ {}'.format(list1))\n",
    "    else:\n",
    "        print('No list has been selected')\n",
    "\n",
    "next_in_line([5, 6, 7, 8, 9], 1) \n",
    "next_in_line([7, 6, 3, 23, 17], 10)\n",
    "next_in_line([1, 10, 20, 42 ], 6)\n",
    "next_in_line([], 6)"
   ]
  },
  {
   "cell_type": "markdown",
   "metadata": {},
   "source": [
    "### 2. Create the function that takes a list of dictionaries and returns the sum of people's budgets.\n",
    "Examples            \n",
    "get_budgets([\n",
    "  { \"name\": \"John\", \"age\": 21, \"budget\": 23000 },                   \n",
    "  { \"name\": \"Steve\",  \"age\": 32, \"budget\": 40000 },                        \n",
    "  { \"name\": \"Martin\",  \"age\": 16, \"budget\": 2700 }                        \n",
    "]) ➞ 65700                                         \n",
    "                                                                                     \n",
    "get_budgets([                                                                 \n",
    "  { \"name\": \"John\",  \"age\": 21, \"budget\": 29000 },                             \n",
    "  { \"name\": \"Steve\",  \"age\": 32, \"budget\": 32000 },                            \n",
    "  { \"name\": \"Martin\",  \"age\": 16, \"budget\": 1600 }                                \n",
    "]) ➞ 62600                                              \n",
    "#### Answer :"
   ]
  },
  {
   "cell_type": "code",
   "execution_count": 3,
   "metadata": {},
   "outputs": [
    {
     "name": "stdout",
     "output_type": "stream",
     "text": [
      "Sum of Peoples Budget ➞ 65700\n",
      "Sum of Peoples Budget ➞ 62600\n"
     ]
    }
   ],
   "source": [
    "def get_budgets(dict1):\n",
    "    sum = 0\n",
    "    for i in dict1:\n",
    "        sum += i[\"budget\"]\n",
    "    print('Sum of Peoples Budget ➞ {}'.format(sum))\n",
    "    \n",
    "get_budgets([\n",
    "{ \"name\": \"John\", \"age\": 21, \"budget\": 23000 },\n",
    "{ \"name\": \"Steve\", \"age\": 32, \"budget\": 40000 },\n",
    "{ \"name\": \"Martin\", \"age\": 16, \"budget\": 2700 }\n",
    "])\n",
    "\n",
    "get_budgets([\n",
    "{ \"name\": \"John\", \"age\": 21, \"budget\": 29000 },\n",
    "{ \"name\": \"Steve\", \"age\": 32, \"budget\": 32000 },\n",
    "{ \"name\": \"Martin\", \"age\": 16, \"budget\": 1600 }\n",
    "])"
   ]
  },
  {
   "cell_type": "markdown",
   "metadata": {},
   "source": [
    "### 3. Create a function that takes a string and returns a string with its letters in alphabetical order.\n",
    "Examples                                    \n",
    "alphabet_soup(\"hello\") ➞ \"ehllo\"                  \n",
    "alphabet_soup(\"edabit\") ➞ \"abdeit\"                   \n",
    "alphabet_soup(\"hacker\") ➞ \"acehkr\"           \n",
    "alphabet_soup(\"geek\") ➞ \"eegk\"                \n",
    "alphabet_soup(\"javascript\") ➞ \"aacijprstv\"           \n",
    "#### Answer :"
   ]
  },
  {
   "cell_type": "code",
   "execution_count": 4,
   "metadata": {},
   "outputs": [
    {
     "name": "stdout",
     "output_type": "stream",
     "text": [
      "Output of hello ➞ ehllo\n",
      "Output of edabit ➞ abdeit\n",
      "Output of hacker ➞ acehkr\n",
      "Output of geek ➞ eegk\n",
      "Output of javascript ➞ aacijprstv\n"
     ]
    }
   ],
   "source": [
    "def order(string1):\n",
    "    string2 = ''.join(sorted(string1))\n",
    "    print('Output of {} ➞ {}'.format (string1, string2))\n",
    "\n",
    "order(\"hello\")\n",
    "order(\"edabit\")\n",
    "order(\"hacker\")\n",
    "order(\"geek\")\n",
    "order(\"javascript\")"
   ]
  },
  {
   "cell_type": "markdown",
   "metadata": {},
   "source": [
    "### 4. Create a function that accepts the principal p, the term in years t, the interest rate r, and the number of compounding periods per year n. The function returns the value at the end of term rounded to the nearest cent. \n",
    "Suppose that you invest $10,000 for 10 years at an interest rate of 6% compounded monthly. What will be the value of your investment at the end of the 10 year period?                                         \n",
    "For the example above:                                   \n",
    "compound_interest(10000, 10, 0.06, 12) ➞ 18193.97                        \n",
    "Note that the interest rate is given as a decimal and n=12 because with monthly compounding there are 12 periods per year. Compounding can also be done annually, quarterly, weekly, or daily.                \n",
    "Examples                                          \n",
    "compound_interest(100, 1, 0.05, 1) ➞ 105.0                  \n",
    "compound_interest(3500, 15, 0.1, 4) ➞ 15399.26          \n",
    "compound_interest(100000, 20, 0.15, 365) ➞ 2007316.26                \n",
    "#### Answer :"
   ]
  },
  {
   "cell_type": "code",
   "execution_count": 6,
   "metadata": {},
   "outputs": [
    {
     "name": "stdout",
     "output_type": "stream",
     "text": [
      "Compound Interest ➞ 105.0\n",
      "Compound Interest ➞ 15399.26\n",
      "Compound Interest ➞ 2007316.26\n"
     ]
    }
   ],
   "source": [
    "#principal- p, terms in years- t, interest rate- r, no. of compounding periods per year- n\n",
    "def compound_interest(p,t,r,n):\n",
    "    result = p*(1+(r/n))**(n*t) #formula\n",
    "    print('Compound Interest ➞ {}'.format(round(result,2)))\n",
    "\n",
    "compound_interest(100, 1, 0.05, 1)\n",
    "compound_interest(3500, 15, 0.1, 4)\n",
    "compound_interest(100000, 20, 0.15, 365)"
   ]
  },
  {
   "cell_type": "markdown",
   "metadata": {},
   "source": [
    "### 5. Write a function that takes a list of elements and returns only the integers.\n",
    "Examples  \n",
    "return_only_integer([9, 2, \"space\", \"car\", \"lion\", 16]) ➞ [9, 2, 16]    \n",
    "return_only_integer([\"hello\", 81, \"basketball\", 123, \"fox\"]) ➞ [81, 123]           \n",
    "return_only_integer([10, \"121\", 56, 20, \"car\", 3, \"lion\"]) ➞ [10, 56, 20, 3]       \n",
    "return_only_integer([\"String\",  True,  3.3,  1]) ➞ [1]                   \n",
    "#### Answer :"
   ]
  },
  {
   "cell_type": "code",
   "execution_count": 2,
   "metadata": {},
   "outputs": [
    {
     "name": "stdout",
     "output_type": "stream",
     "text": [
      "return_only_integer([9, 2, 'space', 'car', 'lion', 16]) ➞ [9, 2, 16]\n",
      "return_only_integer(['hello', 81, 'basketball', 123, 'fox']) ➞ [81, 123]\n",
      "return_only_integer([10, '121', 56, 20, 'car', 3, 'lion']) ➞ [10, 56, 20, 3]\n",
      "return_only_integer(['String', True, 3.3, 1]) ➞ [1]\n"
     ]
    }
   ],
   "source": [
    "def return_only_integer(list1):\n",
    "    list2 = []\n",
    "    for i in list1:\n",
    "        if type(i) == int:\n",
    "            list2.append(i)\n",
    "    print('return_only_integer({}) ➞ {}'.format(list1, list2))\n",
    "    \n",
    "return_only_integer([9, 2, \"space\", \"car\", \"lion\", 16])\n",
    "return_only_integer([\"hello\", 81, \"basketball\", 123, \"fox\"])\n",
    "return_only_integer([10, \"121\", 56, 20, \"car\", 3, \"lion\"]) \n",
    "return_only_integer([\"String\", True, 3.3, 1])"
   ]
  }
 ],
 "metadata": {
  "kernelspec": {
   "display_name": "Python 3",
   "language": "python",
   "name": "python3"
  },
  "language_info": {
   "codemirror_mode": {
    "name": "ipython",
    "version": 3
   },
   "file_extension": ".py",
   "mimetype": "text/x-python",
   "name": "python",
   "nbconvert_exporter": "python",
   "pygments_lexer": "ipython3",
   "version": "3.8.5"
  }
 },
 "nbformat": 4,
 "nbformat_minor": 4
}
