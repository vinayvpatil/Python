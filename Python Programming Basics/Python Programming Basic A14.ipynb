{
 "cells": [
  {
   "cell_type": "markdown",
   "metadata": {},
   "source": [
    "## Python Programming Basic A14\n",
    "### 1: Define a class with a generator which can iterate the numbers, which are divisible by 7, between a given range 0 and n.\n",
    "#### Answer :"
   ]
  },
  {
   "cell_type": "code",
   "execution_count": 5,
   "metadata": {},
   "outputs": [
    {
     "name": "stdout",
     "output_type": "stream",
     "text": [
      "Enter n : 200\n",
      "Numbers Divisible by 7 are :\n",
      "0 7 14 21 28 35 42 49 56 63 70 77 84 91 98 105 112 119 126 133 140 147 154 161 168 175 182 189 196 "
     ]
    }
   ],
   "source": [
    "class mygenerator:\n",
    "    def __init__(self,number):\n",
    "        self.number = number\n",
    "    def divisible(self):\n",
    "        for i in range(0,self.number+1):\n",
    "            if i%7 == 0:\n",
    "                yield i\n",
    "n = int(input('Enter n : '))   \n",
    "print (\"Numbers Divisible by 7 are :\")\n",
    "result = mygenerator(n)\n",
    "for i in result.divisible():\n",
    "    print(i,end=' ')"
   ]
  },
  {
   "cell_type": "markdown",
   "metadata": {},
   "source": [
    "### 2: Write a program to compute the frequency of the words from the input. The output should output after sorting the key alphanumerically. \n",
    "Suppose the following input is supplied to the program:  \n",
    "New to Python or choosing between Python 2 and Python 3? Read Python 2 or Python 3.  \n",
    "Then, the output should be:  \n",
    "2:2  \n",
    "3.:1  \n",
    "3?:1  \n",
    "New:1  \n",
    "Python:5  \n",
    "Read:1  \n",
    "and:1  \n",
    "between:1   \n",
    "choosing:1   \n",
    "or:2   \n",
    "to:1    \n",
    "#### Answer :"
   ]
  },
  {
   "cell_type": "code",
   "execution_count": 8,
   "metadata": {},
   "outputs": [
    {
     "name": "stdout",
     "output_type": "stream",
     "text": [
      "Enter the String :New to Python or choosing between Python 2 and Python 3? Read Python 2 or Python 3.\n",
      "Frequency of the words from the input String are :\n",
      "2:2\n",
      "3.:1\n",
      "3?:1\n",
      "New:1\n",
      "Python:5\n",
      "Read:1\n",
      "and:1\n",
      "between:1\n",
      "choosing:1\n",
      "or:2\n",
      "to:1\n"
     ]
    }
   ],
   "source": [
    "string1 = input('Enter the String :').split()\n",
    "result = sorted(set(string1))\n",
    "print (\"Frequency of the words from the input String are :\")\n",
    "for i in result:\n",
    "    print(\"{0}:{1}\".format(i,string1.count(i)))"
   ]
  },
  {
   "cell_type": "markdown",
   "metadata": {},
   "source": [
    "### 3: Define a class Person and its two child classes: Male and Female. All classes have a method \"getGender\" which can print \"Male\" for Male class and \"Female\" for Female class\n",
    "#### Answer :"
   ]
  },
  {
   "cell_type": "code",
   "execution_count": 9,
   "metadata": {},
   "outputs": [
    {
     "name": "stdout",
     "output_type": "stream",
     "text": [
      "Male\n",
      "Female\n"
     ]
    }
   ],
   "source": [
    "class Person():\n",
    "    def getGender():\n",
    "        pass\n",
    "    \n",
    "class Male(Person):\n",
    "    def getGender():\n",
    "        print(\"Male\")\n",
    "        \n",
    "class Female(Person):\n",
    "    def getGender():\n",
    "        print(\"Female\")\n",
    "\n",
    "Male.getGender()\n",
    "Female.getGender()"
   ]
  },
  {
   "cell_type": "markdown",
   "metadata": {},
   "source": [
    "### 4: Please write a program to generate all sentences where subject is in [\"I\", \"You\"] and verb is in [\"Play\", \"Love\"] and the object is in [\"Hockey\",\"Football\"].\n",
    "#### Answer :"
   ]
  },
  {
   "cell_type": "code",
   "execution_count": 12,
   "metadata": {},
   "outputs": [
    {
     "name": "stdout",
     "output_type": "stream",
     "text": [
      "I Play Hockey\n",
      "I Play Football\n",
      "I Love Hockey\n",
      "I Love Football\n",
      "You Play Hockey\n",
      "You Play Football\n",
      "You Love Hockey\n",
      "You Love Football\n"
     ]
    }
   ],
   "source": [
    "def mygenerator():\n",
    "    subject = ['I','You']\n",
    "    verb = ['Play','Love']\n",
    "    object = ['Hockey','Football']\n",
    "    for i in subject:\n",
    "        for j in verb:\n",
    "            for k in object:\n",
    "                print(\"{} {} {}\" .format(i,j,k))\n",
    "                \n",
    "mygenerator()"
   ]
  },
  {
   "cell_type": "markdown",
   "metadata": {},
   "source": [
    "### 5: Please write a program to compress and decompress the string \"hello world!hello world!hello world!hello world!\".\n",
    "#### Answer :"
   ]
  },
  {
   "cell_type": "code",
   "execution_count": 17,
   "metadata": {},
   "outputs": [
    {
     "name": "stdout",
     "output_type": "stream",
     "text": [
      "Enter the String : hello world!hello world!hello world!hello world!\n",
      "Compressed String : b'x\\x9c\\xcbH\\xcd\\xc9\\xc9W(\\xcf/\\xcaIQ\\xcc \\x82\\r\\x00\\xbd[\\x11\\xf5'\n",
      "Decompressed String : b'hello world!hello world!hello world!hello world!'\n"
     ]
    }
   ],
   "source": [
    "import zlib\n",
    "string1 = input(\"Enter the String : \")\n",
    "a = string1.encode()\n",
    "c = zlib.compress(a)\n",
    "print(\"Compressed String :\",c)\n",
    "print(\"Decompressed String :\", zlib.decompress(c))"
   ]
  },
  {
   "cell_type": "markdown",
   "metadata": {},
   "source": [
    "### 6: Please write a binary search function which searches an item in a sorted list. The function should return the index of element to be searched in the list.\n",
    "#### Answer :"
   ]
  },
  {
   "cell_type": "code",
   "execution_count": 4,
   "metadata": {},
   "outputs": [
    {
     "name": "stdout",
     "output_type": "stream",
     "text": [
      "Enter a number which needs to be searched :40\n",
      "Index position of  40 is  3\n"
     ]
    }
   ],
   "source": [
    "from bisect import bisect_left\n",
    "  \n",
    "def BinarySearch(x, y):\n",
    "    i = bisect_left(x, y)\n",
    "    if i != len(x) and x[i] == y:\n",
    "        return i\n",
    "    else:\n",
    "        return -1 \n",
    "\n",
    "x = [10, 20, 30, 40, 50,60]\n",
    "y = int(input(\"Enter a number which needs to be searched :\"))\n",
    "final = BinarySearch(x, y)\n",
    "if final == -1:\n",
    "    print(y, \"is not present in the list\")\n",
    "else:\n",
    "    print(\"Index position of \", y, \"is \", final)"
   ]
  }
 ],
 "metadata": {
  "kernelspec": {
   "display_name": "Python 3",
   "language": "python",
   "name": "python3"
  },
  "language_info": {
   "codemirror_mode": {
    "name": "ipython",
    "version": 3
   },
   "file_extension": ".py",
   "mimetype": "text/x-python",
   "name": "python",
   "nbconvert_exporter": "python",
   "pygments_lexer": "ipython3",
   "version": "3.8.5"
  }
 },
 "nbformat": 4,
 "nbformat_minor": 4
}
