{
 "cells": [
  {
   "cell_type": "markdown",
   "metadata": {},
   "source": [
    "## Python Programming Basic A13\n",
    "### Question 1:  Write a program that calculates and prints the value according to the given formula:\n",
    "Q = Square root of [(2 * C * D)/H]  \n",
    "Following are the fixed values of C and H:  \n",
    "C is 50. H is 30.  \n",
    "D is the variable whose values should be input to your program in a comma-separated sequence.  \n",
    "Example - Let us assume the following comma separated input sequence is given to the program: 100,150,180   \n",
    "The output of the program should be: 18,22,24   \n",
    "#### Answer :"
   ]
  },
  {
   "cell_type": "code",
   "execution_count": 5,
   "metadata": {},
   "outputs": [
    {
     "name": "stdout",
     "output_type": "stream",
     "text": [
      "Enter the Input: 100,150,180\n",
      "Output: 18,22,24\n"
     ]
    }
   ],
   "source": [
    "import math\n",
    "def formula():\n",
    "    numbers = eval(input(\"Enter the Input: \"))\n",
    "    list = []\n",
    "    C = 50 \n",
    "    H = 30 \n",
    "    for D in numbers:\n",
    "        Q = str(int(sqrt((2*C*D)/H)))\n",
    "        list.append(Q)\n",
    "    print(\"Output: {}\".format(','.join(list)))\n",
    "    \n",
    "formula()"
   ]
  },
  {
   "cell_type": "markdown",
   "metadata": {},
   "source": [
    "### Question 2: Write a program which takes 2 digits, X,Y as input and generates a 2-dimensional array. The element value in the i-th row and j-th column of the array should be i*j.  \n",
    "Note: i=0,1.., X-1; j=0,1,¡¬Y-1.   \n",
    "Example Suppose the following inputs are given to the program: 3,5  \n",
    "Then, the output of the program should be: [[0, 0, 0, 0, 0], [0, 1, 2, 3, 4], [0, 2, 4, 6, 8]]  \n",
    "#### Answer :"
   ]
  },
  {
   "cell_type": "code",
   "execution_count": 6,
   "metadata": {},
   "outputs": [
    {
     "name": "stdout",
     "output_type": "stream",
     "text": [
      "Enter X:3\n",
      "Enter Y:5\n",
      "[[0, 0, 0, 0, 0], [0, 1, 2, 3, 4], [0, 2, 4, 6, 8]]\n"
     ]
    }
   ],
   "source": [
    "def myArray():\n",
    "    x = int(input('Enter X:'))\n",
    "    y = int(input('Enter Y:')) \n",
    "    z = []\n",
    "    for i in range(x):\n",
    "        z.insert(x,[])\n",
    "        for j in range(y):\n",
    "            z[i].append(i*j)\n",
    "    print(z)\n",
    "    \n",
    "myArray()"
   ]
  },
  {
   "cell_type": "markdown",
   "metadata": {},
   "source": [
    "### Question 3: Write a program that accepts a comma separated sequence of words as input and prints the words in a comma-separated sequence after sorting them alphabetically. \n",
    "Suppose the following input is supplied to the program: without,hello,bag,world   \n",
    "Then, the output should be: bag,hello,without,world \n",
    "#### Answer :"
   ]
  },
  {
   "cell_type": "code",
   "execution_count": 7,
   "metadata": {},
   "outputs": [
    {
     "name": "stdout",
     "output_type": "stream",
     "text": [
      "Enter the words: without,hello,bag,world\n",
      "Output: bag,hello,without,world\n"
     ]
    }
   ],
   "source": [
    "def sortfunction():\n",
    "    x = input(\"Enter the words: \")\n",
    "    result = ','.join(sorted(x.split(',')))\n",
    "    print('Output: {}'.format(result))\n",
    "    \n",
    "sortfunction()"
   ]
  },
  {
   "cell_type": "markdown",
   "metadata": {},
   "source": [
    "### Question 4: Write a program that accepts a sequence of whitespace separated words as input and prints the words after removing all duplicate words and sorting them alphanumerically. \n",
    "Suppose the following input is supplied to the program: hello world and practice makes perfect and hello world again  \n",
    "Then, the output should be: again and hello makes perfect practice world   \n",
    "#### Answer :"
   ]
  },
  {
   "cell_type": "code",
   "execution_count": 10,
   "metadata": {},
   "outputs": [
    {
     "name": "stdout",
     "output_type": "stream",
     "text": [
      "Enter sequence of words : hello world and practice makes perfect and hello world again\n",
      "Output : again and hello makes perfect practice world\n"
     ]
    }
   ],
   "source": [
    "mylist=[i for i in input('Enter sequence of words : ').split(' ')]\n",
    "print(\"Output :\",' '.join(sorted(list(set(mylist)))))"
   ]
  },
  {
   "cell_type": "markdown",
   "metadata": {},
   "source": [
    "### Question 5:\n",
    "Write a program that accepts a sentence and calculate the number of letters and digits.    \n",
    "Suppose the following input is supplied to the program: hello world! 123         \n",
    "Then, the output should be: LETTERS 10 DIGITS 3   \n",
    "#### Answer :"
   ]
  },
  {
   "cell_type": "code",
   "execution_count": 11,
   "metadata": {},
   "outputs": [
    {
     "name": "stdout",
     "output_type": "stream",
     "text": [
      "Enter a Sentence : hello world! 123\n",
      "Letters 10\n",
      "Digits 3\n"
     ]
    }
   ],
   "source": [
    "string1 = input(\"Enter a Sentence : \")\n",
    "digits=letters=0\n",
    "for i in string1:\n",
    "    if i.isdigit():\n",
    "        digits += 1\n",
    "    elif i.isalpha():\n",
    "        letters += 1\n",
    "    else:\n",
    "        pass\n",
    "print(\"Letters\", letters)\n",
    "print(\"Digits\", digits)"
   ]
  },
  {
   "cell_type": "markdown",
   "metadata": {},
   "source": [
    "### Question 6: A website requires the users to input username and password to register. Write a program to check the validity of password input by users.  \n",
    "Following are the criteria for checking the password:\n",
    "1. At least 1 letter between [a-z]    \n",
    "2. At least 1 number between [0-9]    \n",
    "1. At least 1 letter between [A-Z]  \n",
    "3. At least 1 character from [$#@]  \n",
    "4. Minimum length of transaction password: 6   \n",
    "5. Maximum length of transaction password: 12  \n",
    "Your program should accept a sequence of comma separated passwords and will check them according to the above criteria.   Passwords that match the criteria are to be printed, each separated by a comma.  \n",
    "Example : If the following passwords are given as input to the program: ABd1234@1,a F1#,2w3E*,2We3345   \n",
    "Then, the output of the program should be: ABd1234@1    \n",
    "#### Answer :"
   ]
  },
  {
   "cell_type": "code",
   "execution_count": 21,
   "metadata": {},
   "outputs": [
    {
     "name": "stdout",
     "output_type": "stream",
     "text": [
      "Enter passowrds separated by comma : ABd1234@1,a F1#,2w3E*,2We3345\n",
      "Output : [['ABd1234@1']]\n"
     ]
    }
   ],
   "source": [
    "import re\n",
    "password=input(\"Enter passowrds separated by comma : \")\n",
    "x = password.split(\",\")\n",
    "\n",
    "list1=[]\n",
    "sequence= \"^.*(?=.{6,12})(?=.*\\d)(?=.*[a-z])(?=.*[A-Z])(?=.*[@#$]).*$\"\n",
    "for i in x:\n",
    "    final = re.findall(sequence, i)\n",
    "    if (final):\n",
    "        list1.append(final)\n",
    "if not list1:\n",
    "    print(\"No Valid Password found\")\n",
    "else:\n",
    "    print(\"Output :\", list1)"
   ]
  }
 ],
 "metadata": {
  "kernelspec": {
   "display_name": "Python 3",
   "language": "python",
   "name": "python3"
  },
  "language_info": {
   "codemirror_mode": {
    "name": "ipython",
    "version": 3
   },
   "file_extension": ".py",
   "mimetype": "text/x-python",
   "name": "python",
   "nbconvert_exporter": "python",
   "pygments_lexer": "ipython3",
   "version": "3.8.5"
  }
 },
 "nbformat": 4,
 "nbformat_minor": 4
}
