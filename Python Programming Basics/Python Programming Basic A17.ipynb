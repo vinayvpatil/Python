{
 "cells": [
  {
   "cell_type": "markdown",
   "metadata": {},
   "source": [
    "## Python Programming Basic A17\n",
    "### 1: Create a function that takes three arguments a, b, c and returns the sum of the numbers that are evenly divided by c from the range a, b inclusive.  \n",
    "Examples  \n",
    "evenly_divisible(1, 10, 20) ➞ 0  \n",
    "No number between 1 and 10 can be evenly divided by 20.  \n",
    "evenly_divisible(1, 10, 2) ➞ 30  \n",
    "2 + 4 + 6 + 8 + 10 = 30   \n",
    "evenly_divisible(1, 10, 3) ➞ 18  \n",
    "3 + 6 + 9 = 18    \n",
    "#### Answer :"
   ]
  },
  {
   "cell_type": "code",
   "execution_count": 2,
   "metadata": {},
   "outputs": [
    {
     "name": "stdout",
     "output_type": "stream",
     "text": [
      "Enter a : 1\n",
      "Enter b : 10\n",
      "Enter c : 2\n",
      "Output is : 30\n"
     ]
    }
   ],
   "source": [
    "def myfunction(a, b, c):     \n",
    "    sum = 0\n",
    "    for i in range(a, b + 1): \n",
    "        if (i % c == 0):\n",
    "            sum += i \n",
    "    return sum\n",
    "a = int(input('Enter a : '))\n",
    "b = int(input('Enter b : '))\n",
    "c = int(input('Enter c : '))\n",
    "print(\"Output is :\", myfunction(a, b, c))"
   ]
  },
  {
   "cell_type": "markdown",
   "metadata": {},
   "source": [
    "### 2. Create a function that returns True if a given inequality expression is correct and False otherwise.\n",
    "Examples\n",
    "correct_signs(\"3 < 7 < 11\") ➞ True    \n",
    "correct_signs(\"13 > 44 > 33 > 1\") ➞ False    \n",
    "correct_signs(\"1 < 2 < 6 < 9 > 3\") ➞ True    \n",
    "#### Answer :"
   ]
  },
  {
   "cell_type": "code",
   "execution_count": 1,
   "metadata": {},
   "outputs": [
    {
     "name": "stdout",
     "output_type": "stream",
     "text": [
      "Enter 1st expression : 3 < 7 < 11\n",
      "True\n",
      "Enter 2nd expression: 13 > 44 > 33 > 1\n",
      "False\n",
      "Enter 3rd expression : 1 < 2 < 6 < 9 > 3\n",
      "True\n"
     ]
    }
   ],
   "source": [
    "def expressioncheck( txt ) : \n",
    "    return eval ( txt )\n",
    "print(expressioncheck(input(\"Enter 1st expression : \")))\n",
    "print(expressioncheck(input(\"Enter 2nd expression: \")))\n",
    "print(expressioncheck(input(\"Enter 3rd expression : \")))"
   ]
  },
  {
   "cell_type": "markdown",
   "metadata": {},
   "source": [
    "### 3. Create a function that replaces all the vowels in a string with a specified character.\n",
    "Examples   \n",
    "replace_vowels(\"the aardvark\", \"#\") ➞ \"th# ##rdv#rk\"    \n",
    "replace_vowels(\"minnie mouse\", \"?\") ➞ \"m?nn?? m??s?\"   \n",
    "replace_vowels(\"shakespeare\", \"*\") ➞ \"sh\\*k\\*sp\\*\\*r*\"   \n",
    "#### Answer :"
   ]
  },
  {
   "cell_type": "code",
   "execution_count": 9,
   "metadata": {},
   "outputs": [
    {
     "name": "stdout",
     "output_type": "stream",
     "text": [
      "Enter the string : minnie mouse\n",
      "Enter a character to replace vowels : ?\n",
      "Final String: m?nn?? m??s?\n"
     ]
    }
   ],
   "source": [
    "def replacevowels(str, x):\n",
    "    vowels = 'AEIOUaeiou'\n",
    "    for i in vowels:  \n",
    "        str = str.replace(i, x)  \n",
    "    return str\n",
    "  \n",
    "string1 = input(\"Enter the string : \")\n",
    "x = input(\"Enter a character to replace vowels : \")\n",
    "print(\"Final String:\",replacevowels(string1, x))"
   ]
  },
  {
   "cell_type": "markdown",
   "metadata": {},
   "source": [
    "### 4. Write a function that calculates the factorial of a number recursively.\n",
    "Examples\n",
    "factorial(5) ➞ 120  \n",
    "factorial(3) ➞ 6       \n",
    "factorial(1) ➞ 1          \n",
    "factorial(0) ➞ 1      \n",
    "#### Answer :"
   ]
  },
  {
   "cell_type": "code",
   "execution_count": 10,
   "metadata": {},
   "outputs": [
    {
     "name": "stdout",
     "output_type": "stream",
     "text": [
      "Enter a number :5\n",
      "Factorial of 5 ➞ 120\n"
     ]
    }
   ],
   "source": [
    "def factorial(n):     \n",
    "    if n == 0:\n",
    "        return 1    \n",
    "    return n * factorial(n-1)\n",
    "\n",
    "number = int(input('Enter a number :'))\n",
    "print(\"Factorial of\", number, \"➞\", factorial(number))"
   ]
  },
  {
   "cell_type": "markdown",
   "metadata": {},
   "source": [
    "### 5. Create a function that computes the hamming distance between two strings. \n",
    "Examples   \n",
    "hamming_distance(\"abcde\", \"bcdef\") ➞ 5    \n",
    "hamming_distance(\"abcde\", \"abcde\") ➞ 0    \n",
    "hamming_distance(\"strong\", \"strung\") ➞ 1   \n",
    "Hamming distance is the number of characters that differ between two strings.\n",
    "To illustrate:    \n",
    "String1: \"abcbba\"    \n",
    "String2: \"abcbda\"      \n",
    "Hamming Distance: 1 - \"b\" vs. \"d\" is the only difference.  \n",
    "#### Answer :"
   ]
  },
  {
   "cell_type": "code",
   "execution_count": 10,
   "metadata": {},
   "outputs": [
    {
     "name": "stdout",
     "output_type": "stream",
     "text": [
      "Enter string1 : abcde\n",
      "Enter string2 : bcdef\n",
      "Hamming Distance  ➞  5\n"
     ]
    }
   ],
   "source": [
    "def hammingdistance(a, b):\n",
    "    i = 0\n",
    "    count = 0\n",
    " \n",
    "    while(i < len(a)):\n",
    "        if(a[i] != b[i]):\n",
    "            count += 1\n",
    "        i += 1\n",
    "    return (count)\n",
    " \n",
    "string1 = input(\"Enter string1 : \")\n",
    "string2 = input(\"Enter string2 : \")\n",
    "print(\"Hamming Distance  ➞ \" , hammingdistance(string1, string2))"
   ]
  }
 ],
 "metadata": {
  "kernelspec": {
   "display_name": "Python 3",
   "language": "python",
   "name": "python3"
  },
  "language_info": {
   "codemirror_mode": {
    "name": "ipython",
    "version": 3
   },
   "file_extension": ".py",
   "mimetype": "text/x-python",
   "name": "python",
   "nbconvert_exporter": "python",
   "pygments_lexer": "ipython3",
   "version": "3.8.5"
  }
 },
 "nbformat": 4,
 "nbformat_minor": 4
}
