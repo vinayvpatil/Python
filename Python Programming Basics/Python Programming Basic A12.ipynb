{
 "cells": [
  {
   "cell_type": "markdown",
   "metadata": {},
   "source": [
    "## Python Programming Basic A12\n",
    "### 1.\tWrite a Python program to Extract Unique values dictionary values?\n",
    "#### Answer :"
   ]
  },
  {
   "cell_type": "code",
   "execution_count": 5,
   "metadata": {},
   "outputs": [
    {
     "name": "stdout",
     "output_type": "stream",
     "text": [
      "Values of the Dictionary are: dict_values([[1, 0, 2, 5], [1, 5, 6, 7], 'vinay', 'vijay'])\n",
      "Unique Values from the Dictionary values are: {0, 1, 2, 'i', 'y', 5, 6, 7, 'n', 'v', 'a', 'j'}\n"
     ]
    }
   ],
   "source": [
    "dict = {1:[1,0,2,5],2:[1,5,6,7], 3:\"vinay\", 4:\"vijay\"}\n",
    "print(\"Values of the Dictionary are: {}\".format(dict.values()))\n",
    "print(\"Unique Values from the Dictionary values are: {}\".format (set([j for i in dict.values() for j in i])))\n",
    "                            "
   ]
  },
  {
   "cell_type": "markdown",
   "metadata": {},
   "source": [
    "### 2.\tWrite a Python program to find the sum of all items in a dictionary?\n",
    "#### Answer :"
   ]
  },
  {
   "cell_type": "code",
   "execution_count": 6,
   "metadata": {},
   "outputs": [
    {
     "name": "stdout",
     "output_type": "stream",
     "text": [
      "Sum of All Items in a Dictionary is :  50\n"
     ]
    }
   ],
   "source": [
    "dict = {'Vinay':2,'vijay':4,'Ajay':30,'Rahul':6,'Mukesh':8}\n",
    "print('Sum of All Items in a Dictionary is : ',sum(dict.values()))"
   ]
  },
  {
   "cell_type": "markdown",
   "metadata": {},
   "source": [
    "### 3.\tWrite a Python program to Merging two Dictionaries?\n",
    "#### Answer :"
   ]
  },
  {
   "cell_type": "code",
   "execution_count": 7,
   "metadata": {},
   "outputs": [
    {
     "name": "stdout",
     "output_type": "stream",
     "text": [
      "Dictionary 1 :  {'Vinay': 10, 'Vijay': 20}\n",
      "Dictionary 2 :  {'Ajay': 30, 'Rahul': 40}\n",
      "Merged Dictionary : {'Vinay': 10, 'Vijay': 20, 'Ajay': 30, 'Rahul': 40}\n"
     ]
    }
   ],
   "source": [
    "dict1 = { 'Vinay': 10, 'Vijay': 20}\n",
    "dict2 = { 'Ajay': 30, 'Rahul': 40}\n",
    "dict3 = dict1.copy()\n",
    "dict3.update(dict2)\n",
    "print(\"Dictionary 1 : \", dict1)\n",
    "print(\"Dictionary 2 : \", dict2)\n",
    "print('Merged Dictionary : {}'.format(dict3))"
   ]
  },
  {
   "cell_type": "markdown",
   "metadata": {},
   "source": [
    "### 4.\tWrite a Python program to convert key-values list to flat dictionary?\n",
    "#### Answer :"
   ]
  },
  {
   "cell_type": "code",
   "execution_count": 1,
   "metadata": {},
   "outputs": [
    {
     "name": "stdout",
     "output_type": "stream",
     "text": [
      "The Original Dictionary is : {'Name': ['Vinay', 'Vijay', 'Ajay', 'Rahul'], 'Marks': [90, 85, 75, 82]}\n",
      "Flattened dictionary : {'Vinay': 90, 'Vijay': 85, 'Ajay': 75, 'Rahul': 82}\n"
     ]
    }
   ],
   "source": [
    "dict1 = {'Name' : ['Vinay', 'Vijay', 'Ajay','Rahul'],\n",
    "             'Marks' : [90, 85, 75, 82]}\n",
    "  \n",
    "print(\"The Original Dictionary is : \" + str(dict1))\n",
    "final = dict(zip(dict1['Name'], dict1['Marks']))\n",
    "  \n",
    "print(\"Flattened dictionary : \" + str(final)) "
   ]
  },
  {
   "cell_type": "markdown",
   "metadata": {},
   "source": [
    "### 5.\tWrite a Python program to insertion at the beginning in OrderedDict?\n",
    "#### Answer :"
   ]
  },
  {
   "cell_type": "code",
   "execution_count": 7,
   "metadata": {},
   "outputs": [
    {
     "name": "stdout",
     "output_type": "stream",
     "text": [
      "Original Ordered Dictionary: OrderedDict([('Vinay', '90'), ('Vijay', '80')])\n",
      "Final Ordered Dictionary : OrderedDict([('Ajay', '75'), ('Vinay', '90'), ('Vijay', '80')])\n"
     ]
    }
   ],
   "source": [
    "from collections import OrderedDict\n",
    "  \n",
    "dict1 = OrderedDict([('Vinay', '90'), ('Vijay', '80')])\n",
    "print (\"Original Ordered Dictionary: {}\" .format(dict1))\n",
    "dict1.update({'Ajay':'75'})\n",
    "dict1.move_to_end('Ajay', last = False)\n",
    "\n",
    "print (\"Final Ordered Dictionary : \"+str(dict1))"
   ]
  },
  {
   "cell_type": "markdown",
   "metadata": {},
   "source": [
    "### 6.\tWrite a Python program to check order of character in string using OrderedDict()?\n",
    "#### Answer :"
   ]
  },
  {
   "cell_type": "code",
   "execution_count": 9,
   "metadata": {},
   "outputs": [
    {
     "name": "stdout",
     "output_type": "stream",
     "text": [
      "Enter the String :i am vinay\n",
      "Enter the Pattern : iav\n",
      "True\n"
     ]
    }
   ],
   "source": [
    "from collections import OrderedDict \n",
    "def order(string, pattern): \n",
    "    dict1 = OrderedDict.fromkeys(string) \n",
    "    i = 0\n",
    "    for key,value in dict1.items(): \n",
    "        if (key == pattern[i]): \n",
    "            i = i + 1\n",
    "        if (i == (len(pattern))): \n",
    "            return 'True'\n",
    "    return 'False'\n",
    "\n",
    "string = input(\"Enter the String :\")\n",
    "pattern = input(\"Enter the Pattern : \")\n",
    "print (order(string,pattern))"
   ]
  },
  {
   "cell_type": "markdown",
   "metadata": {},
   "source": [
    "### 7.\tWrite a Python program to sort Python Dictionaries by Key or Value?\n",
    "#### Answer :"
   ]
  },
  {
   "cell_type": "code",
   "execution_count": 12,
   "metadata": {
    "scrolled": true
   },
   "outputs": [
    {
     "name": "stdout",
     "output_type": "stream",
     "text": [
      "Sorted Dictionary by Keys :\n",
      "{'ajay': 2, 'mukesh': 5, 'rahul': 4, 'vinay': 3}\n",
      "Sorted Dictionary by Values :\n",
      "{'ajay': 2, 'vinay': 3, 'rahul': 4, 'mukesh': 5}\n"
     ]
    }
   ],
   "source": [
    "dict1 = {'vinay':3 ,'ajay':2 ,'rahul':4 ,'mukesh':5}\n",
    "\n",
    "def myfunction(a,b):\n",
    "    if b == 'key':\n",
    "        print(\"Sorted Dictionary by Keys :\")\n",
    "        print(dict(sorted(a.items(), key=lambda x:x[0], reverse=False)))\n",
    "    else:\n",
    "        print(\"Sorted Dictionary by Values :\")    \n",
    "        print(dict(sorted(a.items(), key=lambda x:x[1], reverse=False)))\n",
    "        \n",
    "myfunction(dict1,'key')        \n",
    "myfunction(dict1,'value')"
   ]
  }
 ],
 "metadata": {
  "kernelspec": {
   "display_name": "Python 3",
   "language": "python",
   "name": "python3"
  },
  "language_info": {
   "codemirror_mode": {
    "name": "ipython",
    "version": 3
   },
   "file_extension": ".py",
   "mimetype": "text/x-python",
   "name": "python",
   "nbconvert_exporter": "python",
   "pygments_lexer": "ipython3",
   "version": "3.8.5"
  }
 },
 "nbformat": 4,
 "nbformat_minor": 4
}
