{
 "cells": [
  {
   "cell_type": "markdown",
   "metadata": {},
   "source": [
    "## Python Programming Basic A18\n",
    "###  1. Create a function that takes a list of non-negative integers and strings and return a new list without the strings.\n",
    "Examples   \n",
    "filter_list([1, 2, \"a\", \"b\"]) ➞ [1, 2]     \n",
    "filter_list([1, \"a\", \"b\", 0, 15]) ➞ [1, 0, 15]         \n",
    "filter_list([1, 2, \"aasf\", \"1\", \"123\", 123]) ➞ [1, 2, 123]          \n",
    "#### Answer :"
   ]
  },
  {
   "cell_type": "code",
   "execution_count": 1,
   "metadata": {},
   "outputs": [
    {
     "name": "stdout",
     "output_type": "stream",
     "text": [
      "Output :  [1, 2]\n",
      "Output :  [1, 0, 15]\n",
      "Output :  [1, 2, 123]\n"
     ]
    }
   ],
   "source": [
    "def filter_list(list):\n",
    "    final = []\n",
    "    for i in list:\n",
    "        if type(i) == int and i >= 0:\n",
    "            final.append(i)\n",
    "    return final\n",
    "            \n",
    "print(\"Output : \",'{}'.format(filter_list([1, 2, \"a\", \"b\"])))\n",
    "print(\"Output : \",'{}'.format(filter_list([1, \"a\", \"b\", 0, 15])))\n",
    "print(\"Output : \",'{}'.format(filter_list([1, 2, \"aasf\", \"1\", \"123\", 123])))"
   ]
  },
  {
   "cell_type": "markdown",
   "metadata": {},
   "source": [
    "### 2. The \"Reverser\" takes a string as input and returns that string in reverse order, with the opposite case.\n",
    "Examples\n",
    "reverse(\"Hello World\") ➞ \"DLROw OLLEh\"              \n",
    "reverse(\"ReVeRsE\") ➞ \"eSrEvEr\"               \n",
    "reverse(\"Radar\") ➞ \"RADAr\"                       \n",
    "#### Answer :"
   ]
  },
  {
   "cell_type": "code",
   "execution_count": 3,
   "metadata": {},
   "outputs": [
    {
     "name": "stdout",
     "output_type": "stream",
     "text": [
      "Hello World ➞ DLROw OLLEh\n",
      "ReVeRsE ➞ eSrEvEr\n",
      "Radar ➞ RADAr\n"
     ]
    }
   ],
   "source": [
    "def reverse(string1):\n",
    "    print('{} ➞ {}'.format(string1, string1[::-1].swapcase()))\n",
    "    \n",
    "reverse(\"Hello World\")\n",
    "reverse(\"ReVeRsE\")\n",
    "reverse(\"Radar\")"
   ]
  },
  {
   "cell_type": "markdown",
   "metadata": {},
   "source": [
    "### 3 Your task is to unpack the list writeyourcodehere into three variables, being first, middle, and last, with middle being everything in between the first and last element. Then print all three variables.\n",
    "You can assign variables from lists like this:   \n",
    "lst = [1, 2, 3, 4, 5, 6]   \n",
    "first = lst[0]                      \n",
    "middle = lst[1:-1]               \n",
    "last = lst[-1]                          \n",
    "print(first) ➞ outputs 1                                \n",
    "print(middle) ➞ outputs [2, 3, 4, 5]               \n",
    "print(last) ➞ outputs 6                                   \n",
    "With Python 3, you can assign variables from lists in a much more succinct way. Create variables first, middle        \n",
    "and last from the given list using destructuring assignment (check the Resources tab for some examples), where:        \n",
    "first  ➞ 1         \n",
    "middle ➞ [2, 3, 4, 5]              \n",
    "last ➞ 6          \n",
    "#### Answer :  "
   ]
  },
  {
   "cell_type": "code",
   "execution_count": 5,
   "metadata": {},
   "outputs": [
    {
     "name": "stdout",
     "output_type": "stream",
     "text": [
      "first ➞ 1\n",
      "middle ➞ [2, 3, 4, 5]\n",
      "last ➞ 6\n"
     ]
    }
   ],
   "source": [
    "lst = [1, 2, 3, 4, 5, 6]\n",
    "first, *middle, last = lst\n",
    "print('first ➞ {}'.format(first))\n",
    "print('middle ➞ {}'.format(middle))\n",
    "print('last ➞ {}'.format(last))"
   ]
  },
  {
   "cell_type": "markdown",
   "metadata": {},
   "source": [
    "### 4. Write a function that calculates the factorial of a number recursively.\n",
    "Examples                \n",
    "factorial(5) ➞ 120                                \n",
    "factorial(3) ➞ 6                         \n",
    "factorial(1) ➞ 1             \n",
    "factorial(0) ➞ 1                   \n",
    "#### Answer :"
   ]
  },
  {
   "cell_type": "code",
   "execution_count": 6,
   "metadata": {},
   "outputs": [
    {
     "name": "stdout",
     "output_type": "stream",
     "text": [
      "Enter a number :5\n",
      "Factorial of 5 ➞ 120\n"
     ]
    }
   ],
   "source": [
    "def factorial(n):     \n",
    "    if n == 0:\n",
    "        return 1    \n",
    "    return n * factorial(n-1)\n",
    "\n",
    "number = int(input('Enter a number :'))\n",
    "print(\"Factorial of\", number, \"➞\", factorial(number))"
   ]
  },
  {
   "cell_type": "markdown",
   "metadata": {},
   "source": [
    "### 5. Write a function that moves all elements of one type to the end of the list.\n",
    "Examples                     \n",
    "move_to_end([1, 3, 2, 4, 4, 1], 1) ➞ [3, 2, 4, 4, 1, 1]                      \n",
    "#Move all the 1s to the end of the array.                                  \n",
    "move_to_end([7, 8, 9, 1, 2, 3, 4], 9) ➞ [7, 8, 1, 2, 3, 4, 9]                               \n",
    "move_to_end([\"a\", \"a\", \"a\", \"b\"], \"a\") ➞ [\"b\", \"a\", \"a\", \"a\"]               \n",
    "#### Answer : "
   ]
  },
  {
   "cell_type": "code",
   "execution_count": 9,
   "metadata": {},
   "outputs": [
    {
     "name": "stdout",
     "output_type": "stream",
     "text": [
      "move_to_end([1, 3, 2, 4, 4, 1], 1) ➞ [3, 2, 4, 4, 1, 1]\n",
      "move_to_end([7, 8, 9, 1, 2, 3, 4], 9) ➞ [7, 8, 1, 2, 3, 4, 9]\n",
      "move_to_end([\"a\", \"a\", \"a\", \"b\"], \"a\") ➞ ['b', 'a', 'a', 'a']\n"
     ]
    }
   ],
   "source": [
    "def move_to_end(list,number):\n",
    "    list1 = []\n",
    "    list2 = []\n",
    "    for i in list:\n",
    "        if i == number:\n",
    "            list2.append(i)\n",
    "        else:\n",
    "            list1.append(i)\n",
    "    list1.extend(list2)\n",
    "    return list1\n",
    "    \n",
    "print('move_to_end([1, 3, 2, 4, 4, 1], 1) ➞ {}'.format(move_to_end([1, 3, 2, 4, 4, 1], 1)))\n",
    "print('move_to_end([7, 8, 9, 1, 2, 3, 4], 9) ➞ {}'.format(move_to_end([7, 8, 9, 1, 2, 3, 4], 9)))\n",
    "print('move_to_end([\"a\", \"a\", \"a\", \"b\"], \"a\") ➞ {}'.format(move_to_end([\"a\", \"a\", \"a\", \"b\"], \"a\")))"
   ]
  }
 ],
 "metadata": {
  "kernelspec": {
   "display_name": "Python 3",
   "language": "python",
   "name": "python3"
  },
  "language_info": {
   "codemirror_mode": {
    "name": "ipython",
    "version": 3
   },
   "file_extension": ".py",
   "mimetype": "text/x-python",
   "name": "python",
   "nbconvert_exporter": "python",
   "pygments_lexer": "ipython3",
   "version": "3.8.5"
  }
 },
 "nbformat": 4,
 "nbformat_minor": 4
}
