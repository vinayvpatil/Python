{
 "cells": [
  {
   "cell_type": "markdown",
   "metadata": {},
   "source": [
    "## Python Programming Basic A25\n",
    "### 1. Create a function that takes three integer arguments (a, b, c) and returns the amount of integers which are of equal value.\n",
    "Examples               \n",
    "equal(3, 4, 3) ➞ 2           \n",
    "equal(1, 1, 1) ➞ 3             \n",
    "equal(3, 4, 1) ➞ 0          \n",
    "Notes                            \n",
    "Your function must return 0, 2 or 3.         \n",
    "#### Answer :"
   ]
  },
  {
   "cell_type": "code",
   "execution_count": 3,
   "metadata": {},
   "outputs": [
    {
     "name": "stdout",
     "output_type": "stream",
     "text": [
      "(3, 4, 3) ➞ 2\n",
      "(1, 1, 1) ➞ 3\n",
      "(3, 4, 1) ➞ 0\n"
     ]
    }
   ],
   "source": [
    "def equal(a,b,c):\n",
    "    if a==b and a==c:\n",
    "        print('{} ➞ {}'.format((a,b,c),3))\n",
    "    elif a==b or a==c:\n",
    "        print('{} ➞ {}'.format((a,b,c),2))\n",
    "    else:\n",
    "        print('{} ➞ {}'.format((a,b,c),0))\n",
    "\n",
    "equal(3, 4, 3)\n",
    "equal(1, 1, 1)\n",
    "equal(3, 4, 1)"
   ]
  },
  {
   "cell_type": "markdown",
   "metadata": {},
   "source": [
    "### 2. Write a function that converts a dictionary into a list of keys-values tuples.\n",
    "Examples             \n",
    "dict_to_list({\"D\": 1, \"B\": 2, \"C\": 3}) ➞ [(\"B\", 2), (\"C\", 3), (\"D\", 1)]                    \n",
    "dict_to_list({\"likes\": 2,\"dislikes\": 3, \"followers\": 10}) ➞ [(\"dislikes\", 3), (\"followers\", 10), (\"likes\", 2)]  \n",
    "Notes              \n",
    "Return the elements in the list in alphabetical order.             \n",
    "#### Answer :"
   ]
  },
  {
   "cell_type": "code",
   "execution_count": 4,
   "metadata": {},
   "outputs": [
    {
     "name": "stdout",
     "output_type": "stream",
     "text": [
      "[('D', 1), ('B', 2), ('C', 3)]\n",
      "[('likes', 2), ('dislikes', 3), ('followers', 10)]\n"
     ]
    }
   ],
   "source": [
    "def dict_to_list(d):\n",
    "    return list(d.items())\n",
    "print (dict_to_list({\"D\": 1, \"B\": 2, \"C\": 3}))\n",
    "print(dict_to_list({\"likes\": 2,\"dislikes\": 3, \"followers\": 10}))"
   ]
  },
  {
   "cell_type": "markdown",
   "metadata": {},
   "source": [
    "### 3. Write a function that creates a dictionary with each (key, value) pair being the (lower case, upper case) versions of a letter, respectively.\n",
    "Examples                     \n",
    "mapping([\"p\", \"s\"]) ➞ { \"p\": \"P\", \"s\": \"S\" }                \n",
    "mapping([\"a\", \"b\", \"c\"]) ➞ { \"a\": \"A\", \"b\": \"B\", \"c\": \"C\" }          \n",
    "mapping([\"a\", \"v\", \"y\", \"z\"]) ➞ { \"a\": \"A\", \"v\": \"V\", \"y\": \"Y\", \"z\": \"Z\" }              \n",
    "Notes          \n",
    "All of the letters in the input list will always be lowercase.          \n",
    "#### Answer :"
   ]
  },
  {
   "cell_type": "code",
   "execution_count": 7,
   "metadata": {},
   "outputs": [
    {
     "name": "stdout",
     "output_type": "stream",
     "text": [
      "{'p': 'P', 's': 'S'}\n",
      "{'a': 'A', 'b': 'B', 'c': 'C'}\n",
      "{'a': 'A', 'v': 'V', 'y': 'Y', 'z': 'Z'}\n"
     ]
    }
   ],
   "source": [
    "def mapping(list1):\n",
    "    return {i.lower():i.upper() for i in list1}\n",
    "print (mapping([\"p\", \"s\"]))\n",
    "print (mapping([\"a\", \"b\", \"c\"]))\n",
    "print (mapping([\"a\", \"v\", \"y\", \"z\"]))"
   ]
  },
  {
   "cell_type": "markdown",
   "metadata": {},
   "source": [
    "### 4. Write a function, that replaces all vowels in a string with a specified vowel.\n",
    "Examples             \n",
    "vow_replace(\"apples and bananas\", \"u\") ➞ \"upplus und bununus\"          \n",
    "vow_replace(\"cheese casserole\", \"o\") ➞ \"chooso cossorolo\"                   \n",
    "vow_replace(\"stuffed jalapeno poppers\", \"e\") ➞ \"steffed jelepene peppers\"            \n",
    "Notes         \n",
    "All words will be lowercase. Y is not considered a vowel.     \n",
    "#### Answer :"
   ]
  },
  {
   "cell_type": "code",
   "execution_count": 8,
   "metadata": {},
   "outputs": [
    {
     "name": "stdout",
     "output_type": "stream",
     "text": [
      "upplus und bununus\n",
      "chooso cossorolo\n",
      "steffed jelepene peppers\n"
     ]
    }
   ],
   "source": [
    "def vow_replace(string1,v):\n",
    "    vowel ='AEIOUaeiuo'\n",
    "    string2 = []\n",
    "    for i in range(len(string1)):\n",
    "        if string1[i] in vowel:\n",
    "            string2.append(v)\n",
    "        else:\n",
    "            string2.append(string1[i])\n",
    "\n",
    "    return ''.join((string2))\n",
    "print(vow_replace(\"apples and bananas\", \"u\"))\n",
    "print(vow_replace(\"cheese casserole\", \"o\"))\n",
    "print(vow_replace(\"stuffed jalapeno poppers\", \"e\"))"
   ]
  },
  {
   "cell_type": "markdown",
   "metadata": {},
   "source": [
    "### 5. Create a function that takes a string as input and capitalizes a letter if its ASCII code is even and returns its lower case version if its ASCII code is odd.\n",
    "Examples                \n",
    "ascii_capitalize(\"to be or not to be!\") ➞ \"To Be oR NoT To Be!\"         \n",
    "ascii_capitalize(\"THE LITTLE MERMAID\") ➞ \"THe LiTTLe meRmaiD\"           \n",
    "ascii_capitalize(\"Oh what a beautiful morning.\") ➞ \"oH wHaT a BeauTiFuL moRNiNg.\"      \n",
    "#### Answer :"
   ]
  },
  {
   "cell_type": "code",
   "execution_count": 9,
   "metadata": {},
   "outputs": [
    {
     "name": "stdout",
     "output_type": "stream",
     "text": [
      "to be or not to be! ➞ To Be oR NoT To Be!\n",
      "THE LITTLE MERMAID ➞ THe LiTTLe meRmaiD\n",
      "Oh what a beautiful morning. ➞ oH wHaT a BeauTiFuL moRNiNg.\n"
     ]
    }
   ],
   "source": [
    "def ascii_capitalize(string1):\n",
    "    output = ''\n",
    "    for i in string1.lower():\n",
    "        if (ord(i)%2 == 0):\n",
    "            output += i.upper()\n",
    "        else:\n",
    "            output += i\n",
    "    print('{} ➞ {}'.format(string1, output))\n",
    "        \n",
    "ascii_capitalize(\"to be or not to be!\")\n",
    "ascii_capitalize(\"THE LITTLE MERMAID\")\n",
    "ascii_capitalize(\"Oh what a beautiful morning.\")"
   ]
  }
 ],
 "metadata": {
  "kernelspec": {
   "display_name": "Python 3",
   "language": "python",
   "name": "python3"
  },
  "language_info": {
   "codemirror_mode": {
    "name": "ipython",
    "version": 3
   },
   "file_extension": ".py",
   "mimetype": "text/x-python",
   "name": "python",
   "nbconvert_exporter": "python",
   "pygments_lexer": "ipython3",
   "version": "3.8.5"
  }
 },
 "nbformat": 4,
 "nbformat_minor": 4
}
