{
 "cells": [
  {
   "cell_type": "markdown",
   "metadata": {},
   "source": [
    "## Python Assignment Basic A11\n",
    "### 1.\tWrite a Python program to find words which are greater than given length k?\n",
    "#### Answer :"
   ]
  },
  {
   "cell_type": "code",
   "execution_count": 32,
   "metadata": {},
   "outputs": [
    {
     "name": "stdout",
     "output_type": "stream",
     "text": [
      "Enter the string : My name is Vinay\n",
      "Enter the length of k : 3\n",
      "Words which are greater than length 3 are\n",
      "['name', 'Vinay']\n"
     ]
    }
   ],
   "source": [
    "def words(k,string):\n",
    "    text = string.split()\n",
    "    list = []\n",
    "    for i in text:\n",
    "        if len(i) > k:\n",
    "            list.append(i)\n",
    "    return list\n",
    "\n",
    "string = input(\"Enter the string : \")\n",
    "k = int(input(\"Enter the length of k : \"))\n",
    "\n",
    "list1 = words(k,string)\n",
    "print(\"Words which are greater than length {} are\".format(k))\n",
    "print(list1)"
   ]
  },
  {
   "cell_type": "markdown",
   "metadata": {},
   "source": [
    "### 2.\tWrite a Python program for removing i-th character from a string?\n",
    "#### Answer :"
   ]
  },
  {
   "cell_type": "code",
   "execution_count": 8,
   "metadata": {},
   "outputs": [
    {
     "name": "stdout",
     "output_type": "stream",
     "text": [
      "Enter the String: Vinaya\n",
      "Enter the ith Character to be removed: 5\n",
      "Vinay\n"
     ]
    }
   ],
   "source": [
    "def remove():\n",
    "    string = input(\"Enter the String: \")\n",
    "    number = int(input(\"Enter the ith Character to be removed: \"))\n",
    "    final = ''\n",
    "    for i in range(len(string)):\n",
    "        if i != number:\n",
    "            final = final + string[i]\n",
    "    print(final)\n",
    "    \n",
    "remove()"
   ]
  },
  {
   "cell_type": "markdown",
   "metadata": {},
   "source": [
    "### 3.\tWrite a Python program to split and join a string?\n",
    "#### Answer :"
   ]
  },
  {
   "cell_type": "code",
   "execution_count": 18,
   "metadata": {},
   "outputs": [
    {
     "name": "stdout",
     "output_type": "stream",
     "text": [
      "Enter the String : I am Vinay\n",
      "Spliting a string :  ['I', 'am', 'Vinay']\n",
      "Joining a string :  I-am-Vinay\n",
      "Joining a string :  I am Vinay\n"
     ]
    }
   ],
   "source": [
    "string = input(\"Enter the String : \")\n",
    "string = string.split(\" \") # str is converted to a list of strings. \n",
    "print(\"Spliting a string : \",string)\n",
    "\n",
    "#Method 1 to join a string\n",
    "string1 = \"-\".join(string)\n",
    "print(\"Joining a string : \",string1)\n",
    "#Method 2 to join a string\n",
    "string2 = ' '.join(string)\n",
    "print(\"Joining a string : \",string2)"
   ]
  },
  {
   "cell_type": "markdown",
   "metadata": {},
   "source": [
    "### 4.\tWrite a Python to check if a given string is binary string or not?\n",
    "#### Answer :"
   ]
  },
  {
   "cell_type": "code",
   "execution_count": 3,
   "metadata": {},
   "outputs": [
    {
     "name": "stdout",
     "output_type": "stream",
     "text": [
      "Enter the String : 101101\n",
      "101101 is a Binary String\n"
     ]
    }
   ],
   "source": [
    "def Binary(string):\n",
    "    number = '01'\n",
    "    for i in range(len(string)):\n",
    "        if string[i] not in number:\n",
    "            print('{} is not a Binary String'.format(string))\n",
    "            break\n",
    "    else:\n",
    "        print('{} is a Binary String'.format(string))\n",
    "        \n",
    "string = input(\"Enter the String : \")\n",
    "Binary(string)"
   ]
  },
  {
   "cell_type": "markdown",
   "metadata": {},
   "source": [
    "### 5.\tWrite a Python program to find uncommon words from two Strings?\n",
    "#### Answer :"
   ]
  },
  {
   "cell_type": "code",
   "execution_count": 24,
   "metadata": {},
   "outputs": [
    {
     "name": "stdout",
     "output_type": "stream",
     "text": [
      "Enter the String 1: I am Vinay\n",
      "Enter the String 2: i am Patil\n",
      "Uncommon words are {'vinay', 'patil'}\n"
     ]
    }
   ],
   "source": [
    "def uncommon():\n",
    "    string1 = set(input(\"Enter the String 1: \").lower().split(' '))\n",
    "    string2 = set(input(\"Enter the String 2: \").lower().split(' '))\n",
    "    string3 = (string1.union(string2)).difference(string1.intersection(string2))\n",
    "    print('Uncommon words are {}'.format(string3))\n",
    "       \n",
    "uncommon()"
   ]
  },
  {
   "cell_type": "markdown",
   "metadata": {},
   "source": [
    "### 6.\tWrite a Python to find all duplicate characters in string?\n",
    "#### Answer :"
   ]
  },
  {
   "cell_type": "code",
   "execution_count": 26,
   "metadata": {},
   "outputs": [
    {
     "name": "stdout",
     "output_type": "stream",
     "text": [
      "Enter the string : I am Vinay\n",
      "Duplicate characters are ['i', ' ', 'a']\n"
     ]
    }
   ],
   "source": [
    "string = input(\"Enter the string : \").lower()\n",
    "list = []\n",
    "\n",
    "for i in string:\n",
    "    if string.count(i) > 1 :\n",
    "        if i not in list:\n",
    "            list.append(i)\n",
    "        \n",
    "print('Duplicate characters are {}'.format(list))"
   ]
  },
  {
   "cell_type": "markdown",
   "metadata": {},
   "source": [
    "### 7.\tWrite a Python Program to check if a string contains any special character?\n",
    "#### Answer :"
   ]
  },
  {
   "cell_type": "code",
   "execution_count": 31,
   "metadata": {},
   "outputs": [
    {
     "name": "stdout",
     "output_type": "stream",
     "text": [
      "Enter the string : My name is Vinay, # @ $ %:,\n",
      "String has following special charecters : [',', '#', '@', '$', '%', ':', ',']\n"
     ]
    }
   ],
   "source": [
    "import string\n",
    "special = string.punctuation\n",
    "list = []\n",
    "\n",
    "string = input(\"Enter the string : \").lower()\n",
    "for i in string:\n",
    "    if i in special:\n",
    "        list.append(i)\n",
    "if len(list) > 0:\n",
    "    print(\"String has following special charecters : {}\".format(list))"
   ]
  }
 ],
 "metadata": {
  "kernelspec": {
   "display_name": "Python 3",
   "language": "python",
   "name": "python3"
  },
  "language_info": {
   "codemirror_mode": {
    "name": "ipython",
    "version": 3
   },
   "file_extension": ".py",
   "mimetype": "text/x-python",
   "name": "python",
   "nbconvert_exporter": "python",
   "pygments_lexer": "ipython3",
   "version": "3.8.5"
  }
 },
 "nbformat": 4,
 "nbformat_minor": 4
}
