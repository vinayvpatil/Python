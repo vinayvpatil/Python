{
 "cells": [
  {
   "cell_type": "markdown",
   "metadata": {},
   "source": [
    "## Python Programming Basic A19\n",
    "### 1. Create a function that takes a string and returns a string in which each character is repeated once.\n",
    "Examples                                     \n",
    "double_char(\"String\") ➞ \"SSttrriinngg\"                                 \n",
    "double_char(\"Hello World!\") ➞ \"HHeelllloo  WWoorrlldd!!\"              \n",
    "double_char(\"1234!_ \") ➞ \"11223344!!__  \"                   \n",
    "#### Answer :"
   ]
  },
  {
   "cell_type": "code",
   "execution_count": 2,
   "metadata": {},
   "outputs": [
    {
     "name": "stdout",
     "output_type": "stream",
     "text": [
      "SSttrriinngg\n",
      "HHeelllloo  WWoorrlldd!!\n",
      "11223344!!__\n"
     ]
    }
   ],
   "source": [
    "def double(string1):\n",
    "    string2 = ''\n",
    "    for i in string1:\n",
    "        string2 += i*2\n",
    "    return string2\n",
    "\n",
    "print(double(\"String\"))\n",
    "print(double(\"Hello World!\"))\n",
    "print(double(\"1234!_\"))"
   ]
  },
  {
   "cell_type": "markdown",
   "metadata": {},
   "source": [
    "### 2. Create a function that reverses a boolean value and returns the string \"boolean expected\" if another variable type is given.\n",
    "Examples                        \n",
    "reverse(True) ➞ False                    \n",
    "reverse(False) ➞ True                        \n",
    "reverse(0) ➞ \"boolean expected\"                   \n",
    "reverse(None) ➞ \"boolean expected\"               \n",
    "#### Answer :"
   ]
  },
  {
   "cell_type": "code",
   "execution_count": 3,
   "metadata": {},
   "outputs": [
    {
     "name": "stdout",
     "output_type": "stream",
     "text": [
      "reverse(True) ➞ False\n",
      "reverse(False) ➞ True\n",
      "reverse(0) ➞ Boolean Expected\n",
      "reverse(None) ➞ Boolean Expected\n"
     ]
    }
   ],
   "source": [
    "def reverse(input1):\n",
    "    if type(input1) == bool:\n",
    "        return not input1\n",
    "    else:\n",
    "        return \"Boolean Expected\"\n",
    "\n",
    "print('reverse(True) ➞ {}'.format(reverse(True)))\n",
    "print('reverse(False) ➞ {}'.format(reverse(False)))\n",
    "print('reverse(0) ➞ {}'.format(reverse(0)))\n",
    "print('reverse(None) ➞ {}'.format(reverse(None)))"
   ]
  },
  {
   "cell_type": "markdown",
   "metadata": {},
   "source": [
    "### 3. Create a function that returns the thickness (in meters) of a piece of paper after folding it n number of times. The paper starts off with a thickness of 0.5mm.                  \n",
    "Examples                     \n",
    "num_layers(1) ➞ \"0.001m\"                      \n",
    "#Paper folded once is 1mm (equal to 0.001m)                               \n",
    "num_layers(4) ➞ \"0.008m\"                           \n",
    "#Paper folded 4 times is 8mm (equal to 0.008m)                     \n",
    "num_layers(21) ➞ \"1048.576m\"                         \n",
    "#Paper folded 21 times is 1048576mm (equal to 1048.576m)                         \n",
    "#### Answer :"
   ]
  },
  {
   "cell_type": "code",
   "execution_count": 6,
   "metadata": {},
   "outputs": [
    {
     "name": "stdout",
     "output_type": "stream",
     "text": [
      "num_layers(1) ➞ 0.001m\n",
      "num_layers(4) ➞ 0.008m\n",
      "num_layers(21) ➞ 1048.576m\n"
     ]
    }
   ],
   "source": [
    "def num_layers(input1):\n",
    "    output = 0.5\n",
    "    for i in range(input1):\n",
    "        output *= 2\n",
    "    print('num_layers({}) ➞ {}m'.format(input1, output/1000))\n",
    "    \n",
    "num_layers(1)\n",
    "num_layers(4)\n",
    "num_layers(21)"
   ]
  },
  {
   "cell_type": "markdown",
   "metadata": {},
   "source": [
    "### 4. Create a function that takes a single string as argument and returns an ordered list containing the indices of all capital letters in the string.\n",
    "Examples                                 \n",
    "index_of_caps(\"eDaBiT\") ➞ [1, 3, 5]                          \n",
    "index_of_caps(\"eQuINoX\") ➞ [1, 3, 4, 6]                    \n",
    "index_of_caps(\"determine\") ➞ []                     \n",
    "index_of_caps(\"STRIKE\") ➞ [0, 1, 2, 3, 4, 5]               \n",
    "index_of_caps(\"sUn\") ➞ [1]       \n",
    "#### Answer :"
   ]
  },
  {
   "cell_type": "code",
   "execution_count": 9,
   "metadata": {},
   "outputs": [
    {
     "name": "stdout",
     "output_type": "stream",
     "text": [
      "index_of_caps(\"eDaBiT\") ➞ [1, 3, 5]\n",
      "index_of_caps(\"eQuINoX\") ➞ [1, 3, 4, 6]\n",
      "index_of_caps(\"determine\") ➞ []\n",
      "index_of_caps(\"STRIKE\") ➞ [0, 1, 2, 3, 4, 5]\n",
      "index_of_caps(\"sUn\") ➞ [1]\n"
     ]
    }
   ],
   "source": [
    "def index_of_caps(input1):\n",
    "    output = []\n",
    "    for i in input1:\n",
    "        if i.isupper():\n",
    "            output.append(input1.index(i))\n",
    "    print('index_of_caps(\"{}\") ➞ {}'.format(input1,output ))\n",
    "\n",
    "index_of_caps(\"eDaBiT\")\n",
    "index_of_caps(\"eQuINoX\")\n",
    "index_of_caps(\"determine\")\n",
    "index_of_caps(\"STRIKE\")\n",
    "index_of_caps(\"sUn\")"
   ]
  },
  {
   "cell_type": "markdown",
   "metadata": {},
   "source": [
    "### 5. Using list comprehensions, create a function that finds all even numbers from 1 to the given number.\n",
    "Examples                                \n",
    "find_even_nums(8) ➞ [2, 4, 6, 8]                              \n",
    "find_even_nums(4) ➞ [2, 4]                   \n",
    "find_even_nums(2) ➞ [2]                    \n",
    "#### Answer :"
   ]
  },
  {
   "cell_type": "code",
   "execution_count": 11,
   "metadata": {},
   "outputs": [
    {
     "name": "stdout",
     "output_type": "stream",
     "text": [
      "find_even_nums(8) ➞ [2, 4, 6, 8]\n",
      "find_even_nums(4) ➞ [2, 4]\n",
      "find_even_nums(2) ➞ [2]\n"
     ]
    }
   ],
   "source": [
    "def find_even_nums(input1):\n",
    "    output = [i for i in range(1,input1+1) if i%2 == 0]\n",
    "    print('find_even_nums({}) ➞ {}'.format(input1, output))\n",
    "    \n",
    "find_even_nums(8)\n",
    "find_even_nums(4)\n",
    "find_even_nums(2)"
   ]
  }
 ],
 "metadata": {
  "kernelspec": {
   "display_name": "Python 3",
   "language": "python",
   "name": "python3"
  },
  "language_info": {
   "codemirror_mode": {
    "name": "ipython",
    "version": 3
   },
   "file_extension": ".py",
   "mimetype": "text/x-python",
   "name": "python",
   "nbconvert_exporter": "python",
   "pygments_lexer": "ipython3",
   "version": "3.8.5"
  }
 },
 "nbformat": 4,
 "nbformat_minor": 4
}
