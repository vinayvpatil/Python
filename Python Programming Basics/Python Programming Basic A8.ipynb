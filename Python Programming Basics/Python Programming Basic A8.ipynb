{
 "cells": [
  {
   "cell_type": "markdown",
   "metadata": {},
   "source": [
    "## Python Programming Basic A8\n",
    "### 1.\tWrite a Python Program to Add Two Matrices?\n",
    "#### Answer : "
   ]
  },
  {
   "cell_type": "code",
   "execution_count": 6,
   "metadata": {},
   "outputs": [
    {
     "name": "stdout",
     "output_type": "stream",
     "text": [
      "The Sum of two Matrices \n",
      "\n",
      "[[1 2 3]\n",
      " [4 6 8]\n",
      " [4 8 1]]  and \n",
      "\n",
      "[[3 5 7]\n",
      " [2 3 7]\n",
      " [4 7 1]]  is \n",
      "\n",
      "[[ 4  7 10]\n",
      " [ 6  9 15]\n",
      " [ 8 15  2]] \n"
     ]
    }
   ],
   "source": [
    "import numpy as np\n",
    "\n",
    "M1 = np.array([[1,2,3],\n",
    "        [4,6,8],\n",
    "        [4,8,1]])\n",
    "M2 = np.array([[3,5,7],\n",
    "        [2,3,7],\n",
    "        [4,7,1]])\n",
    "\n",
    "M3 = np.add(M1,M2)\n",
    "print(\"The Sum of two Matrices \\n\\n{}  and \\n\\n{}  is \\n\\n{} \".format(M1,M2,M3))"
   ]
  },
  {
   "cell_type": "markdown",
   "metadata": {},
   "source": [
    "### 2.\tWrite a Python Program to Multiply Two Matrices?\n",
    "#### Answer :"
   ]
  },
  {
   "cell_type": "code",
   "execution_count": 7,
   "metadata": {},
   "outputs": [
    {
     "name": "stdout",
     "output_type": "stream",
     "text": [
      "The Sum of two Matrices \n",
      "\n",
      "[[1 2 3]\n",
      " [4 6 8]\n",
      " [4 8 1]]  and \n",
      "\n",
      "[[3 5 7]\n",
      " [2 3 7]\n",
      " [4 7 1]]  is \n",
      "\n",
      "[[19 32 24]\n",
      " [56 94 78]\n",
      " [32 51 85]] \n"
     ]
    }
   ],
   "source": [
    "import numpy as np\n",
    "\n",
    "M1 = np.array([[1,2,3],\n",
    "        [4,6,8],\n",
    "        [4,8,1]])\n",
    "M2 = np.array([[3,5,7],\n",
    "        [2,3,7],\n",
    "        [4,7,1]])\n",
    "\n",
    "M3 = np.dot(M1,M2)\n",
    "print(\"The Sum of two Matrices \\n\\n{}  and \\n\\n{}  is \\n\\n{} \".format(M1,M2,M3))"
   ]
  },
  {
   "cell_type": "markdown",
   "metadata": {},
   "source": [
    "### 3.\tWrite a Python Program to Transpose a Matrix?\n",
    "#### Answer :"
   ]
  },
  {
   "cell_type": "code",
   "execution_count": 9,
   "metadata": {},
   "outputs": [
    {
     "name": "stdout",
     "output_type": "stream",
     "text": [
      "[12, 4, 3]\n",
      "[1, 5, 7]\n",
      "[5, 6, 3]\n"
     ]
    }
   ],
   "source": [
    "M = [[12, 1, 5],\n",
    "    [4 , 5, 6],\n",
    "    [3 , 7, 3]]\n",
    "\n",
    "transpose = [[M[i][j] for i in range(len(M))] for j in range(len(M[0]))]\n",
    "\n",
    "for T in transpose:\n",
    "   print(T)"
   ]
  },
  {
   "cell_type": "markdown",
   "metadata": {},
   "source": [
    "### 4.\tWrite a Python Program to Sort Words in Alphabetic Order?\n",
    "#### Answer :"
   ]
  },
  {
   "cell_type": "code",
   "execution_count": 13,
   "metadata": {},
   "outputs": [
    {
     "name": "stdout",
     "output_type": "stream",
     "text": [
      "Enter a string: I AM VINAY\n",
      "AM\n",
      "I\n",
      "VINAY\n"
     ]
    }
   ],
   "source": [
    "string = input(\"Enter a string: \")\n",
    "\n",
    "a = string.split()\n",
    "a.sort()\n",
    "for i in a:\n",
    "    print(i)"
   ]
  },
  {
   "cell_type": "markdown",
   "metadata": {},
   "source": [
    "### 5.\tWrite a Python Program to Remove Punctuation From a String?\n",
    "#### Answer :"
   ]
  },
  {
   "cell_type": "code",
   "execution_count": 14,
   "metadata": {},
   "outputs": [
    {
     "name": "stdout",
     "output_type": "stream",
     "text": [
      "Enter a String: \"I\"- \"AM\" - \"VINAY!\"\n",
      "I AM  VINAY\n"
     ]
    }
   ],
   "source": [
    "def removep():\n",
    "    punctuations = '''!()-[]{};:'\"\\,<>./?@#$%^&*_~'''\n",
    "    string = input('Enter a String: ')\n",
    "    final = ''\n",
    "    for i in string:\n",
    "        if i not in punctuations:\n",
    "            final += i\n",
    "    print(final)\n",
    "    \n",
    "removep()"
   ]
  }
 ],
 "metadata": {
  "kernelspec": {
   "display_name": "Python 3",
   "language": "python",
   "name": "python3"
  },
  "language_info": {
   "codemirror_mode": {
    "name": "ipython",
    "version": 3
   },
   "file_extension": ".py",
   "mimetype": "text/x-python",
   "name": "python",
   "nbconvert_exporter": "python",
   "pygments_lexer": "ipython3",
   "version": "3.8.5"
  }
 },
 "nbformat": 4,
 "nbformat_minor": 4
}
