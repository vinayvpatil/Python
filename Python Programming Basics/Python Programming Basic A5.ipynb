{
 "cells": [
  {
   "cell_type": "markdown",
   "metadata": {},
   "source": [
    "## Python Programming Basic A5\n",
    "### 1. Write a Python Program to Find LCM?\n",
    "#### Answer :"
   ]
  },
  {
   "cell_type": "code",
   "execution_count": 1,
   "metadata": {},
   "outputs": [
    {
     "name": "stdout",
     "output_type": "stream",
     "text": [
      "Enter Number 1 : 15\n",
      "Enter Number 2 : 30\n",
      "The LCM of 15 and 30 is 30\n"
     ]
    }
   ],
   "source": [
    "#LCM (Lowest Common Multiple is the smallest positive integer that is divisible by both \"x\" and \"y\"\n",
    "x = int(input(\"Enter Number 1 : \"))\n",
    "y = int(input(\"Enter Number 2 : \"))\n",
    "if x > y:\n",
    "    higher = x\n",
    "else:\n",
    "    higher = y\n",
    "    \n",
    "while(True):\n",
    "    if higher % x == 0 and higher % y == 0 :\n",
    "        lcm = higher\n",
    "        break\n",
    "    higher+=1\n",
    "    \n",
    "print(\"The LCM of {} and {} is {}\".format(x,y,lcm))        "
   ]
  },
  {
   "cell_type": "markdown",
   "metadata": {},
   "source": [
    "### 2.\tWrite a Python Program to Find HCF?\n",
    "#### Answer :"
   ]
  },
  {
   "cell_type": "code",
   "execution_count": 2,
   "metadata": {},
   "outputs": [
    {
     "name": "stdout",
     "output_type": "stream",
     "text": [
      "Enter Number 1 : 15\n",
      "Enter Number 2 : 30\n",
      "The HCF of 15 and 30 is 15\n"
     ]
    }
   ],
   "source": [
    "#HCF (Highest Common Factor) is the largest positive integer that evenly divides the numbers \"x\" and \"y\" without a remainder\n",
    "x = int(input(\"Enter Number 1 : \"))\n",
    "b = int(input(\"Enter Number 2 : \"))\n",
    "\n",
    "# lets find biggest number\n",
    "if x < y:\n",
    "    lower = x\n",
    "else:\n",
    "    lower = y\n",
    "hcf = 0   \n",
    "for i in range(1,lower+1):\n",
    "    if x % i == 0 and y % i == 0 :\n",
    "        hcf = i\n",
    "    \n",
    "print(\"The HCF of {} and {} is {}\".format(x,y,hcf))\n"
   ]
  },
  {
   "cell_type": "markdown",
   "metadata": {},
   "source": [
    "### 3.\tWrite a Python Program to Convert Decimal to Binary, Octal and Hexadecimal?\n",
    "#### Answer :"
   ]
  },
  {
   "cell_type": "code",
   "execution_count": 3,
   "metadata": {},
   "outputs": [
    {
     "name": "stdout",
     "output_type": "stream",
     "text": [
      "Enter a Number :22\n",
      "22 in Binary =  0b10110\n",
      "22 in Octal =  0o26\n",
      "22 in Hexadecimal =  0x16\n"
     ]
    }
   ],
   "source": [
    "number=int(input(\"Enter a Number :\"))\n",
    "\n",
    "print(number, \"in Binary = \", bin(number))\n",
    "print(number, \"in Octal = \", oct(number))\n",
    "print(number, \"in Hexadecimal = \",hex(number))"
   ]
  },
  {
   "cell_type": "markdown",
   "metadata": {},
   "source": [
    "### 4.\tWrite a Python Program To Find ASCII value of a character?\n",
    "#### Answer :"
   ]
  },
  {
   "cell_type": "code",
   "execution_count": 5,
   "metadata": {},
   "outputs": [
    {
     "name": "stdout",
     "output_type": "stream",
     "text": [
      "Enter a Character : @\n",
      "ASCII value of @ is 64\n"
     ]
    }
   ],
   "source": [
    "string = input(\"Enter a Character : \")\n",
    "print(\"ASCII value of {} is {}\".format(string,ord(string)))"
   ]
  },
  {
   "cell_type": "markdown",
   "metadata": {},
   "source": [
    "### 5.\tWrite a Python Program to Make a Simple Calculator with 4 basic mathematical operations?\n",
    "#### Answer :"
   ]
  },
  {
   "cell_type": "code",
   "execution_count": 7,
   "metadata": {},
   "outputs": [
    {
     "name": "stdout",
     "output_type": "stream",
     "text": [
      "Enter Number 1 :30\n",
      "Enter Number 2 :10\n",
      "Enter + for Addition : \n",
      "Enter - for Subtraction :\n",
      "Enter * for Multiplication :\n",
      "Enter / for Division : /\n",
      "30.0 / 10.0 = 3.0\n"
     ]
    }
   ],
   "source": [
    "number1 = float(input(\"Enter Number 1 :\"))\n",
    "number2 = float(input(\"Enter Number 2 :\"))\n",
    "\n",
    "operation = input(\"Enter + for Addition : \\nEnter - for Subtraction :\\nEnter * for Multiplication :\\nEnter / for Division : \")\n",
    "\n",
    "addition = number1 + number2\n",
    "subtract = number1 - number2\n",
    "multiply = number1 * number2\n",
    "\n",
    "\n",
    "if operation == \"+\":\n",
    "    print(\"{} + {} = {}\".format(number1,number2,addition))\n",
    "elif operation == \"-\":\n",
    "    print(\"{} - {} = {}\".format(number1,number2,subtract))\n",
    "elif operation == \"*\":\n",
    "    print(\"{} * {} = {}\".format(number1,number2,multiply))\n",
    "elif operation == \"/\":\n",
    "    if number1 == 0 or number2 == 0:\n",
    "        print(\"Division with zero is not possible\")\n",
    "    else:\n",
    "        div = number1 / number2\n",
    "        print(\"{} / {} = {}\".format(number1,number2,div))\n",
    "else:\n",
    "    print(\"Invalid input\")"
   ]
  }
 ],
 "metadata": {
  "kernelspec": {
   "display_name": "Python 3",
   "language": "python",
   "name": "python3"
  },
  "language_info": {
   "codemirror_mode": {
    "name": "ipython",
    "version": 3
   },
   "file_extension": ".py",
   "mimetype": "text/x-python",
   "name": "python",
   "nbconvert_exporter": "python",
   "pygments_lexer": "ipython3",
   "version": "3.8.5"
  }
 },
 "nbformat": 4,
 "nbformat_minor": 4
}
