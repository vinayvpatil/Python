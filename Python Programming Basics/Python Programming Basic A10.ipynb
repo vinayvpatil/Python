{
 "cells": [
  {
   "cell_type": "markdown",
   "metadata": {},
   "source": [
    "## Python Programming Basic A10\n",
    "### 1.\tWrite a Python program to find sum of elements in list?\n",
    "#### Answer :"
   ]
  },
  {
   "cell_type": "code",
   "execution_count": 1,
   "metadata": {},
   "outputs": [
    {
     "name": "stdout",
     "output_type": "stream",
     "text": [
      "Enter the Length of the list : 3\n",
      "10\n",
      "20\n",
      "30\n",
      "Sum of all Elements in List 60\n"
     ]
    }
   ],
   "source": [
    "number = int(input(\"Enter the Length of the list : \"))\n",
    "list = []\n",
    "\n",
    "for i in range(number):\n",
    "    list.append(int(input()))\n",
    "print(\"Sum of all Elements in List\",sum(list))"
   ]
  },
  {
   "cell_type": "markdown",
   "metadata": {},
   "source": [
    "### 2.\tWrite a Python program to  Multiply all numbers in the list?\n",
    "#### Answer :"
   ]
  },
  {
   "cell_type": "code",
   "execution_count": 2,
   "metadata": {},
   "outputs": [
    {
     "name": "stdout",
     "output_type": "stream",
     "text": [
      "Enter the length of the list : 3\n",
      "2\n",
      "3\n",
      "4\n",
      "Product of all numbers in the List is : 24\n"
     ]
    }
   ],
   "source": [
    "number = int(input(\"Enter the length of the list : \"))\n",
    "list = []\n",
    "\n",
    "for i in range(number):\n",
    "    list.append(int(input()))\n",
    "\n",
    "result = 1\n",
    "for j in list:\n",
    "    result = result*j\n",
    "print(\"Product of all numbers in the List is :\",result)"
   ]
  },
  {
   "cell_type": "markdown",
   "metadata": {},
   "source": [
    "### 3.\tWrite a Python program to find smallest number in a list?\n",
    "#### Answer :"
   ]
  },
  {
   "cell_type": "code",
   "execution_count": 3,
   "metadata": {},
   "outputs": [
    {
     "name": "stdout",
     "output_type": "stream",
     "text": [
      "Enter the length of the list : 3\n",
      "20\n",
      "10\n",
      "30\n",
      "Smallest number in the list is : 10\n"
     ]
    }
   ],
   "source": [
    "number = int(input(\"Enter the length of the list : \"))\n",
    "list = []\n",
    "\n",
    "for i in range(number):\n",
    "    list.append(int(input()))\n",
    "print(\"Smallest number in the list is :\",min(list))"
   ]
  },
  {
   "cell_type": "markdown",
   "metadata": {},
   "source": [
    "### 4.\tWrite a Python program to find largest number in a list?\n",
    "#### Answer :"
   ]
  },
  {
   "cell_type": "code",
   "execution_count": 5,
   "metadata": {},
   "outputs": [
    {
     "name": "stdout",
     "output_type": "stream",
     "text": [
      "Enter the length of the list : 3\n",
      "20\n",
      "10\n",
      "30\n",
      "Largest number in the list is : 30\n"
     ]
    }
   ],
   "source": [
    "number = int(input(\"Enter the length of the list : \"))\n",
    "list = []\n",
    "\n",
    "for i in range(number):\n",
    "    list.append(int(input()))\n",
    "print(\"Largest number in the list is :\",max(list))"
   ]
  },
  {
   "cell_type": "markdown",
   "metadata": {},
   "source": [
    "### 5.\tWrite a Python program to find second largest number in a list?\n",
    "#### Answer :"
   ]
  },
  {
   "cell_type": "code",
   "execution_count": 6,
   "metadata": {},
   "outputs": [
    {
     "name": "stdout",
     "output_type": "stream",
     "text": [
      "Enter the length of the list : 3\n",
      "20\n",
      "10\n",
      "30\n",
      "The second largest number in the list is  20\n"
     ]
    }
   ],
   "source": [
    "number = int(input(\"Enter the length of the list : \"))\n",
    "list = []\n",
    "\n",
    "for i in range(number):\n",
    "    list.append(int(input()))\n",
    "list.sort()\n",
    "print(\"The second largest number in the list is \",list[-2])"
   ]
  },
  {
   "cell_type": "markdown",
   "metadata": {},
   "source": [
    "### 6.\tWrite a Python program to find N largest elements from a list?\n",
    "#### Answer :"
   ]
  },
  {
   "cell_type": "code",
   "execution_count": 9,
   "metadata": {},
   "outputs": [
    {
     "name": "stdout",
     "output_type": "stream",
     "text": [
      "Enter the length of the list : 6\n",
      "10\n",
      "20\n",
      "30\n",
      "40\n",
      "50\n",
      "60\n",
      "How many largest numbers you want :3\n",
      "3 largest elements from the list are : [40, 50, 60]\n"
     ]
    }
   ],
   "source": [
    "number = int(input(\"Enter the length of the list : \"))\n",
    "list = []\n",
    "\n",
    "for i in range(number):\n",
    "    list.append(int(input()))\n",
    "list.sort()\n",
    "k = int(input(\"How many largest numbers you want :\"))    \n",
    "print(k,\"largest elements from the list are :\",list[(number-k):])"
   ]
  },
  {
   "cell_type": "markdown",
   "metadata": {},
   "source": [
    "### 7.\tWrite a Python program to print even numbers in a list?\n",
    "#### Answer :"
   ]
  },
  {
   "cell_type": "code",
   "execution_count": 11,
   "metadata": {},
   "outputs": [
    {
     "name": "stdout",
     "output_type": "stream",
     "text": [
      "Enter the length of the list : 5\n",
      "21\n",
      "22\n",
      "23\n",
      "24\n",
      "25\n",
      "The Even Numbers in the list are : [22, 24]\n"
     ]
    }
   ],
   "source": [
    "number = int(input(\"Enter the length of the list : \"))\n",
    "list = []\n",
    "\n",
    "for i in range(number):\n",
    "    list.append(int(input()))\n",
    "evenlist =[]\n",
    "\n",
    "for i in list:\n",
    "    if i % 2 == 0:\n",
    "        evenlist.append(i)\n",
    "print(\"The Even Numbers in the list are :\",evenlist)"
   ]
  },
  {
   "cell_type": "markdown",
   "metadata": {},
   "source": [
    "### 8.\tWrite a Python program to print odd numbers in a List?\n",
    "#### Answer :"
   ]
  },
  {
   "cell_type": "code",
   "execution_count": 13,
   "metadata": {},
   "outputs": [
    {
     "name": "stdout",
     "output_type": "stream",
     "text": [
      "Enter the length of the list : 6\n",
      "21\n",
      "22\n",
      "23\n",
      "24\n",
      "25\n",
      "26\n",
      "The Odd Numbers in the list are : [21, 23, 25]\n"
     ]
    }
   ],
   "source": [
    "number = int(input(\"Enter the length of the list : \"))\n",
    "list = []\n",
    "\n",
    "for i in range(number):\n",
    "    list.append(int(input()))\n",
    "oddlist =[]\n",
    "\n",
    "for i in list:\n",
    "    if i % 2 != 0:\n",
    "        oddlist.append(i)\n",
    "print(\"The Odd Numbers in the list are :\",oddlist)"
   ]
  },
  {
   "cell_type": "markdown",
   "metadata": {},
   "source": [
    "### 9.\tWrite a Python program to Remove empty List from List?\n",
    "#### Answer :"
   ]
  },
  {
   "cell_type": "code",
   "execution_count": 15,
   "metadata": {},
   "outputs": [
    {
     "name": "stdout",
     "output_type": "stream",
     "text": [
      "Original List -  [10, [], 20, 30, [], 40, 50, [], 60]\n",
      "The final list after removing empty lists\n",
      "[10, 20, 30, 40, 50, 60]\n"
     ]
    }
   ],
   "source": [
    "list = [10,[],20,30,[],40,50,[],60]\n",
    "print(\"Original List - \",list)\n",
    "finallist = [i for i in list if i != []]\n",
    "print(\"The final list after removing empty lists\")\n",
    "print(finallist)"
   ]
  },
  {
   "cell_type": "markdown",
   "metadata": {},
   "source": [
    "### 10.\tWrite a Python program to Cloning or Copying a list?\n",
    "#### Answer :"
   ]
  },
  {
   "cell_type": "code",
   "execution_count": 17,
   "metadata": {},
   "outputs": [
    {
     "name": "stdout",
     "output_type": "stream",
     "text": [
      "Enter the length of the list : 3\n",
      "10\n",
      "20\n",
      "30\n",
      "Original list1 is  [10, 20, 30]\n",
      "New Clonned Copied list2 is  [10, 20, 30]\n"
     ]
    }
   ],
   "source": [
    "number = int(input(\"Enter the length of the list : \"))\n",
    "list1 = []\n",
    "for i in range(number):\n",
    "    list1.append(int(input()))\n",
    "list2 = list1.copy()\n",
    "print(\"Original list1 is \",list1)\n",
    "print(\"New Clonned Copied list2 is \",list2)\n",
    "    "
   ]
  },
  {
   "cell_type": "markdown",
   "metadata": {},
   "source": [
    "### 11.\tWrite a Python program to Count occurrences of an element in a list?\n",
    "#### Answer :"
   ]
  },
  {
   "cell_type": "code",
   "execution_count": 18,
   "metadata": {},
   "outputs": [
    {
     "name": "stdout",
     "output_type": "stream",
     "text": [
      "Enter the length of the list : 5\n",
      "2\n",
      "3\n",
      "4\n",
      "2\n",
      "2\n",
      "The Original List is  [2, 3, 4, 2, 2]\n",
      "Enter the Element to count its occurance : 2\n",
      "2 has occured 3 times in the list \n"
     ]
    }
   ],
   "source": [
    "number = int(input(\"Enter the length of the list : \"))\n",
    "list = []\n",
    "\n",
    "for i in range(number):\n",
    "    list.append(int(input()))\n",
    "print(\"The Original List is \",list)\n",
    "k= int(input(\"Enter the Element to count its occurance : \"))\n",
    "print(k,\"has occured {} times in the list \".format(list.count(k)))"
   ]
  }
 ],
 "metadata": {
  "kernelspec": {
   "display_name": "Python 3",
   "language": "python",
   "name": "python3"
  },
  "language_info": {
   "codemirror_mode": {
    "name": "ipython",
    "version": 3
   },
   "file_extension": ".py",
   "mimetype": "text/x-python",
   "name": "python",
   "nbconvert_exporter": "python",
   "pygments_lexer": "ipython3",
   "version": "3.8.5"
  }
 },
 "nbformat": 4,
 "nbformat_minor": 4
}
