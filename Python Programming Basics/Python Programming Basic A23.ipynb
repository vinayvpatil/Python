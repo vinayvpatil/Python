{
 "cells": [
  {
   "cell_type": "markdown",
   "metadata": {},
   "source": [
    "## Python Programming Basic A23\n",
    "### 1. Create a function that takes a number as an argument and returns True or False depending on whether the number is symmetrical or not. A number is symmetrical when it is the same as its reverse.\n",
    "Examples                          \n",
    "is_symmetrical(7227) ➞ True                    \n",
    "is_symmetrical(12567) ➞ False               \n",
    "is_symmetrical(44444444) ➞ True                  \n",
    "is_symmetrical(9939) ➞ False                     \n",
    "is_symmetrical(1112111) ➞ True              \n",
    "#### Answer :"
   ]
  },
  {
   "cell_type": "code",
   "execution_count": 11,
   "metadata": {
    "scrolled": true
   },
   "outputs": [
    {
     "name": "stdout",
     "output_type": "stream",
     "text": [
      "7227 ➞ True\n",
      "12567 ➞ False\n",
      "44444444 ➞ True\n",
      "9939 ➞ False\n",
      "1112111 ➞ True\n"
     ]
    }
   ],
   "source": [
    "def is_symmetrical(number):\n",
    "    if str(number) == str(number)[::-1]:\n",
    "        print('{} ➞ {}'.format(number, True))\n",
    "    else:\n",
    "        print('{} ➞ {}'.format(number, False))\n",
    "\n",
    "is_symmetrical(7227)\n",
    "is_symmetrical(12567)\n",
    "is_symmetrical(44444444)\n",
    "is_symmetrical(9939)\n",
    "is_symmetrical(1112111)"
   ]
  },
  {
   "cell_type": "markdown",
   "metadata": {},
   "source": [
    "### 2. Given a string of numbers separated by a comma and space, return the product of the numbers.\n",
    "Examples                        \n",
    "multiply_nums(\"2, 3\") ➞ 6             \n",
    "multiply_nums(\"1, 2, 3, 4\") ➞ 24           \n",
    "multiply_nums(\"54, 75, 453, 0\") ➞ 0             \n",
    "multiply_nums(\"10, -2\") ➞ -20           \n",
    "#### Answer :"
   ]
  },
  {
   "cell_type": "code",
   "execution_count": 12,
   "metadata": {},
   "outputs": [
    {
     "name": "stdout",
     "output_type": "stream",
     "text": [
      "2, 3 ➞ 6\n",
      "1, 2, 3, 4 ➞ 24\n",
      "54, 75, 453, 0 ➞ 0\n",
      "10, -2 ➞ -20\n"
     ]
    }
   ],
   "source": [
    "def multiply_nums(string1):\n",
    "    string2 = string1.replace(' ','').split(',')\n",
    "    output = 1\n",
    "    for i in string2:\n",
    "        output *= int(i)\n",
    "    print('{} ➞ {}'.format(string1,output ))\n",
    "    \n",
    "multiply_nums(\"2, 3\")\n",
    "multiply_nums(\"1, 2, 3, 4\")\n",
    "multiply_nums(\"54, 75, 453, 0\")\n",
    "multiply_nums(\"10, -2\")"
   ]
  },
  {
   "cell_type": "markdown",
   "metadata": {},
   "source": [
    "### 3. Create a function that squares every digit of a number.\n",
    "Examples                         \n",
    "square_digits(9119) ➞ 811181        \n",
    "square_digits(2483) ➞ 416649             \n",
    "square_digits(3212) ➞ 9414           \n",
    "Notes                                                        \n",
    "The function receives an integer and must return an integer.      \n",
    "#### Answer :"
   ]
  },
  {
   "cell_type": "code",
   "execution_count": 13,
   "metadata": {},
   "outputs": [
    {
     "name": "stdout",
     "output_type": "stream",
     "text": [
      "9119 ➞ 811181\n",
      "2483 ➞ 416649\n",
      "3212 ➞ 9414\n"
     ]
    }
   ],
   "source": [
    "def square_digits(number):\n",
    "    list1 = [str(int(ele)**2) for ele in str(number)]\n",
    "    output = ''.join(list1)\n",
    "    print('{} ➞ {}'.format(number, int(output)))\n",
    "\n",
    "square_digits(9119)\n",
    "square_digits(2483)\n",
    "square_digits(3212)"
   ]
  },
  {
   "cell_type": "markdown",
   "metadata": {},
   "source": [
    "### 4. Create a function that sorts a list and removes all duplicate items from it.\n",
    "Examples           \n",
    "setify([1, 3, 3, 5, 5]) ➞ [1, 3, 5]   \n",
    "setify([4, 4, 4, 4]) ➞ [4]                        \n",
    "setify([5, 7, 8, 9, 10, 15]) ➞ [5, 7, 8, 9, 10, 15]                \n",
    "setify([3, 3, 3, 2, 1]) ➞ [1, 2, 3]            \n",
    "#### Answer :"
   ]
  },
  {
   "cell_type": "code",
   "execution_count": 14,
   "metadata": {},
   "outputs": [
    {
     "name": "stdout",
     "output_type": "stream",
     "text": [
      "[1, 3, 3, 5, 5] ➞ [1, 3, 5]\n",
      "[4, 4, 4, 4] ➞ [4]\n",
      "[5, 7, 8, 9, 10, 15] ➞ [5, 7, 8, 9, 10, 15]\n",
      "[3, 3, 3, 2, 1] ➞ [1, 2, 3]\n"
     ]
    }
   ],
   "source": [
    "def setify(list1):\n",
    "    output = sorted(set(list1))\n",
    "    print('{} ➞ {}'.format (list1,output))\n",
    "    \n",
    "setify([1, 3, 3, 5, 5]) \n",
    "setify([4, 4, 4, 4])\n",
    "setify([5, 7, 8, 9, 10, 15])\n",
    "setify([3, 3, 3, 2, 1])"
   ]
  },
  {
   "cell_type": "markdown",
   "metadata": {},
   "source": [
    "### 5. Create a function that returns the mean of all digits.\n",
    "Examples               \n",
    "mean(42) ➞ 3                       \n",
    "mean(12345) ➞ 3                \n",
    "mean(666) ➞ 6                   \n",
    "Notes                    \n",
    "•\tThe mean of all digits is the sum of digits / how many digits there are (e.g. mean of digits in 512 is (5+1+2)/3(number of digits) = 8/3=2).                                  \n",
    "•\tThe mean will always be an integer.                 \n",
    "#### Answer"
   ]
  },
  {
   "cell_type": "code",
   "execution_count": 23,
   "metadata": {},
   "outputs": [
    {
     "name": "stdout",
     "output_type": "stream",
     "text": [
      "Mean of 42  ➞ 3\n",
      "Mean of 12345  ➞ 3\n",
      "Mean of 666  ➞ 6\n"
     ]
    }
   ],
   "source": [
    "def mean(number):\n",
    "    list1 = [int(i) for i in str(number)]\n",
    "    output = sum(list1)/len(str(number))\n",
    "    print('Mean of {}  ➞ {}'.format(number,int(output)))\n",
    "    \n",
    "mean(42)\n",
    "mean(12345)\n",
    "mean(666)"
   ]
  }
 ],
 "metadata": {
  "kernelspec": {
   "display_name": "Python 3",
   "language": "python",
   "name": "python3"
  },
  "language_info": {
   "codemirror_mode": {
    "name": "ipython",
    "version": 3
   },
   "file_extension": ".py",
   "mimetype": "text/x-python",
   "name": "python",
   "nbconvert_exporter": "python",
   "pygments_lexer": "ipython3",
   "version": "3.8.5"
  }
 },
 "nbformat": 4,
 "nbformat_minor": 4
}
