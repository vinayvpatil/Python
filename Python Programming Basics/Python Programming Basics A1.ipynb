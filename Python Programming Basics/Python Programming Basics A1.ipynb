{
 "cells": [
  {
   "cell_type": "markdown",
   "metadata": {},
   "source": [
    "## Python Programming Basics A1\n",
    "### 1. Write a Python program to print \"Hello Python\"?\n",
    "#### Answer :"
   ]
  },
  {
   "cell_type": "code",
   "execution_count": 1,
   "metadata": {},
   "outputs": [
    {
     "name": "stdout",
     "output_type": "stream",
     "text": [
      "Hello Python\n"
     ]
    }
   ],
   "source": [
    "a = \"Hello Python\"\n",
    "print(a)"
   ]
  },
  {
   "cell_type": "markdown",
   "metadata": {},
   "source": [
    "### 2.\tWrite a Python program to do arithmetical operations addition and division.?\n",
    "#### Answer :"
   ]
  },
  {
   "cell_type": "code",
   "execution_count": 5,
   "metadata": {},
   "outputs": [
    {
     "name": "stdout",
     "output_type": "stream",
     "text": [
      "Addition 40+20 = 60\n",
      "Division 40/20 = 2.0\n"
     ]
    }
   ],
   "source": [
    "x = 40\n",
    "y = 20\n",
    "\n",
    "print(\"Addition {}+{} = {}\".format(x,y,x+y))\n",
    "print(\"Division {}/{} = {}\".format(x,y,x/y))"
   ]
  },
  {
   "cell_type": "markdown",
   "metadata": {},
   "source": [
    "### 3.\tWrite a Python program to find the area of a triangle?\n",
    "#### Answer :"
   ]
  },
  {
   "cell_type": "code",
   "execution_count": 4,
   "metadata": {},
   "outputs": [
    {
     "name": "stdout",
     "output_type": "stream",
     "text": [
      "Enter base of the Triangle :15\n",
      "Enter height of the Triangle :5\n",
      "Area of the Triangle =  37.5\n"
     ]
    }
   ],
   "source": [
    "base = int(input(\"Enter base of the Triangle :\"))\n",
    "height = int(input(\"Enter height of the Triangle :\"))\n",
    "area = (base*height)/2 #formula of area of a triangle\n",
    "print(\"Area of the Triangle = \", area)"
   ]
  },
  {
   "cell_type": "markdown",
   "metadata": {},
   "source": [
    "### 4.\tWrite a Python program to swap two variables?\n",
    "#### Answer :"
   ]
  },
  {
   "cell_type": "code",
   "execution_count": 9,
   "metadata": {},
   "outputs": [
    {
     "name": "stdout",
     "output_type": "stream",
     "text": [
      "Before swaping - x = 20, y = 60\n",
      "After swaping - x = 60, y = 20\n"
     ]
    }
   ],
   "source": [
    "x = 20\n",
    "y = 60\n",
    "print(\"Before swaping - x = {}, y = {}\".format(x,y))\n",
    "temp = x\n",
    "x = y\n",
    "y = temp\n",
    "print(\"After swaping - x = {}, y = {}\".format(x,y))"
   ]
  },
  {
   "cell_type": "markdown",
   "metadata": {},
   "source": [
    "### 5.\tWrite a Python program to generate a random number?\n",
    "#### Answer :"
   ]
  },
  {
   "cell_type": "code",
   "execution_count": 16,
   "metadata": {},
   "outputs": [
    {
     "name": "stdout",
     "output_type": "stream",
     "text": [
      "Random number --  68387\n",
      "Random number --  11\n"
     ]
    }
   ],
   "source": [
    "from random import randint\n",
    "\n",
    "def RandomNumber(start=0, end=100000):\n",
    "    print('Random number -- ',randint(start,end))\n",
    "\n",
    "RandomNumber() # without arguments\n",
    "RandomNumber(10, 67)# with arguments"
   ]
  }
 ],
 "metadata": {
  "kernelspec": {
   "display_name": "Python 3",
   "language": "python",
   "name": "python3"
  },
  "language_info": {
   "codemirror_mode": {
    "name": "ipython",
    "version": 3
   },
   "file_extension": ".py",
   "mimetype": "text/x-python",
   "name": "python",
   "nbconvert_exporter": "python",
   "pygments_lexer": "ipython3",
   "version": "3.8.5"
  }
 },
 "nbformat": 4,
 "nbformat_minor": 4
}
