{
 "cells": [
  {
   "cell_type": "markdown",
   "metadata": {},
   "source": [
    "## Python Programming Basic A9\n",
    "### 1.\tWrite a Python program to check if the given number is a Disarium Number?\n",
    "#### Answer :"
   ]
  },
  {
   "cell_type": "code",
   "execution_count": 4,
   "metadata": {},
   "outputs": [
    {
     "name": "stdout",
     "output_type": "stream",
     "text": [
      "Enter a Number: 135\n",
      "135 is a Disarium Number\n"
     ]
    }
   ],
   "source": [
    "#Disarium number - when the sum of its digit raised to the power of their \n",
    "#respective positions becomes equal to the number itself.\n",
    "def Disarium():\n",
    "    number = input('Enter a Number: ')\n",
    "    sum = 0\n",
    "    for i in range(len(number)):\n",
    "        sum = sum + int(number[i])**(i+1)\n",
    "    if sum == int(number):\n",
    "        print('{} is a Disarium Number'.format(number))\n",
    "    else:\n",
    "        print('{} is Not a Disarium Number'.format(number))\n",
    "\n",
    "Disarium()"
   ]
  },
  {
   "cell_type": "markdown",
   "metadata": {},
   "source": [
    "### 2.\tWrite a Python program to print all disarium numbers between 1 to 100?\n",
    "#### Answer :"
   ]
  },
  {
   "cell_type": "code",
   "execution_count": 2,
   "metadata": {},
   "outputs": [
    {
     "name": "stdout",
     "output_type": "stream",
     "text": [
      "[1, 2, 3, 4, 5, 6, 7, 8, 9, 89, 135, 175, 518, 598]\n"
     ]
    }
   ],
   "source": [
    "def Disarium(start=0,end=100):\n",
    "    output = []\n",
    "    for number in range(start,end+1):\n",
    "        sum = 0\n",
    "        for i in range(len(str(number))):\n",
    "            sum = sum + int(str(number)[i])**(i+1)\n",
    "        if sum == number:\n",
    "            output.append(number)\n",
    "    return output      \n",
    "print (Disarium(1,1000))"
   ]
  },
  {
   "cell_type": "markdown",
   "metadata": {},
   "source": [
    "### 3.\tWrite a Python program to check if the given number is Happy Number?\n",
    "#### Answer :"
   ]
  },
  {
   "cell_type": "code",
   "execution_count": 5,
   "metadata": {},
   "outputs": [
    {
     "name": "stdout",
     "output_type": "stream",
     "text": [
      "Enter the Number :13\n",
      "13 is a Happy Number\n"
     ]
    }
   ],
   "source": [
    "#A number is said to be happy if it yields 1 when replaced by the sum of squares of its digits repeatedly. \n",
    "def Happy(number):\n",
    "    sum = 0\n",
    "    while(number>0):\n",
    "        i = number%10\n",
    "        sum= sum + i**2        \n",
    "        number = number//10\n",
    "    return sum\n",
    "\n",
    "number = int(input(\"Enter the Number :\"))\n",
    "output = number\n",
    "\n",
    "\n",
    "while (output != 1 and output != 4):\n",
    "    output = Happy(output)\n",
    "\n",
    "if output == 1:\n",
    "    print(number,\"is a Happy Number\")\n",
    "else:\n",
    "    print(number,\" is a Unhappy Number\")   "
   ]
  },
  {
   "cell_type": "markdown",
   "metadata": {},
   "source": [
    "### 4.\tWrite a Python program to print all happy numbers between 1 and 100?\n",
    "#### Answer :"
   ]
  },
  {
   "cell_type": "code",
   "execution_count": 8,
   "metadata": {},
   "outputs": [
    {
     "name": "stdout",
     "output_type": "stream",
     "text": [
      "Happy Numbers between 1 to 100 are\n",
      "[1, 7, 10, 13, 19, 23, 28, 31, 32, 44, 49, 68, 70, 79, 82, 86, 91, 94, 97, 100]\n"
     ]
    }
   ],
   "source": [
    "def Happy(number):\n",
    "    sum = 0\n",
    "    while(number>0):\n",
    "        i = number%10\n",
    "        sum= sum + i**2        \n",
    "        number = number//10\n",
    "    return sum\n",
    "print(\"Happy Numbers between 1 to 100 are\")\n",
    "output=number=i=0\n",
    "list = []\n",
    "for i in range(1,101):\n",
    "    output = i\n",
    "    while (output != 1 and output != 4):\n",
    "        output = Happy(output)    \n",
    "    if output == 1:\n",
    "        list.append(i)\n",
    "print(list)"
   ]
  },
  {
   "cell_type": "markdown",
   "metadata": {},
   "source": [
    "### 5.\tWrite a Python program to determine whether the given number is a Harshad Number?\n",
    "#### Answer :"
   ]
  },
  {
   "cell_type": "code",
   "execution_count": 11,
   "metadata": {},
   "outputs": [
    {
     "name": "stdout",
     "output_type": "stream",
     "text": [
      "Enter the Number :45\n",
      "45 is a Harshad number\n"
     ]
    }
   ],
   "source": [
    "#Harshad Number is a number if it is divisible by the sum of its digits.\n",
    "def harshad(number):\n",
    "    sum = 0\n",
    "    while(number>0):\n",
    "        digit = number%10\n",
    "        sum= sum + digit       \n",
    "        number = number//10\n",
    "    return sum\n",
    "\n",
    "number = int(input(\"Enter the Number :\"))\n",
    "sum = harshad(number)\n",
    "\n",
    "if number % sum == 0:\n",
    "    print(number,\"is a Harshad number\")\n",
    "else:\n",
    "    print(number,\"is not a Harshad number\")"
   ]
  },
  {
   "cell_type": "markdown",
   "metadata": {},
   "source": [
    "### 6.\tWrite a Python program to print all pronic numbers between 1 and 100?\n",
    "#### Answer :"
   ]
  },
  {
   "cell_type": "code",
   "execution_count": 12,
   "metadata": {},
   "outputs": [
    {
     "name": "stdout",
     "output_type": "stream",
     "text": [
      "Pronic Numbers between 1 to 100 are\n",
      "[2, 6, 12, 20, 30, 42, 56, 72, 90]\n"
     ]
    }
   ],
   "source": [
    "#Pronic number is a number which is the product of two consecutive integers, \n",
    "#eg. a Pronic number n is a product of x and (x+1)\n",
    "def Pronic(number):\n",
    "    a = False\n",
    "    for i in range(1,number+1):\n",
    "        if i*(i+1) == number:\n",
    "            a = True\n",
    "            break\n",
    "    return a\n",
    "\n",
    "print(\"Pronic Numbers between 1 to 100 are\")\n",
    "list = []\n",
    "for i in range(1,101):\n",
    "    if Pronic(i):\n",
    "        list.append(i)\n",
    "print(list)"
   ]
  }
 ],
 "metadata": {
  "kernelspec": {
   "display_name": "Python 3",
   "language": "python",
   "name": "python3"
  },
  "language_info": {
   "codemirror_mode": {
    "name": "ipython",
    "version": 3
   },
   "file_extension": ".py",
   "mimetype": "text/x-python",
   "name": "python",
   "nbconvert_exporter": "python",
   "pygments_lexer": "ipython3",
   "version": "3.8.5"
  }
 },
 "nbformat": 4,
 "nbformat_minor": 4
}
