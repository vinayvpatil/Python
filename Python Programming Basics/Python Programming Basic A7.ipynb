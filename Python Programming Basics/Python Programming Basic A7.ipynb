{
 "cells": [
  {
   "cell_type": "markdown",
   "metadata": {},
   "source": [
    "## Python Programming Basic A7\n",
    "### 1.\tWrite a Python Program to find sum of array?\n",
    "#### Answer :"
   ]
  },
  {
   "cell_type": "code",
   "execution_count": 8,
   "metadata": {},
   "outputs": [
    {
     "name": "stdout",
     "output_type": "stream",
     "text": [
      "Enter a Array: 10, 20, 30, 40\n",
      "The sum of (10, 20, 30, 40) is 100\n"
     ]
    }
   ],
   "source": [
    "def ArraySum():\n",
    "    array = eval(input(\"Enter a Array: \"))\n",
    "    print('The sum of {} is {}'.format(array, sum(array)))\n",
    "\n",
    "ArraySum()"
   ]
  },
  {
   "cell_type": "markdown",
   "metadata": {},
   "source": [
    "### 2.\tWrite a Python Program to find largest element in an array?\n",
    "#### Answer :"
   ]
  },
  {
   "cell_type": "code",
   "execution_count": 15,
   "metadata": {},
   "outputs": [
    {
     "name": "stdout",
     "output_type": "stream",
     "text": [
      "Enter a Array: 10, 20, 30, 40\n",
      "The Largest Element in Array (10, 20, 30, 40) is 40\n"
     ]
    }
   ],
   "source": [
    "def largest():\n",
    "    array = eval(input(\"Enter a Array: \"))\n",
    "    print(\"The Largest Element in Array {} is {}\". format(array, sorted(array, reverse=True)[0]))\n",
    "    \n",
    "largest()"
   ]
  },
  {
   "cell_type": "markdown",
   "metadata": {},
   "source": [
    "### 3.\tWrite a Python Program for array rotation?\n",
    "#### Answer :"
   ]
  },
  {
   "cell_type": "code",
   "execution_count": 20,
   "metadata": {},
   "outputs": [
    {
     "name": "stdout",
     "output_type": "stream",
     "text": [
      "Enter a Array: 10, 20, 30, 40\n",
      "The Reverse of Array (10, 20, 30, 40) is:(40, 30, 20, 10) \n"
     ]
    }
   ],
   "source": [
    "def rotation():\n",
    "    array = eval(input(\"Enter a Array: \"))\n",
    "    print(\"The Reverse of Array {} is:{} \".format((array), array[::-1]))\n",
    "    \n",
    "rotation()"
   ]
  },
  {
   "cell_type": "markdown",
   "metadata": {},
   "source": [
    "### 4.\tWrite a Python Program to Split the array and add the first part to the end?\n",
    "#### Answer :"
   ]
  },
  {
   "cell_type": "code",
   "execution_count": 30,
   "metadata": {},
   "outputs": [
    {
     "name": "stdout",
     "output_type": "stream",
     "text": [
      "Final Array = [30, 40, 69, 10, 20]\n"
     ]
    }
   ],
   "source": [
    "def split(array, p):\n",
    "    array = array[p:] + array[:p]\n",
    "    return array\n",
    "\n",
    "p = 2 #p is the position after which we want to split the array.\n",
    "\n",
    "array = [10, 20, 30, 40, 69]\n",
    "\n",
    "print(\"Final Array =\", split(array, p))"
   ]
  },
  {
   "cell_type": "markdown",
   "metadata": {},
   "source": [
    "### 5.\tWrite a Python Program to check if given array is Monotonic?\n",
    "#### Answer :"
   ]
  },
  {
   "cell_type": "code",
   "execution_count": 32,
   "metadata": {},
   "outputs": [
    {
     "name": "stdout",
     "output_type": "stream",
     "text": [
      "Enter the Array: 10, 20, 30, 40, 50\n",
      "Array (10, 20, 30, 40, 50) is Monotonic\n"
     ]
    }
   ],
   "source": [
    "#An array is monotonic if it is either continuously increasing or continuously decreasing.\n",
    "def Monotonic():\n",
    "    array = eval(input(\"Enter the Array: \"))\n",
    "    if(all(array[i]<=array[i+1] for i in range(len(array)-1)) or all(array[i]>=array[i+1] for i in range(len(array)-1))):\n",
    "        print('Array {} is Monotonic'.format(array))\n",
    "    else:\n",
    "        print('Array {} is Not Monotonic'.format(array))\n",
    "\n",
    "Monotonic()"
   ]
  }
 ],
 "metadata": {
  "kernelspec": {
   "display_name": "Python 3",
   "language": "python",
   "name": "python3"
  },
  "language_info": {
   "codemirror_mode": {
    "name": "ipython",
    "version": 3
   },
   "file_extension": ".py",
   "mimetype": "text/x-python",
   "name": "python",
   "nbconvert_exporter": "python",
   "pygments_lexer": "ipython3",
   "version": "3.8.5"
  }
 },
 "nbformat": 4,
 "nbformat_minor": 4
}
