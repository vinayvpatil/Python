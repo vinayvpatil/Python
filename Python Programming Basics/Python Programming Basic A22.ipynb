{
 "cells": [
  {
   "cell_type": "markdown",
   "metadata": {},
   "source": [
    "## Python Programming Basic A22\n",
    "### 1. Create a function that takes three parameters where:\n",
    "•\tx is the start of the range (inclusive).             \n",
    "•\ty is the end of the range (inclusive).                   \n",
    "•\tn is the divisor to be checked against.                       \n",
    "Return an ordered list with numbers in the range that are divisible by the third parameter n.                                \n",
    "Return an empty list if there are no numbers that are divisible by n.                                \n",
    "Examples                                    \n",
    "list_operation(1, 10, 3) ➞ [3, 6, 9]                  \n",
    "list_operation(7, 9, 2) ➞ [8]                   \n",
    "list_operation(15, 20, 7) ➞ []                    \n",
    "#### Answer :"
   ]
  },
  {
   "cell_type": "code",
   "execution_count": 1,
   "metadata": {},
   "outputs": [
    {
     "name": "stdout",
     "output_type": "stream",
     "text": [
      "Output ➞  [3, 6, 9]\n",
      "Output ➞  [8]\n",
      "Output ➞  []\n"
     ]
    }
   ],
   "source": [
    "def list_operation(x,y,n):\n",
    "    \n",
    "    list1 = []\n",
    "    for i in range(x,y+1):\n",
    "        if i % n == 0:\n",
    "            list1.append(i)\n",
    "    return list1  \n",
    "print(\"Output ➞ \", list_operation(1, 10, 3))\n",
    "print(\"Output ➞ \", list_operation(7, 9, 2))\n",
    "print(\"Output ➞ \", list_operation(15, 20, 7))"
   ]
  },
  {
   "cell_type": "markdown",
   "metadata": {},
   "source": [
    "### 2. Create a function that takes in two lists and returns True if the second list follows the first list by one element, and False otherwise. In other words, determine if the second list is the first list shifted to the right by 1.\n",
    "Examples             \n",
    "simon_says([1, 2], [5, 1]) ➞ True         \n",
    "simon_says([1, 2], [5, 5]) ➞ False             \n",
    "simon_says([1, 2, 3, 4, 5], [0, 1, 2, 3, 4]) ➞ True                \n",
    "simon_says([1, 2, 3, 4, 5], [5, 5, 1, 2, 3]) ➞ False              \n",
    "Notes                        \n",
    "•\tBoth input lists will be of the same length, and will have a minimum length of 2.              \n",
    "•\tThe values of the 0-indexed element in the second list and the n-1th indexed element in the first list do not matter.\n",
    "#### Answer :"
   ]
  },
  {
   "cell_type": "code",
   "execution_count": 4,
   "metadata": {},
   "outputs": [
    {
     "name": "stdout",
     "output_type": "stream",
     "text": [
      "True\n",
      "False\n",
      "True\n",
      "False\n"
     ]
    }
   ],
   "source": [
    "def simon_says(list1,list2):\n",
    "    if list1[0:len(list1)-1] == list2[1:len(list2)]:\n",
    "        return True\n",
    "    return False\n",
    "print (simon_says([1, 2], [5, 1]))\n",
    "print (simon_says([1, 2], [5, 5]))\n",
    "print (simon_says([1, 2, 3, 4, 5], [0, 1, 2, 3, 4]))\n",
    "print (simon_says([1, 2, 3, 4, 5], [5, 5, 1, 2, 3]))"
   ]
  },
  {
   "cell_type": "markdown",
   "metadata": {},
   "source": [
    "### 3. A group of friends have decided to start a secret society. The name will be the first letter of each of their names, sorted in alphabetical order.\n",
    "Create a function that takes in a list of names and returns the name of the secret society.                   \n",
    "Examples                                                    \n",
    "society_name([\"Adam\", \"Sarah\", \"Malcolm\"]) ➞ \"AMS\"                    \n",
    "society_name([\"Harry\", \"Newt\", \"Luna\", \"Cho\"]) ➞ \"CHLN\"                                         \n",
    "society_name([\"Phoebe\", \"Chandler\", \"Rachel\", \"Ross\", \"Monica\", \"Joey\"])                             \n",
    "#### Answer :"
   ]
  },
  {
   "cell_type": "code",
   "execution_count": 1,
   "metadata": {},
   "outputs": [
    {
     "name": "stdout",
     "output_type": "stream",
     "text": [
      "Name of the secret society ➞ AMS\n",
      "Name of the secret society ➞ CHLN\n",
      "Name of the secret society ➞ CJMPRR\n"
     ]
    }
   ],
   "source": [
    "def society_name(list1):\n",
    "    list2 = []\n",
    "    for i in list1:\n",
    "        list2.append(i[0])\n",
    "    result = ''.join(sorted(list2))\n",
    "    print('Name of the secret society ➞ {}'.format(result))\n",
    "\n",
    "society_name([\"Adam\", \"Sarah\", \"Malcolm\"])\n",
    "society_name([\"Harry\", \"Newt\", \"Luna\", \"Cho\"])\n",
    "society_name([\"Phoebe\", \"Chandler\", \"Rachel\", \"Ross\", \"Monica\", \"Joey\"])"
   ]
  },
  {
   "cell_type": "markdown",
   "metadata": {},
   "source": [
    "### 4. An isogram is a word that has no duplicate letters. Create a function that takes a string and returns either True or False depending on whether or not it's an \"isogram\".\n",
    "Examples                               \n",
    "is_isogram(\"Algorism\") ➞ True                                 \n",
    "is_isogram(\"PasSword\") ➞ False                              \n",
    "# Not case sensitive.                           \n",
    "is_isogram(\"Consecutive\") ➞ False                               \n",
    "Notes                                                         \n",
    "•\tIgnore letter case (should not be case sensitive).            \n",
    "•\tAll test cases contain valid one word strings.             \n",
    "#### Answer :"
   ]
  },
  {
   "cell_type": "code",
   "execution_count": 2,
   "metadata": {},
   "outputs": [
    {
     "name": "stdout",
     "output_type": "stream",
     "text": [
      "Algorism ➞ True\n",
      "PasSword ➞ False\n",
      "Consecutive ➞ False\n"
     ]
    }
   ],
   "source": [
    "def is_isogram(string1):\n",
    "    lower_string1 = string1.lower()\n",
    "    if len(lower_string1) == len(set(lower_string1)):\n",
    "        print('{} ➞ {}'.format(string1,True ))\n",
    "    else:\n",
    "        print('{} ➞ {}'.format(string1,False ))\n",
    "    \n",
    "is_isogram(\"Algorism\")\n",
    "is_isogram(\"PasSword\")\n",
    "is_isogram(\"Consecutive\")"
   ]
  },
  {
   "cell_type": "markdown",
   "metadata": {},
   "source": [
    "### 5. Create a function that takes a string and returns True or False, depending on whether the characters are in order or not.\n",
    "Examples                         \n",
    "is_in_order(\"abc\") ➞ True                 \n",
    "is_in_order(\"edabit\") ➞ False           \n",
    "is_in_order(\"123\") ➞ True            \n",
    "is_in_order(\"xyzz\") ➞ True           \n",
    "Notes                                 \n",
    "You don't have to handle empty strings.  \n",
    "#### Answer :"
   ]
  },
  {
   "cell_type": "code",
   "execution_count": 3,
   "metadata": {},
   "outputs": [
    {
     "name": "stdout",
     "output_type": "stream",
     "text": [
      "abc ➞ True\n",
      "edabit ➞ False\n",
      "123 ➞ True\n",
      "xyzz ➞ True\n"
     ]
    }
   ],
   "source": [
    "def is_in_order(string1):\n",
    "    sorted_string1 = ''.join(sorted(string1))\n",
    "    if string1 == sorted_string1:\n",
    "        print('{} ➞ {}'.format(string1, True))\n",
    "    else:\n",
    "       print('{} ➞ {}'.format(string1, False))\n",
    "\n",
    "is_in_order(\"abc\")\n",
    "is_in_order(\"edabit\")\n",
    "is_in_order(\"123\")\n",
    "is_in_order(\"xyzz\")"
   ]
  }
 ],
 "metadata": {
  "kernelspec": {
   "display_name": "Python 3",
   "language": "python",
   "name": "python3"
  },
  "language_info": {
   "codemirror_mode": {
    "name": "ipython",
    "version": 3
   },
   "file_extension": ".py",
   "mimetype": "text/x-python",
   "name": "python",
   "nbconvert_exporter": "python",
   "pygments_lexer": "ipython3",
   "version": "3.8.5"
  }
 },
 "nbformat": 4,
 "nbformat_minor": 4
}
