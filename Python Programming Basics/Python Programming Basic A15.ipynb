{
 "cells": [
  {
   "cell_type": "markdown",
   "metadata": {},
   "source": [
    "## Python Programming Basic A15\n",
    "### 1: Please write a program using generator to print the numbers which can be divisible by 5 and 7 between 0 and n in comma separated form while n is input by console.\n",
    "Example: If the following n is given as input to the program: 100         \n",
    "Then, the output of the program should be: 0,35,70    \n",
    "#### Answer :"
   ]
  },
  {
   "cell_type": "code",
   "execution_count": 6,
   "metadata": {},
   "outputs": [
    {
     "name": "stdout",
     "output_type": "stream",
     "text": [
      "Enter n :100\n",
      "0,35,70,"
     ]
    }
   ],
   "source": [
    "n = int(input(\"Enter n :\"))\n",
    "def mygenerator(n):\n",
    "    for i in range(0,n+1):\n",
    "        if (i%5 == 0) and (i%7 == 0):\n",
    "            yield i\n",
    "for i in mygenerator(n):\n",
    "    print(i,end=',') "
   ]
  },
  {
   "cell_type": "markdown",
   "metadata": {},
   "source": [
    "### 2: Please write a program using generator to print the even numbers between 0 and n in comma separated form while n is input by console.\n",
    "Example: If the following n is given as input to the program: 10   \n",
    "Then, the output of the program should be: 0,2,4,6,8,10  \n",
    "#### Answer : "
   ]
  },
  {
   "cell_type": "code",
   "execution_count": 7,
   "metadata": {},
   "outputs": [
    {
     "name": "stdout",
     "output_type": "stream",
     "text": [
      "Enter n :10\n",
      "0,2,4,6,8,10,"
     ]
    }
   ],
   "source": [
    "n = int(input(\"Enter n :\"))\n",
    "def mygenerator(n):\n",
    "    for i in range(0,n+1):\n",
    "        if (i%2 == 0):\n",
    "            yield i\n",
    "for i in mygenerator(n):\n",
    "    print(i,end=',') "
   ]
  },
  {
   "cell_type": "markdown",
   "metadata": {},
   "source": [
    "### 3: The Fibonacci Sequence is computed based on the following formula:\n",
    "f(n)=0 if n=0    \n",
    "f(n)=1 if n=1  \n",
    "f(n)=f(n-1)+f(n-2) if n>1    \n",
    "### Please write a program using list comprehension to print the Fibonacci Sequence in comma separated form with a given n input by console.\n",
    "Example: If the following n is given as input to the program:7     \n",
    "Then, the output of the program should be: 0,1,1,2,3,5,8,13       \n",
    "#### Answer :"
   ]
  },
  {
   "cell_type": "code",
   "execution_count": 8,
   "metadata": {},
   "outputs": [
    {
     "name": "stdout",
     "output_type": "stream",
     "text": [
      "Enter n : 7\n",
      "[0, 1, 1, 2, 3, 5, 8, 13]\n"
     ]
    }
   ],
   "source": [
    "n = int(input(\"Enter n : \"))\n",
    "def Fibonacci(n):\n",
    "    if n == 0:\n",
    "        return 0\n",
    "    elif n == 1:\n",
    "        return 1\n",
    "    else:\n",
    "        return Fibonacci(n-1)+Fibonacci(n-2)\n",
    "    \n",
    "print([Fibonacci(j) for j in range(n+1)])"
   ]
  },
  {
   "cell_type": "markdown",
   "metadata": {},
   "source": [
    "###  4: Assuming that we have some email addresses in the \"username@companyname.com\" format, please write program to print the user name of a given email address. Both user names and company names are composed of letters only.\n",
    "Example: If the following email address is given as input to the program: john@google.com   \n",
    "Then, the output of the program should be: john   \n",
    "#### Answer :"
   ]
  },
  {
   "cell_type": "code",
   "execution_count": 11,
   "metadata": {},
   "outputs": [
    {
     "name": "stdout",
     "output_type": "stream",
     "text": [
      "Enter the email address : john@google.com\n",
      "User name :  john\n"
     ]
    }
   ],
   "source": [
    "x = (input(\"Enter the email address : \")).split('@')\n",
    "print(\"User name : \",x[0])"
   ]
  },
  {
   "cell_type": "markdown",
   "metadata": {},
   "source": [
    "### 5: Define a class named Shape and its subclass Square. The Square class has an init function which takes a length as argument. Both classes have a area function which can print the area of the shape where Shape's area is 0 by default.\n",
    "#### Answer :"
   ]
  },
  {
   "cell_type": "code",
   "execution_count": 13,
   "metadata": {},
   "outputs": [
    {
     "name": "stdout",
     "output_type": "stream",
     "text": [
      " Enter n: 10\n",
      " Area of Square :  100\n"
     ]
    }
   ],
   "source": [
    "class Shape:\n",
    "    def area(self):\n",
    "        return 0\n",
    "\n",
    "class Square(Shape):\n",
    "    def __init__(self, length):\n",
    "        self.length = length\n",
    "    def area(self):\n",
    "        return self.length*self.length\n",
    "n = int(input(\" Enter n: \"))\n",
    "square = Square(n)\n",
    "print(\" Area of Square : \",square.area())"
   ]
  }
 ],
 "metadata": {
  "kernelspec": {
   "display_name": "Python 3",
   "language": "python",
   "name": "python3"
  },
  "language_info": {
   "codemirror_mode": {
    "name": "ipython",
    "version": 3
   },
   "file_extension": ".py",
   "mimetype": "text/x-python",
   "name": "python",
   "nbconvert_exporter": "python",
   "pygments_lexer": "ipython3",
   "version": "3.8.5"
  }
 },
 "nbformat": 4,
 "nbformat_minor": 4
}
