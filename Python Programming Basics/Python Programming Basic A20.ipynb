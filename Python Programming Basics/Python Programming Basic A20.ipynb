{
 "cells": [
  {
   "cell_type": "markdown",
   "metadata": {},
   "source": [
    "## Python Programming Basic A20\n",
    "### 1. Create a function that takes a list of strings and integers, and filters out the list so that it returns a list of integers only.\n",
    "Examples                                         \n",
    "filter_list([1, 2, 3, \"a\", \"b\", 4]) ➞ [1, 2, 3, 4]                         \n",
    "filter_list([\"A\", 0, \"Edabit\", 1729, \"Python\", \"1729\"]) ➞ [0, 1729]         \n",
    "filter_list([\"Nothing\", \"here\"]) ➞ []                  \n",
    "#### Answer :                                     "
   ]
  },
  {
   "cell_type": "code",
   "execution_count": 1,
   "metadata": {},
   "outputs": [
    {
     "name": "stdout",
     "output_type": "stream",
     "text": [
      "Output = [1, 2, 3, 4]\n",
      "Output = [0, 1729]\n",
      "Output = []\n"
     ]
    }
   ],
   "source": [
    "def myfunction(list1):\n",
    "    output = []\n",
    "    for i in list1:\n",
    "        if type(i) == int:\n",
    "            output.append(i)\n",
    "    print('Output = {}'.format(output))\n",
    "\n",
    "myfunction([1, 2, 3, \"a\", \"b\", 4])\n",
    "myfunction([\"A\", 0, \"Edabit\", 1729, \"Python\", \"1729\"])\n",
    "myfunction([\"Nothing\", \"here\"])"
   ]
  },
  {
   "cell_type": "markdown",
   "metadata": {},
   "source": [
    "### 2. Given a list of numbers, create a function which returns the list but with each element's index in the list added to itself. This means you add 0 to the number at index 0, add 1 to the number at index 1, etc...\n",
    "Examples                                       \n",
    "add_indexes([0, 0, 0, 0, 0]) ➞ [0, 1, 2, 3, 4]             \n",
    "add_indexes([1, 2, 3, 4, 5]) ➞ [1, 3, 5, 7, 9]                           \n",
    "add_indexes([5, 4, 3, 2, 1]) ➞ [5, 5, 5, 5, 5]                          \n",
    "#### Answer :"
   ]
  },
  {
   "cell_type": "code",
   "execution_count": 4,
   "metadata": {},
   "outputs": [
    {
     "name": "stdout",
     "output_type": "stream",
     "text": [
      "add_indexes([0, 0, 0, 0, 0]) ➞ [0, 1, 2, 3, 4]\n",
      "add_indexes([1, 2, 3, 4, 5]) ➞ [1, 3, 5, 7, 9]\n",
      "add_indexes([5, 4, 3, 2, 1]) ➞ [5, 5, 5, 5, 5]\n"
     ]
    }
   ],
   "source": [
    "def add_indexes(input1):\n",
    "    output = []\n",
    "    for i in range(len(input1)):\n",
    "        output.append(i+input1[i])\n",
    "    print('add_indexes({}) ➞ {}'.format(input1,output))\n",
    "        \n",
    "add_indexes([0, 0, 0, 0, 0])\n",
    "add_indexes([1, 2, 3, 4, 5])\n",
    "add_indexes([5, 4, 3, 2, 1])"
   ]
  },
  {
   "cell_type": "markdown",
   "metadata": {},
   "source": [
    "### 3. Create a function that takes the height and radius of a cone as arguments and returns the volume of the cone rounded to the nearest hundredth. See the resources tab for the formula.   \n",
    "Examples                          \n",
    "cone_volume(3, 2) ➞ 12.57          \n",
    "cone_volume(15, 6) ➞ 565.49                 \n",
    "cone_volume(18, 0) ➞ 0           \n",
    "#### Answer :"
   ]
  },
  {
   "cell_type": "code",
   "execution_count": 7,
   "metadata": {},
   "outputs": [
    {
     "name": "stdout",
     "output_type": "stream",
     "text": [
      "Volume of the cone ➞ 12.57\n",
      "Volume of the cone ➞ 565.49\n",
      "Volume of the cone ➞ 0.0\n"
     ]
    }
   ],
   "source": [
    "import math\n",
    "\n",
    "def cube_volume(height, radius):\n",
    "    result = ((math.pi)*pow(radius,2))*(height/3)\n",
    "    print('Volume of the cone ➞ {}'.format(round(result,2)))\n",
    "\n",
    "cube_volume(3,2) \n",
    "cube_volume(15,6)    \n",
    "cube_volume(18,0)  "
   ]
  },
  {
   "cell_type": "markdown",
   "metadata": {},
   "source": [
    "### 4. Write a function that gives the number of dots with its corresponding triangle number of the sequence.\n",
    "This Triangular Number Sequence is generated from a pattern of dots that form a triangle. The first 5 numbers of the sequence, or dots, are: 1, 3, 6, 10, 15             \n",
    "This means that the first triangle has just one dot, the second one has three dots, the third one has 6 dots and so on.\n",
    "Examples                       \n",
    "triangle(1) ➞ 1                             \n",
    "triangle(6) ➞ 21                \n",
    "triangle(215) ➞ 23220         \n",
    "### Answer :"
   ]
  },
  {
   "cell_type": "code",
   "execution_count": 8,
   "metadata": {},
   "outputs": [
    {
     "name": "stdout",
     "output_type": "stream",
     "text": [
      "triangle(1) ➞ 1\n",
      "triangle(6) ➞ 21\n",
      "triangle(215) ➞ 23220\n"
     ]
    }
   ],
   "source": [
    "def triangle(number):\n",
    "    print('triangle({}) ➞ {}'.format(number,int((number)*((number+1)/2)) ))\n",
    "\n",
    "triangle(1)\n",
    "triangle(6)\n",
    "triangle(215)"
   ]
  },
  {
   "cell_type": "markdown",
   "metadata": {},
   "source": [
    "### 5. Create a function that takes a list of numbers between 1 and 10 (excluding one number) and returns the missing number.\n",
    "Examples                                           \n",
    "missing_num([1, 2, 3, 4, 6, 7, 8, 9, 10]) ➞ 5            \n",
    "missing_num([7, 2, 3, 6, 5, 9, 1, 4, 8]) ➞ 10            \n",
    "missing_num([10, 5, 1, 2, 4, 6, 8, 3, 9]) ➞ 7           \n",
    "#### Answer :"
   ]
  },
  {
   "cell_type": "code",
   "execution_count": 10,
   "metadata": {},
   "outputs": [
    {
     "name": "stdout",
     "output_type": "stream",
     "text": [
      "missing_num([1, 2, 3, 4, 6, 7, 8, 9, 10]) ➞ 5\n",
      "missing_num([7, 2, 3, 6, 5, 9, 1, 4, 8]) ➞ 10\n",
      "missing_num([10, 5, 1, 2, 4, 6, 8, 3, 9]) ➞ 7\n"
     ]
    }
   ],
   "source": [
    "def missing_num(list1):\n",
    "    for i in range(1,11):\n",
    "        if i not in list1:\n",
    "            print('missing_num({}) ➞ {}'.format(list1, i))\n",
    "\n",
    "missing_num([1, 2, 3, 4, 6, 7, 8, 9, 10])\n",
    "missing_num([7, 2, 3, 6, 5, 9, 1, 4, 8])\n",
    "missing_num([10, 5, 1, 2, 4, 6, 8, 3, 9])"
   ]
  }
 ],
 "metadata": {
  "kernelspec": {
   "display_name": "Python 3",
   "language": "python",
   "name": "python3"
  },
  "language_info": {
   "codemirror_mode": {
    "name": "ipython",
    "version": 3
   },
   "file_extension": ".py",
   "mimetype": "text/x-python",
   "name": "python",
   "nbconvert_exporter": "python",
   "pygments_lexer": "ipython3",
   "version": "3.8.5"
  }
 },
 "nbformat": 4,
 "nbformat_minor": 4
}
