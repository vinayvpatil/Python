{
 "cells": [
  {
   "cell_type": "markdown",
   "metadata": {},
   "source": [
    "## Python Programming Basic A16\n",
    "### 1. Write a function that stutters a word as if someone is struggling to read it. The first two letters are repeated twice with an ellipsis ... and space after each, and then the word is pronounced with a question mark ?.\n",
    "Examples   \n",
    "stutter(\"incredible\") ➞ \"in... in... incredible?\"  \n",
    "stutter(\"enthusiastic\") ➞ \"en... en... enthusiastic?\"  \n",
    "stutter(\"outstanding\") ➞ \"ou... ou... outstanding?\"  \n",
    "Hint :- Assume all input is in lower case and at least two characters long.  \n",
    "#### Answer :"
   ]
  },
  {
   "cell_type": "code",
   "execution_count": 1,
   "metadata": {},
   "outputs": [
    {
     "name": "stdout",
     "output_type": "stream",
     "text": [
      "Enter a Word : incredible\n",
      "in... in... incredible?\n"
     ]
    }
   ],
   "source": [
    "def stutter(i):\n",
    "    return (2*(i[:2]+'... '))+i+'?'\n",
    "i = input('Enter a Word : ')\n",
    "print(stutter(i))"
   ]
  },
  {
   "cell_type": "markdown",
   "metadata": {},
   "source": [
    "### 2.Create a function that takes an angle in radians and returns the corresponding angle in degrees rounded to one decimal place.\n",
    "Examples  \n",
    "radians_to_degrees(1) ➞ 57.3  \n",
    "radians_to_degrees(20) ➞ 1145.9  \n",
    "radians_to_degrees(50) ➞ 2864.8   \n",
    "#### Answer :"
   ]
  },
  {
   "cell_type": "code",
   "execution_count": 16,
   "metadata": {},
   "outputs": [
    {
     "name": "stdout",
     "output_type": "stream",
     "text": [
      "Enter angle in Radians : 50\n",
      "Angle in Degrees = 2864.8\n"
     ]
    }
   ],
   "source": [
    "def myfunction(radian):\n",
    "    pi = 3.14159\n",
    "    #formula\n",
    "    degree = radian * (180/pi)\n",
    "    degree1 = round(degree,1)\n",
    "    return degree1\n",
    "radian = float(input('Enter angle in Radians : '))\n",
    "print(\"Angle in Degrees =\",(myfunction(radian)))"
   ]
  },
  {
   "cell_type": "markdown",
   "metadata": {},
   "source": [
    "### 3. In this challenge, establish if a given integer num is a Curzon number. If 1 plus 2 elevated to num is exactly divisible by 1 plus 2 multiplied by num, then num is a Curzon number.\n",
    "Given a non-negative integer num, implement a function that returns True if num is a Curzon number, or False otherwise.\n",
    "Examples \n",
    "#### is_curzon(5) ➞ True \n",
    "2 ** 5 + 1 = 33  \n",
    "2 * 5 + 1 = 11    \n",
    "33 is a multiple of 11 \n",
    "#### is_curzon(10) ➞ False  \n",
    "2 ** 10 + 1 = 1025  \n",
    "2 * 10 + 1 = 21  \n",
    "1025 is not a multiple of 21  \n",
    "#### is_curzon(14) ➞ True  \n",
    "2 ** 14 + 1 = 16385  \n",
    "2 * 14 + 1 = 29  \n",
    "16385 is a multiple of 29    \n",
    "#### Answer :"
   ]
  },
  {
   "cell_type": "code",
   "execution_count": 21,
   "metadata": {},
   "outputs": [
    {
     "name": "stdout",
     "output_type": "stream",
     "text": [
      "Enter a number: 14\n"
     ]
    },
    {
     "data": {
      "text/plain": [
       "True"
      ]
     },
     "execution_count": 21,
     "metadata": {},
     "output_type": "execute_result"
    }
   ],
   "source": [
    "def is_curzon():\n",
    "    number = int(input(\"Enter a number: \"))\n",
    "    if (pow(2,number)+1)%((2*number)+1) == 0:\n",
    "        return True\n",
    "    else:\n",
    "        return False\n",
    "is_curzon()"
   ]
  },
  {
   "cell_type": "markdown",
   "metadata": {},
   "source": [
    "### 4.Given the side length x find the area of a hexagon.\n",
    "Examples :   \n",
    "area_of_hexagon(1) ➞ 2.6, area_of_hexagon(2) ➞ 10.4, area_of_hexagon(3) ➞ 23.4  \n",
    "#### Answer :"
   ]
  },
  {
   "cell_type": "code",
   "execution_count": 22,
   "metadata": {},
   "outputs": [
    {
     "name": "stdout",
     "output_type": "stream",
     "text": [
      "Enter the Side Length of the Hexagon : 1\n",
      "Area of the Hexagon is : 2.6\n"
     ]
    }
   ],
   "source": [
    "import math\n",
    "def area(length):     \n",
    "    return ((3 * math.sqrt(3) * (length * length)) / 2) #formula\n",
    "     \n",
    "length = float(input('Enter the Side Length of the Hexagon : '))\n",
    "\n",
    "print(\"Area of the Hexagon is :\",\"{0:.1f}\".format(area(length)))"
   ]
  },
  {
   "cell_type": "markdown",
   "metadata": {},
   "source": [
    "### 5. Create a function that returns a base-2 (binary) representation of a base-10 (decimal) string number. To convert is simple: ((2) means base-2 and (10) means base-10) 010101001(2) = 1 + 8 + 32 + 128.\n",
    "Going from right to left, the value of the most right bit is 1, now from that every bit to the left will be x2 the value, value of an 8 bit binary numbers are (256, 128, 64, 32, 16, 8, 4, 2, 1).   \n",
    "Examples  \n",
    "binary(1) ➞ \"1\"  \n",
    "1* 1 = 1   \n",
    "binary(5) ➞ \"101\"  \n",
    "1* 1 + 1\\*4 = 5   \n",
    "binary(10) ➞ \"1010\"    \n",
    "1\\*2 + 1\\*8 = 10     \n",
    "#### Answer :"
   ]
  },
  {
   "cell_type": "code",
   "execution_count": 24,
   "metadata": {},
   "outputs": [
    {
     "name": "stdout",
     "output_type": "stream",
     "text": [
      "Enter a Number: 10\n",
      "Binary of 10 ➞ 1010\n"
     ]
    }
   ],
   "source": [
    "def Binary():\n",
    "    number = int(input(\"Enter a Number: \"))\n",
    "    output = bin(number).replace('0b','') \n",
    "    print('Binary of {} ➞ {}'.format(number,output))\n",
    "Binary()"
   ]
  }
 ],
 "metadata": {
  "kernelspec": {
   "display_name": "Python 3",
   "language": "python",
   "name": "python3"
  },
  "language_info": {
   "codemirror_mode": {
    "name": "ipython",
    "version": 3
   },
   "file_extension": ".py",
   "mimetype": "text/x-python",
   "name": "python",
   "nbconvert_exporter": "python",
   "pygments_lexer": "ipython3",
   "version": "3.8.5"
  }
 },
 "nbformat": 4,
 "nbformat_minor": 4
}
