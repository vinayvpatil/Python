{
 "cells": [
  {
   "cell_type": "markdown",
   "metadata": {},
   "source": [
    "## Python Programming Basic A6\n",
    "### 1.\tWrite a Python Program to Display Fibonacci Sequence Using Recursion?\n",
    "#### Answer :"
   ]
  },
  {
   "cell_type": "code",
   "execution_count": 21,
   "metadata": {},
   "outputs": [
    {
     "name": "stdout",
     "output_type": "stream",
     "text": [
      "Enter the length of Fibonacci Sequence: 10\n",
      "Fibonacci Sequence - 0, 1, 1, 2, 3, 5, 8, 13, 21, 34, "
     ]
    }
   ],
   "source": [
    "def Fibonacci(i,x,y):\n",
    "    if i <= 0:\n",
    "        return None\n",
    "    else:\n",
    "        z = x+y\n",
    "        print(z, end=', ')\n",
    "        Fibonacci(i-1,y,z)\n",
    "number = int(input('Enter the length of Fibonacci Sequence: '))\n",
    "print('Fibonacci Sequence - 0, 1, 1, 2',end=', ')\n",
    "Fibonacci((number-4),1,2)"
   ]
  },
  {
   "cell_type": "markdown",
   "metadata": {},
   "source": [
    "### 2.\tWrite a Python Program to Find Factorial of Number Using Recursion?\n",
    "#### Answer :"
   ]
  },
  {
   "cell_type": "code",
   "execution_count": 27,
   "metadata": {},
   "outputs": [
    {
     "name": "stdout",
     "output_type": "stream",
     "text": [
      "Enter a Number: 4\n",
      "The Factorial of Number 4 is 24\n"
     ]
    }
   ],
   "source": [
    "def factorial(number):\n",
    "    if (number < 1):\n",
    "        return 1\n",
    "    else:\n",
    "        return number*factorial(number-1)\n",
    "number = int(input('Enter a Number: '))\n",
    "value = factorial(number)\n",
    "print('The Factorial of Number {} is {}'.format(number, value))"
   ]
  },
  {
   "cell_type": "markdown",
   "metadata": {},
   "source": [
    "### 3.\tWrite a Python Program to calculate your Body Mass Index?\n",
    "#### Answer :"
   ]
  },
  {
   "cell_type": "code",
   "execution_count": 29,
   "metadata": {},
   "outputs": [
    {
     "name": "stdout",
     "output_type": "stream",
     "text": [
      "Enter your Height in feet : 5.5\n",
      "Enter your Weight in Kg : 69\n",
      "The Body Mass Index (BMI) is =  2.28099173553719\n"
     ]
    }
   ],
   "source": [
    "height = float(input(\"Enter your Height in feet : \"))\n",
    "weight = float(input(\"Enter your Weight in Kg : \"))\n",
    "\n",
    "BMI = weight/(height**2) #formula for calculating BMI\n",
    "\n",
    "print(\"The Body Mass Index (BMI) is = \",BMI)"
   ]
  },
  {
   "cell_type": "markdown",
   "metadata": {},
   "source": [
    "### 4.\tWrite a Python Program to calculate the natural logarithm of any number?\n",
    "#### Answer :"
   ]
  },
  {
   "cell_type": "code",
   "execution_count": 30,
   "metadata": {},
   "outputs": [
    {
     "name": "stdout",
     "output_type": "stream",
     "text": [
      "Enter a Number : 10\n",
      "Log of 10 is 2.302585092994046\n"
     ]
    }
   ],
   "source": [
    "import math\n",
    "a = int(input((\"Enter a Number : \")))\n",
    "log = math.log(a)\n",
    "print(\"Log of {} is {}\".format(a, log))"
   ]
  },
  {
   "cell_type": "markdown",
   "metadata": {},
   "source": [
    "### 5.\tWrite a Python Program for cube sum of first n natural numbers?\n",
    "#### Answer :"
   ]
  },
  {
   "cell_type": "code",
   "execution_count": 33,
   "metadata": {},
   "outputs": [
    {
     "name": "stdout",
     "output_type": "stream",
     "text": [
      "Enter n to find Cube Sum : 3\n",
      "Cube Sum of 3 natural numbers is 36\n"
     ]
    }
   ],
   "source": [
    "number = int(input(\"Enter n to find Cube Sum : \"))\n",
    "sum = 0\n",
    "for i in range(1,number+1):\n",
    "    sum+=i**3\n",
    "print(\"Cube Sum of {} natural numbers is {}\".format(number,sum))"
   ]
  }
 ],
 "metadata": {
  "kernelspec": {
   "display_name": "Python 3",
   "language": "python",
   "name": "python3"
  },
  "language_info": {
   "codemirror_mode": {
    "name": "ipython",
    "version": 3
   },
   "file_extension": ".py",
   "mimetype": "text/x-python",
   "name": "python",
   "nbconvert_exporter": "python",
   "pygments_lexer": "ipython3",
   "version": "3.8.5"
  }
 },
 "nbformat": 4,
 "nbformat_minor": 4
}
