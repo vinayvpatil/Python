{
 "cells": [
  {
   "cell_type": "markdown",
   "metadata": {},
   "source": [
    "## Python Programming Basic A4\n",
    "### 1.\tWrite a Python Program to Find the Factorial of a Number?\n",
    "#### Answer :"
   ]
  },
  {
   "cell_type": "code",
   "execution_count": 1,
   "metadata": {},
   "outputs": [
    {
     "name": "stdout",
     "output_type": "stream",
     "text": [
      "Enter a Number: 10\n",
      "The Factorial of 10 is 3628800\n"
     ]
    }
   ],
   "source": [
    "def factorial(number):\n",
    "    if (number < 1):\n",
    "        return 1\n",
    "    else:\n",
    "        return number*factorial(number-1)\n",
    "number = int(input('Enter a Number: '))\n",
    "result = factorial(number)\n",
    "print(f'The Factorial of {number} is {result}')"
   ]
  },
  {
   "cell_type": "markdown",
   "metadata": {},
   "source": [
    "### 2.\tWrite a Python Program to Display the multiplication Table?\n",
    "#### Answer :"
   ]
  },
  {
   "cell_type": "code",
   "execution_count": 3,
   "metadata": {},
   "outputs": [
    {
     "name": "stdout",
     "output_type": "stream",
     "text": [
      "Enter a Number : 4\n",
      "Multiplication Table of Number 4\n",
      "4 X 1 = 4\n",
      "4 X 2 = 8\n",
      "4 X 3 = 12\n",
      "4 X 4 = 16\n",
      "4 X 5 = 20\n",
      "4 X 6 = 24\n",
      "4 X 7 = 28\n",
      "4 X 8 = 32\n",
      "4 X 9 = 36\n",
      "4 X 10 = 40\n"
     ]
    }
   ],
   "source": [
    "number = int(input(\"Enter a Number : \"))\n",
    "\n",
    "print(\"Multiplication Table of Number {}\".format(number))\n",
    "for i in range(1,11):\n",
    "    print(\"{} X {} = {}\".format(number,i,i*number))"
   ]
  },
  {
   "cell_type": "markdown",
   "metadata": {},
   "source": [
    "### 3.\tWrite a Python Program to Print the Fibonacci sequence?\n",
    "#### Answers :"
   ]
  },
  {
   "cell_type": "code",
   "execution_count": 12,
   "metadata": {},
   "outputs": [
    {
     "name": "stdout",
     "output_type": "stream",
     "text": [
      "Enter the number of Fibonacci Sequences you want? 7\n",
      "The Fibonacci series is:  [0, 1, 1, 2, 3, 5, 8]\n"
     ]
    }
   ],
   "source": [
    "count = int(input('Enter the number of Fibonacci Sequences you want? '))\n",
    "list = [0,1]\n",
    "if count < 0:\n",
    "    print('Fibonacci Numbers are not available for Negative Numbers')\n",
    "elif count <= 2 and count >= 0:\n",
    "    print(list)\n",
    "else:\n",
    "    for i in range(count):\n",
    "        if i >= 2:\n",
    "            list.append(list[i-1]+list[i-2])\n",
    "    print('The Fibonacci series is: ',list)"
   ]
  },
  {
   "cell_type": "markdown",
   "metadata": {},
   "source": [
    "### 4.\tWrite a Python Program to Check Armstrong Number?\n",
    "#### Answer :"
   ]
  },
  {
   "cell_type": "code",
   "execution_count": 24,
   "metadata": {},
   "outputs": [
    {
     "name": "stdout",
     "output_type": "stream",
     "text": [
      "Enter a Number: 153\n",
      "153 is an Armstrong Number\n"
     ]
    }
   ],
   "source": [
    "Armstrong number is a number that is equal to the sum of power of its digits\n",
    "def ArmstrongNumber():\n",
    "    number = input('Enter a Number: ')\n",
    "    sum = 0\n",
    "    for char in range(len(number)):\n",
    "        sum = sum + pow(int(number[char]),3)\n",
    "    if sum == int(number):\n",
    "        print('{} is an Armstrong Number'.format(number))\n",
    "    else:\n",
    "        print('{} is an Not Armstrong Number'.format(number))\n",
    "ArmstrongNumber()"
   ]
  },
  {
   "cell_type": "markdown",
   "metadata": {},
   "source": [
    "### 5.\tWrite a Python Program to Find Armstrong Number in an Interval?\n",
    "#### Answer :"
   ]
  },
  {
   "cell_type": "code",
   "execution_count": 38,
   "metadata": {},
   "outputs": [
    {
     "name": "stdout",
     "output_type": "stream",
     "text": [
      "Enter the Start of the Interval: 1\n",
      "Enter the End of the Interval: 10000\n",
      "The Armstrong Numbers between 1 and 10000 are [1, 153, 370, 371, 407]\n"
     ]
    }
   ],
   "source": [
    "\n",
    "def ArmstrongNumber(number, storage):\n",
    "    sum = 0\n",
    "    for char in range(len(number)):\n",
    "        sum = sum + pow(int(number[char]),3)\n",
    "    if sum == int(number):\n",
    "        storage.append(int(number))\n",
    "\n",
    "start = int(input('Enter the Start of the Interval: '))\n",
    "end = int(input('Enter the End of the Interval: '))\n",
    "list = []\n",
    "\n",
    "for i in range(start,end+1):\n",
    "    ArmstrongNumber(str(i),list)\n",
    "print('The Armstrong Numbers between {} and {} are {}'.format(start, end, list))\n"
   ]
  },
  {
   "cell_type": "markdown",
   "metadata": {},
   "source": [
    "### 6.\tWrite a Python Program to Find the Sum of Natural Numbers?\n",
    "#### Answer :"
   ]
  },
  {
   "cell_type": "code",
   "execution_count": 39,
   "metadata": {},
   "outputs": [
    {
     "name": "stdout",
     "output_type": "stream",
     "text": [
      "Enter a Number : 6\n",
      "Sum of Natural Numbers upto 6 is 21\n"
     ]
    }
   ],
   "source": [
    "number = int(input(\"Enter a Number : \"))\n",
    "sum = 0\n",
    "for i in range(0,number+1):\n",
    "    sum+=i\n",
    "print(\"Sum of Natural Numbers upto {} is {}\".format(number,sum))"
   ]
  }
 ],
 "metadata": {
  "kernelspec": {
   "display_name": "Python 3",
   "language": "python",
   "name": "python3"
  },
  "language_info": {
   "codemirror_mode": {
    "name": "ipython",
    "version": 3
   },
   "file_extension": ".py",
   "mimetype": "text/x-python",
   "name": "python",
   "nbconvert_exporter": "python",
   "pygments_lexer": "ipython3",
   "version": "3.8.5"
  }
 },
 "nbformat": 4,
 "nbformat_minor": 4
}
