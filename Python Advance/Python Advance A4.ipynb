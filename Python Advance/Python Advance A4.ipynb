{
 "cells": [
  {
   "cell_type": "markdown",
   "metadata": {},
   "source": [
    "## Python Advance A4\n",
    "### Q1. Which two operator overloading methods can you use in your classes to support iteration?\n",
    "#### Answer :\n",
    "**\\_\\_iter\\_\\_ and \\_\\_next\\_\\_** are the operator overloading methods in python that support iteration and are collectively called iterator protocol. <br>\n",
    "**\\_\\_iter\\_\\_** returns the iterator object and is called at the start of loop in our respective class. <br>\n",
    "**\\_\\_next\\_\\_** is called at each loop increment, it returns the incremented value. Also Stopiteration is raised when there is no value to return. <br>"
   ]
  },
  {
   "cell_type": "code",
   "execution_count": 1,
   "metadata": {},
   "outputs": [
    {
     "name": "stdout",
     "output_type": "stream",
     "text": [
      "5 6 7 8 9 10 "
     ]
    }
   ],
   "source": [
    "class Counter:\n",
    "    def __init__(self,low,high):\n",
    "        self.current = low\n",
    "        self.high = high\n",
    "    def __iter__(self):\n",
    "        return self\n",
    "    def __next__(self):\n",
    "        if self.current > self.high:\n",
    "            raise StopIteration\n",
    "        else:\n",
    "            self.current += 1\n",
    "            return self.current - 1\n",
    "for i in Counter(5,10):\n",
    "    print(i, end=\" \")"
   ]
  },
  {
   "cell_type": "markdown",
   "metadata": {},
   "source": [
    "### Q2. In what contexts do the two operator overloading methods manage printing?\n",
    "#### Answer :\n",
    "\\_\\_str\\_\\_ and \\_\\_repr\\_\\_ are two operator overloading methods that manage printing. <br>\n",
    "In Short, the difference between both these operators is the goal of \\_\\_repr\\_\\_ is to be unambiguous and \\_\\_str\\_\\_ is to be readable. <br>\n",
    "Whenever we are printing any object reference internally \\_\\_str\\_\\_ method will be called by default. <br>\n",
    "The main purpose of \\_\\_str\\_\\_ is for readability. it prints the informal string representation of an object, one that is useful for printing the object. it may not be possible to convert result string to original object. <br>\n",
    "\\_\\_repr\\_\\_ is used to print official string representation of an object, so it includes all information and development."
   ]
  },
  {
   "cell_type": "code",
   "execution_count": 2,
   "metadata": {},
   "outputs": [
    {
     "name": "stdout",
     "output_type": "stream",
     "text": [
      "<__main__.Student object at 0x0605DC58>\n",
      "Student Name: Vinay and Roll No: 69\n",
      "2022-01-29 16:34:44.814914\n",
      "Unable to convert back to original object\n",
      "datetime.datetime(2022, 1, 29, 16, 34, 44, 814914)\n",
      "2022-01-29 16:34:44.814914\n"
     ]
    }
   ],
   "source": [
    "class Student:\n",
    "    def __init__(self,name,roll_no):\n",
    "        self.name = name\n",
    "        self.roll_no = roll_no\n",
    "        \n",
    "string1 = Student(\"Vinay\",69)\n",
    "print(str(string1))\n",
    "\n",
    "class Student:\n",
    "    def __init__(self,name,roll_no):\n",
    "        self.name = name\n",
    "        self.roll_no = roll_no\n",
    "    def __str__(self):\n",
    "        return f'Student Name: {self.name} and Roll No: {self.roll_no}'\n",
    "    \n",
    "string1 = Student(\"Vinay\",69)\n",
    "print(str(string1))\n",
    "\n",
    "import datetime\n",
    "today = datetime.datetime.now()\n",
    "\n",
    "x = str(today) # converting datetime object to presentable str\n",
    "print(x)\n",
    "try: d = eval(x) # converting str back to datetime object\n",
    "except: print(\"Unable to convert back to original object\")\n",
    "    \n",
    "y = repr(today) # converting datetime object to str\n",
    "print(y)\n",
    "z = eval(y) # converting str back to datetime object\n",
    "print(z)"
   ]
  },
  {
   "cell_type": "markdown",
   "metadata": {},
   "source": [
    "### Q3. In a class, how do you intercept slice operations?\n",
    "#### Answer :\n",
    "In a class use of slice() in \\_\\_getitem\\_\\_ method is used for intercept slice operation. This slice method is provided with start integer number, stop integer number and step integer number. <br>\n",
    "eg. \\_\\_getitem\\_\\_(slice(start,stop,step))"
   ]
  },
  {
   "cell_type": "markdown",
   "metadata": {},
   "source": [
    "### Q4. In a class, how do you capture in-place addition?\n",
    "#### Answer :\n",
    "**a+b** is normal addition. Whereas **a+=b** is inplace addition operation. In this in-place addition **a** itself will store the value of addition. In a class **\\_\\_iadd\\_\\_** method is used for this in-place operation"
   ]
  },
  {
   "cell_type": "code",
   "execution_count": 3,
   "metadata": {},
   "outputs": [
    {
     "name": "stdout",
     "output_type": "stream",
     "text": [
      "300\n"
     ]
    }
   ],
   "source": [
    "class Book:\n",
    "    def __init__(self,pages):\n",
    "        self.pages = pages\n",
    "    def __iadd__(self,other):\n",
    "        self.pages += other.pages\n",
    "        return self.pages\n",
    "        \n",
    "x1 = Book(100)\n",
    "x2 = Book(200)\n",
    "x1+=x2\n",
    "print(x1)"
   ]
  },
  {
   "cell_type": "markdown",
   "metadata": {},
   "source": [
    "### Q5. When is it appropriate to use operator overloading?\n",
    "#### Answer :\n",
    "When we have two objects which are a physical representation of a class (user-defined data type) and we have to add two objects with binary ‘+’ operator it throws an error because compiler don’t know how to add two objects. So we define a method for an operator and that process is called operator overloading."
   ]
  }
 ],
 "metadata": {
  "kernelspec": {
   "display_name": "Python 3",
   "language": "python",
   "name": "python3"
  },
  "language_info": {
   "codemirror_mode": {
    "name": "ipython",
    "version": 3
   },
   "file_extension": ".py",
   "mimetype": "text/x-python",
   "name": "python",
   "nbconvert_exporter": "python",
   "pygments_lexer": "ipython3",
   "version": "3.8.5"
  }
 },
 "nbformat": 4,
 "nbformat_minor": 4
}
