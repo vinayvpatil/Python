{
 "cells": [
  {
   "cell_type": "markdown",
   "metadata": {},
   "source": [
    "## Python Advance A9\n",
    "### Q1. In Python 3.X, what are the names and functions of string object types?\n",
    "#### Answer :\n",
    "- str - for Unicode text and ASCII\n",
    "- bytes - binary data with absolute binary value.\n",
    "- bytearray - mutable version of bytes. <br>\n",
    "str type is used to view the content of a text file. And byte and bytearray are used to view binary files."
   ]
  },
  {
   "cell_type": "markdown",
   "metadata": {},
   "source": [
    "### Q2. How do the string forms in Python 3.X vary in terms of operations?\n",
    "#### Answer :\n",
    "In 3.X, Unicode text is handled by str, byte-based data is handled by bytes"
   ]
  },
  {
   "cell_type": "markdown",
   "metadata": {},
   "source": [
    "### Q3. In 3.X, how do you put non-ASCII Unicode characters in a string?\n",
    "#### Answer :\n",
    "Non-ASCII Unicode characters can be put in a string using hex (\\xNN) and Unicode(\\uNNNN, \\UNNNNNNNN) escapes."
   ]
  },
  {
   "cell_type": "markdown",
   "metadata": {},
   "source": [
    "### Q4. In Python 3.X, what are the key differences between text-mode and binary-mode files?\n",
    "#### Answer :\n",
    "Text-mode is Unicode text which is decoded while reading and encoded while writing. The contents of the file are displayed as str obects. Text-mode also, hadles byte order mark(BOM) and end of line (\\n) automatically unless specified otherwise. <br>\n",
    "In binary-mode files, bytes are tranferred to and from the unchanged file. The contents are represented as bytes or bytearray objects. They do not perform BOM or end of line operations."
   ]
  },
  {
   "cell_type": "markdown",
   "metadata": {},
   "source": [
    "### Q5. How can you interpret a Unicode text file containing text encoded in a different encoding than your platform's default?\n",
    "#### Answer :\n",
    " To interpret a Unicode text file containing text encoded in a different encoding than your platform's default, we can pass the file's encoding to the **'open'** buit-in method and the data will be decoded accordingly. Alternatively, we can read it in binary mode and manually decode the bytes using the encoding. But, this can have error due to multibyte characters."
   ]
  },
  {
   "cell_type": "markdown",
   "metadata": {},
   "source": [
    "### Q6. What is the best way to make a Unicode text file in a particular encoding format?\n",
    "#### Answer :\n",
    "The best way to make a Unicode text file in a particular encoding format is to pass the desired encoding to the 'open' operation and the string will be encoded and written to the file accordingly. Alternatively, we can manually encode string to byte and write in binary mode.\n"
   ]
  },
  {
   "cell_type": "markdown",
   "metadata": {},
   "source": [
    "### Q7. What qualifies ASCII text as a form of Unicode text?\n",
    "#### Answer :\n",
    "ASCII has a 7-bit range of values which is a subset of most unicode encodings."
   ]
  },
  {
   "cell_type": "markdown",
   "metadata": {},
   "source": [
    "### Q8. How much of an effect does the change in string types in Python 3.X have on your code?\n",
    "#### Answer :\n",
    "In Python 3.X and later, there is only one string type that is unicode. So no effect on the code."
   ]
  }
 ],
 "metadata": {
  "kernelspec": {
   "display_name": "Python 3",
   "language": "python",
   "name": "python3"
  },
  "language_info": {
   "codemirror_mode": {
    "name": "ipython",
    "version": 3
   },
   "file_extension": ".py",
   "mimetype": "text/x-python",
   "name": "python",
   "nbconvert_exporter": "python",
   "pygments_lexer": "ipython3",
   "version": "3.8.5"
  }
 },
 "nbformat": 4,
 "nbformat_minor": 4
}
