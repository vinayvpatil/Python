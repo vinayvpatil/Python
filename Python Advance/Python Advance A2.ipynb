{
 "cells": [
  {
   "cell_type": "markdown",
   "metadata": {},
   "source": [
    "## Python Advance A2\n",
    "### Q1. What is the relationship between classes and modules?\n",
    "#### Answer :\n",
    "A Python **class** is like an outline/blueprint/mold for creating a new object. An object is anything that you wish to manipulate or change while working through the code. Every time a class object is instantiated, which is when we declare a variable, a new object is initiated from scratch. <br>\n",
    "**Modules** are simply files with the . py extension containing Python code that can be imported inside another Python Program. In simple terms, we can consider a module to be the same as a code library or a file that contains a set of functions/Classes that you want to include in your application."
   ]
  },
  {
   "cell_type": "markdown",
   "metadata": {},
   "source": [
    "### Q2. How do you make instances and classes?\n",
    "#### Answer :\n",
    "To create a class, we use the keyword class followed by class name."
   ]
  },
  {
   "cell_type": "code",
   "execution_count": 1,
   "metadata": {},
   "outputs": [],
   "source": [
    "class Test:\n",
    "    def __init__(self,x,y):\n",
    "        self.x = x\n",
    "        self.y = y"
   ]
  },
  {
   "cell_type": "markdown",
   "metadata": {},
   "source": [
    "To create instances of a class, we call the class using class name and pass in whatever arguments its __init__ method accepts."
   ]
  },
  {
   "cell_type": "code",
   "execution_count": 2,
   "metadata": {},
   "outputs": [
    {
     "name": "stdout",
     "output_type": "stream",
     "text": [
      "20\n",
      "30\n"
     ]
    }
   ],
   "source": [
    "t = Test(20,30)\n",
    "print(t.x)\n",
    "print(t.y)"
   ]
  },
  {
   "cell_type": "markdown",
   "metadata": {},
   "source": [
    "### Q3. Where and how should be class attributes created?\n",
    "#### Answer :\n",
    "Class attributes are attributes which are owned by the class itself. They will be shared by all the instances of the class. Therefore they have the same value for every instance. We define class attributes outside all the methods"
   ]
  },
  {
   "cell_type": "code",
   "execution_count": 9,
   "metadata": {},
   "outputs": [
    {
     "name": "stdout",
     "output_type": "stream",
     "text": [
      "Sudhanshu\n"
     ]
    }
   ],
   "source": [
    "class Student:\n",
    "    teacher = 'Sudhanshu' # class attribute\n",
    "    \n",
    "    def __init__(self,name, roll_no): # to bind attributes to class when object is created\n",
    "        self.name = name # instance attributes\n",
    "        self.roll_no = roll_no \n",
    "        \n",
    "student1 = Student(\"Vinay\",25)  \n",
    "print(student1.teacher) "
   ]
  },
  {
   "cell_type": "markdown",
   "metadata": {},
   "source": [
    "### Q4. Where and how are instance attributes created?\n",
    "#### Answer :\n",
    "Instances attributes are passed to the class when an object of the class is created. Unlike class attributes, instance attributes are not shared by all objects of the classs. instead each object maintains its own copy of instance attributes at object level. whereas incase of class attributes all instances of class refer to a single copy. Usually instance attributes are defined within the __init__ method of class."
   ]
  },
  {
   "cell_type": "code",
   "execution_count": 11,
   "metadata": {},
   "outputs": [
    {
     "name": "stdout",
     "output_type": "stream",
     "text": [
      "Vinay\n",
      "69\n"
     ]
    }
   ],
   "source": [
    "class Student:\n",
    "    def __init__(self,name, roll_no): # to bind attributes to class when object is created\n",
    "        self.name = name # All this are instance attributes\n",
    "        self.roll_no = roll_no\n",
    "    \n",
    "    def __str__(self):\n",
    "        return f\"This is {self.name} (an instance of a class Student)\"\n",
    "    \n",
    "student1 = Student(\"Vinay\",69)  \n",
    "print(student1.name) # attributes are accessed by objects\n",
    "print(student1.roll_no)"
   ]
  },
  {
   "cell_type": "markdown",
   "metadata": {},
   "source": [
    "### Q5. What does the term \"self\" in a Python class mean?\n",
    "#### Answer :\n",
    "Self represents the instance of the class (it represents the object itself). By using the “self” keyword we can access the attributes and methods of the class in python. It binds the attributes with the given arguments.The reason you need to use self. is because Python does not use the @ syntax to refer to instance attributes. Python decided to do methods in a way that makes the instance to which the method belongs be passed automatically, but not received automatically: the first parameter of methods is the instance the method is called on. <br>\n",
    "\"self\" is not a Python keyword. It's just a naming convention. We are free to give any name other than self."
   ]
  },
  {
   "cell_type": "markdown",
   "metadata": {},
   "source": [
    "### Q6. How does a Python class handle operator overloading?.\n",
    "#### Answer :\n",
    "Operator Overloading means giving extended meaning beyond their predefined operational meaning. For example operator + is used to add two integers as well as join two strings and merge two lists. It is achievable because ‘+’ operator is overloaded by int class and str class. <br>\n",
    "Python Classes handle operator overloading by using special methods called Magic methods. these special methods usually begin and end with \\__ (double underscore) <br>\n",
    "Example: Magic methods for basic arithmetic operators are: <br>\n",
    "- \\+ -> \\_\\_add\\_\\_() <br>\n",
    "- \\- -> \\_\\_sub\\_\\_() <br>\n",
    "- \\* -> \\_\\_mul\\_\\_() <br>\n",
    "- / -> \\_\\_div\\_\\_()"
   ]
  },
  {
   "cell_type": "code",
   "execution_count": 12,
   "metadata": {},
   "outputs": [
    {
     "name": "stdout",
     "output_type": "stream",
     "text": [
      "The total number of pages in 2 books is 500\n"
     ]
    }
   ],
   "source": [
    "class Book:\n",
    "    def __init__(self,pages):\n",
    "        self.pages = pages\n",
    "    def __add__(self,other):\n",
    "        return self.pages + other.pages\n",
    "x = Book(200)\n",
    "y = Book(300)\n",
    "print(f'The total number of pages in 2 books is {x+y}')"
   ]
  },
  {
   "cell_type": "markdown",
   "metadata": {},
   "source": [
    "### Q7. When do you consider allowing operator overloading of your classes?\n",
    "#### Answer :\n",
    "When we want to have different meaning for the same operator accroding to the context we use operator overloading."
   ]
  },
  {
   "cell_type": "markdown",
   "metadata": {},
   "source": [
    "### Q8. What is the most popular form of operator overloading?\n",
    "#### Answer :\n",
    "The most popular form of operator overloading in python is called Magic methods. Which usually beign and end with double underscore \\_\\_\\<method name\\>\\_\\_."
   ]
  },
  {
   "cell_type": "markdown",
   "metadata": {},
   "source": [
    "### Q9. What are the two most important concepts to grasp in order to comprehend Python OOP code?\n",
    "#### Answer :\n",
    "Classes and objects are the two concepts to comprehend python OOP code as more formally objects are entities that represent instances of general abstract concept called class. <br>\n",
    "Along with classes and objects the important concepts to grasp are: <br>\n",
    "Inheritence <br>\n",
    "Abstraction <br>\n",
    "Polymorphism <br>\n",
    "Encapsulation "
   ]
  }
 ],
 "metadata": {
  "kernelspec": {
   "display_name": "Python 3",
   "language": "python",
   "name": "python3"
  },
  "language_info": {
   "codemirror_mode": {
    "name": "ipython",
    "version": 3
   },
   "file_extension": ".py",
   "mimetype": "text/x-python",
   "name": "python",
   "nbconvert_exporter": "python",
   "pygments_lexer": "ipython3",
   "version": "3.8.5"
  }
 },
 "nbformat": 4,
 "nbformat_minor": 4
}
