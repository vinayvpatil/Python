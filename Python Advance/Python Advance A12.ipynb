{
 "cells": [
  {
   "cell_type": "markdown",
   "metadata": {},
   "source": [
    "## Python Advance A12\n",
    "### Q1. Does assigning a value to a string's indexed character violate Python's string immutability?\n",
    "#### Answer :\n",
    "Yes. String’s indexed character cannot to be assigned a New value as Strings are immutable."
   ]
  },
  {
   "cell_type": "markdown",
   "metadata": {},
   "source": [
    "### Q2. Does using the += operator to concatenate strings violate Python's string immutability? Why or why not?\n",
    "#### Answer :\n",
    "+= operator, doesnt violate the python's string immutability, because we are concatenating another string to the end of the first, not trying to replace any of the characters in the strings in between."
   ]
  },
  {
   "cell_type": "markdown",
   "metadata": {},
   "source": [
    "### Q3. In Python, how many different ways are there to index a character?\n",
    "#### Answer :\n",
    " A Character in string can be indexed using string name followed by index number of character in square bracket. **Positive Indexing** i.e. first index is 0 an so on, or **Negative Indexing** i.e. last letter is -1 and so on can be used to index a character"
   ]
  },
  {
   "cell_type": "code",
   "execution_count": 4,
   "metadata": {},
   "outputs": [
    {
     "name": "stdout",
     "output_type": "stream",
     "text": [
      "y a n\n",
      "y a n\n"
     ]
    }
   ],
   "source": [
    "string1 = \"My name is Vinay\"\n",
    "print(string1[15],string1[14],string1[13]) # Positive Indexing\n",
    "print(string1[-1],string1[-2],string1[-3]) # Negative Indexing"
   ]
  },
  {
   "cell_type": "markdown",
   "metadata": {},
   "source": [
    "### Q4. What is the relationship between indexing and slicing?\n",
    "#### Answer :\n",
    "We can access elements of sequence datatypes by using slicing and indexing. Indexing is used to obtain individual element while slicing for sequence of elements."
   ]
  },
  {
   "cell_type": "code",
   "execution_count": 8,
   "metadata": {},
   "outputs": [
    {
     "name": "stdout",
     "output_type": "stream",
     "text": [
      "y n a\n",
      "name is Vinay\n"
     ]
    }
   ],
   "source": [
    "string1 = \"My name is Vinay\"\n",
    "print(string1[1],string1[3],string1[4]) # Indexing\n",
    "print(string1[3:16]) # Slicing"
   ]
  },
  {
   "cell_type": "markdown",
   "metadata": {},
   "source": [
    "### Q5. What is an indexed character's exact data type? What is the data form of a slicing-generated substring?\n",
    "#### Answer :\n",
    " Indexed characters and sliced substrings have datatype **String**."
   ]
  },
  {
   "cell_type": "code",
   "execution_count": 9,
   "metadata": {},
   "outputs": [
    {
     "name": "stdout",
     "output_type": "stream",
     "text": [
      "<class 'str'>\n",
      "<class 'str'>\n"
     ]
    }
   ],
   "source": [
    "string1 = \"My name is Vinay\"\n",
    "print(type(string1[5])) # Indexing -> str\n",
    "print(type(string1[1:12])) # Indexing -> str"
   ]
  },
  {
   "cell_type": "markdown",
   "metadata": {},
   "source": [
    "### Q6. What is the relationship between string and character \"types\" in Python?\n",
    "#### Answer :\n",
    "In python there is no character data type, a character is a string of length one.\n",
    "Strings are sequences of character data."
   ]
  },
  {
   "cell_type": "markdown",
   "metadata": {},
   "source": [
    "### Q7. Identify at least two operators and one method that allow you to combine one or more smaller strings to create a larger string.\n",
    "#### Answer :\n",
    "operators : +, +=, * <br>\n",
    "Method : join()"
   ]
  },
  {
   "cell_type": "code",
   "execution_count": 12,
   "metadata": {},
   "outputs": [
    {
     "name": "stdout",
     "output_type": "stream",
     "text": [
      "Hello World\n",
      "Hello World\n",
      "Hello Hello \n",
      "HelloWorld\n",
      "VINAY\n",
      "v i n a y\n"
     ]
    }
   ],
   "source": [
    "string1='Hello'\n",
    "string2='World'\n",
    "print(string1 + \" \" +  string2)\n",
    "print(' '.join([string1,string2]))\n",
    "print((string1 + \" \") * 2)\n",
    "string1+= string2\n",
    "print(string1)\n",
    "print(\"\".join(['V','I','N','A','Y'])) # List Iterable\n",
    "print(\" \".join(('V','I','N','A','Y')).lower()) # Tuple Iterable"
   ]
  },
  {
   "cell_type": "markdown",
   "metadata": {},
   "source": [
    "### Q8. What is the benefit of first checking the target string with in or not in before using the index method to find a substring?\n",
    "#### Answer :\n",
    "Normally, when we use index() method it will return the starting index of a substring. But the major concern is if a substring is not present in a string, index() will return a ValueError. To avoid this, we can first check the target string with \"in\" or \"not in\" before using the index method to find a substring."
   ]
  },
  {
   "cell_type": "code",
   "execution_count": 17,
   "metadata": {},
   "outputs": [
    {
     "name": "stdout",
     "output_type": "stream",
     "text": [
      "False\n",
      "True\n",
      "Position of substring is :  6\n",
      "Substring is not present in target string\n"
     ]
    }
   ],
   "source": [
    "s = 'abcdefghijk'\n",
    "s1 = 'ghi'\n",
    "s2 = 'xyz'\n",
    "print (s2 in s)\n",
    "print (s2 not in s)\n",
    "if s1 in s:\n",
    "    print(\"Position of substring is : \",s.index(s1))\n",
    "else:\n",
    "    print (\"Substring is not present in target string\")    \n",
    "if s2 not in s:\n",
    "    print(\"Substring is not present in target string\")   \n",
    "else:\n",
    "    print (\"Position of substring is : \",s.index(s2))"
   ]
  },
  {
   "cell_type": "markdown",
   "metadata": {},
   "source": [
    "### Q9. Which operators and built-in string methods produce simple Boolean (true/false) results?\n",
    "#### Answer :\n",
    "Operators: <br>\n",
    "    1. Comparison operators : (== ,!= ,< ,> ,<=, >=)  <br>\n",
    "    2. Logical Operators : (and, or, not) <br>\n",
    "    3. Identity Operators : (is , is not) <br>\n",
    "    4. Membership Operators : (in, not in) <br>\n",
    "String methods: <br>\n",
    "    1. endswith() : Returns true if the string ends with the specified value <br>\n",
    "    2. isalnum()    Returns True if all characters in the string are alphanumeric    \n",
    "    3. isalpha()    Returns True if all characters in the string are in the alphabet      \n",
    "    4. isdecimal()  Returns True if all characters in the string are decimals    \n",
    "    5. isdigit()    Returns True if all characters in the string are digits   \n",
    "    6. isidentifier()   Returns True if the string is an identifier            \n",
    "    7. islower()    Returns True if all characters in the string are lower case          \n",
    "    8. isnumeric()  Returns True if all characters in the string are numeric           \n",
    "    9. isprintable()    Returns True if all characters in the string are printable     \n",
    "    10. isspace()   Returns True if all characters in the string are whitespaces   \n",
    "    11. istitle()   Returns True if the string follows the rules of a title    \n",
    "    12. isupper()   Returns True if all characters in the string are upper case"
   ]
  }
 ],
 "metadata": {
  "kernelspec": {
   "display_name": "Python 3",
   "language": "python",
   "name": "python3"
  },
  "language_info": {
   "codemirror_mode": {
    "name": "ipython",
    "version": 3
   },
   "file_extension": ".py",
   "mimetype": "text/x-python",
   "name": "python",
   "nbconvert_exporter": "python",
   "pygments_lexer": "ipython3",
   "version": "3.8.5"
  }
 },
 "nbformat": 4,
 "nbformat_minor": 4
}
