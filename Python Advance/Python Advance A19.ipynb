{
 "cells": [
  {
   "cell_type": "markdown",
   "metadata": {},
   "source": [
    "## Python Advance A19\n",
    "### Q1. Define the relationship between a class and its instances. Is it a one-to-one or a one-to-many partnership, for example?\n",
    "#### Answer : \n",
    "Class is abstraction of an real world entity. It consists of attributes and methods.\n",
    "Instance is an object of a class. There is a one-to-many partnership between class and instances."
   ]
  },
  {
   "cell_type": "markdown",
   "metadata": {},
   "source": [
    "### Q2. What kind of data is held only in an instance?\n",
    "#### Answer :\n",
    "Instance objects contains the Instance variables which are specific to that specific Instance object."
   ]
  },
  {
   "cell_type": "markdown",
   "metadata": {},
   "source": [
    "### Q3. What kind of knowledge is stored in a class?\n",
    "#### Answer :\n",
    "Class creates a user-defined data structure, which holds its own data members and member functions, which can be accessed and used by creating an instance of that class. A class is like a blueprint for an object."
   ]
  },
  {
   "cell_type": "markdown",
   "metadata": {},
   "source": [
    "### Q4. What exactly is a method, and how is it different from a regular function?\n",
    "#### Answer :\n",
    "The methods with a class can be used to access the insatnce variables of its instance. So,the object's state can be modified by its method. Function can't access the attributes of an instance of a class or can't modify the state of the object."
   ]
  },
  {
   "cell_type": "markdown",
   "metadata": {},
   "source": [
    "### Q5. Is inheritance supported in Python, and if so, what is the syntax?\n",
    "#### Answer :\n",
    " Yes,Python supports inheritance. The Types of Inheritence Supported by Python are:\n",
    "Simple Inheritence, Multiple Inheritence, Multilevel lInheritence, Hybrid Inheritence,Hierracial Inheritence."
   ]
  },
  {
   "cell_type": "code",
   "execution_count": 1,
   "metadata": {},
   "outputs": [
    {
     "name": "stdout",
     "output_type": "stream",
     "text": [
      "Class of Instance: <class '__main__.B'>\n",
      "Base class: (<class '__main__.A'>,)\n"
     ]
    }
   ],
   "source": [
    "class A:\n",
    "        var=1\n",
    "        def __init__(self):\n",
    "            pass\n",
    "class B(A): # class B is detived from class A\n",
    "    def __init__(self):\n",
    "        super().__init__()\n",
    "c=B()\n",
    "print(\"Class of Instance:\",c.__class__)\n",
    "print(\"Base class:\",c.__class__.__bases__)"
   ]
  },
  {
   "cell_type": "markdown",
   "metadata": {},
   "source": [
    "### Q6. How much encapsulation (making instance or class variables private) does Python support?\n",
    "#### Answer :\n",
    "Encapsulation describes the idea of wrapping data and the methods that work on data within one unit. This puts restrictions on accessing variables and methods directly and can prevent the accidental modification of data. To prevent accidental change, an objects variable can only be changed by an objects method."
   ]
  },
  {
   "cell_type": "markdown",
   "metadata": {},
   "source": [
    "### Q7. How do you distinguish between a class variable and an instance variable?\n",
    "#### Answer :\n",
    "The **Class Attribute** is available to all the instance objects of that class. whereas **Instance Attributes** are accessible only to the object or Instance of that class. <br>\n",
    "A single copy of Class attributes is maintained by pvm at the class level. Whereas difference copies of instance attributes are maintained by pvm at objects/instance level."
   ]
  },
  {
   "cell_type": "markdown",
   "metadata": {},
   "source": [
    "### Q8. When, if ever, can self be included in a class's method definitions?\n",
    "#### Answer :\n",
    "Yes, self can included in class method definations to access the instance variables inside class methods."
   ]
  },
  {
   "cell_type": "markdown",
   "metadata": {},
   "source": [
    "### Q9. What is the difference between the \\_\\_add\\_\\_ and the \\_\\_radd\\_\\_ methods?\n",
    "#### Answer :\n",
    "Entering \\_\\_radd\\_\\_ Python will first try \\_\\_add\\_\\_(), and if that returns Not Implemented then Python will check if the right-hand operand implements \\_\\_radd\\_\\_, and if it does, it will call \\_\\_radd\\_\\_() rather than raising a TypeError"
   ]
  },
  {
   "cell_type": "markdown",
   "metadata": {},
   "source": [
    "### Q10. When is it necessary to use a reflection method? When do you not need it, even though you support the operation in question?\n",
    "#### Answer :"
   ]
  },
  {
   "cell_type": "code",
   "execution_count": 1,
   "metadata": {},
   "outputs": [],
   "source": [
    "# Ans : Suppose we are implementing a class that you want to act like a number via operator overloading.So we implement\n",
    "#       __add__ in your class, and now expressions like obj + 10 is acceptable.This is because obj + 10 is interpreted\n",
    "#       as obj.__add__(10), and the custom method __add__ can do whatever it means to add 10 to custom class.\n",
    "#       However, what about an expression like 10 + obj which is really (10).__add__(myobj)? \n",
    "#       The 10 is an instance of a Python built-in type and its __add__ method doesn't know anything \n",
    "#       about the new type,obj, so it will return a error NotImplemented. \n",
    "#       To handle such scenarios, __radd__ is used. Python will first try (10).__add__(myobj), \n",
    "#       and if that returns NotImplemented, Python will check if the right-hand operand implements \n",
    "#       __radd__, and if it does, it will call obj.__radd__(10) rather than raising a TypeError."
   ]
  },
  {
   "cell_type": "markdown",
   "metadata": {},
   "source": [
    "### Q11. What is the \\_\\_iadd\\_\\_ method called?\n",
    "#### Answer :"
   ]
  },
  {
   "cell_type": "code",
   "execution_count": 4,
   "metadata": {},
   "outputs": [
    {
     "name": "stdout",
     "output_type": "stream",
     "text": [
      "5\n"
     ]
    }
   ],
   "source": [
    "# __iadd__ method is called when we use implementation like a+=b which is a.__iadd__(b)\n",
    "class A:\n",
    "    def __init__(self,x):\n",
    "        self.x=x\n",
    "    def __iadd__(self,other):\n",
    "        self.x += other.x\n",
    "        return self.x\n",
    "obj1=A(2)\n",
    "obj2=A(3)\n",
    "obj1+=obj2\n",
    "print(obj1)"
   ]
  },
  {
   "cell_type": "markdown",
   "metadata": {},
   "source": [
    "### Q12. Is the \\_\\_init\\_\\_ method inherited by subclasses? What do you do if you need to customize its behavior within a subclass?\n",
    "#### Answer :"
   ]
  },
  {
   "cell_type": "code",
   "execution_count": 5,
   "metadata": {},
   "outputs": [
    {
     "data": {
      "text/plain": [
       "7"
      ]
     },
     "execution_count": 5,
     "metadata": {},
     "output_type": "execute_result"
    }
   ],
   "source": [
    "# __init__ method is inherited by its subclass. But it can be overloaded, to customize it\n",
    "class A:\n",
    "    def __init__(self,x):\n",
    "        self.x=x\n",
    "class B(A):\n",
    "    pass\n",
    "obj=B(2)\n",
    "obj.x \n",
    "#        here the value x is accessible to instance of class B which is subclass of class A.This means\n",
    "#        __init__ of class A is inherited in sub class B\n",
    "class C(A):\n",
    "    def __init__(self,x,y): # Here we are overloading the __init__ inherited from class A \n",
    "        self.x=x\n",
    "        self.y=y\n",
    "    def func(self):\n",
    "        return(self.x + self.y)\n",
    "obj1=C(3,4)\n",
    "obj1.func()"
   ]
  }
 ],
 "metadata": {
  "kernelspec": {
   "display_name": "Python 3",
   "language": "python",
   "name": "python3"
  },
  "language_info": {
   "codemirror_mode": {
    "name": "ipython",
    "version": 3
   },
   "file_extension": ".py",
   "mimetype": "text/x-python",
   "name": "python",
   "nbconvert_exporter": "python",
   "pygments_lexer": "ipython3",
   "version": "3.8.5"
  }
 },
 "nbformat": 4,
 "nbformat_minor": 4
}
