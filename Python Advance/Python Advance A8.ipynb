{
 "cells": [
  {
   "cell_type": "markdown",
   "metadata": {},
   "source": [
    "## Python Advance A8\n",
    "### Q1. What are the two latest user-defined exception constraints in Python 3.X?\n",
    "#### Answer :\n",
    "**raise statement** - This is used to raise an inbuilt exception explicitly. <br>\n",
    "**assert statement** - when condition in assert statement is true, program is executed normally. When condition is false, program gives an AssertionError."
   ]
  },
  {
   "cell_type": "markdown",
   "metadata": {},
   "source": [
    "### Q2. How are class-based exceptions that have been raised matched to handlers?\n",
    "#### Answer :\n",
    "Class-based exceptions are matched by superclass exceptions. A superclass in an exception handler will catch instances of the class and it's subclasses. So, superclass is like a general exception categories having more specific categories in it's subclass."
   ]
  },
  {
   "cell_type": "markdown",
   "metadata": {},
   "source": [
    "### Q3. Describe two methods for attaching context information to exception artefacts.\n",
    "#### Answer :\n",
    "The **process()** method of LoggerAdapter is where the contextual information is added to the logging output. its passes the message and keyword arguments of the logging call, and it passes back modified versions of these to use in the call to the underlying logger.\n",
    "\n",
    "Other method that can be used is **exception()**, Logs a message with level ERROR on this logger. The arguments are interpreted as for **debug()**. Exception info is added to the logging message."
   ]
  },
  {
   "cell_type": "markdown",
   "metadata": {},
   "source": [
    "### Q4. Describe two methods for specifying the text of an exception object's error message.\n",
    "#### Answer : \n",
    "1) We can use a custom __str__ opertaor overloading to display an exception object's error message. For general purpose, the built-in exception superclass will automatically display anything passed to the class constructor. Also, print and str operations can automatically display the error message through excetion object or by printing the error statement. <br>\n",
    "2) By using the Exception superclass which will raise the error by default."
   ]
  },
  {
   "cell_type": "markdown",
   "metadata": {},
   "source": [
    "### Q5. Why do you no longer use string-based exceptions?\n",
    "#### Answer :\n",
    "String-based exceptions don't support categories, state information,or behaviour inheritance. So for bigger and complex programms it is not ideal. That's why we use class based exception now."
   ]
  }
 ],
 "metadata": {
  "kernelspec": {
   "display_name": "Python 3",
   "language": "python",
   "name": "python3"
  },
  "language_info": {
   "codemirror_mode": {
    "name": "ipython",
    "version": 3
   },
   "file_extension": ".py",
   "mimetype": "text/x-python",
   "name": "python",
   "nbconvert_exporter": "python",
   "pygments_lexer": "ipython3",
   "version": "3.8.5"
  }
 },
 "nbformat": 4,
 "nbformat_minor": 4
}
