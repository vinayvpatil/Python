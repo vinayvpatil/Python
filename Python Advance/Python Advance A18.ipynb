{
 "cells": [
  {
   "cell_type": "markdown",
   "metadata": {},
   "source": [
    "## Python Advance A18\n",
    "### Q1. Describe the differences between text and binary files in a single paragraph.\n",
    "#### Answer :\n",
    "**Text files** are special subset of binary files that are used to store human readable characters as a rich text document or plain text document. Text files also store data in sequential bytes but bits in text file represents characters. <br>\n",
    "<br> \n",
    "**Binary files** are those typical files that store data in the form of sequence of bytes grouped into eight bits or sometimes sixteen bits. These bits represent custom data and such files can store multiple types of data (images, audio, text, etc) under a single file."
   ]
  },
  {
   "cell_type": "markdown",
   "metadata": {},
   "source": [
    "### Q2. What are some scenarios where using text files will be the better option? When would you like to use binary files instead of text files?\n",
    "#### Answer :\n",
    "Text files are of small size and versatile. Kilobytes or megabytes are smaller than the same data stored in other formats, they can be rapidly and massively exchanged via email or disk. Most can be opened on computers running diverse operating systems, using very basic software. <br>\n",
    " <br>\n",
    "Binary files are more memory efficient. In terms of memory, storing values using numeric formats,rather than as text characters, tends to use less memory. In addition, binary formats also offer advantages in terms of speed of access."
   ]
  },
  {
   "cell_type": "markdown",
   "metadata": {},
   "source": [
    "### Q3. What are some of the issues with using binary operations to read and write a Python integer directly to disc?\n",
    "#### Answer :\n",
    "When we read or write a python integer using binary operations\n",
    "- Binary operations deal with raw data\n",
    "- One needs to identify how many bytes one would read or write."
   ]
  },
  {
   "cell_type": "markdown",
   "metadata": {},
   "source": [
    "### Q4. Describe a benefit of using the with keyword instead of explicitly opening a file.\n",
    "#### Answer :\n",
    "When a file is opened using the **with** keyword, if some exceptions occur after opening a file, or at the end of the file it automatically does the closing of the file. There by not leaving an file in open mode and there would no need to explicitly close a file."
   ]
  },
  {
   "cell_type": "markdown",
   "metadata": {},
   "source": [
    "### Q5. Does Python have the trailing newline while reading a line of text? Does Python append a newline when you write a line of text?\n",
    "#### Answer :\n",
    " Yes, Python have the trailing newline while reading a line of text. While writing a line of text, python doesnt append a new line at end of line. It has to be handled explicitly."
   ]
  },
  {
   "cell_type": "markdown",
   "metadata": {},
   "source": [
    "### Q6. What file operations enable for random-access operation?\n",
    "#### Answer :\n",
    "seek() and tell()"
   ]
  },
  {
   "cell_type": "markdown",
   "metadata": {},
   "source": [
    "### Q7. When do you think you'll use the struct package the most?\n",
    "#### Answer :\n",
    "The **struct** package is mostly used while converting a common python types into **C** language types."
   ]
  },
  {
   "cell_type": "markdown",
   "metadata": {},
   "source": [
    "### Q8. When is pickling the best option?\n",
    "#### Answer :\n",
    "Pickling is best option when creating a new binary file using python. Once a file is created it can be read by other python programs. The functions available in the pickle package take care how to represent the data is written in th file."
   ]
  },
  {
   "cell_type": "markdown",
   "metadata": {},
   "source": [
    "### Q9. When will it be best to use the shelve package?\n",
    "#### Answer :\n",
    "Shelve package is used to pickle data but treats the treats the entire file as dictionary.\n",
    "The location of any object is looked up according to its key and is returned easily."
   ]
  },
  {
   "cell_type": "markdown",
   "metadata": {},
   "source": [
    "### Q10. What is a special restriction when using the shelve package, as opposed to using other data dictionaries?\n",
    "#### Answer :\n",
    "The shelf dictionary has certain restrictions. Only string data type can be used as key in this special dictionary object, whereas any picklable Python object can be used as value."
   ]
  }
 ],
 "metadata": {
  "kernelspec": {
   "display_name": "Python 3",
   "language": "python",
   "name": "python3"
  },
  "language_info": {
   "codemirror_mode": {
    "name": "ipython",
    "version": 3
   },
   "file_extension": ".py",
   "mimetype": "text/x-python",
   "name": "python",
   "nbconvert_exporter": "python",
   "pygments_lexer": "ipython3",
   "version": "3.8.5"
  }
 },
 "nbformat": 4,
 "nbformat_minor": 4
}
