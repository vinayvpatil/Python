{
 "cells": [
  {
   "cell_type": "markdown",
   "metadata": {},
   "source": [
    "## Python Advance A1\n",
    "### Q1. What is the purpose of Python's OOP?\n",
    "#### Answer :\n",
    "Object-oriented programming is a programming paradigm that provides a means of structuring programs so that properties and behaviors are bundled into individual objects <br>\n",
    "- In Python, object-oriented Programming (OOPs) uses objects and classes in programming. <br>\n",
    "- It aims to implement real-world entities like inheritance, polymorphisms, encapsulation, etc. in the programming. <br>\n",
    "- The main concept of OOPs is to bind the data and the functions that work on that together as a single unit so that no other part of the code can access this data. <br>\n",
    "- It comes up with the following advantages: <br>\n",
    "- It helps to divide our over all program into different small segments and thus making it solving easy with the use of objects <br>\n",
    "- Helps in easy maintenance and modification of existing program <br>\n",
    "Multiple instances of an object can be made."
   ]
  },
  {
   "cell_type": "markdown",
   "metadata": {},
   "source": [
    "### Q2. Where does an inheritance search look for an attribute?\n",
    "#### Answer :\n",
    "Python searches for an attribute in an upward tree of attributes. it first searches for the attribute in its instance and then looks in the class it is generated from, to all super classes listed in its class header"
   ]
  },
  {
   "cell_type": "markdown",
   "metadata": {},
   "source": [
    "### Q3. How do you distinguish between a class object and an instance object?\n",
    "#### Answer :\n",
    "The differences between a class object and an instance object are: <br>\n",
    "- Class is a template for creating objects whereas object is an instance of class. <br>\n",
    "- Seperate memory is allocated for each object whenever an object is created but for a class this doesnot happens. <br>\n",
    "- A Class is created once. Many objects are created using a class. <br>\n",
    "- As Classes have no allocated memory. they can't be manipulated. but objects can be manipulated. <br>"
   ]
  },
  {
   "cell_type": "markdown",
   "metadata": {},
   "source": [
    "### Q4. What makes the first argument in a class’s method function special?\n",
    "#### Answer :\n",
    "The first argument in class's method function is self.It is a reference to the current instance of the class. In the init method, self refers to the newly created object; in other class methods, it refers to the instance whose method was called. <br>\n",
    "Self represents the instance of the class. By using the “self” keyword we can access the attributes and methods of the class in python. It binds the attributes with the given arguments.The reason you need to use self. is because Python does not use the @ syntax to refer to instance attributes. Python decided to do methods in a way that makes the instance to which the method belongs be passed automatically, but not received automatically: the first parameter of methods is the instance the method is called on."
   ]
  },
  {
   "cell_type": "markdown",
   "metadata": {},
   "source": [
    "### Q5. What is the purpose of the __init__ method?\n",
    "#### Answer :\n",
    "The task of init method is to initialize(assign values) to the data members of the class when an object of class is created. It contains collection of statements that are executed at time of Object creation. It is run as soon as an object of a class is instantiated. The method is useful to do any initialization you want to do with your object. <br>\n",
    "It serves the role of a constructor in object oriented terminology. This method is called when an object is created from a class and it allows the class to initialize the attributes of the class"
   ]
  },
  {
   "cell_type": "markdown",
   "metadata": {},
   "source": [
    "### Q6. What is the process for creating a class instance?\n",
    "#### Answer :\n",
    "To create a class instance, we need to call the class by its name and pass the arguments to the class, which its init method accepts. <br>\n",
    "my_name = my_class(\"Vinay\",\"Vijay\") <br>\n",
    "In above eg. my_name is an instance of class my_class with attributes \"Vinay\" and \"Vijay\"."
   ]
  },
  {
   "cell_type": "markdown",
   "metadata": {},
   "source": [
    "### Q7. What is the process for creating a class?\n",
    "#### Answer :\n",
    "class keyword is used to created a class in python. <br>\n",
    "The syntax to create a class in python is class \\<classname\\>:"
   ]
  },
  {
   "cell_type": "markdown",
   "metadata": {},
   "source": [
    "### Q8. How would you define the superclasses of a class?\n",
    "#### Answer :\n",
    "A superclass is the class from which many subclasses can be created. The subclasses inherit the characteristics of a superclass. The superclass is also known as the parent class or base class."
   ]
  },
  {
   "cell_type": "code",
   "execution_count": 2,
   "metadata": {},
   "outputs": [
    {
     "name": "stdout",
     "output_type": "stream",
     "text": [
      "this is method of class A\n",
      "this is method of class B\n",
      "this is method of class A\n",
      "this is method of class A\n",
      "this is method of class A\n"
     ]
    }
   ],
   "source": [
    "class A:\n",
    "    def method_A(self):\n",
    "        return \"this is method of class A\"\n",
    "    \n",
    "class B(A):\n",
    "    def method_B(self):\n",
    "        return \"this is method of class B\"\n",
    "\n",
    "class C(A):\n",
    "    def method_B(self):\n",
    "        return \"this is method of class C\"\n",
    "    \n",
    "class D(A):\n",
    "    def method_B(self):\n",
    "        return \"this is method of class D\"\n",
    "\n",
    "# Class B, C, D are subclasses and Class A is superclass    \n",
    "a = A()\n",
    "b = B()\n",
    "c = C()\n",
    "d = D()\n",
    "# objects of class B, C and D are able to access method of class A because Class A is superclass. \n",
    "print(a.method_A())\n",
    "print(b.method_B())\n",
    "print(b.method_A())  \n",
    "print(c.method_A())\n",
    "print(d.method_A())"
   ]
  }
 ],
 "metadata": {
  "kernelspec": {
   "display_name": "Python 3",
   "language": "python",
   "name": "python3"
  },
  "language_info": {
   "codemirror_mode": {
    "name": "ipython",
    "version": 3
   },
   "file_extension": ".py",
   "mimetype": "text/x-python",
   "name": "python",
   "nbconvert_exporter": "python",
   "pygments_lexer": "ipython3",
   "version": "3.8.5"
  }
 },
 "nbformat": 4,
 "nbformat_minor": 4
}
