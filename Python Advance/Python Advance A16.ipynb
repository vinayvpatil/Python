{
 "cells": [
  {
   "cell_type": "markdown",
   "metadata": {},
   "source": [
    "## Python Advance A16\n",
    "### Q1. What is the benefit of regular expressions?\n",
    "#### Answer :\n",
    "Regular Expressions, also known as **regex** or **regexp**, are used to match strings of text such as particular characters, words, or patterns of characters. It means that we can match and extract any string pattern from the text with the help of regular expressions. it helps the programmers to Write less and cleaner code. it also avoids multiple use of **if/else** statements."
   ]
  },
  {
   "cell_type": "markdown",
   "metadata": {},
   "source": [
    "### Q2. Describe the difference between the effects of \"(ab)c+\" and \"a(bc)+.\" Which of these, if any, is the unqualified pattern \"abc+\"?\n",
    "#### Answer :\n",
    "Both **(ab)c+** and **a(bc)+** are valid patterns. the difference between both these patterns is in **(ab)c+**, **ab** is group whereas in **a(bc)+, bc** is a group."
   ]
  },
  {
   "cell_type": "markdown",
   "metadata": {},
   "source": [
    "### Q3. How much do you need to use the following sentence while using regular expressions?\n",
    "import re\n",
    "#### Answer :\n",
    "**import re** statement always has to be imported before using regular expressions."
   ]
  },
  {
   "cell_type": "markdown",
   "metadata": {},
   "source": [
    "### Q4. Which characters have special significance in square brackets when expressing a range, and under what circumstances?\n",
    "#### Answer :"
   ]
  },
  {
   "cell_type": "code",
   "execution_count": 1,
   "metadata": {},
   "outputs": [
    {
     "name": "stdout",
     "output_type": "stream",
     "text": [
      "['1', '2', '3', '4', '5', '^']\n"
     ]
    }
   ],
   "source": [
    "## The characters ., *, ?, ^ or () have special significance when used in square brackets. They need not be escacped by '\\'\n",
    "# as in case of patterns texts in raw string.\n",
    "#e.g.\n",
    "import re\n",
    "text = \"Hello world 123456^\"\n",
    "regobj=re.compile(r'[1-5^]')\n",
    "matobj=regobj.findall(text)\n",
    "print(matobj)"
   ]
  },
  {
   "cell_type": "markdown",
   "metadata": {},
   "source": [
    "### Q5. How does compiling a regular-expression object benefit you?\n",
    "#### Answer :\n",
    "We can Combine a regular expression pattern into pattern Objects.Which can be used for pattern matching. It also helps to search a pattern again without rewritting it."
   ]
  },
  {
   "cell_type": "markdown",
   "metadata": {},
   "source": [
    "### Q6. What are some examples of how to use the match object returned by re.match and re.search?\n",
    "#### Answer :\n",
    "The **re.search()** and **re.match()** both are functions of re module in python. These functions are very efficient and fast for searching in strings. The function searches for some substring in a string and returns a match object if found, else it returns none. <br>\n",
    "<br> \n",
    "There is a difference between the use of both functions. Both return the first match of a substring found in the string, but **re.match()** searches only from the beginning of the string and return match object if found. But if a match of substring is found somewhere in the middle of the string, it returns none. <br>\n",
    "While **re.search()** searches for the whole string even if the string contains multi-lines and tries to find a match of the substring in all the lines of string"
   ]
  },
  {
   "cell_type": "code",
   "execution_count": 2,
   "metadata": {},
   "outputs": [
    {
     "name": "stdout",
     "output_type": "stream",
     "text": [
      "<re.Match object; span=(66, 72), match='string'>\n",
      "None\n",
      "<re.Match object; span=(0, 6), match='string'>\n",
      "<re.Match object; span=(0, 6), match='string'>\n"
     ]
    }
   ],
   "source": [
    "import re\n",
    "Substring ='string' \n",
    "String1 ='We are learning regex with geeksforgeeks regex is very useful for string matching. It is fast too.' \n",
    "String2 ='string We are learning regex with geeksforgeeks regex is very useful for string matching. It is fast too.'\n",
    "print(re.search(Substring, String1, re.IGNORECASE))\n",
    "print(re.match(Substring, String1, re.IGNORECASE))\n",
    "print(re.search(Substring, String2, re.IGNORECASE))\n",
    "print(re.match(Substring, String2, re.IGNORECASE))"
   ]
  },
  {
   "cell_type": "markdown",
   "metadata": {},
   "source": [
    "### Q7. What is the difference between using a vertical bar (|) as an alteration and using square brackets as a character set?\n",
    "#### Answer :"
   ]
  },
  {
   "cell_type": "code",
   "execution_count": 3,
   "metadata": {},
   "outputs": [],
   "source": [
    "# When (|) is used the pattern searches for  'or' option i.e <str1>|<str2> means it searches for\n",
    "# <str1> or <str2>. When both <str1> and <str2> occur in the searched string, the first occurrence of matching text\n",
    "# will be returned as the Match object\n",
    "# If character set in square brackets is used, it searches for all the character set in the square bracket \n",
    "# and if match found, it returns it"
   ]
  },
  {
   "cell_type": "code",
   "execution_count": 4,
   "metadata": {},
   "outputs": [
    {
     "name": "stdout",
     "output_type": "stream",
     "text": [
      "Tim\n",
      "Peake\n",
      "['M', 'n', 'm', 's', 'T', 'm', 'P']\n"
     ]
    }
   ],
   "source": [
    "import re\n",
    "#Using (|)\n",
    "text = \"My name is Tim Peake\"\n",
    "text1= \"My name is Peake Tim\"\n",
    "text2=\"My name is Tim Peake\"\n",
    "\n",
    "regobj=re.compile(r'Tim|Peake')\n",
    "matobj=regobj.search(text)\n",
    "print(matobj.group(0))\n",
    "\n",
    "regobj1=re.compile(r'Tim|Peake')\n",
    "matobj1=regobj.search(text1)\n",
    "print(matobj1.group(0))  \n",
    "      \n",
    "#Using character set in []      \n",
    "regobj2=re.compile(r'[m-tM-T]')\n",
    "matobj2=regobj2.findall(text2)\n",
    "print(matobj2)"
   ]
  },
  {
   "cell_type": "markdown",
   "metadata": {},
   "source": [
    "### Q8. In regular-expression search patterns, why is it necessary to use the raw-string indicator (r)? In   replacement strings?\n",
    "#### Answer :\n",
    " Raw Strings are used in the regular-expression search patterns, so that blackslashes donot have to be escaped. r indicates raw string means that the characters ahead are individual charachers not escape characters. It changes how the string literal is interpreted. Such literals are stored as they appear."
   ]
  }
 ],
 "metadata": {
  "kernelspec": {
   "display_name": "Python 3",
   "language": "python",
   "name": "python3"
  },
  "language_info": {
   "codemirror_mode": {
    "name": "ipython",
    "version": 3
   },
   "file_extension": ".py",
   "mimetype": "text/x-python",
   "name": "python",
   "nbconvert_exporter": "python",
   "pygments_lexer": "ipython3",
   "version": "3.8.5"
  }
 },
 "nbformat": 4,
 "nbformat_minor": 4
}
