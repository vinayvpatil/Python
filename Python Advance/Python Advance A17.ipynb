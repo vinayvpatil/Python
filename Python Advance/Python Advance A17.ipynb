{
 "cells": [
  {
   "cell_type": "markdown",
   "metadata": {},
   "source": [
    "## Python Advance A17\n",
    "### Q1. Explain the difference between greedy and non-greedy syntax with visual terms in as few words as possible. What is the bare minimum effort required to transform a greedy pattern into a non-greedy one? What characters or characters can you introduce or change?\n",
    "#### Answer :\n",
    "The greedy match will try to match as many repetitions of the quantified pattern as possible. The non-greedy match will try to match as few repetitions of the quantified pattern as possible. <br>\n",
    " <br>\n",
    "The bare minimum effort required to transform a greedy pattern into a non-greedy one can be just implemented by using a single character. The ? operand makes match non-greedy. E.g. . is greedy while .? isn't."
   ]
  },
  {
   "cell_type": "code",
   "execution_count": 2,
   "metadata": {},
   "outputs": [
    {
     "name": "stdout",
     "output_type": "stream",
     "text": [
      "['vvvvvv', '']\n",
      "['', 'v', '', 'v', '', 'v', '', 'v', '', 'v', '', 'v', '']\n"
     ]
    }
   ],
   "source": [
    "import re\n",
    "print(re.findall(\"v*\", \"vvvvvv\")) # Greedy Match Synatx\n",
    "print(re.findall(\"v*?\", \"vvvvvv\")) # Non Greddy Syntax"
   ]
  },
  {
   "cell_type": "markdown",
   "metadata": {},
   "source": [
    "### Q2. When exactly does greedy versus non-greedy make a difference?  What if you're looking for a non-greedy match but the only one available is greedy?\n",
    "#### Answer :\n",
    "The greedy match will try to match as many repetitions of the quantified pattern as possible. The non-greedy match will try to match as few repetitions of the quantified pattern as possible. <br>\n",
    "<br>\n",
    "example: To make the quantifier non-greedy you simply follow it with a '?' the first 3 characters and then the following 'ab' is matched. greedy by appending a '?' symbol to them: *?, +?, ??, {n,m}?, and {n,}?. <br>\n",
    "<br>\n",
    "If we're looking for a non-greedy match but the only one available is greedy that will result in matching the shortest possible string."
   ]
  },
  {
   "cell_type": "markdown",
   "metadata": {},
   "source": [
    "### Q3. In a simple match of a string, which looks only for one match and does not do any replacement, is the use of a nontagged group likely to make any practical difference?\n",
    "#### Answer :"
   ]
  },
  {
   "cell_type": "code",
   "execution_count": 3,
   "metadata": {},
   "outputs": [
    {
     "name": "stdout",
     "output_type": "stream",
     "text": [
      "Phone number found: 415\n",
      "Phone number found: 415\n"
     ]
    }
   ],
   "source": [
    "#The non tagged group will not make any diffrence in this case.\n",
    "#(A)\n",
    "import re\n",
    "phoneNumRegex = re.compile(r'\\d\\d\\d')\n",
    "mo = phoneNumRegex.search('My number is 415-555-4242.')\n",
    "print('Phone number found: ' + mo.group()) # non tagged group\n",
    "print('Phone number found: ' + mo.group(0))"
   ]
  },
  {
   "cell_type": "markdown",
   "metadata": {},
   "source": [
    "### Q4. Describe a scenario in which using a nontagged category would have a significant impact on the program's outcomes.\n",
    "#### Answer :"
   ]
  },
  {
   "cell_type": "code",
   "execution_count": 4,
   "metadata": {},
   "outputs": [
    {
     "name": "stdout",
     "output_type": "stream",
     "text": [
      "['1', '1', '4', '1', '8', '8', '6']\n",
      "['11', '4', '1886']\n"
     ]
    }
   ],
   "source": [
    "import re\n",
    " \n",
    "# \\d is equivalent to [0-9].\n",
    "p = re.compile('\\d')\n",
    "print(p.findall(\"I went to him at 11 A.M. on 4th July 1886\"))\n",
    " \n",
    "# \\d+ will match a group on [0-9], group of one or greater size\n",
    "p = re.compile('\\d+')\n",
    "print(p.findall(\"I went to him at 11 A.M. on 4th July 1886\"))\n",
    "\n",
    "#a simple + operator can make a huge difference in outcome in case of regular expressions"
   ]
  },
  {
   "cell_type": "markdown",
   "metadata": {},
   "source": [
    "### Q5. Unlike a normal regex pattern, a look-ahead condition does not consume the characters it examines. Describe a situation in which this could make a difference in the results of your programme.\n",
    "#### Answer :\n",
    "While the order of lookaheads doesn't matter on a logical level, we should keep in mind that it may matter for matching speed. If one lookahead is more likely to fail than the other two, it makes little sense to place it in third position and expend a lot of energy checking the first two conditions. Make it first, so that if we're going to fail, we fail early—an application of the design to fail principle from the regex style guide."
   ]
  },
  {
   "cell_type": "markdown",
   "metadata": {},
   "source": [
    "### Q6. In standard expressions, what is the difference between positive look-ahead and negative look-ahead?\n",
    "#### Answer :"
   ]
  },
  {
   "cell_type": "code",
   "execution_count": 5,
   "metadata": {},
   "outputs": [
    {
     "name": "stdout",
     "output_type": "stream",
     "text": [
      "Positive lookahead: ['abc']\n",
      "Negative look ahead: ['abc']\n"
     ]
    }
   ],
   "source": [
    "# Ans : Positive look ahead is an assertion continuing the search and extending the string e.g.pattern= r'abc(?=[A-Z])''. \n",
    "#       Here after 'abc', ? is extending the search and says that in the remaining string, first identify the next \n",
    "#       charater should be capitalized character between A and Z, but doesnt consume it.\n",
    "#       Example of Positive lookahead\n",
    "import re\n",
    "pat=r'abc(?=[A-Z])'\n",
    "text=\"abcABCEF\"\n",
    "regobj=re.compile(pat)\n",
    "matobj=regobj.findall(text)\n",
    "print(\"Positive lookahead:\",matobj)\n",
    "\n",
    "#       Negative look head is also an assertion to exclude certain patterns e.g. pattern = r'abc(?!abc)', means \n",
    "#       identify a substring containing \n",
    "#       'abc' which is not followed by another 'abc'\n",
    "#       Example of Negative lookahead\n",
    "import re\n",
    "pat1=r'abc(?!abc)'\n",
    "text1=\"aeiouabcabc\"\n",
    "regobj1=re.compile(pat1)\n",
    "matobj1=regobj1.findall(text)\n",
    "print(\"Negative look ahead:\",matobj1) "
   ]
  },
  {
   "cell_type": "markdown",
   "metadata": {},
   "source": [
    "### Q7. What is the benefit of referring to groups by name rather than by number in a standard expression?\n",
    "#### Answer :\n",
    "Referring to groups by name rather than by number in a standard expression helps to keep the code clear and easy to understand. We can easily see what part of a regular expression match is being referenced."
   ]
  },
  {
   "cell_type": "markdown",
   "metadata": {},
   "source": [
    "### Q8. Can you identify repeated items within a target string using named groups, as in \"The cow jumped over the moon\"?\n",
    "#### Answer :"
   ]
  },
  {
   "cell_type": "code",
   "execution_count": 6,
   "metadata": {},
   "outputs": [
    {
     "data": {
      "text/plain": [
       "['The', 'the']"
      ]
     },
     "execution_count": 6,
     "metadata": {},
     "output_type": "execute_result"
    }
   ],
   "source": [
    "import re\n",
    "text = \"The cow jumped over the moon\"\n",
    "regobj=re.compile(r'(?P<w1>The)',re.I)\n",
    "regobj.findall(text)"
   ]
  },
  {
   "cell_type": "markdown",
   "metadata": {},
   "source": [
    "### Q9. When parsing a string, what is at least one thing that the Scanner interface does for you that the re.findall feature does not?\n",
    "#### Answer :\n",
    "**re.findall()** module is used to search for **all occurrences** that match a given pattern. In contrast, **re.search()** will only return the first occurrence that matches the specified pattern. **re.findall()** will iterate over all the lines of the file and will return all non-overlapping matches of pattern in a single step."
   ]
  },
  {
   "cell_type": "markdown",
   "metadata": {},
   "source": [
    "### Q10. Does a scanner object have to be named scanner?\n",
    "#### Answer : \n",
    "The scan module is part of the microscopy package. It provides a framework for multidimensional scanning routines while acquiring data. Not madatory to keep the same name."
   ]
  }
 ],
 "metadata": {
  "kernelspec": {
   "display_name": "Python 3",
   "language": "python",
   "name": "python3"
  },
  "language_info": {
   "codemirror_mode": {
    "name": "ipython",
    "version": 3
   },
   "file_extension": ".py",
   "mimetype": "text/x-python",
   "name": "python",
   "nbconvert_exporter": "python",
   "pygments_lexer": "ipython3",
   "version": "3.8.5"
  }
 },
 "nbformat": 4,
 "nbformat_minor": 4
}
