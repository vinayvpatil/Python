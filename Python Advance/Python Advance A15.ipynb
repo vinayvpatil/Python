{
 "cells": [
  {
   "cell_type": "markdown",
   "metadata": {},
   "source": [
    "## Python Advance A15\n",
    "### 1.\tWhat are the new features added in Python 3.8 version?\n",
    "#### Answer :\n",
    "**Walrus Operator ':='** This operator is used to assign and return a value in the same expression. This removes the need for initializing the variable upfront. The major benefit of this is it saves some lines of code. It is also known as **The Walrus Operator** due to its similarity to the eyes and tusks of a walrus. <br>\n",
    "<br>\n",
    "**yield** and **return** statements do not require parentheses to return multiple values. <br>\n",
    "<br>\n",
    "Reversed works with a dictionary. The built-in method reversed() can be used for accessing the elements in the reverse order of insertion <br>\n",
    "<br>\n",
    "**Dict comprehensions** have been modified so that the key is computed first and the value second.<br>\n",
    "<br>\n",
    "**importlib_metadata** is a new library added in the Python’s standard utility modules, that provides an API for accessing an installed package’s metadata, such as its entry points or its top-level name. <br>\n",
    "<br>\n",
    "f-strings now support = , to make string interpolation easy. Python 3.8 allows the use of the above-discussed assignment operator and equal sign (=) inside the f-strings. <br>\n",
    "<br>\n",
    "In the three-argument form of **pow()**, when the exponent is -1, it calculates the modular multiplicative inverse of the given value <br>\n",
    "<br> \n",
    "The **csv.DictReader** now returns instances of dictionary instead of a **collections.OrderedDict.** <br>\n",
    "<br>\n",
    "If you miss a comma in your code such as a = **[(1, 2) (3, 4)]**, instead of throwing **TypeError,** it displays an informative Syntax warning."
   ]
  },
  {
   "cell_type": "markdown",
   "metadata": {},
   "source": [
    "### 2.\tWhat is monkey patching in Python?\n",
    "#### Answer :"
   ]
  },
  {
   "cell_type": "code",
   "execution_count": 1,
   "metadata": {},
   "outputs": [
    {
     "name": "stdout",
     "output_type": "stream",
     "text": [
      "monkey_f() is being called\n"
     ]
    }
   ],
   "source": [
    "#In Python, the term monkey patch refers to dynamic (or run-time) modifications of a class or module. \n",
    "#In Python, we can actually change the behavior of code at run-time.\n",
    "class A:\n",
    "     def func(self):\n",
    "          print (\"func() is being called\")\n",
    "#We use above class in below code and change behavior of func() at run-time by assigning different value.\n",
    "def monkey_f(self):\n",
    "     print (\"monkey_f() is being called\")\n",
    "# replacing address of \"func\" with \"monkey_f\"\n",
    "A.func = monkey_f\n",
    "obj = A()\n",
    "# calling function \"func\" whose address got replaced\n",
    "# with function \"monkey_f()\"\n",
    "obj.func()"
   ]
  },
  {
   "cell_type": "markdown",
   "metadata": {},
   "source": [
    "### 3. What is the difference between a shallow copy and deep copy?\n",
    "#### Answer :\n",
    "When an object is copied using **copy()**, it is called **shallow copy** as changes made in copied object will also make corresponding changes in original object, because both the objects will be referencing same address location. <br>\n",
    "<br>\n",
    "When an object is copied using **deepcopy()**, it is called **deep copy** as changes made in copied object will not make corresponding changes in original object, because both the objects will not be referencing same address location."
   ]
  },
  {
   "cell_type": "markdown",
   "metadata": {},
   "source": [
    "### 4.\tWhat is the maximum possible length of an identifier?\n",
    "#### Answer :\n",
    "Python gives the identifiers unlimited length. However, the layout of PEP-8 prevents the user from breaking the rules and includes a 79-character limit."
   ]
  },
  {
   "cell_type": "markdown",
   "metadata": {},
   "source": [
    "### 5.\tWhat is generator comprehension?\n",
    "#### Answer :\n",
    "A generator comprehension is a single-line specification for defining a generator in Python. <br>\n",
    "- It is absolutely essential to learn this syntax in order to write simple and readable code. <br>\n",
    "- Generator comprehension uses round bracket unlike square bracket in list comprehension. <br>\n",
    "- The generator yields one item at a time and generates item only when in demand. Whereas, in a list comprehension, Python reserves memory for the whole list. Thus we can say that the generator expressions are memory efficient than the lists."
   ]
  },
  {
   "cell_type": "code",
   "execution_count": 2,
   "metadata": {},
   "outputs": [
    {
     "name": "stdout",
     "output_type": "stream",
     "text": [
      "<generator object <genexpr> at 0x05F0F300>\n"
     ]
    },
    {
     "data": {
      "text/plain": [
       "45"
      ]
     },
     "execution_count": 2,
     "metadata": {},
     "output_type": "execute_result"
    }
   ],
   "source": [
    "gen=(i for i in range(0,10))\n",
    "print(gen)\n",
    "sum(gen)"
   ]
  }
 ],
 "metadata": {
  "kernelspec": {
   "display_name": "Python 3",
   "language": "python",
   "name": "python3"
  },
  "language_info": {
   "codemirror_mode": {
    "name": "ipython",
    "version": 3
   },
   "file_extension": ".py",
   "mimetype": "text/x-python",
   "name": "python",
   "nbconvert_exporter": "python",
   "pygments_lexer": "ipython3",
   "version": "3.8.5"
  }
 },
 "nbformat": 4,
 "nbformat_minor": 4
}
