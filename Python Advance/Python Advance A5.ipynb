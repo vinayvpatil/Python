{
 "cells": [
  {
   "cell_type": "markdown",
   "metadata": {},
   "source": [
    "## Python Advance A5\n",
    "### Q1. What is the meaning of multiple inheritance?\n",
    "#### Answer :\n",
    "Reusing the code of Parent class by the child class is called Inheritence. Similary when a child class inherits its properties from multiple Parent classes this scenario is called Multiple Inheritence.\n"
   ]
  },
  {
   "cell_type": "code",
   "execution_count": 1,
   "metadata": {},
   "outputs": [],
   "source": [
    "class Parent_one:\n",
    "    pass\n",
    "class Parent_two:\n",
    "    pass\n",
    "class child(Parent_one,Parent_two):\n",
    "    pass"
   ]
  },
  {
   "cell_type": "markdown",
   "metadata": {},
   "source": [
    "### Q2. What is the concept of delegation?\n",
    "#### Answer :\n",
    "Delegation provides a proxy object for any class thay you want on top of the main class. its like a wrapper to your class so that you can access limited resources of the main class. It Wraps the object of main class into a smaller object with limited access. Simply Delegation means that you can include a instance of another class as an instance variable, and forward messages to the instance.\n",
    "<br>\n",
    "Delegation is an object oriented technique. If we have an object x and want to change the behaviour of just one of its methods. We can create a new class that provides a new implementation of the method we're interested in changing and delegates all other methods to the corresponding method of x."
   ]
  },
  {
   "cell_type": "code",
   "execution_count": 2,
   "metadata": {},
   "outputs": [
    {
     "name": "stdout",
     "output_type": "stream",
     "text": [
      "My Name is Vinay\n",
      "My Name is Vinay\n",
      "My Name is Vinay\n",
      "I am a Male\n"
     ]
    }
   ],
   "source": [
    "class Myclass:\n",
    "    def name(self):\n",
    "        print('My Name is Vinay')\n",
    "    def gender(self):\n",
    "        print('I am a Male')\n",
    "class NewClass:\n",
    "    def __init__(self,obj):\n",
    "        self.main = obj\n",
    "    def welcome(self):\n",
    "        self.main.name()\n",
    "\n",
    "m = Myclass()        \n",
    "n = NewClass(m)\n",
    "m.name()\n",
    "n.main.name()\n",
    "n.welcome()\n",
    "n.main.gender()"
   ]
  },
  {
   "cell_type": "markdown",
   "metadata": {},
   "source": [
    "### Q3. What is the concept of composition?\n",
    "#### Answer :\n",
    "In the concept of Composition, a class refers to one or more other classes by using instances of those classes as a instance variable. irrespective of inheritence in this approach all the parent class members are not inherited into child class, but only required methods from a class are used by using class instances."
   ]
  },
  {
   "cell_type": "code",
   "execution_count": 3,
   "metadata": {},
   "outputs": [
    {
     "name": "stdout",
     "output_type": "stream",
     "text": [
      "Total Salary : 10800\n"
     ]
    }
   ],
   "source": [
    "class Salary:\n",
    "    def __init__(self,pay):\n",
    "        self.pay = pay\n",
    "    def get_total(self):\n",
    "        return self.pay*12\n",
    "    \n",
    "class Employee:\n",
    "    def __init__(self,pay,bonus):\n",
    "        self.pay = pay\n",
    "        self.bonus = bonus\n",
    "        self.salary = Salary(self.pay)\n",
    "    def annual_salary(self):\n",
    "        return f'Total Salary : {str(self.salary.get_total())}'\n",
    "\n",
    "obj = Employee(900,600)\n",
    "print(obj.annual_salary())"
   ]
  },
  {
   "cell_type": "markdown",
   "metadata": {},
   "source": [
    "### Q4. What are bound methods and how do we use them?\n",
    "#### Answer :\n",
    "If a function is an attribute of class and it is accessed via the instances, they are called bound methods. A bound method is one that has self as its first argument. Since these are dependent on the instance of classes, these are also known as instance methods."
   ]
  },
  {
   "cell_type": "code",
   "execution_count": 5,
   "metadata": {},
   "outputs": [
    {
     "name": "stdout",
     "output_type": "stream",
     "text": [
      "Called method_1\n",
      "Called method_1\n",
      "Called method_1\n",
      "Called method_3\n"
     ]
    }
   ],
   "source": [
    "class Test:\n",
    "    def method_1(self): # bound method\n",
    "        print(\"Called method_1\")\n",
    "    @classmethod\n",
    "    def method_2(cls): # unbound method\n",
    "        print(\"Called method_1\")\n",
    "    @staticmethod\n",
    "    def method_3(): # static method\n",
    "        print(\"Called method_3\")\n",
    "\n",
    "test = Test()\n",
    "test.method_1() # accessing through instance object\n",
    "test.method_2() # accessing through instance object\n",
    "Test.method_2() # accessing directly through class\n",
    "Test.method_3() # accessing directly through class"
   ]
  },
  {
   "cell_type": "markdown",
   "metadata": {},
   "source": [
    "### Q5. What is the purpose of pseudoprivate attributes?\n",
    "#### Answer :\n",
    "Pseudoprivate attributes are useful in larger frameworks or tools, both to avoid introducing new method names that might accidentally hide definitions elsewhere in the class tree and to reduce the chance of internal methods being replaced by names defined lower in the tree. If a method is intended for use only within a class that may be mixed into other classes, the double underscore prefix ensures that the method won't interfere with other names in the tree, especially in multiple-inheritance scenarios\n",
    "Pseudoprivate names also prevent subclasses from accidentally redefining the internal method's names."
   ]
  },
  {
   "cell_type": "code",
   "execution_count": 6,
   "metadata": {},
   "outputs": [],
   "source": [
    "class Super:\n",
    "    def method(self): # A real application method\n",
    "        pass\n",
    "class Tool:\n",
    "    def _method(self): # becomes _Tool_method\n",
    "        pass\n",
    "    def other(self): # uses internal method\n",
    "        self._method()\n",
    "class Subl(Tool,Super):\n",
    "    def actions(self):\n",
    "        self.method()\n",
    "class Sub2(Tool):\n",
    "    def __init__(self):\n",
    "        self.method = 99"
   ]
  }
 ],
 "metadata": {
  "kernelspec": {
   "display_name": "Python 3",
   "language": "python",
   "name": "python3"
  },
  "language_info": {
   "codemirror_mode": {
    "name": "ipython",
    "version": 3
   },
   "file_extension": ".py",
   "mimetype": "text/x-python",
   "name": "python",
   "nbconvert_exporter": "python",
   "pygments_lexer": "ipython3",
   "version": "3.8.5"
  }
 },
 "nbformat": 4,
 "nbformat_minor": 4
}
