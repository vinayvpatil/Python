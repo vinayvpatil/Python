{
 "cells": [
  {
   "cell_type": "markdown",
   "metadata": {},
   "source": [
    "## Python Advance A6\n",
    "### Exception Processing is important to find exceptions that causes the runtime error. As runtime errors Halt the program execution when exception occurs.\n",
    "#### Answer :\n",
    "Exception Processing is used in Various Applications of which few examples are: <br>\n",
    "- Checking Appropriate use of input in an application <br>\n",
    "- Checking for Arithmetic exceptions in mathematical executions <br>\n",
    "- Checking File I/O exceptions during File handling <br>"
   ]
  },
  {
   "cell_type": "markdown",
   "metadata": {},
   "source": [
    "### Q2. What happens if you don't do something extra to treat an exception?\n",
    "#### Answer :\n",
    " If Exceptions are not handled, flow of program will be broken during the run time which might lead to a abnormal termination of the program. It will result in crashing of program."
   ]
  },
  {
   "cell_type": "markdown",
   "metadata": {},
   "source": [
    "### Q3. What are your options for recovering from an exception in your script?\n",
    "#### Answer :\n",
    "For recovering from an exception, we use try and except block. <br>\n",
    "If the Python program contains suspicious code that may throw the exception, we must place that code in the try block. <br>\n",
    "The try block must be followed with the except statement, which contains a block of code that will be executed if there is some exception in the try block. <br>"
   ]
  },
  {
   "cell_type": "markdown",
   "metadata": {},
   "source": [
    "### Q4. Describe two methods for triggering exceptions in your script.\n",
    "#### Answer :\n",
    "**raise** and **assert** are two methods that can be used to trigger manual exceptions in your script.\n",
    "- **raise** method triggers an exception if condition provided to it turns out to be True.\n",
    "- **assert** will let the program to continue execution if condition provided to it turns out to be True else exception will be raised"
   ]
  },
  {
   "cell_type": "markdown",
   "metadata": {},
   "source": [
    "### Q5. Identify two methods for specifying actions to be executed at termination time, regardless of whether or not an exception exists.\n",
    "#### Answer :\n",
    "In else block, code is written to handle if no exception is raised by code in try block. <br>\n",
    "In finally block, code executes regardless of whether or not an exception exists."
   ]
  }
 ],
 "metadata": {
  "kernelspec": {
   "display_name": "Python 3",
   "language": "python",
   "name": "python3"
  },
  "language_info": {
   "codemirror_mode": {
    "name": "ipython",
    "version": 3
   },
   "file_extension": ".py",
   "mimetype": "text/x-python",
   "name": "python",
   "nbconvert_exporter": "python",
   "pygments_lexer": "ipython3",
   "version": "3.8.5"
  }
 },
 "nbformat": 4,
 "nbformat_minor": 4
}
