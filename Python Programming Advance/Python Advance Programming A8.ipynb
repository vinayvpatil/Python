{
 "cells": [
  {
   "cell_type": "markdown",
   "metadata": {},
   "source": [
    "## Python Advance Programming A8\n",
    "### 1. Given a sentence as txt, return True if any two adjacent words have this property: One word ends with a vowel, while the word immediately after begins with a vowel (a e i o u).\n",
    "Examples       \n",
    "vowel_links(\"a very large appliance\") ➞ True   \n",
    "vowel_links(\"go to edabit\") ➞ True     \n",
    "vowel_links(\"an open fire\") ➞ False   \n",
    "vowel_links(\"a sudden applause\") ➞ False           \n",
    "#### Answer :"
   ]
  },
  {
   "cell_type": "code",
   "execution_count": 2,
   "metadata": {},
   "outputs": [
    {
     "name": "stdout",
     "output_type": "stream",
     "text": [
      "True\n",
      "True\n",
      "False\n",
      "False\n"
     ]
    }
   ],
   "source": [
    "def vowel_links(input1):\n",
    "    x = input1.split()\n",
    "    for i in range(len(x)-1):\n",
    "        if (x[i][-1] in [\"a\",\"i\",\"e\",\"o\",\"u\"]) and (x[i+1][0] in [\"a\",\"i\",\"e\",\"o\",\"u\"]):\n",
    "            return True\n",
    "    else:\n",
    "        return False      \n",
    "print(vowel_links(\"a very large appliance\"))\n",
    "print(vowel_links(\"go to edabit\"))\n",
    "print(vowel_links(\"an open fire\"))\n",
    "print(vowel_links(\"a sudden applause\"))"
   ]
  },
  {
   "cell_type": "markdown",
   "metadata": {},
   "source": [
    "### 2. You are given three inputs: a string, one letter, and a second letter.\n",
    "Write a function that returns True if every instance of the first letter occurs before every instance of the second letter.      \n",
    "Examples      \n",
    "first_before_second(\"a rabbit jumps joyfully\", \"a\", \"j\") ➞ True  \n",
    "Every instance of \"a\" occurs before every instance of \"j\".       \n",
    "first_before_second(\"knaves knew about waterfalls\", \"k\", \"w\") ➞  True      \n",
    "first_before_second(\"happy birthday\", \"a\", \"y\") ➞ False          \n",
    "The \"a\" in \"birthday\" occurs after the \"y\" in \"happy\".       \n",
    "first_before_second(\"precarious kangaroos\", \"k\", \"a\") ➞ False          \n",
    "#### Answer :"
   ]
  },
  {
   "cell_type": "code",
   "execution_count": 3,
   "metadata": {},
   "outputs": [
    {
     "name": "stdout",
     "output_type": "stream",
     "text": [
      "True\n",
      "True\n",
      "False\n",
      "False\n"
     ]
    }
   ],
   "source": [
    "def first_before_second(s,l1,l2):\n",
    "    if s.rfind(l1) < s.find(l2):\n",
    "        return True\n",
    "    else:\n",
    "        return False  \n",
    "print(first_before_second(\"a rabbit jumps joyfully\",\"a\",\"j\"))\n",
    "print(first_before_second(\"knaves knew about waterfalls\", \"k\", \"w\"))\n",
    "print(first_before_second(\"happy birthday\", \"a\", \"y\"))\n",
    "print(first_before_second(\"precarious kangaroos\", \"k\", \"a\"))"
   ]
  },
  {
   "cell_type": "markdown",
   "metadata": {},
   "source": [
    "### 3. Create a function that returns the characters from a list or string r on odd or even positions, depending on the specifier s. The specifier will be \"odd\" for items on odd positions (1, 3, 5, ...) and \"even\" for items on even positions (2, 4, 6, ...).\n",
    "Examples     \n",
    "char_at_pos([2, 4, 6, 8, 10], \"even\") ➞ [4, 8]    \n",
    "4 & 8 occupy the 2nd & 4th positions     \n",
    "char_at_pos(\"EDABIT\", \"odd\") ➞ \"EAI\"    \n",
    "\"E\", \"A\" and \"I\" occupy the 1st, 3rd and 5th positions     \n",
    "char_at_pos([\"A\", \"R\", \"B\", \"I\", \"T\", \"R\", \"A\", \"R\", \"I\", \"L\", \"Y\"], \"odd\") ➞ [\"A\", \"B\", \"T\", \"A\", \"I\", \"Y\"]       \n",
    "#### Answer :"
   ]
  },
  {
   "cell_type": "code",
   "execution_count": 4,
   "metadata": {},
   "outputs": [
    {
     "name": "stdout",
     "output_type": "stream",
     "text": [
      "[4, 8]\n",
      "['E', 'A', 'I']\n",
      "['A', 'B', 'T', 'A', 'I', 'Y']\n"
     ]
    }
   ],
   "source": [
    "def char_at_pos(list1,s):\n",
    "    if s == 'even':\n",
    "        return [list1[i] for i in range(len(list1)) if (i+1) % 2 == 0]\n",
    "    elif s == 'odd':\n",
    "        return [list1[i] for i in range(len(list1)) if (i+1) % 2 != 0]\n",
    "print(char_at_pos([2, 4, 6, 8, 10], \"even\"))   \n",
    "print(char_at_pos(\"EDABIT\", \"odd\"))\n",
    "print(char_at_pos([\"A\", \"R\", \"B\", \"I\", \"T\", \"R\", \"A\", \"R\", \"I\", \"L\", \"Y\"], \"odd\"))"
   ]
  },
  {
   "cell_type": "markdown",
   "metadata": {},
   "source": [
    "### 4. Write a function that returns the greatest common divisor of all list elements. If the greatest common divisor is 1, return 1.\n",
    "Examples  \n",
    "GCD([10, 20, 40]) ➞ 10       \n",
    "GCD([1, 2, 3, 100]) ➞ 1      \n",
    "GCD([1024, 192, 2048, 512]) ➞ 64    \n",
    "#### Answer :"
   ]
  },
  {
   "cell_type": "code",
   "execution_count": 5,
   "metadata": {},
   "outputs": [
    {
     "name": "stdout",
     "output_type": "stream",
     "text": [
      "10\n",
      "1\n",
      "64\n"
     ]
    }
   ],
   "source": [
    "import math \n",
    "\n",
    "def GCD(list1):\n",
    "    output = list1[0]\n",
    "    for i in range(1,len(list1)):\n",
    "        output = math.gcd(list1[i],output)\n",
    "    return output\n",
    "print(GCD([10, 20, 40]))\n",
    "print(GCD([1, 2, 3, 100]))\n",
    "print(GCD([1024, 192, 2048, 512]))"
   ]
  },
  {
   "cell_type": "markdown",
   "metadata": {},
   "source": [
    "### 5. A number/string is a palindrome if the digits/characters are the same when read both forward and backward. Examples include \"racecar\" and 12321. Given a positive number n, check if n or the binary representation of n is palindromic. Return the following:\n",
    "- \"Decimal only.\" if only n is a palindrome.        \n",
    "- \"Binary only.\" if only the binary representation of n is a palindrome.    \n",
    "- \"Decimal and binary.\" if both are palindromes.       \n",
    "- \"Neither!\" if neither are palindromes.        \n",
    "Examples     \n",
    "palindrome_type(1306031) ➞ \"Decimal only.\"        \n",
    "decimal = 1306031      \n",
    "binary  = \"100111110110110101111\"     \n",
    "palindrome_type(427787) ➞ \"Binary only.\"      \n",
    "decimal = 427787     \n",
    "binary  = \"1101000011100001011\"      \n",
    "palindrome_type(313) ➞ \"Decimal and binary.\"     \n",
    "decimal = 313           \n",
    "binary  = 100111001          \n",
    "palindrome_type(934) ➞ \"Neither!\"          \n",
    "decimal = 934        \n",
    "binary  = \"1110100110\"     \n",
    "#### Answer :"
   ]
  },
  {
   "cell_type": "code",
   "execution_count": 6,
   "metadata": {},
   "outputs": [
    {
     "name": "stdout",
     "output_type": "stream",
     "text": [
      "Decimal only\n",
      "Binary only\n",
      "Decimal and binary.\n",
      "Neither!\n"
     ]
    }
   ],
   "source": [
    "def palindrome_type(number):\n",
    "    output = '' \n",
    "    if bin(number).lstrip('0b') == bin(number).lstrip('0b')[::-1]:\n",
    "        output += \"Binary only\"\n",
    "    if str(number) == str(number)[::-1]:\n",
    "        output += \"Decimal only\"\n",
    "    if output == \"Binary onlyDecimal only\":\n",
    "        return  \"Decimal and binary.\"\n",
    "    elif output == '':\n",
    "        return \"Neither!\"\n",
    "    else:\n",
    "        return output   \n",
    "print(palindrome_type(1306031))\n",
    "print(palindrome_type(427787))\n",
    "print(palindrome_type(313))\n",
    "print(palindrome_type(934))"
   ]
  }
 ],
 "metadata": {
  "kernelspec": {
   "display_name": "Python 3",
   "language": "python",
   "name": "python3"
  },
  "language_info": {
   "codemirror_mode": {
    "name": "ipython",
    "version": 3
   },
   "file_extension": ".py",
   "mimetype": "text/x-python",
   "name": "python",
   "nbconvert_exporter": "python",
   "pygments_lexer": "ipython3",
   "version": "3.8.5"
  }
 },
 "nbformat": 4,
 "nbformat_minor": 4
}
