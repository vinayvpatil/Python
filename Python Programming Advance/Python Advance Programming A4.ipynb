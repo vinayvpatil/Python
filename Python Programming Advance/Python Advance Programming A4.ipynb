{
 "cells": [
  {
   "attachments": {
    "image.png": {
     "image/png": "[encoded data removed]"
    }
   },
   "cell_type": "markdown",
   "metadata": {},
   "source": [
    "## Python Advance Programming A4\n",
    "### 1. In mathematics, the Fibonacci numbers, commonly denoted Fn, form a sequence, called the Fibonacci sequence, such that each number is the sum of the two preceding ones, starting from 0 and 1:\n",
    "![image.png](attachment:image.png)                   \n",
    "The beginning of the sequence is this:            \n",
    "0, 1, 1, 2, 3, 5, 8, 13, 21, 34, 55, 89, 144, ...           \n",
    "The function fastFib(num) returns the fibonacci number Fn, of the given num as an argument.          \n",
    "Examples                   \n",
    "fib_fast(5) ➞ 5                  \n",
    "fib_fast(10) ➞ 55                           \n",
    "fib_fast(20) ➞ 6765                            \n",
    "fib_fast(50) ➞ 12586269025          \n",
    "#### Answer :"
   ]
  },
  {
   "cell_type": "code",
   "execution_count": 3,
   "metadata": {},
   "outputs": [
    {
     "name": "stdout",
     "output_type": "stream",
     "text": [
      "5\n",
      "55\n",
      "6765\n",
      "12586269025\n"
     ]
    }
   ],
   "source": [
    "def fib_fast(num):\n",
    "    y,z,output = 0,1,0\n",
    "    for i in range(num+1):\n",
    "        if i > 1:\n",
    "            output = y+z\n",
    "            y = z\n",
    "            z = output\n",
    "    print(output)\n",
    "fib_fast(5)\n",
    "fib_fast(10)\n",
    "fib_fast(20)\n",
    "fib_fast(50)\n"
   ]
  },
  {
   "cell_type": "markdown",
   "metadata": {},
   "source": [
    "### 2. Create a function that takes a strings characters as ASCII and returns each characters hexadecimal value as a string.  \n",
    "Examples         \n",
    "convert_to_hex(\"hello world\") ➞ \"68 65 6c 6c 6f 20 77 6f 72 6c 64\"          \n",
    "convert_to_hex(\"Big Boi\") ➞ \"42 69 67 20 42 6f 69\"            \n",
    "convert_to_hex(\"Marty Poppinson\") ➞ \"4d 61 72 74 79 20 50 6f 70 70 69 6e 73 6f 6e\"         \n",
    "#### Answer :"
   ]
  },
  {
   "cell_type": "code",
   "execution_count": 5,
   "metadata": {},
   "outputs": [
    {
     "name": "stdout",
     "output_type": "stream",
     "text": [
      "68 65 6c 6c 6f 20 77 6f 72 6c 64\n",
      "42 69 67 20 42 6f 69\n",
      "4d 61 72 74 79 20 50 6f 70 70 69 6e 73 6f 6e\n"
     ]
    }
   ],
   "source": [
    "def convert_to_hex(string1):\n",
    "    string1 = string1.encode('utf-8')\n",
    "    return string1.hex(' ')\n",
    "print(convert_to_hex(\"hello world\"))\n",
    "print(convert_to_hex(\"Big Boi\"))\n",
    "print(convert_to_hex(\"Marty Poppinson\"))"
   ]
  },
  {
   "cell_type": "markdown",
   "metadata": {},
   "source": [
    "### 3. Someone has attempted to censor my strings by replacing every vowel with a \\*, l\\*k\\* th\\*s. Luckily, I've been able to find the vowels that were removed.       \n",
    "Given a censored string and a string of the censored vowels, return the original uncensored string.  \n",
    "Example           \n",
    "uncensor(\"Wh\\*r\\* d\\*d my v\\*w\\*ls g\\*?\", \"eeioeo\") ➞ \"Where did my vowels go?\"      \n",
    "uncensor(\"abcd\", \"\") ➞ \"abcd\"          \n",
    "uncensor(\"\\*PP\\*RC\\*S\\*\", \"UEAE\") ➞ \"UPPERCASE\"        \n",
    "#### Answer :"
   ]
  },
  {
   "cell_type": "code",
   "execution_count": 6,
   "metadata": {},
   "outputs": [
    {
     "name": "stdout",
     "output_type": "stream",
     "text": [
      "Where did my vowels go?\n",
      "abcd\n",
      "UPPERCASE\n"
     ]
    }
   ],
   "source": [
    "def uncensor(x,y):\n",
    "    i = 0 \n",
    "    for letter in x:\n",
    "        if letter == '*':\n",
    "            x = x.replace('*', y[i],1)\n",
    "            i += 1\n",
    "    return x\n",
    "print(uncensor(\"Wh*r* d*d my v*w*ls g*?\", \"eeioeo\"))\n",
    "print(uncensor(\"abcd\", \"\"))\n",
    "print(uncensor(\"*PP*RC*S*\", \"UEAE\"))"
   ]
  },
  {
   "cell_type": "markdown",
   "metadata": {},
   "source": [
    "### 4. Write a function that takes an IP address and returns the domain name using PTR DNS records.\n",
    "Example                            \n",
    "get_domain(\"8.8.8.8\") ➞ \"dns.google\"            \n",
    "get_domain(\"8.8.4.4\") ➞ \"dns.google\"          \n",
    "#### Answer :"
   ]
  },
  {
   "cell_type": "code",
   "execution_count": 1,
   "metadata": {},
   "outputs": [
    {
     "name": "stdout",
     "output_type": "stream",
     "text": [
      "dns.google\n",
      "dns.google\n"
     ]
    }
   ],
   "source": [
    "import socket\n",
    "def get_domain(ip_address):\n",
    "    return socket.gethostbyaddr(ip_address)[0]\n",
    "print(get_domain(\"8.8.8.8\"))\n",
    "print(get_domain(\"8.8.4.4\"))"
   ]
  },
  {
   "cell_type": "markdown",
   "metadata": {},
   "source": [
    "### 5. Create a function that takes an integer n and returns the factorial of factorials. See below examples for a better understanding:\n",
    "Examples                                          \n",
    "fact_of_fact(4) ➞ 288                       \n",
    "4! \\* 3! \\* 2! \\* 1! = 288                     \n",
    "fact_of_fact(5) ➞ 34560             \n",
    "fact_of_fact(6) ➞ 24883200             \n",
    "#### Answer :"
   ]
  },
  {
   "cell_type": "code",
   "execution_count": 2,
   "metadata": {},
   "outputs": [
    {
     "name": "stdout",
     "output_type": "stream",
     "text": [
      "288\n",
      "34560\n",
      "24883200\n"
     ]
    }
   ],
   "source": [
    "def fact(number):\n",
    "    if number == 0 or number == 1:\n",
    "        return 1\n",
    "    \n",
    "    else:\n",
    "        return number * fact(number-1) \n",
    "def fact_of_fact(number):\n",
    "    result = 1\n",
    "    while number > 1:\n",
    "        result *= fact(number)\n",
    "        number -= 1\n",
    "    return result   \n",
    "print(fact_of_fact(4)) \n",
    "print(fact_of_fact(5))\n",
    "print(fact_of_fact(6))"
   ]
  }
 ],
 "metadata": {
  "kernelspec": {
   "display_name": "Python 3",
   "language": "python",
   "name": "python3"
  },
  "language_info": {
   "codemirror_mode": {
    "name": "ipython",
    "version": 3
   },
   "file_extension": ".py",
   "mimetype": "text/x-python",
   "name": "python",
   "nbconvert_exporter": "python",
   "pygments_lexer": "ipython3",
   "version": "3.8.5"
  }
 },
 "nbformat": 4,
 "nbformat_minor": 4
}
