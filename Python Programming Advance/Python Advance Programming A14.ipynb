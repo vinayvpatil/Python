{
 "cells": [
  {
   "cell_type": "markdown",
   "metadata": {},
   "source": [
    "## Python Advance Programming A14\n",
    "### 1. Given a list of numbers, create a function that removes 25% from every number in the list except the smallest number, and adds the total amount removed to the smallest number.\n",
    "Examples   \n",
    "show_the_love([4, 1, 4]) ➞ [3, 3, 3]     \n",
    "show_the_love([16, 10, 8]) ➞ [12, 7.5, 14.5]  \n",
    "show_the_love([2, 100]) ➞ [27, 75] \n",
    "#### Answer :"
   ]
  },
  {
   "cell_type": "code",
   "execution_count": 3,
   "metadata": {},
   "outputs": [
    {
     "name": "stdout",
     "output_type": "stream",
     "text": [
      "[3, 3, 3]\n",
      "[12, 7.5, 14.5]\n",
      "[27, 75]\n"
     ]
    }
   ],
   "source": [
    "def show_the_love(list1):\n",
    "    smallest = min(list1)\n",
    "    x = list1.index(smallest) #x = index of smallest number\n",
    "    k = 0    \n",
    "    for i in range(len(list1)):\n",
    "        if list1[i] != smallest:\n",
    "            j =  0.25 * list1[i]\n",
    "            list1[i] = list1[i]- j\n",
    "            k += j\n",
    "            \n",
    "    list1[x] = smallest + k\n",
    "    list1 = [int(i) if i == int(i) else i for i in list1]\n",
    "    return list1\n",
    "print(show_the_love([4,1,4]) )\n",
    "print(show_the_love([16, 10, 8]))\n",
    "print(show_the_love([2, 100]))"
   ]
  },
  {
   "cell_type": "markdown",
   "metadata": {},
   "source": [
    "### 2. Create a function that takes in two words as input and returns a list of three elements, in the following order:\n",
    "   1.Shared letters between two words.       \n",
    "   2.Letters unique to word 1.      \n",
    "   3.Letters unique to word 2.      \n",
    "Each element should have unique letters, and have each letter be alphabetically sorted.     \n",
    "Examples      \n",
    "letters(\"sharp\", \"soap\") ➞ [\"aps\", \"hr\", \"o\"]    \n",
    "letters(\"board\", \"bored\") ➞ [\"bdor\", \"a\", \"e\"]      \n",
    "letters(\"happiness\", \"envelope\") ➞ [\"enp\", \"ahis\", \"lov\"]    \n",
    "letters(\"kerfuffle\", \"fluffy\") ➞ [\"flu\", \"ekr\", \"y\"]        \n",
    "Even with multiple matching letters (e.g. 3 f's), there should                      \n",
    "only exist a single \"f\" in your first element.    \n",
    "letters(\"match\", \"ham\") ➞ [\"ahm\", \"ct\", \"\"]           \n",
    "\"ham\" does not contain any letters that are not found already             \n",
    "in \"match\".                           \n",
    "#### Answer :"
   ]
  },
  {
   "cell_type": "code",
   "execution_count": 4,
   "metadata": {},
   "outputs": [
    {
     "name": "stdout",
     "output_type": "stream",
     "text": [
      "['aps', 'hr', 'o']\n",
      "['bdor', 'a', 'e']\n",
      "['enp', 'ahis', 'lov']\n",
      "['flu', 'ekr', 'y']\n",
      "['ahm', 'ct', '']\n"
     ]
    }
   ],
   "source": [
    "def letters(w1,w2):\n",
    "    w3 = set(w1)\n",
    "    w4 = set(w2)\n",
    "    output = []\n",
    "    output.append(''.join(sorted(w3.intersection(w4))))\n",
    "    output.append(''.join(sorted(w3.difference(w4))))\n",
    "    output.append(''.join(sorted(w4.difference(w3)))) \n",
    "    print(output)\n",
    "    \n",
    "letters(\"sharp\", \"soap\")\n",
    "letters(\"board\", \"bored\")\n",
    "letters(\"happiness\", \"envelope\")\n",
    "letters(\"kerfuffle\", \"fluffy\")\n",
    "letters(\"match\", \"ham\")"
   ]
  },
  {
   "cell_type": "markdown",
   "metadata": {},
   "source": [
    "### 3. Write a function that pairs the first number in an array with the last, the second number with the second to last, etc.\n",
    "Examples        \n",
    "pairs([1, 2, 3, 4, 5, 6, 7]) ➞ [[1, 7], [2, 6], [3, 5], [4, 4]]  \n",
    "pairs([1, 2, 3, 4, 5, 6]) ➞ [[1, 6], [2, 5], [3, 4]]                \n",
    "pairs([5, 9, 8, 1, 2]) ➞ [[5, 2], [9, 1], [8, 8]]     \n",
    "pairs([]) ➞ []         \n",
    "### Answer :"
   ]
  },
  {
   "cell_type": "code",
   "execution_count": 7,
   "metadata": {},
   "outputs": [
    {
     "name": "stdout",
     "output_type": "stream",
     "text": [
      "[[1, 7], [2, 6], [3, 5], [4, 4]]\n",
      "[[1, 6], [2, 5], [3, 4]]\n",
      "[[5, 2], [9, 1], [8, 8]]\n",
      "[]\n"
     ]
    }
   ],
   "source": [
    "def pairs(a):\n",
    "    output = []\n",
    "    while True:\n",
    "        if len(a) > 0:\n",
    "            if len(a) == 1:\n",
    "                output.append([a[0],a.pop(0)])\n",
    "            else:\n",
    "                output.append([a.pop(0),a.pop(-1)])\n",
    "        else:\n",
    "            break\n",
    "    print(output)        \n",
    "pairs([1, 2, 3, 4, 5, 6, 7])\n",
    "pairs([1, 2, 3, 4, 5, 6])\n",
    "pairs([5, 9, 8, 1, 2])\n",
    "pairs([])"
   ]
  },
  {
   "cell_type": "markdown",
   "metadata": {},
   "source": [
    "### 4. Write a function that adds two numbers. The catch, however, is that the numbers will be strings.\n",
    "Examples \n",
    "add_str_nums(\"4\", \"5\") ➞ \"9\"  \n",
    "add_str_nums(\"abcdefg\", \"3\") ➞ \"-1\"      \n",
    "add_str_nums(\"1\", \"\") ➞ \"1\"          \n",
    "add_str_nums(\"1874682736267235927359283579235789257\", \"32652983572985729\") ➞   \"1874682736267235927391936562808774986\"\n",
    "#### Answer :"
   ]
  },
  {
   "cell_type": "code",
   "execution_count": 8,
   "metadata": {},
   "outputs": [
    {
     "name": "stdout",
     "output_type": "stream",
     "text": [
      "9\n",
      "-1\n",
      "1\n",
      "1874682736267235927391936562808774986\n"
     ]
    }
   ],
   "source": [
    "def add_str_nums(s1,s2):\n",
    "    s1 = s1 if len(s1) > 0 else \"0\"\n",
    "    s2 = s2 if len(s2) > 0 else \"0\"\n",
    "    if s1.isdigit() == False or s2.isdigit() == False:\n",
    "        output = -1\n",
    "    else: \n",
    "        output = int(s1)+int(s2)\n",
    "    print(output)       \n",
    "add_str_nums(\"4\", \"5\")\n",
    "add_str_nums(\"abcdefg\", \"3\")\n",
    "add_str_nums(\"1\", \"\")\n",
    "add_str_nums(\"1874682736267235927359283579235789257\", \"32652983572985729\")"
   ]
  },
  {
   "cell_type": "markdown",
   "metadata": {},
   "source": [
    "### 5. lPaeesh le pemu mnxit ehess rtnisg! Oh, sorry, that was supposed to say: Please help me unmix these strings!\n",
    "Somehow my strings have all become mixed up; every pair of characters has been swapped. Help me undo this so I can understand my strings again. \n",
    "Examples   \n",
    "unmix(\"123456\") ➞ \"214365\"     \n",
    "unmix(\"hTsii  s aimex dpus rtni.g\") ➞ \"This is a mixed up string.\"           \n",
    "unmix(\"badce\") ➞ \"abcde\"            \n",
    "#### Answer :"
   ]
  },
  {
   "cell_type": "code",
   "execution_count": 9,
   "metadata": {},
   "outputs": [
    {
     "name": "stdout",
     "output_type": "stream",
     "text": [
      "214365\n",
      "This is a mixed up string.\n",
      "abcde\n"
     ]
    }
   ],
   "source": [
    "def unmix(s1):\n",
    "    output = ''\n",
    "    for i in range(0,len(s1)-1,2):\n",
    "        output += s1[i+1]+s1[i]\n",
    "        if (len(s1)%2 != 0 and i == len(s1)//2 ):\n",
    "            output += s1[-1]       \n",
    "    print(output)\n",
    "unmix(\"123456\")\n",
    "unmix(\"hTsii  s aimex dpus rtni.g\")\n",
    "unmix(\"badce\")"
   ]
  }
 ],
 "metadata": {
  "kernelspec": {
   "display_name": "Python 3",
   "language": "python",
   "name": "python3"
  },
  "language_info": {
   "codemirror_mode": {
    "name": "ipython",
    "version": 3
   },
   "file_extension": ".py",
   "mimetype": "text/x-python",
   "name": "python",
   "nbconvert_exporter": "python",
   "pygments_lexer": "ipython3",
   "version": "3.8.5"
  }
 },
 "nbformat": 4,
 "nbformat_minor": 4
}
