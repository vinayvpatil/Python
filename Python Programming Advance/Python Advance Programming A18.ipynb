{
 "cells": [
  {
   "cell_type": "markdown",
   "metadata": {},
   "source": [
    "## Python Advance Programming A18\n",
    "### 1. A robot has been given a list of movement instructions. Each instruction is either left, right, up or down, followed by a distance to move. The robot starts at [0, 0]. You want to calculate where the robot will end up and return its final position as a list.\n",
    "To illustrate, if the robot is given the following instructions:          \n",
    "[\"right 10\", \"up 50\", \"left 30\", \"down 10\"]      \n",
    "It will end up 20 left and 40 up from where it started, so we return [-20, 40].        \n",
    "Examples          \n",
    "track_robot([\"right 10\", \"up 50\", \"left 30\", \"down 10\"]) ➞ [-20, 40]        \n",
    "track_robot([]) ➞ [0, 0]       \n",
    "// If there are no instructions, the robot doesn't move.     \n",
    "track_robot([\"right 100\", \"right 100\", \"up 500\", \"up 10000\"]) ➞ [200, 10500]          \n",
    "#### Answer :"
   ]
  },
  {
   "cell_type": "code",
   "execution_count": 1,
   "metadata": {},
   "outputs": [
    {
     "name": "stdout",
     "output_type": "stream",
     "text": [
      "[-20, 40]\n",
      "[0, 0]\n",
      "[200, 10500]\n"
     ]
    }
   ],
   "source": [
    "def track_robot(list1):\n",
    "    output = [0,0]\n",
    "    for i in list1:\n",
    "        i = i.split(\" \")\n",
    "        if i[0] in ['right','left']:\n",
    "            output[0] = output[0]-int(i[1]) if i[0] == 'left' else output[0]+int(i[1])\n",
    "        else:\n",
    "            output[1] = output[1]-int(i[1]) if i[0] == 'down' else output[1]+int(i[1])\n",
    "    print(output)       \n",
    "track_robot([\"right 10\", \"up 50\", \"left 30\", \"down 10\"])\n",
    "track_robot([])\n",
    "track_robot([\"right 100\", \"right 100\", \"up 500\", \"up 10000\"])"
   ]
  },
  {
   "cell_type": "markdown",
   "metadata": {},
   "source": [
    "### 2. Write a function that will return the longest word in a sentence. In cases where more than one word is found, return the first one.\n",
    "Examples       \n",
    "find_longest(\"A thing of beauty is a joy forever.\") ➞ \"forever\"     \n",
    "find_longest(\"Forgetfulness is by all means powerless!\") ➞ \"forgetfulness\"       \n",
    "find_longest(\"\\\"Strengths\\\" is the longest and most commonly used word that contains only a single  vowel.\") ➞ \"strengths\"      \n",
    "3. Create a function to check if a candidate is qualified in an imaginary coding interview of an imaginary tech startup.       \n",
    "#### Answer :"
   ]
  },
  {
   "cell_type": "code",
   "execution_count": 17,
   "metadata": {},
   "outputs": [
    {
     "name": "stdout",
     "output_type": "stream",
     "text": [
      "forever\n",
      "forgetfulness\n",
      "strengths\n",
      "forever\n",
      "forgetfulness\n",
      "strengths\n"
     ]
    }
   ],
   "source": [
    "#Solution 1\n",
    "def find_longest(s):\n",
    "    longest = 0\n",
    "    for i in s.split():\n",
    "        if len(i) > longest:\n",
    "            longest = len(i)\n",
    "            output = i.lower().strip('.').strip('\"\"')  \n",
    "    return output\n",
    "\n",
    "print(find_longest(\"A thing of beauty is a joy forever.\"))\n",
    "print(find_longest(\"Forgetfulness is by all means powerless!\")   )\n",
    "print(find_longest('\"Strengths\" is the longest and most commonly used word that contains only a single vowel.') )\n",
    "\n",
    "#Solution 2\n",
    "def find_longest2(s):\n",
    "    return max(s.split(), key=len).lower().strip('.').strip('\"\"')\n",
    "print(find_longest2(\"A thing of beauty is a joy forever.\"))\n",
    "print(find_longest2(\"Forgetfulness is by all means powerless!\")   )\n",
    "print(find_longest2('\"Strengths\" is the longest and most commonly used word that contains only a single vowel.') )"
   ]
  },
  {
   "cell_type": "markdown",
   "metadata": {},
   "source": [
    "### 3. Create a function to check if a candidate is qualified in an imaginary coding interview of an imaginary tech startup.   \n",
    "The criteria for a candidate to be qualified in the coding interview is:  \n",
    "   1. The candidate should have complete all the questions. \n",
    "   2. The maximum time given to complete the interview is 120 minutes.    \n",
    "   3. The maximum time given for very easy questions is 5 minutes each.  \n",
    "   4. The maximum time given for easy questions is 10 minutes each.     \n",
    "   5. The maximum time given for medium questions is 15 minutes each.     \n",
    "   6. The maximum time given for hard questions is 20 minutes each.      \n",
    "If all the above conditions are satisfied, return \"qualified\", else return \"disqualified\".     \n",
    "You will be given a list of time taken by a candidate to solve a particular question and the total time taken by the candidate to complete the interview.      \n",
    "Given a list , in a true condition will always be in the format [very easy, very easy, easy, easy, medium, medium, hard, hard].       \n",
    "The maximum time to complete the interview includes a buffer time of 20 minutes.     \n",
    "Examples       \n",
    "interview([5, 5, 10, 10, 15, 15, 20, 20], 120) ➞ \"qualified\"      \n",
    "interview([2, 3, 8, 6, 5, 12, 10, 18], 64) ➞  \"qualified\"   \n",
    "interview([5, 5, 10, 10, 25, 15, 20, 20], 120) ➞ \"disqualified\"        \n",
    "Exceeded the time limit for a medium question.        \n",
    "interview([5, 5, 10, 10, 15, 15, 20], 120) ➞ \"disqualified\"     \n",
    "Did not complete all the questions.     \n",
    "interview([5, 5, 10, 10, 15, 15, 20, 20], 130) ➞ \"disqualified\"      \n",
    "Solved all the questions in their respected time limits but exceeded the total time limit of the interview.    \n",
    "#### Answer :"
   ]
  },
  {
   "cell_type": "code",
   "execution_count": 18,
   "metadata": {},
   "outputs": [
    {
     "name": "stdout",
     "output_type": "stream",
     "text": [
      "qualified\n",
      "qualified\n",
      "disqualified\n",
      "disqualified\n",
      "disqualified\n"
     ]
    }
   ],
   "source": [
    "def interview(list1, time):\n",
    "    output = 'qualified'\n",
    "    if time > 120 or max(list1[0:2]) > 5 or max(list1[2:4]) > 10 or max(list1[4:6]) > 15 or max(list1[6:8]) > 20 or len(list1) != 8:\n",
    "            output = 'disqualified'\n",
    "    print(output)   \n",
    "interview([5, 5, 10, 10, 15, 15, 20, 20], 120)\n",
    "interview([2, 3, 8, 6, 5, 12, 10, 18], 64)\n",
    "interview([5, 5, 10, 10, 25, 15, 20, 20], 120)\n",
    "interview([5, 5, 10, 10, 15, 15, 20], 120)\n",
    "interview([5, 5, 10, 10, 15, 15, 20, 20], 130)"
   ]
  },
  {
   "cell_type": "markdown",
   "metadata": {},
   "source": [
    "### 4. Write a function that divides a list into chunks of size n, where n is the length of each chunk.\n",
    "Examples       \n",
    "chunkify([2, 3, 4, 5], 2) ➞ [[2, 3], [4, 5]]          \n",
    "chunkify([2, 3, 4, 5, 6], 2) ➞ [[2, 3], [4, 5], [6]]       \n",
    "chunkify([2, 3, 4, 5, 6, 7], 3) ➞ [[2, 3, 4], [5, 6, 7]]     \n",
    "chunkify([2, 3, 4, 5, 6, 7], 1) ➞ [[2], [3], [4], [5], [6], [7]]   \n",
    "chunkify([2, 3, 4, 5, 6, 7], 7) ➞ [[2, 3, 4, 5, 6, 7]]           \n",
    "#### Answer :  "
   ]
  },
  {
   "cell_type": "code",
   "execution_count": 19,
   "metadata": {},
   "outputs": [
    {
     "name": "stdout",
     "output_type": "stream",
     "text": [
      "[[2, 3], [4, 5]]\n",
      "[[2, 3], [4, 5], [6]]\n",
      "[[2, 3, 4], [5, 6, 7]]\n",
      "[[2], [3], [4], [5], [6], [7]]\n",
      "[[2, 3, 4, 5, 6, 7]]\n"
     ]
    }
   ],
   "source": [
    "def chunkify(list1, n):\n",
    "    return [list1[i:i + n] for i in range(0,len(list1),n)]\n",
    "print(chunkify([2, 3, 4, 5], 2))\n",
    "print(chunkify([2, 3, 4, 5, 6], 2))\n",
    "print(chunkify([2, 3, 4, 5, 6, 7], 3))\n",
    "print(chunkify([2, 3, 4, 5, 6, 7], 1))\n",
    "print(chunkify([2, 3, 4, 5, 6, 7], 7))"
   ]
  },
  {
   "cell_type": "markdown",
   "metadata": {},
   "source": [
    "### 5. You are given a list of strings consisting of grocery items, with prices in parentheses. Return a list of prices in float format.\n",
    "Examples           \n",
    "get_prices([\"salad (\\\\$4.99)\"]) ➞ [4.99]         \n",
    "get_prices([    \n",
    "  \"artichokes (\\\\$1.99)\",    \n",
    "  \"rotiserrie chicken (\\\\$5.99)\",          \n",
    "  \"gum (\\\\$0.75)\"        \n",
    "])       \n",
    "➞ [1.99, 5.99, 0.75]        \n",
    "get_prices([            \n",
    "  \"ice cream (\\\\$5.99)\",           \n",
    "  \"banana (\\\\$0.20)\",            \n",
    "  \"sandwich (\\\\$8.50)\",             \n",
    "  \"soup (\\\\$1.99)\"            \n",
    "])                \n",
    "➞ [5.99, 0.2, 8.50, 1.99]              \n",
    "#### Answer :"
   ]
  },
  {
   "cell_type": "code",
   "execution_count": 20,
   "metadata": {},
   "outputs": [
    {
     "name": "stdout",
     "output_type": "stream",
     "text": [
      "[4.99]\n",
      "[1.99, 5.99, 0.75]\n",
      "[5.99, 0.2, 8.5, 1.99]\n"
     ]
    }
   ],
   "source": [
    "def get_prices(list1):\n",
    "    output = []\n",
    "    for i in list1:\n",
    "        output.append(float((i.split('$')[-1]).split(')')[0]))\n",
    "    print(output)        \n",
    "get_prices([\"salad ($4.99)\"])\n",
    "get_prices([\"artichokes ($1.99)\",\"rotiserrie chicken ($5.99)\",\"gum ($0.75)\"])\n",
    "get_prices([\"ice cream ($5.99)\",\"banana ($0.20)\",\"sandwich ($8.50)\",\"soup ($1.99)\"])"
   ]
  }
 ],
 "metadata": {
  "kernelspec": {
   "display_name": "Python 3",
   "language": "python",
   "name": "python3"
  },
  "language_info": {
   "codemirror_mode": {
    "name": "ipython",
    "version": 3
   },
   "file_extension": ".py",
   "mimetype": "text/x-python",
   "name": "python",
   "nbconvert_exporter": "python",
   "pygments_lexer": "ipython3",
   "version": "3.8.5"
  }
 },
 "nbformat": 4,
 "nbformat_minor": 4
}
