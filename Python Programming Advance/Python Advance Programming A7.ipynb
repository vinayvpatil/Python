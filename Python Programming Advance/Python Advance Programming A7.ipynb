{
 "cells": [
  {
   "cell_type": "markdown",
   "metadata": {},
   "source": [
    "## Python Advance Programming A7\n",
    "### 1. Write a function that counts how many concentric layers a rug.\n",
    "Examples          \n",
    "count_layers([\"AAAA\",\"ABBA\",\"AAAA\"]) ➞ 2       \n",
    "count_layers([\"AAAAAAAAA\",\"ABBBBBBBA\",\"ABBAAABBA\",\"ABBBBBBBA\",\"AAAAAAAAA\"]) ➞ 3  \n",
    "count_layers([\"AAAAAAAAAAA\",\"AABBBBBBBAA\",\"AABCCCCCBAA\",\"AABCAAACBAA\",\"AABCADACBAA\",     \n",
    "  \"AABCAAACBAA\",\"AABCCCCCBAA\",\"AABBBBBBBAA\",\"AAAAAAAAAAA\"]) ➞ 5 \n",
    "#### Answer :"
   ]
  },
  {
   "cell_type": "code",
   "execution_count": 4,
   "metadata": {},
   "outputs": [
    {
     "name": "stdout",
     "output_type": "stream",
     "text": [
      "2\n",
      "3\n",
      "5\n"
     ]
    }
   ],
   "source": [
    "import numpy as np\n",
    "def count_layers(array1):\n",
    "    array2 = np.unique(array1)\n",
    "    return array2.size\n",
    "print(count_layers([ \"AAAA\", \"ABBA\", \"AAAA\" ]))\n",
    "print(count_layers([ \"AAAAAAAAA\", \"ABBBBBBBA\", \"ABBAAABBA\", \"ABBBBBBBA\", \"AAAAAAAAA\" ]) )\n",
    "print(count_layers([\"AAAAAAAAAAA\",\"AABBBBBBBAA\",\"AABCCCCCBAA\",\"AABCAAACBAA\",\"AABCADACBAA\",\n",
    "                    \"AABCAAACBAA\",\"AABCCCCCBAA\",\"AABBBBBBBAA\",\"AAAAAAAAAAA\"]))"
   ]
  },
  {
   "cell_type": "markdown",
   "metadata": {},
   "source": [
    "### 2. There are many different styles of music and many albums exhibit multiple styles. Create a function that takes a list of musical styles from albums and returns how many styles are unique.\n",
    "Examples          \n",
    "unique_styles([\"Dub,Dancehall\",\"Industrial,Heavy Metal\",\"Techno,Dubstep\",     \n",
    "\"Synth-pop,Euro-Disco\",\"Industrial,Techno,Minimal\"]) ➞ 9    \n",
    "unique_styles([\"Soul\",\"House,Folk\",\"Trance,Downtempo,Big Beat,House\",\"Deep House\",\"Soul\"]) ➞ 7\n",
    "#### Answer :"
   ]
  },
  {
   "cell_type": "code",
   "execution_count": 6,
   "metadata": {},
   "outputs": [
    {
     "name": "stdout",
     "output_type": "stream",
     "text": [
      "9\n",
      "7\n"
     ]
    }
   ],
   "source": [
    "import numpy as np\n",
    "def unique_styles(list1):\n",
    "    output = []\n",
    "    for i in list1:\n",
    "        i = i.split(',')\n",
    "        for j in i:\n",
    "            output.append(j) \n",
    "    return len(set(output))\n",
    "print(unique_styles([ \"Dub,Dancehall\", \"Industrial,Heavy Metal\", \"Techno,Dubstep\", \n",
    "                     \"Synth-pop,Euro-Disco\", \"Industrial,Techno,Minimal\" ]))\n",
    "print(unique_styles([ \"Soul\", \"House,Folk\", \"Trance,Downtempo,Big Beat,House\", \"Deep House\", \"Soul\" ]) )"
   ]
  },
  {
   "cell_type": "markdown",
   "metadata": {},
   "source": [
    "### 3. Create a function that finds a target number in a list of prime numbers. Implement a binary search algorithm in your function. The target number will be from 2 through 97. If the target is prime then return \"yes\" else return \"no\".\n",
    "Examples         \n",
    "primes = [2, 3, 5, 7, 11, 13, 17, 19, 23, 29, 31, 37, 41, 43, 47, 53, 59, 61, 67, 71, 73, 79, 83, 89, 97]\n",
    "is_prime(primes, 3) ➞ \"yes\"   \n",
    "is_prime(primes, 4) ➞ \"no\"      \n",
    "is_prime(primes, 67) ➞ \"yes\"   \n",
    "is_prime(primes, 36) ➞ \"no\"   \n",
    "#### Answer :"
   ]
  },
  {
   "cell_type": "code",
   "execution_count": 8,
   "metadata": {},
   "outputs": [
    {
     "name": "stdout",
     "output_type": "stream",
     "text": [
      "Yes\n",
      "No\n",
      "Yes\n",
      "No\n"
     ]
    }
   ],
   "source": [
    "primes = [2, 3, 5, 7, 11, 13, 17, 19, 23, 29, 31, 37, 41, 43, 47, 53, 59, 61, 67, 71, 73, 79, 83, 89, 97]\n",
    "def is_prime(list1,number):\n",
    "    output = 'No'\n",
    "    start = 0\n",
    "    end = len(list1) - 1\n",
    "    mid = 0\n",
    "    while start <= end:\n",
    "        mid = (end+start)//2\n",
    "        if list1[mid] < number:\n",
    "            start = mid + 1\n",
    "        elif list1[mid] > number:\n",
    "            end = mid - 1\n",
    "        else:\n",
    "            output = 'Yes'\n",
    "            break\n",
    "    print(output)\n",
    "is_prime(primes, 3)\n",
    "is_prime(primes, 4)\n",
    "is_prime(primes, 67)\n",
    "is_prime(primes, 36)"
   ]
  },
  {
   "cell_type": "markdown",
   "metadata": {},
   "source": [
    "### 4. Create a function that takes in n, a, b and returns the number of positive values raised to the nth power that lie in the range [a, b], inclusive.   \n",
    "Examples        \n",
    "power_ranger(2, 49, 65) ➞ 2        \n",
    "2 squares (n^2) lie between 49 and 65, 49 (7^2) and 64 (8^2)        \n",
    "power_ranger(3, 1, 27) ➞ 3         \n",
    "3 cubes (n^3) lie between 1 and 27, 1 (1^3), 8 (2^3) and 27 (3^3)        \n",
    "power_ranger(10, 1, 5) ➞ 1        \n",
    "1 value raised to the 10th power lies between 1 and 5, 1 (1^10)        \n",
    "power_ranger(5, 31, 33) ➞ 1     \n",
    "power_ranger(4, 250, 1300) ➞ 3    \n",
    "#### Answer :"
   ]
  },
  {
   "cell_type": "code",
   "execution_count": 10,
   "metadata": {},
   "outputs": [
    {
     "name": "stdout",
     "output_type": "stream",
     "text": [
      "2\n",
      "3\n",
      "1\n",
      "1\n",
      "3\n"
     ]
    }
   ],
   "source": [
    "def power_ranger(x,y,z):\n",
    "    count = 0\n",
    "    y1 = int(y**(1/x))\n",
    "    z1 = int(z**(1/x))\n",
    "    for i in range(y1,z1+1):\n",
    "        if i**x in range(y,z+1):\n",
    "            count += 1\n",
    "    return count\n",
    "print(power_ranger(2,49,65))\n",
    "print(power_ranger(3, 1, 27))\n",
    "print(power_ranger(10, 1, 5))\n",
    "print(power_ranger(5,31,33))    \n",
    "print(power_ranger(4,250,1300))   "
   ]
  },
  {
   "cell_type": "markdown",
   "metadata": {},
   "source": [
    "### 5. Given a number, return the difference between the maximum and minimum numbers that can be formed when the digits are rearranged.\n",
    "Examples       \n",
    "rearranged_difference(972882) ➞ 760833     \n",
    "988722 - 227889 = 760833          \n",
    "rearranged_difference(3320707) ➞ 7709823       \n",
    "7733200 - 23377 = 7709823           \n",
    "rearranged_difference(90010) ➞ 90981  \n",
    "91000 - 19 = 90981       \n",
    "#### Answer :"
   ]
  },
  {
   "cell_type": "code",
   "execution_count": 12,
   "metadata": {},
   "outputs": [
    {
     "name": "stdout",
     "output_type": "stream",
     "text": [
      "760833\n",
      "7709823\n",
      "90981\n"
     ]
    }
   ],
   "source": [
    "def rearranged_difference(number):\n",
    "    output = []\n",
    "    for i in str(number):\n",
    "        output.append(i)\n",
    "    min = int(''.join(sorted(output))) \n",
    "    max = int(''.join(sorted(output, reverse=True)))\n",
    "    print(max-min)\n",
    "rearranged_difference(972882)    \n",
    "rearranged_difference(3320707)\n",
    "rearranged_difference(90010)"
   ]
  }
 ],
 "metadata": {
  "kernelspec": {
   "display_name": "Python 3",
   "language": "python",
   "name": "python3"
  },
  "language_info": {
   "codemirror_mode": {
    "name": "ipython",
    "version": 3
   },
   "file_extension": ".py",
   "mimetype": "text/x-python",
   "name": "python",
   "nbconvert_exporter": "python",
   "pygments_lexer": "ipython3",
   "version": "3.8.5"
  }
 },
 "nbformat": 4,
 "nbformat_minor": 4
}
