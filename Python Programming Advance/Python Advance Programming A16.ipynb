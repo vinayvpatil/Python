{
 "cells": [
  {
   "cell_type": "markdown",
   "metadata": {},
   "source": [
    "## Python Advance Programming A16\n",
    "### 1. Rondo Form is a type of musical structure, in which there is a recurring theme/refrain, notated as A. Here are the rules for valid rondo forms:\n",
    "   - Rondo forms always start and end with an A section.      \n",
    "   - In between the A sections, there should be contrasting sections notated as B, then C, then D, etc... No letter should be skipped.      \n",
    "   - There shouldn't be any repeats in the sequence (such as ABBACCA).      \n",
    "Create a function which validates whether a given string is a valid Rondo Form.         \n",
    "Examples      \n",
    "valid_rondo(\"ABACADAEAFAGAHAIAJA\") ➞ True    \n",
    "valid_rondo(\"ABA\") ➞ True      \n",
    "valid_rondo(\"ABBACCA\") ➞ False    \n",
    "valid_rondo(\"ACAC\") ➞ False     \n",
    "valid_rondo(\"A\") ➞ False      \n",
    "#### Answer :"
   ]
  },
  {
   "cell_type": "code",
   "execution_count": 3,
   "metadata": {},
   "outputs": [
    {
     "name": "stdout",
     "output_type": "stream",
     "text": [
      "True\n",
      "True\n",
      "False\n",
      "False\n",
      "False\n"
     ]
    }
   ],
   "source": [
    "def valid_rondo(string1):\n",
    "    string2 = string1.replace('A','')\n",
    "    string2 = list(string2)\n",
    "    output = False\n",
    "    if len(string2) == 1:\n",
    "            output= True\n",
    "    else:\n",
    "        for i in range(len(string2)-1):\n",
    "            if ord(string2[i]) < ord(string2[i+1]):\n",
    "                output= True\n",
    "            else:\n",
    "                output = False\n",
    "                break\n",
    "    print(output)\n",
    "valid_rondo(\"ABACADAEAFAGAHAIAJA\")\n",
    "valid_rondo(\"ABA\")\n",
    "valid_rondo(\"ABBACCA\")\n",
    "valid_rondo(\"ACAC\")\n",
    "valid_rondo(\"A\")"
   ]
  },
  {
   "cell_type": "markdown",
   "metadata": {},
   "source": [
    "### 2. Create a function that returns the whole of the first sentence which contains a specific word. Include the full stop at the end of the sentence.\n",
    "Examples     \n",
    "txt = \"I have a cat. I have a mat. Things are going swell.\"     \n",
    "sentence_searcher(txt, \"have\") ➞ \"I have a cat.\"  \n",
    "sentence_searcher(txt, \"MAT\") ➞ \"I have a mat.\"     \n",
    "sentence_searcher(txt, \"things\") ➞ \"Things are going swell.\"        \n",
    "sentence_searcher(txt, \"flat\") ➞ \"\"    \n",
    "#### Answer :"
   ]
  },
  {
   "cell_type": "code",
   "execution_count": 15,
   "metadata": {},
   "outputs": [
    {
     "name": "stdout",
     "output_type": "stream",
     "text": [
      "I have a cat.\n",
      "I have a mat.\n",
      "Things are going swell.\n",
      "\"\"\n"
     ]
    }
   ],
   "source": [
    "def sentence_searcher(string1, word):\n",
    "    for i in string1.split('.'):\n",
    "        if word.lower() in i.lower():\n",
    "            i = i.strip()\n",
    "            i += '.'\n",
    "            return i\n",
    "    else:\n",
    "        return '\"\"'\n",
    "txt = \"I have a cat. I have a mat. Things are going swell.\"    \n",
    "print(sentence_searcher(txt, \"have\"))\n",
    "print(sentence_searcher(txt, \"MAT\"))\n",
    "print(sentence_searcher(txt, \"things\"))\n",
    "print(sentence_searcher(txt, \"flat\"))"
   ]
  },
  {
   "cell_type": "markdown",
   "metadata": {},
   "source": [
    "### 3. Given a number, find the \"round \"of each digit of the number. An integer is called \"round\" if all its digits except the leftmost (most significant) are equal to zero.\n",
    "- Round numbers: 4000, 1, 9, 800, 90        \n",
    "- Not round numbers: 110, 707, 222, 1001      \n",
    "Create a function that takes a number and returns the \"round\" of each digit (except if the digit is zero) as a string. Check out the following examples for more clarification.         \n",
    "Examples        \n",
    "sum_round(101) ➞ \"1 100\"   \n",
    "sum_round(1234) ➞ \"4 30 200 1000\"      \n",
    "sum_round(54210) ➞ \"10 200 4000 50000\"         \n",
    "#### Answer :"
   ]
  },
  {
   "cell_type": "code",
   "execution_count": 17,
   "metadata": {},
   "outputs": [
    {
     "name": "stdout",
     "output_type": "stream",
     "text": [
      "1 1000\n",
      "4 30 200 1000\n",
      "10 200 4000 50000\n"
     ]
    }
   ],
   "source": [
    "def sum_round(number):\n",
    "    number = str(number)\n",
    "    output = ''\n",
    "    x = 1\n",
    "    for i in range(len(number)-1,-1,-1):\n",
    "        output += str(int(number[i]) * x) + ' '\n",
    "        x *= 10\n",
    "    output = output.lstrip('0 ').replace(' 0','')\n",
    "    return output.strip()               \n",
    "print(sum_round(1001))\n",
    "print(sum_round(1234))\n",
    "print(sum_round(54210))"
   ]
  },
  {
   "cell_type": "markdown",
   "metadata": {},
   "source": [
    "### 4. Your task, is to create N x N multiplication table, of size n provided in parameter.\n",
    "For example, when n is 5, the multiplication table is:     \n",
    "   - 1, 2, 3, 4, 5       \n",
    "   - 2, 4, 6, 8, 10  \n",
    "   - 3, 6, 9, 12, 15     \n",
    "   - 4, 8, 12, 16, 20        \n",
    "   - 5, 10, 15, 20, 25          \n",
    "This example will result in:  \n",
    "[[1, 2, 3, 4, 5], [2, 4, 6, 8, 10], [3, 6, 9, 12, 15], [4, 8, 12, 16, 20], [5, 10, 15, 20, 25]]\n",
    "Examples     \n",
    "multiplication_table(1) ➞ [[1]]      \n",
    "multiplication_table(3) ➞ [[1, 2, 3], [2, 4, 6], [3, 6, 9]]     \n",
    "#### Answer :"
   ]
  },
  {
   "cell_type": "code",
   "execution_count": 18,
   "metadata": {},
   "outputs": [
    {
     "name": "stdout",
     "output_type": "stream",
     "text": [
      "[[1]]\n",
      "[[1, 2, 3], [2, 4, 6], [3, 6, 9]]\n"
     ]
    }
   ],
   "source": [
    "def multiplication_table(number):\n",
    "    output = []\n",
    "    x = 1\n",
    "    for i in range(number):\n",
    "        y = []\n",
    "        for j in range(1,number+1):\n",
    "            y.append(j * x)\n",
    "        output.append(y)    \n",
    "        x += 1  \n",
    "    return output\n",
    "print(multiplication_table(1))\n",
    "print(multiplication_table(3))"
   ]
  },
  {
   "cell_type": "markdown",
   "metadata": {},
   "source": [
    "### 5. Create a function that returns True if two lines rhyme and False otherwise. For the purposes of this exercise, two lines rhyme if the last word from each sentence contains the same vowels.\n",
    "Examples             \n",
    "does_rhyme(\"Sam I am!\", \"Green eggs and ham.\") ➞ True      \n",
    "does_rhyme(\"Sam I am!\", \"Green eggs and HAM.\") ➞ True    \n",
    "Capitalization and punctuation should not matter.   \n",
    "does_rhyme(\"You are off to the races\", \"a splendid day.\") ➞ False     \n",
    "does_rhyme(\"and frequently do?\", \"you gotta move.\") ➞ False  \n",
    "#### Answer :"
   ]
  },
  {
   "cell_type": "code",
   "execution_count": 19,
   "metadata": {},
   "outputs": [
    {
     "name": "stdout",
     "output_type": "stream",
     "text": [
      "True\n",
      "True\n",
      "False\n",
      "False\n"
     ]
    }
   ],
   "source": [
    "def does_rhyme(l1,l2):\n",
    "    vowels = 'aeiou'\n",
    "    output= False\n",
    "    l3 = [x.lower() for x in l1.split(\" \")[-1] if x.lower() in vowels]\n",
    "    l4 = [x.lower() for x in l2.split(\" \")[-1] if x.lower() in vowels]\n",
    "    if l3 == l4:\n",
    "        output = True\n",
    "    print(output)   \n",
    "does_rhyme(\"Sam I am!\", \"Green eggs and ham.\")\n",
    "does_rhyme(\"Sam I am!\", \"Green eggs and HAM.\")\n",
    "does_rhyme(\"You are off to the races\", \"a splendid day.\")\n",
    "does_rhyme(\"and frequently do?\", \"you gotta move.\")"
   ]
  }
 ],
 "metadata": {
  "kernelspec": {
   "display_name": "Python 3",
   "language": "python",
   "name": "python3"
  },
  "language_info": {
   "codemirror_mode": {
    "name": "ipython",
    "version": 3
   },
   "file_extension": ".py",
   "mimetype": "text/x-python",
   "name": "python",
   "nbconvert_exporter": "python",
   "pygments_lexer": "ipython3",
   "version": "3.8.5"
  }
 },
 "nbformat": 4,
 "nbformat_minor": 4
}
