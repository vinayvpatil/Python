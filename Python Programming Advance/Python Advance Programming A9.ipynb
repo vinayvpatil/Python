{
 "cells": [
  {
   "cell_type": "markdown",
   "metadata": {},
   "source": [
    "## Python Advance Programming A9\n",
    "### 1. YouTube offers different playback speed options for users. This allows users to increase or decrease the speed of the video content. Given the actual duration and playback speed of the video, calculate the playback duration of the video.\n",
    "Examples      \n",
    "playback_duration(\"00:30:00\", 2) ➞ \"00:15:00\"     \n",
    "playback_duration(\"01:20:00\", 1.5) ➞ \"00:53:20\"   \n",
    "playback_duration(\"51:20:09\", 0.5) ➞ \"102:40:18\"     \n",
    "#### Answer :"
   ]
  },
  {
   "cell_type": "code",
   "execution_count": 13,
   "metadata": {},
   "outputs": [
    {
     "name": "stdout",
     "output_type": "stream",
     "text": [
      "00:15:00\n",
      "00:53:20\n",
      "102:40:18\n"
     ]
    }
   ],
   "source": [
    "def playback_duration(t,s):\n",
    "    t1 = t.split(\":\")\n",
    "    t_secs = (3600*int(t1[0])+60*int(t1[1])+int(t1[2]))/s\n",
    "    t1hours = str(int(t_secs/3600)) if t_secs > 3600 else '00'\n",
    "    t1mins = str(int((t_secs%3600)/60)) if (t_secs)%3600 > 60 else '00'\n",
    "    t1secs = str(int((t_secs%3600)%60)) if ((t_secs)%3600)%60 > 0 else '00'   \n",
    "    output = \"{}:{}:{}\".format(t1hours, t1mins, t1secs)\n",
    "    print(output)   \n",
    "playback_duration(\"00:30:00\", 2)\n",
    "playback_duration(\"01:20:00\", 1.5)\n",
    "playback_duration(\"51:20:09\", 0.5) "
   ]
  },
  {
   "cell_type": "markdown",
   "metadata": {},
   "source": [
    "### 2. We needs your help to construct a building which will be a pile of n cubes. The cube at the bottom will have a volume of n^3, the cube above will have volume of (n-1)^3 and so on until the top which will have a volume of 1^3.\n",
    "Given the total volume m of the building, can you find the number of cubes n required for the building?\n",
    "In other words, you have to return an integer n such that:    \n",
    "n^3 + (n-1)^3 + ... + 1^3 == m      \n",
    "Return None if there is no such number.     \n",
    "Examples     \n",
    "pile_of_cubes(1071225) ➞ 45         \n",
    "pile_of_cubes(4183059834009) ➞ 2022         \n",
    "pile_of_cubes(16) ➞ None             \n",
    "#### Answer :"
   ]
  },
  {
   "cell_type": "code",
   "execution_count": 2,
   "metadata": {},
   "outputs": [
    {
     "name": "stdout",
     "output_type": "stream",
     "text": [
      "45\n",
      "2022\n",
      "None\n"
     ]
    }
   ],
   "source": [
    "def pile_of_cubes(m):\n",
    "    x = 0\n",
    "    n = 0\n",
    "    for i in range(1,m):\n",
    "        x += pow(i,3)\n",
    "        if m <= x:\n",
    "            n = i if m == x else None\n",
    "            break\n",
    "    print(n)\n",
    "pile_of_cubes(1071225)\n",
    "pile_of_cubes(4183059834009)\n",
    "pile_of_cubes(16)"
   ]
  },
  {
   "cell_type": "markdown",
   "metadata": {},
   "source": [
    "### 3. A fulcrum of a list is an integer such that all elements to the left of it and all elements to the right of it sum to the same value. Write a function that finds the fulcrum of a list.\n",
    "To illustrate:           \n",
    "find_fulcrum([3, 1, 5, 2, 4, 6, -1]) ➞ 2    \n",
    "// Since [3, 1, 5] and [4, 6, -1] both sum to 9         \n",
    "Examples          \n",
    "find_fulcrum([1, 2, 4, 9, 10, -10, -9, 3]) ➞ 4                    \n",
    "find_fulcrum([9, 1, 9]) ➞ 1        \n",
    "find_fulcrum([7, -1, 0, -1, 1, 1, 2, 3]) ➞ 0             \n",
    "find_fulcrum([8, 8, 8, 8]) ➞ -1     \n",
    "### Answer :"
   ]
  },
  {
   "cell_type": "code",
   "execution_count": 5,
   "metadata": {
    "scrolled": true
   },
   "outputs": [
    {
     "name": "stdout",
     "output_type": "stream",
     "text": [
      "2\n",
      "4\n",
      "1\n",
      "0\n",
      "-1\n"
     ]
    }
   ],
   "source": [
    "def find_fulcrum(list1):\n",
    "    output = -1\n",
    "    for i in list1:\n",
    "        x =list1.index(i)\n",
    "        if sum(list1[:x]) == sum(list1[x+1:]):\n",
    "            output = i\n",
    "            break\n",
    "    print(output)    \n",
    "find_fulcrum([3, 1, 5, 2, 4, 6, -1])\n",
    "find_fulcrum([1, 2, 4, 9, 10, -10, -9, 3])\n",
    "find_fulcrum([9, 1, 9])\n",
    "find_fulcrum([7, -1, 0, -1, 1, 1, 2, 3])\n",
    "find_fulcrum([8, 8, 8, 8])"
   ]
  },
  {
   "cell_type": "markdown",
   "metadata": {},
   "source": [
    "### 4. Given a list of integers representing the color of each sock, determine how many pairs of socks with matching colors there are. For example, there are 7 socks with colors [1, 2, 1, 2, 1, 3, 2]. There is one pair of color 1 and one of color 2. There are three odd socks left, one of each color. The number of pairs is 2.\n",
    "Create a function that returns an integer representing the number of matching pairs of socks that are available.        \n",
    "Examples         \n",
    "sock_merchant([10, 20, 20, 10, 10, 30, 50, 10, 20]) ➞ 3        \n",
    "sock_merchant([50, 20, 30, 90, 30, 20, 50, 20, 90]) ➞ 4            \n",
    "sock_merchant([]) ➞ 0               \n",
    "#### Answer :                "
   ]
  },
  {
   "cell_type": "code",
   "execution_count": 7,
   "metadata": {},
   "outputs": [
    {
     "name": "stdout",
     "output_type": "stream",
     "text": [
      "3\n",
      "4\n",
      "0\n"
     ]
    }
   ],
   "source": [
    "def sock_merchant(list1):\n",
    "    x = {}\n",
    "    output = 0\n",
    "    for i in list1:\n",
    "        if i in x:\n",
    "            x[i]+=1\n",
    "        else:\n",
    "            x[i]=1\n",
    "    for y in x.values():\n",
    "        output += y//2\n",
    "    print(output)\n",
    "sock_merchant([10, 20, 20, 10, 10, 30, 50, 10, 20])\n",
    "sock_merchant([50, 20, 30, 90, 30, 20, 50, 20, 90])\n",
    "sock_merchant([])"
   ]
  },
  {
   "cell_type": "markdown",
   "metadata": {},
   "source": [
    "### 5. Create a function that takes a string containing integers as well as other characters and return the sum of the negative integers only.\n",
    "Examples         \n",
    "negative_sum(\"-12 13%14&-11\") ➞ -23     \n",
    "-12 + -11 = -23     \n",
    "negative_sum(\"22 13%14&-11-22 13 12\") ➞ -33     \n",
    "-11 + -22 = -33     \n",
    "#### Answer :"
   ]
  },
  {
   "cell_type": "code",
   "execution_count": 11,
   "metadata": {},
   "outputs": [
    {
     "name": "stdout",
     "output_type": "stream",
     "text": [
      "-23\n",
      "-33\n"
     ]
    }
   ],
   "source": [
    "import re\n",
    "def negative_sum(string1):\n",
    "    pattern = '-\\d+'\n",
    "    output = sum([int(i) for i in re.findall(pattern,string1)])\n",
    "    print(output) \n",
    "negative_sum(\"-12 13%14&-11\")\n",
    "negative_sum(\"22 13%14&-11-22 13 12\")"
   ]
  }
 ],
 "metadata": {
  "kernelspec": {
   "display_name": "Python 3",
   "language": "python",
   "name": "python3"
  },
  "language_info": {
   "codemirror_mode": {
    "name": "ipython",
    "version": 3
   },
   "file_extension": ".py",
   "mimetype": "text/x-python",
   "name": "python",
   "nbconvert_exporter": "python",
   "pygments_lexer": "ipython3",
   "version": "3.8.5"
  }
 },
 "nbformat": 4,
 "nbformat_minor": 4
}
