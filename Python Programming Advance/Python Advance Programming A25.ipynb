{
 "cells": [
  {
   "cell_type": "markdown",
   "metadata": {},
   "source": [
    "## Python Advance Programming A25\n",
    "### 1. Write four functions that directly mutate a list:\n",
    "1. repeat(lst, n): Repeat lst n times. <br>\n",
    "2. add(lst, x): Adds x to the end of the lst. <br>\n",
    "3. remove(lst, m, n): Removes all elements between indices m and n inclusive in lst. <br>\n",
    "4. concat(lst, x): concatenates lst with x (another list). <br>\n",
    "Examples <br>\n",
    "lst = [1, 2, 3, 4] <br>\n",
    "repeat(lst, 3) ➞ [1, 2, 3, 4, 1, 2, 3, 4, 1, 2, 3, 4]  <br>\n",
    "add(lst, 1) ➞ [1, 2, 3, 4, 1, 2, 3, 4, 1, 2, 3, 4, 1] <br>\n",
    "remove(lst, 1, 12) ➞ [1] <br>\n",
    "concat(lst, [3, 4]) ➞ [1, 3, 4] <br>\n",
    "#### Answer : "
   ]
  },
  {
   "cell_type": "code",
   "execution_count": 1,
   "metadata": {},
   "outputs": [
    {
     "name": "stdout",
     "output_type": "stream",
     "text": [
      "[1, 2, 3, 4, 1, 2, 3, 4, 1, 2, 3, 4]\n",
      "[1, 2, 3, 4, 1, 2, 3, 4, 1, 2, 3, 4, 1]\n",
      "[1]\n",
      "[1, 3, 4]\n"
     ]
    }
   ],
   "source": [
    "def repeat(lst, n): \n",
    "    return lst * n\n",
    "\n",
    "def add(lst, x): \n",
    "    lst.append(x)\n",
    "    return lst\n",
    "\n",
    "def remove(lst, m, n):\n",
    "    del lst[m:n+1]\n",
    "    return lst\n",
    "\n",
    "def concat(lst, x): \n",
    "    return lst + x\n",
    "\n",
    "lst = [1, 2, 3, 4]\n",
    "lst = repeat(lst, 3)\n",
    "print(lst)\n",
    "lst = add(lst, 1)\n",
    "print(lst)\n",
    "lst = remove(lst, 1, 12)\n",
    "print(lst)\n",
    "lst = concat(lst, [3, 4])\n",
    "print(lst)"
   ]
  },
  {
   "cell_type": "markdown",
   "metadata": {},
   "source": [
    "### 2. The classic game of Mastermind is played on a tray on which the Mastermind conceals a code and the Guesser has 10 tries to guess it. The code is a sequence of 4 (or 6, sometimes more) pegs of different colors. Each guess is a corresponding sequence of 4 (or more) pegs of different colors. A guess is \"correct\" when the color of every peg in the guess exactly matches the corresponding peg in the Mastermind's code.\n",
    "After each guess by the Guesser, the Mastermind will give a score comprising black & white pegs, not arranged in any order: <br>\n",
    "- Black peg == guess peg matches the color of a code peg in the same position. <br>\n",
    "- White peg == guess peg matches the color of a code peg in another position. <br>\n",
    "Create a function that takes two strings, code and guess as arguments, and returns the score in a dictionary. <br>\n",
    "- The code and guess are strings of numeric digits <br>\n",
    "- The color of the pegs are represented by numeric digits <br>\n",
    "- no \"peg\" may be double-scored <br>\n",
    "Examples <br>\n",
    "guess_score(\"1423\", \"5678\") ➞ {\"black\": 0, \"white\": 0} <br>\n",
    "guess_score(\"1423\", \"2222\") ➞ {\"black\": 1, \"white\": 0} <br>\n",
    "guess_score(\"1423\", \"1234\") ➞ {\"black\": 1, \"white\": 3} <br>\n",
    "guess_score(\"1423\", \"2211\") ➞ {\"black\": 0, \"white\": 2} <br>\n",
    "#### Answer :"
   ]
  },
  {
   "cell_type": "code",
   "execution_count": 2,
   "metadata": {},
   "outputs": [
    {
     "name": "stdout",
     "output_type": "stream",
     "text": [
      "{'black': 0, 'white': 0}\n",
      "{'black': 1, 'white': 0}\n",
      "{'black': 1, 'white': 3}\n",
      "{'black': 0, 'white': 2}\n"
     ]
    }
   ],
   "source": [
    "def guess_score(code, guess):    \n",
    "    black = white = 0    \n",
    "    output = {\"black\": 0, \"white\": 0}\n",
    "    \n",
    "    for i in range(len(code)):\n",
    "        if code[i] in guess:\n",
    "            if code[i] == guess[i]:\n",
    "                output[\"black\"] += 1\n",
    "            else:\n",
    "                output[\"white\"] += 1\n",
    "    return output\n",
    "\n",
    "print(guess_score(\"1423\", \"5678\"))\n",
    "print(guess_score(\"1423\", \"2222\"))\n",
    "print(guess_score(\"1423\", \"1234\"))\n",
    "print(guess_score(\"1423\", \"2211\"))"
   ]
  },
  {
   "cell_type": "markdown",
   "metadata": {},
   "source": [
    "### 3. Create a function that takes a list lst and a number N and returns a list of two integers from lst whose product equals N.\n",
    "Examples <br>\n",
    "two_product([1, 2, -1, 4, 5], 20) ➞ [4, 5] <br>\n",
    "two_product([1, 2, 3, 4, 5], 10) ➞ [2, 5] <br>\n",
    "two_product([100, 12, 4, 1, 2], 15) ➞ None <br>\n",
    "#### Answer :"
   ]
  },
  {
   "cell_type": "code",
   "execution_count": 3,
   "metadata": {},
   "outputs": [
    {
     "name": "stdout",
     "output_type": "stream",
     "text": [
      "[4, 5]\n",
      "[2, 5]\n",
      "None\n"
     ]
    }
   ],
   "source": [
    "def two_product(list1, N):\n",
    "    for x in range(len(list1)):\n",
    "        for y in range(x):\n",
    "            if list1[x] * list1[y]==N:\n",
    "                return [list1[y], list1[x]]\n",
    "    return None\n",
    "\n",
    "print(two_product([1, 2, -1, 4, 5], 20))\n",
    "print(two_product([1, 2, 3, 4, 5], 10))\n",
    "print(two_product([100, 12, 4, 1, 2], 15))"
   ]
  },
  {
   "cell_type": "markdown",
   "metadata": {},
   "source": [
    "### 4. In this challenge, sort a list containing a series of dates given as strings. Each date is given in the format DD-MM-YYYY_HH:MM:\n",
    "\"12-02-2012_13:44\" <br>\n",
    "The priority of criteria used for sorting will be: <br>\n",
    "- Year <br>\n",
    "- Month <br>\n",
    "- Day <br>\n",
    "- Hours <br>\n",
    "- Minutes <br>\n",
    "Given a list lst and a string mode, implement a function that returns: <br>\n",
    "- if mode is equal to \"ASC\", the list lst sorted in ascending order. <br>\n",
    "- if mode is equal to \"DSC\", the list lst sorted in descending order. <br>\n",
    "Examples <br>\n",
    "sort_dates([\"10-02-2018_12:30\", \"10-02-2016_12:30\", \"10-02-2018_12:15\"], \"ASC\") ➞ [\"10-02-2016_12:30\", \"10-02-2018_12:15\", \"10-02-2018_12:30\"] <br>\n",
    "sort_dates([\"10-02-2018_12:30\", \"10-02-2016_12:30\", \"10-02-2018_12:15\"], \"DSC\") ➞ [\"10-02-2018_12:30\", \"10-02-2018_12:15\", \"10-02-2016_12:30\"] <br>\n",
    "sort_dates([\"09-02-2000_10:03\", \"10-02-2000_18:29\", \"01-01-1999_00:55\"], \"ASC\") ➞ [\"01-01-1999_00:55\", \"09-02-2000_10:03\", \"10-02-2000_18:29\"] <br>\n",
    "#### Answer :"
   ]
  },
  {
   "cell_type": "code",
   "execution_count": 8,
   "metadata": {},
   "outputs": [
    {
     "name": "stdout",
     "output_type": "stream",
     "text": [
      "['10-02-2016_12:30', '10-02-2018_12:15', '10-02-2018_12:30']\n",
      "['10-02-2018_12:30', '10-02-2018_12:15', '10-02-2016_12:30']\n",
      "['01-01-1999_00:55', '09-02-2000_10:03', '10-02-2000_18:29']\n"
     ]
    }
   ],
   "source": [
    "from datetime import datetime\n",
    "\n",
    "def sort_dates(string1, mode):\n",
    "    if mode == \"ASC\":\n",
    "        reverse = False\n",
    "    else:\n",
    "        reverse = True\n",
    "        \n",
    "    string1.sort(key = lambda date: datetime.strptime(date, '%d-%m-%Y_%H:%M'), reverse=reverse)\n",
    "    return string1\n",
    "\n",
    "print(sort_dates([\"10-02-2018_12:30\", \"10-02-2016_12:30\", \"10-02-2018_12:15\"], \"ASC\"))\n",
    "print(sort_dates([\"10-02-2018_12:30\", \"10-02-2016_12:30\", \"10-02-2018_12:15\"], \"DSC\"))\n",
    "print(sort_dates([\"09-02-2000_10:03\", \"10-02-2000_18:29\", \"01-01-1999_00:55\"], \"ASC\"))"
   ]
  },
  {
   "cell_type": "markdown",
   "metadata": {},
   "source": [
    "### 5. Write a function that selects all words that have all the same vowels (in any order and/or number) as the first word, including the first word.\n",
    "Examples <br>\n",
    "same_vowel_group([\"toe\", \"ocelot\", \"maniac\"]) ➞ [\"toe\", \"ocelot\"] <br>\n",
    "same_vowel_group([\"many\", \"carriage\", \"emit\", \"apricot\", \"animal\"]) ➞ [\"many\"] <br>\n",
    "same_vowel_group([\"hoops\", \"chuff\", \"bot\", \"bottom\"]) ➞ [\"hoops\", \"bot\", \"bottom\"] <br>\n",
    "#### Answer :"
   ]
  },
  {
   "cell_type": "code",
   "execution_count": 9,
   "metadata": {},
   "outputs": [
    {
     "name": "stdout",
     "output_type": "stream",
     "text": [
      "['toe', 'ocelot']\n",
      "['many']\n",
      "['hoops', 'bot', 'bottom']\n"
     ]
    }
   ],
   "source": [
    "def same_vowel_group(words):\n",
    "    vowels = \"aAeEiIoOuU\"\n",
    "    list1 = []\n",
    "    for word in words:\n",
    "        list1.append(set([i for i in word if i in vowels]))\n",
    "                    \n",
    "    return [words[j] for j in range(len(list1)) if list1[0] == list1[j]]            \n",
    "\n",
    "print(same_vowel_group([\"toe\", \"ocelot\", \"maniac\"]))\n",
    "print(same_vowel_group([\"many\", \"carriage\", \"emit\", \"apricot\", \"animal\"]))\n",
    "print(same_vowel_group([\"hoops\", \"chuff\", \"bot\", \"bottom\"]))"
   ]
  },
  {
   "cell_type": "markdown",
   "metadata": {},
   "source": [
    "### 6. Create a function that takes a list of more than three numbers and returns the Least Common Multiple (LCM).\n",
    "Examples <br>\n",
    "lcm_of_list([1, 2, 3, 4, 5, 6, 7, 8, 9, 10]) ➞ 2520 <br>\n",
    "lcm_of_list([13, 6, 17, 18, 19, 20, 37]) ➞ 27965340 <br>\n",
    "lcm_of_list([44, 64, 12, 17, 65]) ➞ 2333760 <br>\n",
    "#### Answer :"
   ]
  },
  {
   "cell_type": "code",
   "execution_count": 10,
   "metadata": {},
   "outputs": [
    {
     "name": "stdout",
     "output_type": "stream",
     "text": [
      "2520\n",
      "27965340\n",
      "2333760\n"
     ]
    }
   ],
   "source": [
    "import math\n",
    "\n",
    "def lcm_of_list(list1):\n",
    "    lcm = 1\n",
    "    for i in list1:\n",
    "        lcm = lcm*i//math.gcd(lcm, i)\n",
    "    return lcm\n",
    "\n",
    "print(lcm_of_list([1, 2, 3, 4, 5, 6, 7, 8, 9, 10]))\n",
    "print(lcm_of_list([13, 6, 17, 18, 19, 20, 37]))\n",
    "print(lcm_of_list([44, 64, 12, 17, 65]))"
   ]
  }
 ],
 "metadata": {
  "kernelspec": {
   "display_name": "Python 3",
   "language": "python",
   "name": "python3"
  },
  "language_info": {
   "codemirror_mode": {
    "name": "ipython",
    "version": 3
   },
   "file_extension": ".py",
   "mimetype": "text/x-python",
   "name": "python",
   "nbconvert_exporter": "python",
   "pygments_lexer": "ipython3",
   "version": "3.8.5"
  }
 },
 "nbformat": 4,
 "nbformat_minor": 4
}
