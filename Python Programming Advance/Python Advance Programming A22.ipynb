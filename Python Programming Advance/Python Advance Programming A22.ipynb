{
 "cells": [
  {
   "cell_type": "markdown",
   "metadata": {},
   "source": [
    "## Python Advance Programming A22\n",
    "### 1. Create a class Smoothie and do the following:\n",
    "\n",
    "- Create an instance attribute called ingredients. <br>\n",
    "- Create a get_cost method which calculates the total cost of the ingredients used to make the smoothie. <br>\n",
    "- Create a get_price method which returns the number from get_cost plus the number from get_cost multiplied by 1.5. Round to two decimal places. <br>\n",
    "- Create a get_name method which gets the ingredients and puts them in alphabetical order into a nice descriptive sentence. If there are multiple ingredients, add the word \"Fusion\" to the end but otherwise, add \"Smoothie\". Remember to change \"-berries\" to \"-berry\". See the examples below. <br>\n",
    "Ingredient\t -  Price <br>\n",
    "Strawberries   \\\\$1.50 <br>\n",
    "Banana\t       \\\\$0.50 <br>\n",
    "Mango\t       \\\\$2.50 <br>\n",
    "Blueberries\t   \\\\$1.00 <br>\n",
    "Raspberries\t   \\\\$1.00 <br>\n",
    "Apple\t      \\\\$1.75 <br>\n",
    "Pineapple\t   \\\\$3.50 <br>\n",
    "Examples  <br>\n",
    "s1 = Smoothie([\"Banana\"]) <br>\n",
    "s1.ingredients ➞ [\"Banana\"] <br>\n",
    "s1.get_cost() ➞ \"\\\\$0.50\" <br> <br>\n",
    "s1.get_price() ➞ \"\\\\$1.25\" <br>\n",
    "s1.get_name() ➞ \"Banana Smoothie\" <br>\n",
    "s2 = Smoothie([\"Raspberries\", \"Strawberries\", \"Blueberries\"]) <br>\n",
    "s2.ingredients ➞ [\"Raspberries\", \"Strawberries\", \"Blueberries\"] <br>\n",
    "s2.get_cost() ➞ \"\\\\$3.50\" <br>\n",
    "s2.get_price() ➞ \"\\\\$8.75\" <br>\n",
    "s2.get_name() ➞ \"Blueberry Raspberry Strawberry Fusion\" <br>\n",
    "#### Answer :"
   ]
  },
  {
   "cell_type": "code",
   "execution_count": 1,
   "metadata": {
    "scrolled": true
   },
   "outputs": [
    {
     "name": "stdout",
     "output_type": "stream",
     "text": [
      "['Banana']\n",
      "$0.5\n",
      "$1.25\n",
      "Banana Smoothie\n",
      "['Raspberries', 'Strawberries', 'Blueberries']\n",
      "$3.5\n",
      "$8.75\n",
      "Blueberry Raspberry Strawberry Fusion\n"
     ]
    }
   ],
   "source": [
    "import re\n",
    "class Smoothie:\n",
    "    ingredients_price = {\n",
    "        'Strawberries':1.50,\n",
    "        'Banana':0.50,\n",
    "        'Mango':2.50,\n",
    "        'Blueberries':1.00,\n",
    "        'Raspberries':1.00,\n",
    "        'Apple':1.75,\n",
    "        'Pineapple':3.50\n",
    "    }\n",
    "    def __init__(self,ingredients):\n",
    "        self.ingredients = ingredients\n",
    "        self.cost = 0\n",
    "    def get_cost(self):\n",
    "        for i in self.ingredients:\n",
    "            if i in Smoothie.ingredients_price:\n",
    "                self.cost += round(Smoothie.ingredients_price.get(i,0),2)\n",
    "        return '$'+str(self.cost)\n",
    "    def get_price(self):\n",
    "        self.price = round((self.cost*1.5)+(self.cost),2)\n",
    "        return '$'+str(self.price)\n",
    "    def get_name(self):\n",
    "        self.name = re.sub('berries','berry',' '.join(sorted(self.ingredients)))\n",
    "        self.name = self.name+' Smoothie' if len(self.ingredients) == 1 else self.name+' Fusion'\n",
    "        return self.name\n",
    "\n",
    "s1 = Smoothie([\"Banana\"])\n",
    "print(s1.ingredients)\n",
    "print(s1.get_cost())\n",
    "print(s1.get_price())\n",
    "print(s1.get_name())\n",
    "\n",
    "s2 = Smoothie([\"Raspberries\", \"Strawberries\", \"Blueberries\"])\n",
    "print(s2.ingredients)\n",
    "print(s2.get_cost())\n",
    "print(s2.get_price())\n",
    "print(s2.get_name())"
   ]
  },
  {
   "cell_type": "markdown",
   "metadata": {},
   "source": [
    "### 2. Your task is to write a program which allows teachers to create a multiple choice test in a class called Testpaper and to be also able to assign a minimum pass mark. The testpaper's subject should also be included. The attributes are in the following order:\n",
    "  1. subject <br>\n",
    "  2. markscheme <br>\n",
    "  3. pass_mark <br>\n",
    "As well as that, we need to create student objects to take the test itself! Create another class called Student and do the following: <br>\n",
    "- Create an attribute called tests_taken and set the default as 'No tests taken'. <br>\n",
    "- Make a method called take_test(), which takes in the testpaper object they are completing and the student's answers. Compare what they wrote to the mark scheme, and append to the/create a dictionary assigned to tests_taken in the way as shown in the point below. <br>\n",
    "- Each key in the dictionary should be the testpaper subject and each value should be a string in the format seen in the examples below (whether or not the student has failed, and their percentage in brackets). <br>\n",
    "Examples <br>\n",
    "paper1 = Testpaper(\"Maths\", [\"1A\", \"2C\", \"3D\", \"4A\", \"5A\"], \"60%\") <br>\n",
    "paper2 = Testpaper(\"Chemistry\", [\"1C\", \"2C\", \"3D\", \"4A\"], \"75%\") <br>\n",
    "paper3 = Testpaper(\"Computing\", [\"1D\", \"2C\", \"3C\", \"4B\", \"5D\", \"6C\", \"7A\"], \"75%\") <br>\n",
    "student1 = Student() <br>\n",
    "student2 = Student() <br>\n",
    "student1.tests_taken ➞ \"No tests taken\" <br>\n",
    "student1.take_test(paper1, [\"1A\", \"2D\", \"3D\", \"4A\", \"5A\"]) <br>\n",
    "student1.tests_taken ➞ {\"Maths\" : \"Passed! (80%)\"} <br>\n",
    "student2.take_test(paper2, [\"1C\", \"2D\", \"3A\", \"4C\"]) <br>\n",
    "student2.take_test(paper3, [\"1A\", \"2C\", \"3A\", \"4C\", \"5D\", \"6C\", \"7B\"]) <br>\n",
    "student2.tests_taken ➞ {\"Chemistry\" : \"Failed! (25%)\", \"Computing\" : \"Failed! (43%)\"} <br>\n",
    "#### Answer :"
   ]
  },
  {
   "cell_type": "code",
   "execution_count": 4,
   "metadata": {},
   "outputs": [
    {
     "name": "stdout",
     "output_type": "stream",
     "text": [
      "No tests taken\n",
      "{'Maths': 'Passed! (80%)'}\n",
      "{'Chemistry': 'Failed! (25%)', 'Computing': 'Failed! (42%)'}\n"
     ]
    }
   ],
   "source": [
    "class Testpaper:\n",
    "    def __init__(self,subject,markscheme,pass_mark):\n",
    "        self.subject = subject\n",
    "        self.markscheme = markscheme\n",
    "        self.pass_mark = pass_mark\n",
    "        \n",
    "class Student:\n",
    "    def __init__(self):\n",
    "        self.tests_taken = \"No tests taken\"\n",
    "    def take_test(self,paper_name,student_response):\n",
    "        correct_responses = 0\n",
    "        for i in range(len(paper_name.markscheme)):\n",
    "            if paper_name.markscheme[i] == student_response[i]:\n",
    "                correct_responses +=1\n",
    "        ach_pass_mark = int(correct_responses/len(paper_name.markscheme)*100)\n",
    "        needed_pass_mark = int(paper_name.pass_mark.split(\"%\")[0])\n",
    "        if self.tests_taken == 'No tests taken':\n",
    "            self.tests_taken = {}\n",
    "        if ach_pass_mark >= needed_pass_mark:\n",
    "            self.tests_taken[paper_name.subject] = f\"Passed! ({str(ach_pass_mark)}%)\"\n",
    "        else:\n",
    "            self.tests_taken[paper_name.subject] = f'Failed! ({str(ach_pass_mark)}%)'\n",
    "        \n",
    "paper1 = Testpaper(\"Maths\", [\"1A\", \"2C\", \"3D\", \"4A\", \"5A\"], \"60%\")  \n",
    "paper2 = Testpaper(\"Chemistry\", [\"1C\", \"2C\", \"3D\", \"4A\"], \"75%\")  \n",
    "paper3 = Testpaper(\"Computing\", [\"1D\", \"2C\", \"3C\", \"4B\", \"5D\", \"6C\", \"7A\"], \"75%\")       \n",
    "\n",
    "student1 = Student()   \n",
    "student2 = Student()\n",
    "\n",
    "print(student1.tests_taken)\n",
    "student1.take_test(paper1, [\"1A\", \"2D\", \"3D\", \"4A\", \"5A\"])\n",
    "print(student1.tests_taken)\n",
    "\n",
    "student2.take_test(paper2, [\"1C\", \"2D\", \"3A\", \"4C\"])\n",
    "student2.take_test(paper3, [\"1A\", \"2C\", \"3A\", \"4C\", \"5D\", \"6C\", \"7B\"])\n",
    "print(student2.tests_taken)"
   ]
  },
  {
   "cell_type": "markdown",
   "metadata": {},
   "source": [
    "### 3. Due to unforseen circumstances in Suburbia, the trains will be delayed by a further 10 minutes.\n",
    "Create a function that will help to plan out and manage these delays! Create a function called manage_delays that does the following: <br>\n",
    "- Parameters will be the train object, a destination and number of minutes the delay is. <br>\n",
    "- Increment to the train object's expected_time by the delay, if the destination given is in the train object's destinations. <br>\n",
    "Examples <br>\n",
    "trains = [ <br>\n",
    "  Train([\"Townsville\", \"Suburbia\", \"Urbantska\"], \"13:04\"), <br>\n",
    "  Train([\"Farmsdale\", \"Suburbia\", \"Lakeside Valley\"], \"13:20\"), <br>\n",
    "  Train([\"Suburbia\", \"Townsville\", \"Lakeside Valley\"], \"13:22\") <br>\n",
    "] <br>\n",
    "for t in trains: <br>\n",
    "    manage_delays(t, \"Lakeside Valley\", 60) <br>\n",
    "trains[0].expected_time ➞ \"13:04\" <br>\n",
    "trains[1].expected_time ➞ \"14:20\" <br>\n",
    "trains[2].expected_time ➞ \"14:22\" <br>\n",
    "#### Answer :"
   ]
  },
  {
   "cell_type": "code",
   "execution_count": 6,
   "metadata": {},
   "outputs": [
    {
     "name": "stdout",
     "output_type": "stream",
     "text": [
      "13:04\n",
      "14:20\n",
      "14:22\n"
     ]
    }
   ],
   "source": [
    "class Train:\n",
    "    def __init__(self,destination_list,expected_time):\n",
    "        self.destination_list = destination_list\n",
    "        self.expected_time = expected_time\n",
    "\n",
    "def manage_delays(train_obj,destination_point,delay):\n",
    "    if destination_point in train_obj.destination_list:\n",
    "        exp_time = train_obj.expected_time.split(\":\")\n",
    "        new_exp_time = str((int(exp_time[0])*60+int(exp_time[1])+int(delay))//60)+':'+str((int(exp_time[0])*60+int(exp_time[1])+int(delay))%60)\n",
    "        train_obj.expected_time = new_exp_time\n",
    "\n",
    "trains = [\n",
    "  Train([\"Townsville\", \"Suburbia\", \"Urbantska\"], \"13:04\"),\n",
    "  Train([\"Farmsdale\", \"Suburbia\", \"Lakeside Valley\"], \"13:20\"),\n",
    "  Train([\"Suburbia\", \"Townsville\", \"Lakeside Valley\"], \"13:22\")\n",
    "]\n",
    "\n",
    "for i in trains:\n",
    "    manage_delays(i, \"Lakeside Valley\", 60)\n",
    "        \n",
    "print(trains[0].expected_time)    \n",
    "print(trains[1].expected_time)    \n",
    "print(trains[2].expected_time) "
   ]
  },
  {
   "cell_type": "markdown",
   "metadata": {},
   "source": [
    "### 4. Ted works as a computer programmer at Minecraft Inc. His boss has just given him an important assignment to update the code for the minecart tracks by the end of April. However, he has recently had to self-isolate due to Corvid-19 and has left the code for the tracks BACK AT WORK!! He has the shorthand for the tracks he's supposed to look at, and where the carts are suppost to end up, but not the actual code.\n",
    "He knows that: <br>\n",
    "1. \"-->\" = \"Speed-Up Track\" ⁠— If a minecart interacts with this track, it's velocity increases by 2.67 BPS unless it's at its maximum speed of 8 BPS. <br>\n",
    "2. \"<-->\" = \"Powered Track\" ⁠— If a minecart interacts with this track, it's velocity remains the same.\n",
    "3. \"<--\" = \"Slow-Down Track\" ⁠— If a minecart interacts with this track, it's velocity decreases by 2.67 BPS unless it's velocity equals 0, at which point it stops. <br>\n",
    "4. \"---\" = \"Unpowered Track\" ⁠— If a minecart interacts with this track, it's velocity decreases by 1 BPS unless it's velocity equals 0, at which point it stops. <br>\n",
    "Help Ted by writing a class for the tracks that interact with the provided Minecart class as shown above. And then write a function that will take a list of the shorthand tracks and: <br>\n",
    "- If the Minecart reaches the last peice of Track, return True. <br>\n",
    "- Else return the index of the Track where the Minecart stops. <br>\n",
    "Examples <br>\n",
    "mine_run([\"-->\", \"-->\", \"-->\", \"<--\", \"<--\", \"<--\"]) ➞ True <br>\n",
    "mine_run([\"-->\", \"<--\", \"-->\", \"-->\", \"<-->\", \"---\"]) ➞ 1 <br>\n",
    "#### Answer "
   ]
  },
  {
   "cell_type": "code",
   "execution_count": 7,
   "metadata": {},
   "outputs": [
    {
     "name": "stdout",
     "output_type": "stream",
     "text": [
      "True\n",
      "1\n"
     ]
    }
   ],
   "source": [
    "class minecraft:\n",
    "    def __init__(self,tracks):\n",
    "        self.tracks = tracks\n",
    "        \n",
    "def mine_run(tracks):\n",
    "    mine_vel = 0  \n",
    "    output = 0\n",
    "    for i in range(len(tracks)):\n",
    "        if tracks[i] == '-->':\n",
    "            if mine_vel+2.67 >= 8: mine_vel = 8 \n",
    "            else: mine_vel +=2.67\n",
    "        elif tracks[i] == '<-->': continue\n",
    "        elif tracks[i] == '<--':\n",
    "            if mine_vel-2.67 <= 0: output = True if i == len(tracks)-1 else i; break\n",
    "            else: mine_vel -=2.67\n",
    "        else:\n",
    "            if mine_vel-1 <= 0: output = True if i == len(tracks)-1 else i; break\n",
    "            else: mine_vel -=1        \n",
    "    return output\n",
    "\n",
    "mine_track_1 = minecraft([\"-->\", \"-->\", \"-->\", \"<--\", \"<--\", \"<--\"])\n",
    "print(mine_run(mine_track_1.tracks))\n",
    "mine_track_2 = minecraft([\"-->\", \"<--\", \"-->\", \"-->\", \"<-->\", \"---\"])\n",
    "print(mine_run(mine_track_2.tracks))"
   ]
  },
  {
   "cell_type": "markdown",
   "metadata": {},
   "source": [
    "### 5. Make a Rectangle class with four parameters, an x, a y (representing the top-left corner of the rectangle), a width and a height exclusively in that order.\n",
    "Lastly, make a function intersecting that takes two Rectangle objects and returns True if those objects are intersecting (colliding), else return False. <br>\n",
    "Examples <br>\n",
    "a = Rectangle(10, 20, 100, 20) <br>\n",
    "b = Rectangle(10, 40, 15, 20) <br>\n",
    "c = Rectangle(50, 50, 20, 30) <br>\n",
    "intersecting(a, b) ➞ True <br>\n",
    "intersecting(a, c) ➞ False <br>\n",
    "intersecting(b, c) ➞ True <br>\n",
    "### Answer :"
   ]
  },
  {
   "cell_type": "code",
   "execution_count": 9,
   "metadata": {},
   "outputs": [
    {
     "name": "stdout",
     "output_type": "stream",
     "text": [
      "True\n",
      "False\n",
      "True\n"
     ]
    }
   ],
   "source": [
    "def intersecting(r1, r2):\n",
    "    output = False\n",
    "    if (r2.y-r1.y == r1.height) or (r2.y-r1.y + r1.height == r2.height):\n",
    "        output = True\n",
    "    print(output)\n",
    "\n",
    "class Rectangle:\n",
    "    def __init__(self, x, y, width, height):\n",
    "        self.x = x\n",
    "        self.y = y\n",
    "        self.width = width\n",
    "        self.height = height\n",
    "\n",
    "a = Rectangle(10, 20, 100, 20)\n",
    "b = Rectangle(10, 40, 15, 20)\n",
    "c = Rectangle(50, 50, 20, 30)\n",
    "intersecting(a, b)\n",
    "intersecting(a, c)\n",
    "intersecting(b, c)"
   ]
  }
 ],
 "metadata": {
  "kernelspec": {
   "display_name": "Python 3",
   "language": "python",
   "name": "python3"
  },
  "language_info": {
   "codemirror_mode": {
    "name": "ipython",
    "version": 3
   },
   "file_extension": ".py",
   "mimetype": "text/x-python",
   "name": "python",
   "nbconvert_exporter": "python",
   "pygments_lexer": "ipython3",
   "version": "3.8.5"
  }
 },
 "nbformat": 4,
 "nbformat_minor": 4
}
