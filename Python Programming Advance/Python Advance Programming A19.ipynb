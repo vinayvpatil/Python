{
 "cells": [
  {
   "cell_type": "markdown",
   "metadata": {},
   "source": [
    "## Python Advance Programming A19\n",
    "### 1. Create a checker board generator, which takes as inputs n and 2 elements to generate an n x n checkerboard with those two elements as alternating squares.\n",
    "Examples           \n",
    "checker_board(2, 7, 6) ➞ [            \n",
    "  [7, 6],                   \n",
    "  [6, 7]            \n",
    "]                \n",
    "checker_board(3, \"A\", \"B\") ➞ [              \n",
    "  [\"A\", \"B\", \"A\"],              \n",
    "  [\"B\", \"A\", \"B\"],                \n",
    "  [\"A\", \"B\", \"A\"]           \n",
    "]                 \n",
    "checker_board(4, \"c\", \"d\") ➞ [             \n",
    "  [\"c\", \"d\", \"c\", \"d\"],          \n",
    "  [\"d\", \"c\", \"d\", \"c\"],               \n",
    "  [\"c\", \"d\", \"c\", \"d\"],                 \n",
    "  [\"d\", \"c\", \"d\", \"c\"]         \n",
    "]                  \n",
    "\n",
    "checker_board(4, \"c\", \"c\") ➞ \"invalid\"  \n",
    "#### Answer :"
   ]
  },
  {
   "cell_type": "code",
   "execution_count": 1,
   "metadata": {},
   "outputs": [
    {
     "name": "stdout",
     "output_type": "stream",
     "text": [
      "[[7, 6], [6, 7]]\n",
      "[['A', 'B', 'A'], ['B', 'A', 'B'], ['A', 'B', 'A']]\n",
      "[['c', 'd', 'c', 'd'], ['d', 'c', 'd', 'c'], ['c', 'd', 'c', 'd'], ['d', 'c', 'd', 'c']]\n",
      "Invalid\n"
     ]
    }
   ],
   "source": [
    "def checker_board(n,x,y):\n",
    "    if x != y:\n",
    "        input = [x,y]\n",
    "        output = []\n",
    "        for i in range(n):\n",
    "            output.append([])\n",
    "            for j in range(n):\n",
    "                output[i].append(input[(i+j)%2])\n",
    "    else:\n",
    "        output = 'Invalid'\n",
    "    print(output)  \n",
    "checker_board(2, 7, 6)\n",
    "checker_board(3, \"A\", \"B\")\n",
    "checker_board(4, \"c\", \"d\")\n",
    "checker_board(4, \"c\", \"c\") "
   ]
  },
  {
   "cell_type": "markdown",
   "metadata": {},
   "source": [
    "### 2. A string is an almost-palindrome if, by changing only one character, you can make it a palindrome. Create a function that returns True if a string is an almost-palindrome and False otherwise.\n",
    "Examples     \n",
    "almost_palindrome(\"abcdcbg\") ➞ True   \n",
    "Transformed to \"abcdcba\" by changing \"g\" to \"a\".   \n",
    "almost_palindrome(\"abccia\") ➞ True \n",
    "Transformed to \"abccba\" by changing \"i\" to \"b\".     \n",
    "almost_palindrome(\"abcdaaa\") ➞ False             \n",
    "Can't be transformed to a palindrome in exactly 1 turn.  \n",
    "almost_palindrome(\"1234312\") ➞ False        \n",
    "#### Answer:         "
   ]
  },
  {
   "cell_type": "code",
   "execution_count": 12,
   "metadata": {},
   "outputs": [
    {
     "name": "stdout",
     "output_type": "stream",
     "text": [
      "True\n",
      "True\n",
      "False\n",
      "False\n",
      "True\n"
     ]
    }
   ],
   "source": [
    "def almost_palindrome(string1):\n",
    "    string2 = string1[::-1]\n",
    "    count = 0\n",
    "    for i in range(len(string1)):\n",
    "        if string1[i] != string2[i]:\n",
    "            count +=1\n",
    "    output = True if count == 2 else False\n",
    "    print(output)\n",
    "    \n",
    "almost_palindrome(\"abcdcbg\")\n",
    "almost_palindrome(\"abccia\")\n",
    "almost_palindrome(\"abcdaaa\")\n",
    "almost_palindrome(\"1234312\")\n",
    "almost_palindrome(\"1234320\")"
   ]
  },
  {
   "cell_type": "markdown",
   "metadata": {},
   "source": [
    "### 3. Create a function that finds how many prime numbers there are, up to the given integer.\n",
    "Examples           \n",
    "prime_numbers(10) ➞ 4              \n",
    "\\# 2, 3, 5 and 7    \n",
    "prime_numbers(20) ➞ 8    \n",
    "\\# 2, 3, 5, 7, 11, 13, 17 and 19      \n",
    "prime_numbers(30) ➞ 10                \n",
    "\\# 2, 3, 5, 7, 11, 13, 17, 19, 23 and 29   \n",
    "#### Answer :"
   ]
  },
  {
   "cell_type": "code",
   "execution_count": 18,
   "metadata": {},
   "outputs": [
    {
     "name": "stdout",
     "output_type": "stream",
     "text": [
      "4\n",
      "8\n",
      "10\n"
     ]
    }
   ],
   "source": [
    "def prime_numbers(n):\n",
    "    output = [2]\n",
    "    for i in range(3,n,2):\n",
    "        for j in range(2,i):\n",
    "            if i % j == 0:                \n",
    "                break\n",
    "        else:\n",
    "           output.append(i)\n",
    "    print(len(output))\n",
    "prime_numbers(10)\n",
    "prime_numbers(20)\n",
    "prime_numbers(30)"
   ]
  },
  {
   "cell_type": "markdown",
   "metadata": {},
   "source": [
    "### 4. If today was Monday, in two days, it would be Wednesday.\n",
    "Create a function that takes in a list of days as input and the number of days to increment by. Return a list of days after n number of days has passed.        \n",
    "Examples        \n",
    "after_n_days([\"Thursday\", \"Monday\"], 4) ➞ [\"Monday\", \"Friday\"]       \n",
    "after_n_days([\"Sunday\", \"Sunday\", \"Sunday\"], 1) ➞ [\"Monday\", \"Monday\", \"Monday\"]    \n",
    "after_n_days([\"Monday\", \"Tuesday\", \"Friday\"], 1) ➞ [\"Tuesday\", \"Wednesday\", \"Saturday\"]                \n",
    "#### Answer :"
   ]
  },
  {
   "cell_type": "code",
   "execution_count": 20,
   "metadata": {},
   "outputs": [
    {
     "name": "stdout",
     "output_type": "stream",
     "text": [
      "['Monday', 'Friday']\n",
      "['Monday', 'Monday', 'Monday']\n",
      "['Tuesday', 'Wednesday', 'Saturday']\n"
     ]
    }
   ],
   "source": [
    "def after_n_days(list1,n):\n",
    "    dict1 = {0:'Sunday',1:'Monday',2:'Tuesday',3:'Wednesday',4:'Thursday',5:'Friday',6:'Saturday'}\n",
    "    name = list(dict1.values())\n",
    "    output = []\n",
    "    for i in list1:\n",
    "        output.append(dict1[(name.index(i)+n)%7])\n",
    "    print(output)  \n",
    "after_n_days([\"Thursday\", \"Monday\"], 4)\n",
    "after_n_days([\"Sunday\", \"Sunday\", \"Sunday\"], 1)\n",
    "after_n_days([\"Monday\", \"Tuesday\", \"Friday\"], 1)"
   ]
  },
  {
   "cell_type": "markdown",
   "metadata": {},
   "source": [
    "### 5. You are in the process of creating a chat application and want to add an anonymous name feature. This anonymous name feature will create an alias that consists of two capitalized words beginning with the same letter as the users first name.        \n",
    "Create a function that determines if the list of users is mapped to a list of anonymous names correctly.        \n",
    "Examples          \n",
    "is_correct_aliases([\"Adrian M.\", \"Harriet S.\", \"Mandy T.\"], [\"Amazing Artichoke\", \"Hopeful Hedgehog\", \"Marvelous Mouse\"]) ➞ True                 \n",
    "is_correct_aliases([\"Rachel F.\", \"Pam G.\", \"Fred Z.\", \"Nancy K.\"], [\"Reassuring Rat\", \"Peaceful Panda\", \"Fantastic Frog\", \"Notable Nickel\"]) ➞ True           \n",
    "is_correct_aliases([\"Beth T.\"], [\"Brandishing Mimosa\"]) ➞ False         \n",
    "Both words in \"Brandishing Mimosa\" should begin with a \"B\" - \"Brandishing Beaver\" would do the trick. \n",
    "#### Answer :"
   ]
  },
  {
   "cell_type": "code",
   "execution_count": 23,
   "metadata": {},
   "outputs": [
    {
     "name": "stdout",
     "output_type": "stream",
     "text": [
      "True\n",
      "True\n",
      "False\n",
      "True\n"
     ]
    }
   ],
   "source": [
    "def is_correct_aliases(l1,l2):\n",
    "    for i in range(len(l1)):\n",
    "        if l1[i][0] == l2[i][0] and l1[i][0] == l2[i].split()[1][0]:\n",
    "            return True\n",
    "        else:\n",
    "            return False     \n",
    "print(is_correct_aliases([\"Adrian M.\", \"Harriet S.\", \"Mandy T.\"], [\"Amazing Artichoke\", \"Hopeful Hedgehog\", \"Marvelous Mouse\"]))\n",
    "print(is_correct_aliases([\"Rachel F.\", \"Pam G.\", \"Fred Z.\", \"Nancy K.\"], [\"Reassuring Rat\", \"Peaceful Panda\", \"Fantastic Frog\", \"Notable Nickel\"]))\n",
    "print(is_correct_aliases([\"Beth T.\"], [\"Brandishing Mimosa\"]) )\n",
    "print(is_correct_aliases([\"Vinay P.\"], [\"Victorious Vinay\"]) )"
   ]
  }
 ],
 "metadata": {
  "kernelspec": {
   "display_name": "Python 3",
   "language": "python",
   "name": "python3"
  },
  "language_info": {
   "codemirror_mode": {
    "name": "ipython",
    "version": 3
   },
   "file_extension": ".py",
   "mimetype": "text/x-python",
   "name": "python",
   "nbconvert_exporter": "python",
   "pygments_lexer": "ipython3",
   "version": "3.8.5"
  }
 },
 "nbformat": 4,
 "nbformat_minor": 4
}
