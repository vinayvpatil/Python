{
 "cells": [
  {
   "cell_type": "markdown",
   "metadata": {},
   "source": [
    "## Python Advance Programming A17\n",
    "### 1. Create a function that transposes a 2D matrix.\n",
    "Examples          \n",
    "transpose_matrix([   \n",
    "  [1, 1, 1],       \n",
    "  [2, 2, 2],         \n",
    "  [3, 3, 3]      \n",
    "]) ➞ [      \n",
    "  [1, 2, 3],           \n",
    "  [1, 2, 3],          \n",
    "  [1, 2, 3]          \n",
    "]           \n",
    "transpose_matrix([          \n",
    "  [5, 5],          \n",
    "  [6, 7],        \n",
    "  [9, 1]            \n",
    "]) ➞ [            \n",
    "  [5, 6, 9],               \n",
    "  [5, 7, 1]              \n",
    "]            \n",
    "#### Answer :"
   ]
  },
  {
   "cell_type": "code",
   "execution_count": 2,
   "metadata": {},
   "outputs": [
    {
     "name": "stdout",
     "output_type": "stream",
     "text": [
      "[[1, 2, 3], [1, 2, 3], [1, 2, 3]]\n",
      "[[5, 6, 9], [5, 7, 1]]\n"
     ]
    }
   ],
   "source": [
    "def transpose_matrix(mat):\n",
    "    output = []\n",
    "    for i in range(len(mat[0])):\n",
    "        x = []\n",
    "        for j in range(len(mat)):\n",
    "            x.append(mat[j][i])\n",
    "        output.append(x)\n",
    "    return output          \n",
    "print(transpose_matrix([ [1, 1, 1], [2, 2, 2], [3, 3, 3]]))\n",
    "print(transpose_matrix([ [5, 5], [6, 7], [9, 1] ]))"
   ]
  },
  {
   "cell_type": "markdown",
   "metadata": {},
   "source": [
    "### 2. Create a function that determines whether a string is a valid hex code.\n",
    "\n",
    "A hex code must begin with a pound key # and is exactly 6 characters in length. Each character must be a digit from 0-9 or an alphabetic character from A-F. All alphabetic characters may be uppercase or lowercase.         \n",
    "Examples      \n",
    "is_valid_hex_code(\"#CD5C5C\") ➞ True      \n",
    "is_valid_hex_code(\"#EAECEE\") ➞ True  \n",
    "is valid_hex_code(\"#eaecee\") ➞ True      \n",
    "is_valid_hex_code(\"#CD5C58C\") ➞ False \n",
    "Length exceeds 6    \n",
    "is_valid_hex_code(\"#CD5C5Z\") ➞ False \n",
    "Not all alphabetic characters in A-F    \n",
    "is_valid_hex_code(\"#CD5C&C\") ➞ False          \n",
    "Contains unacceptable character   \n",
    "is_valid_hex_code(\"CD5C5C\") ➞ False       \n",
    "Missing #         \n",
    "#### Answer :"
   ]
  },
  {
   "cell_type": "code",
   "execution_count": 4,
   "metadata": {},
   "outputs": [
    {
     "name": "stdout",
     "output_type": "stream",
     "text": [
      "True\n",
      "True\n",
      "True\n",
      "False\n",
      "False\n",
      "False\n",
      "False\n"
     ]
    }
   ],
   "source": [
    "def is_valid_hex_code(string1):\n",
    "    output = True\n",
    "    for i in string1:\n",
    "        if i.lower() not in '#abcdef0123456789' or len(string1) != 7:\n",
    "            output = False\n",
    "    print(output)\n",
    "is_valid_hex_code(\"#CD5C5C\")\n",
    "is_valid_hex_code(\"#EAECEE\")\n",
    "is_valid_hex_code(\"#eaecee\")\n",
    "is_valid_hex_code(\"#CD5C58C\")\n",
    "is_valid_hex_code(\"#CD5C5Z\")\n",
    "is_valid_hex_code(\"#CD5C&C\")\n",
    "is_valid_hex_code(\"CD5C5C\")"
   ]
  },
  {
   "cell_type": "markdown",
   "metadata": {},
   "source": [
    "### 3. Given a list of math equations (given as strings), return the percentage of correct answers as a string. Round to the nearest whole number.\n",
    "Examples         \n",
    "mark_maths([\"2+2=4\", \"3+2=5\", \"10-3=3\", \"5+5=10\"]) ➞ \"75%\"     \n",
    "mark_maths([\"1-2=-2\"]), \"0%\"        \n",
    "mark_maths([\"2+3=5\", \"4+4=9\", \"3-1=2\"]) ➞ \"67%\"      \n",
    "#### Answer :"
   ]
  },
  {
   "cell_type": "code",
   "execution_count": 7,
   "metadata": {},
   "outputs": [
    {
     "name": "stdout",
     "output_type": "stream",
     "text": [
      "75%\n",
      "0%\n",
      "67%\n"
     ]
    }
   ],
   "source": [
    "def mark_maths(string1):\n",
    "    output = 0\n",
    "    for i in string1:\n",
    "        j = i.split('=')\n",
    "        if eval(j[0]) == int(j[1]):\n",
    "            output += 1\n",
    "    return str(round((output/len(string1)) * 100)) +'%'     \n",
    "print(mark_maths([\"2+2=4\", \"3+2=5\", \"10-3=3\", \"5+5=10\"])) \n",
    "print(mark_maths([\"1-2=-2\"]))\n",
    "print(mark_maths([\"2+3=5\", \"4+4=9\", \"3-1=2\"]))"
   ]
  },
  {
   "cell_type": "markdown",
   "metadata": {},
   "source": [
    "### 4. There are two players, Alice and Bob, each with a 3-by-3 grid. A referee tells Alice to fill out one particular row in the grid (say the second row) by putting either a 1 or a 0 in each box, such that the sum of the numbers in that row is odd. The referee tells Bob to fill out one column in the grid (say the first column) by putting either a 1 or a 0 in each box, such that the sum of the numbers in that column is even.\n",
    "Alice and Bob win the game if Alice’s numbers give an odd sum, Bob’s give an even sum, and (most important) they’ve each written down the same number in the one square where their row and column intersect.       \n",
    "Examples   \n",
    "magic_square_game([2, \"100\"], [1, \"101\"]) ➞ False     \n",
    "magic_square_game([2, \"001\"], [1, \"101\"]) ➞ True     \n",
    "magic_square_game([3, \"111\"], [2, \"011\"]) ➞ True   \n",
    "magic_square_game([1, \"010\"], [3, \"101\"]) ➞ False   \n",
    "Two lists, Alice [row, \"her choice\"], Bob [column, \"his choice\"]  \n",
    "#### Answer :"
   ]
  },
  {
   "cell_type": "code",
   "execution_count": 8,
   "metadata": {},
   "outputs": [
    {
     "name": "stdout",
     "output_type": "stream",
     "text": [
      "False\n",
      "True\n",
      "True\n",
      "False\n"
     ]
    }
   ],
   "source": [
    "def magic_square_game(x,y):\n",
    "    output = False\n",
    "    if y[1][x[0]-1] == x[1][y[0]-1]:\n",
    "        output = True\n",
    "    print(output)\n",
    "magic_square_game([2, \"100\"], [1, \"101\"])\n",
    "magic_square_game([2, \"001\"], [1, \"101\"]) \n",
    "magic_square_game([3, \"111\"], [2, \"011\"]) \n",
    "magic_square_game([1, \"010\"], [3, \"101\"]) "
   ]
  },
  {
   "cell_type": "markdown",
   "metadata": {},
   "source": [
    "### 5. From point A, an object is moving towards point B at constant velocity va (in km/hr). From point B, another object is moving towards point A at constant velocity vb (in km/hr). Knowing this and the distance between point A and B (in km), write a function that returns how much time passes until both objects meet.\n",
    "Format the output like this:   \n",
    "\"2h 23min 34s\"   \n",
    "Examples          \n",
    "lets_meet(100, 10, 30) ➞ \"2h 30min 0s\"     \n",
    "lets_meet(280, 70, 80) ➞ \"1h 52min 0s\"   \n",
    "lets_meet(90, 75, 65) ➞ \"0h 38min 34s\"  \n",
    "#### Answer :"
   ]
  },
  {
   "cell_type": "code",
   "execution_count": 10,
   "metadata": {},
   "outputs": [
    {
     "name": "stdout",
     "output_type": "stream",
     "text": [
      "2h 30min 0sec\n",
      "1h 52min 0sec\n",
      "0h 38min 34sec\n"
     ]
    }
   ],
   "source": [
    "def lets_meet(dist,cv1,cv2):\n",
    "    time = (dist / (cv1+cv2)) * 60\n",
    "    hours, seconds = divmod(time * 60, 3600)  # split to hours and seconds\n",
    "    minutes, seconds = divmod(seconds, 60)\n",
    "    return str(round(hours))+\"h \"+ str(round(minutes)) +\"min \"+ str(round(seconds)) +\"sec\"\n",
    "print(lets_meet(100, 10, 30))\n",
    "print(lets_meet(280, 70, 80))\n",
    "print(lets_meet(90, 75, 65))"
   ]
  }
 ],
 "metadata": {
  "kernelspec": {
   "display_name": "Python 3",
   "language": "python",
   "name": "python3"
  },
  "language_info": {
   "codemirror_mode": {
    "name": "ipython",
    "version": 3
   },
   "file_extension": ".py",
   "mimetype": "text/x-python",
   "name": "python",
   "nbconvert_exporter": "python",
   "pygments_lexer": "ipython3",
   "version": "3.8.5"
  }
 },
 "nbformat": 4,
 "nbformat_minor": 4
}
