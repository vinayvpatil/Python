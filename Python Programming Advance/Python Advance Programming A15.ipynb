{
 "cells": [
  {
   "cell_type": "markdown",
   "metadata": {},
   "source": [
    "## Python Advance Programming A15\n",
    "### 1. Write a function that returns True if a given name can generate an array of words.\n",
    "Examples      \n",
    "anagram(\"Justin Bieber\", [\"injures\", \"ebb\", \"it\"]) ➞ True   \n",
    "anagram(\"Natalie Portman\", [\"ornamental\", \"pita\"]) ➞ True   \n",
    "anagram(\"Chris Pratt\", [\"chirps\", \"rat\"]) ➞ False      \n",
    "Not all letters are used          \n",
    "anagram(\"Jeff Goldblum\", [\"jog\", \"meld\", \"bluffs\"]) ➞ False      \n",
    "\"s\" does not exist in the original name      \n",
    "#### Answer :"
   ]
  },
  {
   "cell_type": "code",
   "execution_count": 12,
   "metadata": {},
   "outputs": [
    {
     "name": "stdout",
     "output_type": "stream",
     "text": [
      "True\n",
      "True\n",
      "False\n",
      "False\n",
      "False\n"
     ]
    }
   ],
   "source": [
    "def anagram(name,arr):\n",
    "    list1 = list(name.lower())\n",
    "    list1.remove(' ')\n",
    "    list2 = []\n",
    "    output = False\n",
    "    for i in arr:\n",
    "        for j in i:\n",
    "            if j in list1:\n",
    "                list1.remove(j)\n",
    "            else:\n",
    "                list2.append(j)\n",
    "    if len(list1) == 0 and len(list2) == 0:\n",
    "        output = True\n",
    "    print(output)\n",
    "            \n",
    "anagram(\"Justin Bieber\", [\"injures\", \"ebb\", \"it\"])\n",
    "anagram(\"Natalie Portman\", [\"ornamental\", \"pita\"])\n",
    "anagram(\"Chris Pratt\", [\"chirps\", \"rat\"])\n",
    "anagram(\"Jeff Goldblum\", [\"jog\", \"meld\", \"bluffs\"])\n",
    "anagram(\"cunning raju\", [\"inn\", \"in\", \"innn\", \"innnn\"])"
   ]
  },
  {
   "cell_type": "markdown",
   "metadata": {},
   "source": [
    "### 2. Given an array of users, each defined by an object with the following properties: name, score, reputation create a function that sorts the array to form the correct leaderboard.\n",
    "The leaderboard takes into consideration the score of each user of course, but an emphasis is put on their reputation in the community, so to get the trueScore, you should add the reputation multiplied by 2 to the score.     \n",
    "Once you know the trueScore of each user, sort the array according to it in descending order.\n",
    "Examples     \n",
    "leaderboards([         \n",
    "  { \"name\": \"a\", \"score\": 100, \"reputation\": 20 },     \n",
    "  { \"name\": \"b\", \"score\": 90, \"reputation\": 40 },       \n",
    "  { \"name\": \"c\", \"score\": 115, \"reputation\": 30 },          \n",
    "  ]) ➞ [                \n",
    "  { \"name\": \"c\", \"score\": 115, \"reputation\": 30 },  # trueScore = 175       \n",
    "  { \"name\": \"b\", \"score\": 90, \"reputation\": 40 },   # trueScore = 170         \n",
    "  { \"name\": \"a\", \"score\": 100, \"reputation\": 20 }   # trueScore = 140                \n",
    "  ]\n",
    "#### Answer :"
   ]
  },
  {
   "cell_type": "code",
   "execution_count": 18,
   "metadata": {},
   "outputs": [
    {
     "name": "stdout",
     "output_type": "stream",
     "text": [
      "[{'name': 'c', 'score': 115, 'reputation': 30}, {'name': 'b', 'score': 90, 'reputation': 40}, {'name': 'a', 'score': 100, 'reputation': 20}]\n"
     ]
    }
   ],
   "source": [
    "from operator import itemgetter\n",
    "def leaderboards(arr):\n",
    "    return sorted(arr, reverse=True, key = lambda k : k['score'] + k['reputation'] * 2 )\n",
    "\n",
    "print(leaderboards([{ \"name\": \"a\", \"score\": 100, \"reputation\": 20 }, \n",
    "                   { \"name\": \"b\", \"score\": 90, \"reputation\": 40 }, \n",
    "                   { \"name\": \"c\", \"score\": 115, \"reputation\":30},]))"
   ]
  },
  {
   "cell_type": "markdown",
   "metadata": {},
   "source": [
    "### 3. Create a function that, given a phrase and a number of letters guessed, returns a string with hyphens - for every letter of the phrase not guessed, and each letter guessed in place.\n",
    "Examples        \n",
    "hangman(\"helicopter\", [\"o\", \"e\", \"s\"]) ➞ \"-e---o--e-\"   \n",
    "hangman(\"tree\", [\"r\", \"t\", \"e\"]) ➞ \"tree\"       \n",
    "hangman(\"Python rules\", [\"a\", \"n\", \"p\", \"r\", \"z\"]) ➞ \"P----n r----\"     \n",
    "hangman(\"He\"s a very naughty boy!\", [\"e\", \"a\", \"y\"]) ➞ \"-e\"- a -e-y -a----y –y!\"           \n",
    "#### Answer :"
   ]
  },
  {
   "cell_type": "code",
   "execution_count": 19,
   "metadata": {},
   "outputs": [
    {
     "name": "stdout",
     "output_type": "stream",
     "text": [
      "-e---o--e-\n",
      "tree\n",
      "P----n-r----\n",
      "-e\"--a--e-y--a----y---y-\n"
     ]
    }
   ],
   "source": [
    "def hangman(phrase,list1):\n",
    "    for letter in phrase:\n",
    "        if letter.lower() not in list1 and letter != '\"':\n",
    "            phrase = phrase.replace(letter,'-')   \n",
    "    return phrase\n",
    "print(hangman(\"helicopter\", [\"o\", \"e\", \"s\"]))\n",
    "print(hangman(\"tree\", [\"r\", \"t\", \"e\"]) )\n",
    "print(hangman(\"Python rules\", [\"a\", \"n\", \"p\", \"r\", \"z\"]) )\n",
    "print(hangman('He\"s a very naughty boy!', [\"e\", \"a\", \"y\"]))"
   ]
  },
  {
   "cell_type": "markdown",
   "metadata": {},
   "source": [
    "### 4. The Collatz sequence is as follows:\n",
    "  - Start with some given integer n.     \n",
    "  - If it is even, the next number will be n divided by 2. \n",
    "  - If it is odd, multiply it by 3 and add 1 to make the next number.     \n",
    "  - The sequence stops when it reaches 1.   \n",
    "According to the Collatz conjecture, it will always reach 1. If that's true, you can construct a finite sequence following the aforementioned method for any given integer.       \n",
    "Write a function that takes in an integer n and returns the highest integer in the corresponding Collatz sequence.        \n",
    "Examples     \n",
    "max_collatz(10) ➞ 16     \n",
    "Collatz sequence: 10, 5, 16, 8, 4, 2, 1       \n",
    "max_collatz(32) ➞ 32  \n",
    "Collatz sequence: 32, 16, 8, 4, 2, 1   \n",
    "max_collatz(85) ➞ 256       \n",
    "Collatz sequence: 85, 256, 128, 64, 32, 16, 8, 4, 2, 1     \n",
    "#### Answer :"
   ]
  },
  {
   "cell_type": "code",
   "execution_count": 21,
   "metadata": {},
   "outputs": [
    {
     "name": "stdout",
     "output_type": "stream",
     "text": [
      "16\n",
      "32\n",
      "256\n"
     ]
    }
   ],
   "source": [
    "def max_collatz(number):\n",
    "    output = [number]\n",
    "    i = 0\n",
    "    while output[-1] != 1:\n",
    "        if output[i] % 2 ==0:\n",
    "           output.append(output[i] / 2)\n",
    "        else:\n",
    "            output.append(output[i] * 3 + 1)\n",
    "        i += 1    \n",
    "    return max(list(map(int,output)))\n",
    "print(max_collatz(10))\n",
    "print(max_collatz(32))\n",
    "print(max_collatz(85))"
   ]
  },
  {
   "cell_type": "markdown",
   "metadata": {},
   "source": [
    "### 5. Write a function that sorts a list of integers by their digit length in descending order, then settles ties by sorting numbers with the same digit length in ascending order. \n",
    "Examples    \n",
    "digit_sort([77, 23, 5, 7, 101])   \n",
    "➞ [101, 23, 77, 5, 7]       \n",
    "digit_sort([1, 5, 9, 2, 789, 563, 444])    \n",
    "➞ [444, 563, 789, 1, 2, 5, 9]  \n",
    "digit_sort([53219, 3772, 564, 32, 1])   \n",
    "➞ [53219, 3772, 564, 32, 1]      \n",
    "#### Answer :"
   ]
  },
  {
   "cell_type": "code",
   "execution_count": 22,
   "metadata": {},
   "outputs": [
    {
     "name": "stdout",
     "output_type": "stream",
     "text": [
      "[101, 23, 77, 5, 7]\n",
      "[444, 563, 789, 1, 2, 5, 9]\n",
      "[53219, 3772, 564, 32, 1]\n"
     ]
    }
   ],
   "source": [
    "def digit_sort(list1):\n",
    "    list1 = list(map(str,list1))\n",
    "    list1 = sorted(list1, key = len, reverse=True)\n",
    "    for i in range(len(list1)):\n",
    "        for j in range(i,len(list1)):\n",
    "            if len(list1[i]) == len(list1[j]):\n",
    "                if list1[j] < list1[i]:\n",
    "                    x = list1[i]\n",
    "                    list1[i] = list1[j]\n",
    "                    list1[j] = x\n",
    "    return list(map(int,list1))\n",
    "print(digit_sort([77,23,5,7,101]))\n",
    "print(digit_sort([1, 5, 9, 2, 789, 563, 444]))\n",
    "print(digit_sort([53219, 3772, 564, 32, 1]))"
   ]
  }
 ],
 "metadata": {
  "kernelspec": {
   "display_name": "Python 3",
   "language": "python",
   "name": "python3"
  },
  "language_info": {
   "codemirror_mode": {
    "name": "ipython",
    "version": 3
   },
   "file_extension": ".py",
   "mimetype": "text/x-python",
   "name": "python",
   "nbconvert_exporter": "python",
   "pygments_lexer": "ipython3",
   "version": "3.8.5"
  }
 },
 "nbformat": 4,
 "nbformat_minor": 4
}
