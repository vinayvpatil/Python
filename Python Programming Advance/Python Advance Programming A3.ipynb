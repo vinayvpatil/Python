{
 "cells": [
  {
   "cell_type": "markdown",
   "metadata": {},
   "source": [
    "## Python Advance Programming A3\n",
    "### 1. Create a function to perform basic arithmetic operations that includes addition, subtraction, multiplication and division on a string number (e.g. \"12 + 24\" or \"23 - 21\" or \"12 // 12\" or \"12 * 21\").      \n",
    "Here, we have 1 followed by a space, operator followed by another space and 2. For the challenge, we  are going to have only two numbers between 1 valid operator. The return value should be a number.  \n",
    "eval() is not allowed. In case of division, whenever the second number equals \"0\" return -1.         \n",
    "For example:                  \n",
    "\"15 // 0\"  ➞ -1        \n",
    "Examples          \n",
    "arithmetic_operation(\"12 + 12\") ➞ 24 // 12 + 12 = 24        \n",
    "arithmetic_operation(\"12 - 12\") ➞ 24 // 12 - 12 = 0       \n",
    "arithmetic_operation(\"12 * 12\") ➞ 144 // 12 * 12 = 144        \n",
    "arithmetic_operation(\"12 // 0\") ➞ -1 // 12 / 0 = -1           \n",
    "#### Answer :"
   ]
  },
  {
   "cell_type": "code",
   "execution_count": 2,
   "metadata": {},
   "outputs": [
    {
     "name": "stdout",
     "output_type": "stream",
     "text": [
      "24\n",
      "0\n",
      "144\n",
      "-1\n"
     ]
    }
   ],
   "source": [
    "def arithmetic_operation(string1):\n",
    "    a = string1.split()\n",
    "    list1 = list(map(int,a[0:3:2]))\n",
    "    if a[1] == '+':\n",
    "         return list1[0] + list1[1]\n",
    "    elif a[1] == '-':\n",
    "         return list1[0] - list1[1]\n",
    "    elif a[1] == '*':\n",
    "         return list1[0] * list1[1]\n",
    "    else:\n",
    "        if list1[1] == 0:\n",
    "            return -1\n",
    "        else:\n",
    "            return list1[0] / list1[1]\n",
    "print(arithmetic_operation(\"12 + 12\"))\n",
    "print(arithmetic_operation(\"12 - 12\"))\n",
    "print(arithmetic_operation(\"12 * 12\"))\n",
    "print(arithmetic_operation(\"12 // 0\"))"
   ]
  },
  {
   "cell_type": "markdown",
   "metadata": {},
   "source": [
    "### 2. Write a function that takes the coordinates of three points in the form of a 2d array and returns the perimeter of the triangle. The given points are the vertices of a triangle on a two-dimensional plane.        \n",
    "Examples    \n",
    "perimeter( [ [15, 7], [5, 22], [11, 1] ] ) ➞ 47.08  \n",
    "perimeter( [ [0, 0], [0, 1], [1, 0] ] ) ➞ 3.42       \n",
    "perimeter( [ [-10, -10], [10, 10 ], [-10, 10] ] ) ➞ 68.28 \n",
    "#### Answer :"
   ]
  },
  {
   "cell_type": "code",
   "execution_count": 7,
   "metadata": {},
   "outputs": [
    {
     "name": "stdout",
     "output_type": "stream",
     "text": [
      "47.08\n",
      "3.41\n",
      "68.28\n"
     ]
    }
   ],
   "source": [
    "import math\n",
    "def distance(x,y):\n",
    "    return math.sqrt(pow((y[1]-x[1]),2)+pow((y[0]-x[0]),2))\n",
    "def perimeter(input1):\n",
    "    output = []\n",
    "    for i in range(len(input1)):\n",
    "        if i == len(input1)-1:\n",
    "            output.append(distance(input1[i],input1[0]))\n",
    "        else:\n",
    "            output.append(distance(input1[i],input1[i+1]))\n",
    "    print(round(sum(output),2))\n",
    "perimeter([[15,7],[5,22],[11,1]])\n",
    "perimeter([[0,0],[0,1],[1,0]])\n",
    "perimeter([[-10,-10],[10,10],[-10,10]])"
   ]
  },
  {
   "cell_type": "markdown",
   "metadata": {},
   "source": [
    "### 3. A city skyline can be represented as a 2-D list with 1s representing buildings. In the example below, the height of the tallest building is 4 (second-most right column).  \n",
    "[[0, 0, 0, 0, 0, 0],           \n",
    "[0, 0, 0, 0, 1, 0],           \n",
    "[0, 0, 1, 0, 1, 0],                \n",
    "[0, 1, 1, 1, 1, 0],            \n",
    "[1, 1, 1, 1, 1, 1]]                      \n",
    "Create a function that takes a skyline (2-D list of 0's and 1's) and returns the height of the tallest skyscraper.                   \n",
    "Examples              \n",
    "tallest_skyscraper([   \n",
    "  [0, 0, 0, 0],        \n",
    "  [0, 1, 0, 0],       \n",
    "  [0, 1, 1, 0],       \n",
    "  [1, 1, 1, 1]      \n",
    "]) ➞ 3           \n",
    "tallest_skyscraper([          \n",
    "  [0, 1, 0, 0],       \n",
    "  [0, 1, 0, 0],           \n",
    "  [0, 1, 1, 0],           \n",
    "  [1, 1, 1, 1]                           \n",
    "]) ➞ 4                  \n",
    "tallest_skyscraper([         \n",
    "  [0, 0, 0, 0],       \n",
    "  [0, 0, 0, 0],    \n",
    "  [1, 1, 1, 0],   \n",
    "  [1, 1, 1, 1]  \n",
    "]) ➞ 2       \n",
    "#### Answer :"
   ]
  },
  {
   "cell_type": "code",
   "execution_count": 9,
   "metadata": {},
   "outputs": [
    {
     "name": "stdout",
     "output_type": "stream",
     "text": [
      "3\n",
      "4\n",
      "2\n"
     ]
    }
   ],
   "source": [
    "def tallest_skyscraper(input1):\n",
    "    output = []\n",
    "    for number in range(len(input1)):\n",
    "        count = 0\n",
    "        for i in range(len(input1[number])):\n",
    "            count += input1[i][number]\n",
    "        output.append(count)\n",
    "    print(max(output))   \n",
    "tallest_skyscraper([[0, 0, 0, 0],[0, 1, 0, 0],[0, 1, 1, 0],[1, 1, 1, 1]])\n",
    "tallest_skyscraper([[0, 1, 0, 0],[0, 1, 0, 0],[0, 1, 1, 0],[1, 1, 1, 1]])\n",
    "tallest_skyscraper([[0, 0, 0, 0],[0, 0, 0, 0],[1, 1, 1, 0],[1, 1, 1, 1]])"
   ]
  },
  {
   "cell_type": "markdown",
   "metadata": {},
   "source": [
    "### 4. Write a function to read the billable days of an employee and return the bonus he/she has obtained in that quarter.   \n",
    "Examples      \n",
    "bonus(15) ➞ 0  \n",
    "bonus(37) ➞ 1625 \n",
    "bonus(50) ➞ 8200                 \n",
    "A financial institution provides professional services to banks and claims charges from the customers based on the number of man-days provided. Internally, it has set a scheme to motivate and reward staff to meet and exceed targeted billable utilization and revenues by paying a bonus for each day claimed from customers in excess of a threshold target.                \n",
    "This quarterly scheme is calculated with a threshold target of 32 days per quarter, and the incentive payment for each billable day in excess of such threshold target is shown as follows:             \n",
    "Days - Bonus   \n",
    "0 to 32days - Zero  \n",
    "33 to 40 days - SGD$325 per billable day                                                                41 to 48 days - SGD$550 per billable day                                        \n",
    "Greater than 48 days - SGD$600 per billable day                \n",
    "Please note that incentive payment is calculated progressively. As an example, if an employee reached total billable days of 45 in a quarter, his/her incentive payment is computed as follows:               \n",
    "32*0 + 8*325 + 5*550 = 5350\n",
    "#### Answer :"
   ]
  },
  {
   "cell_type": "code",
   "execution_count": 10,
   "metadata": {},
   "outputs": [
    {
     "name": "stdout",
     "output_type": "stream",
     "text": [
      "0\n",
      "1625\n",
      "8200\n"
     ]
    }
   ],
   "source": [
    "def bonus(number):\n",
    "    if number > 48:\n",
    "        output = 0+(8*325)+(8*550)+((number-48)*600)\n",
    "    elif number < 48 and number >= 41:\n",
    "        output = 0+(8*325)+((number-41+1)*550)\n",
    "    elif number >33 and number <= 40:\n",
    "        output = 0+((number-33+1)*325)\n",
    "    else:\n",
    "        output = 0\n",
    "    print(output)      \n",
    "bonus(15)\n",
    "bonus(37)\n",
    "bonus(50)"
   ]
  },
  {
   "cell_type": "markdown",
   "metadata": {},
   "source": [
    "### 5. A number is said to be Disarium if the sum of its digits raised to their respective positions is the number itself.\n",
    "Create a function that determines whether a number is a Disarium or not. \n",
    "Examples              \n",
    "is_disarium(75) ➞ False                          \n",
    "7^1 + 5^2 = 7 + 25 = 32                     \n",
    "is_disarium(135) ➞ True                                          \n",
    "1^1 + 3^2 + 5^3 = 1 + 9 + 125 = 135              \n",
    "is_disarium(544) ➞ False                \n",
    "is_disarium(518) ➞ True                   \n",
    "is_disarium(466) ➞ False          \n",
    "is_disarium(8) ➞ True          \n",
    "#### Answer :"
   ]
  },
  {
   "cell_type": "code",
   "execution_count": 11,
   "metadata": {},
   "outputs": [
    {
     "name": "stdout",
     "output_type": "stream",
     "text": [
      "False\n",
      "True\n",
      "False\n",
      "True\n",
      "False\n",
      "True\n"
     ]
    }
   ],
   "source": [
    "def is_disarium(number):\n",
    "    sum = 0\n",
    "    output = False\n",
    "    for i in range(len(str(number))):\n",
    "        sum += int(str(number)[i])**(i+1)\n",
    "    if number == sum:\n",
    "        output=True\n",
    "    print(output)\n",
    "    \n",
    "is_disarium(75)\n",
    "is_disarium(135)\n",
    "is_disarium(544)\n",
    "is_disarium(518)\n",
    "is_disarium(466)\n",
    "is_disarium(8)"
   ]
  }
 ],
 "metadata": {
  "kernelspec": {
   "display_name": "Python 3",
   "language": "python",
   "name": "python3"
  },
  "language_info": {
   "codemirror_mode": {
    "name": "ipython",
    "version": 3
   },
   "file_extension": ".py",
   "mimetype": "text/x-python",
   "name": "python",
   "nbconvert_exporter": "python",
   "pygments_lexer": "ipython3",
   "version": "3.8.5"
  }
 },
 "nbformat": 4,
 "nbformat_minor": 4
}
