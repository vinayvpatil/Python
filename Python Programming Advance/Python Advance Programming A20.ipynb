{
 "cells": [
  {
   "cell_type": "markdown",
   "metadata": {},
   "source": [
    "## Python Advance Programming A20\n",
    "### 1. Create a function based on the input and output. Look at the examples, there is a pattern.\n",
    "Examples        \n",
    "secret(\"p.one.two.three\") ➞ \"\\<p class='one two three'\\>\\</p>\"   \n",
    "secret(\"p.one\") ➞ \"\\<p class='one'\\>\\</p\\>\"     <br>\n",
    "secret(\"p.four.five\") ➞ \"\\<p class='four five'\\>\\</p\\>\"                         \n",
    "#### Answer :"
   ]
  },
  {
   "cell_type": "code",
   "execution_count": 3,
   "metadata": {},
   "outputs": [
    {
     "name": "stdout",
     "output_type": "stream",
     "text": [
      "<p class='one two three'></p>\n",
      "<p class='one'></p>\n",
      "<p class='four five'></p>\n"
     ]
    }
   ],
   "source": [
    "def secret(string1):\n",
    "    string2 = ''\n",
    "    string3 = string1.split('.')\n",
    "    string2 += '<' + string3[0] + \" class='\"\n",
    "    \n",
    "    for i in range(1,len(string3)):\n",
    "        string2 += string3[i] + ' '\n",
    "        \n",
    "    return string2.strip() +\"'></\"+string3[0]+\">\"    \n",
    "    \n",
    "print(secret(\"p.one.two.three\"))\n",
    "print(secret(\"p.one\"))\n",
    "print(secret(\"p.four.five\"))"
   ]
  },
  {
   "cell_type": "markdown",
   "metadata": {},
   "source": [
    "### 2. Create a function which counts how many lone 1s appear in a given number. Lone means the number doesn't appear twice or more in a row.\n",
    "Examples \n",
    "count_lone_ones(101) ➞ 2    \n",
    "count_lone_ones(1191) ➞ 1  \n",
    "count_lone_ones(1111) ➞ 0    \n",
    "count_lone_ones(462) ➞ 0             \n",
    "#### Answer :"
   ]
  },
  {
   "cell_type": "code",
   "execution_count": 4,
   "metadata": {},
   "outputs": [
    {
     "name": "stdout",
     "output_type": "stream",
     "text": [
      "2\n",
      "1\n",
      "0\n",
      "0\n"
     ]
    }
   ],
   "source": [
    "import re\n",
    "def count_lone_ones(number):\n",
    "    pattern = r\"(?<!1)1(?!1)\" \n",
    "    output = re.findall(pattern,str(number))\n",
    "    print(len(output))   \n",
    "count_lone_ones(101)\n",
    "count_lone_ones(1191)\n",
    "count_lone_ones(1111)\n",
    "count_lone_ones(462)"
   ]
  },
  {
   "cell_type": "markdown",
   "metadata": {},
   "source": [
    "### 3. Write a method that accepts two integer parameters rows and cols. The output is a 2d array of numbers displayed in column-major order, meaning the numbers shown increase sequentially down each column and wrap to the top of the next column to the right once the bottom of the current column is reached.\n",
    "Examples          \n",
    "printGrid(3, 6) ➞ [      \n",
    "  [1, 4, 7, 10, 13, 16],      \n",
    "  [2, 5, 8, 11, 14, 17],      \n",
    "  [3, 6, 9, 12, 15, 18]        \n",
    "]         \n",
    "printGrid(5, 3) ➞ [              \n",
    "  [1, 6, 11],         \n",
    "  [2, 7, 12],        \n",
    "  [3, 8, 13],               \n",
    "  [4, 9, 14],           \n",
    "  [5, 10, 15]                \n",
    "]             \n",
    "printGrid(4, 1) ➞ [           \n",
    "  [1],        \n",
    "  [2],             \n",
    "  [3],              \n",
    "  [4]                \n",
    "]                        \n",
    "#### Answer : "
   ]
  },
  {
   "cell_type": "code",
   "execution_count": 6,
   "metadata": {},
   "outputs": [
    {
     "name": "stdout",
     "output_type": "stream",
     "text": [
      "[[1, 4, 7, 10, 13, 16], [2, 5, 8, 11, 14, 17], [3, 6, 9, 12, 15, 18]]\n",
      "[[1, 6, 11], [2, 7, 12], [3, 8, 13], [4, 9, 14], [5, 10, 15]]\n",
      "[[1], [2], [3], [4]]\n"
     ]
    }
   ],
   "source": [
    "def printGrid(n1,n2):\n",
    "    output = []\n",
    "    for i in range(n1):\n",
    "        temp = []\n",
    "        for j in range(n2):\n",
    "            temp.append(i+(n1*j)+1)\n",
    "        output.append(temp)\n",
    "    print(output)\n",
    "printGrid(3, 6)\n",
    "printGrid(5, 3)  \n",
    "printGrid(4, 1)"
   ]
  },
  {
   "cell_type": "markdown",
   "metadata": {},
   "source": [
    "### 4. Given a list of integers, return the smallest positive integer not present in the list. \n",
    "Here is a representative example. Consider the list:         \n",
    "[-2, 6, 4, 5, 7, -1, 7, 1, 3, 6, 6, -2, 9, 10, 2, 2]       \n",
    "After reordering, the list becomes:                  \n",
    "[-2, -2, -1, 1, 2, 2, 3, 4, 5, 6, 6, 6, 7, 7, 9, 10]              \n",
    "from which we see that the smallest missing positive integer is 8.     \n",
    "Examples       \n",
    "min_miss_pos([-2, 6, 4, 5, 7, -1, 1, 3, 6, -2, 9, 10, 2, 2]) ➞ 8   \n",
    "\\# After sorting, list becomes [-2, -2, -1, 1, 2, 2, 3, 4, 5, 6, 6, 7, 9, 10]     \n",
    "\\# So the smallest missing positive integer is 8            \n",
    "min_miss_pos([5, 9, -2, 0, 1, 3, 9, 3, 8, 9]) ➞ 2     \n",
    "\\# After sorting, list becomes [-2, 0, 1, 3, 3, 5, 8, 9, 9, 9]       \n",
    "\\# So the smallest missing positive integer is 2                     \n",
    "min_miss_pos([0, 4, 4, -1, 9, 4, 5, 2, 10, 7, 6, 3, 10, 9]) ➞ 1       \n",
    "\\# After sorting, list becomes [-1, 0, 2, 3, 4, 4, 4, 5, 6, 7, 9, 9, 10, 10]             \n",
    "\\# So the smallest missing positive integer is 1            \n",
    "#### Answer :"
   ]
  },
  {
   "cell_type": "code",
   "execution_count": 7,
   "metadata": {},
   "outputs": [
    {
     "name": "stdout",
     "output_type": "stream",
     "text": [
      "2\n",
      "1\n",
      "1\n"
     ]
    }
   ],
   "source": [
    "def min_miss_pos(list1):\n",
    "    x = max(sorted(list1))\n",
    "    for i in range(x):\n",
    "        if i > 0 and i not in list1:\n",
    "            return i       \n",
    "print(min_miss_pos([-2, 0, 1, 3, 3, 5, 8, 9, 9, 9]))\n",
    "print(min_miss_pos([0, 4, 4, -1, 9, 4, 5, 2, 10, 7, 6, 3, 10, 9]))\n",
    "print(min_miss_pos( [-1, 0, 2, 3, 4, 4, 4, 5, 6, 7, 9, 9, 10, 10]))"
   ]
  },
  {
   "cell_type": "markdown",
   "metadata": {},
   "source": [
    "### 5. Google is launching a network of autonomous pizza delivery drones and wants you to create a flexible rewards system (Pizza Points™) that can be tweaked in the future. The rules are simple: if a customer has made at least N orders of at least Y price, they get a FREE pizza!\n",
    "Create a function that takes a dictionary of customers, a minimum number of orders and a minimum order price. Return a list of customers that are eligible for a free pizza.\n",
    "Examples          \n",
    "customers = {           \n",
    "  \"Batman\": [22, 30, 11, 17, 15, 52, 27, 12],               \n",
    "  \"Spider-Man\": [5, 17, 30, 33, 40, 22, 26, 10, 11, 45]              \n",
    "}                   \n",
    "  pizza_points(customers, 5, 20) ➞ [\"Spider-Man\"]         \n",
    "  pizza_points(customers, 3, 10) ➞ [\"Batman\", \"Spider-Man\"]          \n",
    "  pizza_points(customers, 5, 100) ➞ []                \n",
    "#### Answer :"
   ]
  },
  {
   "cell_type": "code",
   "execution_count": 8,
   "metadata": {},
   "outputs": [
    {
     "name": "stdout",
     "output_type": "stream",
     "text": [
      "['Spider-Man']\n",
      "['Batman', 'Spider-Man']\n",
      "[]\n"
     ]
    }
   ],
   "source": [
    "def pizza_points(c, min_number, min_price):\n",
    "    output = []\n",
    "    for key,value in c.items():\n",
    "        count = 0        \n",
    "        for i in value:\n",
    "            if i >= min_price:\n",
    "                count += 1\n",
    "        if count >= min_number:\n",
    "            output.append(key)\n",
    "    return output\n",
    "c = { \"Batman\": [22, 30, 11, 17, 15, 52, 27, 12], \"Spider-Man\": [5, 17, 30, 33, 40, 22, 26, 10, 11, 45] }\n",
    "print(pizza_points(c,5,20))\n",
    "print(pizza_points(c,3,10))\n",
    "print(pizza_points(c,5,100))"
   ]
  }
 ],
 "metadata": {
  "kernelspec": {
   "display_name": "Python 3",
   "language": "python",
   "name": "python3"
  },
  "language_info": {
   "codemirror_mode": {
    "name": "ipython",
    "version": 3
   },
   "file_extension": ".py",
   "mimetype": "text/x-python",
   "name": "python",
   "nbconvert_exporter": "python",
   "pygments_lexer": "ipython3",
   "version": "3.8.5"
  }
 },
 "nbformat": 4,
 "nbformat_minor": 4
}
