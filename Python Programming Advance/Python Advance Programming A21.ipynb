{
 "cells": [
  {
   "cell_type": "markdown",
   "metadata": {},
   "source": [
    "## Python Advance Programming A21\n",
    "### 1. Given a sentence, return the number of words which have the same first and last letter. \n",
    "Examples          \n",
    "count_same_ends(\"Pop! goes the balloon\") ➞ 1    \n",
    "count_same_ends(\"And the crowd goes wild!\") ➞ 0          \n",
    "count_same_ends(\"No I am not in a gang.\") ➞ 1                 \n",
    "#### Answer :"
   ]
  },
  {
   "cell_type": "code",
   "execution_count": 1,
   "metadata": {},
   "outputs": [
    {
     "name": "stdout",
     "output_type": "stream",
     "text": [
      "1\n",
      "0\n",
      "1\n"
     ]
    }
   ],
   "source": [
    "def count_same_ends(string1):\n",
    "    chars = '!@#$%^&*.'\n",
    "    string2 = ''\n",
    "    output = 0\n",
    "    for i in string1:\n",
    "        if i not in chars:\n",
    "            string2 += i\n",
    "    for j in string2.split(\" \"):\n",
    "        if j[0].lower() == j[-1].lower():\n",
    "            if len(j) != 1:\n",
    "                output +=1\n",
    "    print(output)           \n",
    "count_same_ends(\"Pop! goes the balloon\")\n",
    "count_same_ends(\"And the crowd goes wild!\")\n",
    "count_same_ends(\"No I am not in a gang.\")"
   ]
  },
  {
   "cell_type": "markdown",
   "metadata": {},
   "source": [
    "### 2. The Atbash cipher is an encryption method in which each letter of a word is replaced with its \"mirror\" letter in the alphabet: A <=> Z; B <=> Y; C <=> X; etc.\n",
    "Create a function that takes a string and applies the Atbash cipher to it.\n",
    "Examples               \n",
    "atbash(\"apple\") ➞ \"zkkov\"       \n",
    "atbash(\"Hello world!\") ➞ \"Svool dliow!\"              \n",
    "atbash(\"Christmas is the 25th of December\") ➞ \"Xsirhgnzh rh gsv 25gs lu Wvxvnyvi\"                 \n",
    "2. The Atbash cipher is an encryption method in which each letter of a word is replaced with its \"mirror\" letter in the alphabet: A <=> Z; B <=> Y; C <=> X; etc.             \n",
    "Create a function that takes a string and applies the Atbash cipher to it.             \n",
    "Examples      \n",
    "atbash(\"apple\") ➞ \"zkkov\"                    \n",
    "atbash(\"Hello world!\") ➞ \"Svool dliow!\"           \n",
    "atbash(\"Christmas is the 25th of December\") ➞ \"Xsirhgnzh rh gsv 25gs lu Wvxvnyvi\"     \n",
    "#### Answer :"
   ]
  },
  {
   "cell_type": "code",
   "execution_count": 24,
   "metadata": {},
   "outputs": [
    {
     "name": "stdout",
     "output_type": "stream",
     "text": [
      "zkkov\n",
      "Svool dliow!\n",
      "Xsirhgnzh rh gsv 25gs lu Wvxvnyvi\n"
     ]
    }
   ],
   "source": [
    "def atbash(string1):\n",
    "    x = ord('z') + ord('a')\n",
    "    y = ord('A') + ord('Z')\n",
    "    output=''\n",
    "    string2=string1.split(\" \")\n",
    "    for j in string2:\n",
    "        for i in j:\n",
    "            if i.isalpha(): \n",
    "                if i.isupper():\n",
    "                    output+=(chr(y-ord(i)))\n",
    "                else:\n",
    "                    output+=(chr(x-ord(i)))\n",
    "            else:\n",
    "                output+=i\n",
    "        output+=\" \"\n",
    "    output=output[:-1]\n",
    "    return output\n",
    "print(atbash(\"apple\"))\n",
    "print(atbash(\"Hello world!\"))\n",
    "print(atbash(\"Christmas is the 25th of December\"))"
   ]
  },
  {
   "cell_type": "markdown",
   "metadata": {},
   "source": [
    "### 3. Create a class Employee that will take a full name as argument, as well as a set of none, one or more keywords. Each instance should have a name and a lastname attributes plus one more attribute for each of the keywords, if any.\n",
    "Examples        \n",
    "john = Employee(\"John Doe\")  \n",
    "mary = Employee(\"Mary Major\", salary=120000)                  \n",
    "richard = Employee(\"Richard Roe\", salary=110000, height=178)     \n",
    "giancarlo = Employee(\"Giancarlo Rossi\", salary=115000, height=182, nationality=\"Italian\")               \n",
    "john.name ➞ \"John\"      \n",
    "mary.lastname ➞ \"Major\"             \n",
    "richard.height ➞ 178                  \n",
    "giancarlo.nationality ➞ \"Italian\"                             \n",
    "#### Answer :"
   ]
  },
  {
   "cell_type": "code",
   "execution_count": 32,
   "metadata": {},
   "outputs": [
    {
     "name": "stdout",
     "output_type": "stream",
     "text": [
      "John\n",
      "Major\n",
      "178\n",
      "Italian\n"
     ]
    }
   ],
   "source": [
    "class Employee:\n",
    "    def __init__(self, full_name, **kwargs):\n",
    "        self.name = full_name.split(' ')[0]\n",
    "        self.lastname = full_name.split(' ')[-1] \n",
    "        for var in kwargs:\n",
    "            if isinstance(kwargs[var], str):\n",
    "                exec(\"self.{0} = '{1}'\".format(var,kwargs[var]))\n",
    "            else:\n",
    "                exec(\"self.{0} = {1}\".format(var,kwargs[var]))\n",
    "                               \n",
    "john = Employee(\"John Doe\")\n",
    "mary = Employee(\"Mary Major\", salary=120000)\n",
    "richard = Employee(\"Richard Roe\", salary=110000, height=178)\n",
    "giancarlo = Employee(\"Giancarlo Rossi\", salary=115000, height=182, nationality=\"Italian\")\n",
    "print (john.name)       \n",
    "print (mary.lastname)\n",
    "print (richard.height)                     \n",
    "print (giancarlo.nationality)                         "
   ]
  },
  {
   "cell_type": "markdown",
   "metadata": {},
   "source": [
    "### 4. Create a function that determines whether each seat can \"see\" the front-stage. A number can \"see\" the front-stage if it is strictly greater than the number before it.\n",
    "Everyone can see the front-stage in the example below: <br>\n",
    "\\# FRONT STAGE <br>\n",
    "[[1, 2, 3, 2, 1, 1], <br>\n",
    "[2, 4, 4, 3, 2, 2], <br>\n",
    "[5, 5, 5, 5, 4, 4], <br>\n",
    "[6, 6, 7, 6, 5, 5]] <br>\n",
    "\\# Starting from the left, the 6 > 5 > 2 > 1, so all numbers can see. <br>\n",
    "\\# 6 > 5 > 4 > 2 - so all numbers can see, etc. <br>\n",
    "Not everyone can see the front-stage in the example below:   <br>\n",
    "\\# FRONT STAGE <br>\n",
    "[[1, 2, 3, 2, 1, 1],  <br>\n",
    "[2, 4, 4, 3, 2, 2],  <br>\n",
    "[5, 5, 5, 10, 4, 4],  <br>\n",
    "[6, 6, 7, 6, 5, 5]] <br>\n",
    "\\# The 10 is directly in front of the 6 and blocking its view. <br>\n",
    "The function should return True if every number can see the front-stage, and False if even a single number cannot. <br>\n",
    "Examples <br>\n",
    "can_see_stage([ <br>\n",
    "  [1, 2, 3], <br>\n",
    "  [4, 5, 6], <br>\n",
    "  [7, 8, 9] <br>\n",
    "]) ➞ True <br>\n",
    "can_see_stage([ <br>\n",
    "  [0, 0, 0], <br>\n",
    "  [1, 1, 1], <br>\n",
    "  [2, 2, 2] <br>\n",
    "]) ➞ True <br>\n",
    "can_see_stage([ <br>\n",
    "  [2, 0, 0],  <br>\n",
    "  [1, 1, 1],  <br>\n",
    "  [2, 2, 2] <br>\n",
    "]) ➞ False <br>\n",
    "can_see_stage([ <br>\n",
    "  [1, 0, 0], <br>\n",
    "  [1, 1, 1], <br>\n",
    "  [2, 2, 2] <br>\n",
    "]) ➞ False <br>\n",
    "\\# Number must be strictly smaller than  <br>\n",
    "\\# the number directly behind it. <br>\n",
    "#### Answer : "
   ]
  },
  {
   "cell_type": "code",
   "execution_count": 35,
   "metadata": {},
   "outputs": [
    {
     "name": "stdout",
     "output_type": "stream",
     "text": [
      "True\n",
      "True\n",
      "False\n",
      "False\n"
     ]
    }
   ],
   "source": [
    "def can_see_stage(input1):\n",
    "    for i in range(len(input1[0])):\n",
    "        temp = True\n",
    "        for j in range(len(input1)-1,-1,-1):\n",
    "            if temp == True:\n",
    "                max = input1[j][i]\n",
    "                temp = False\n",
    "            elif (max<=input1[j][i]):\n",
    "                return False\n",
    "            else:\n",
    "                max = input1[j][i]\n",
    "            if j == 0:\n",
    "                temp = True\n",
    "    return True\n",
    "print(can_see_stage([[1, 2, 3],[4, 5, 6],[7, 8, 9]]))\n",
    "print(can_see_stage([[0, 0, 0],[1, 1, 1],[2, 2, 2]]))\n",
    "print(can_see_stage([[2, 0, 0],[1, 1, 1],[2, 2, 2]]))\n",
    "print(can_see_stage([[1, 0, 0],[1, 1, 1],[2, 2, 2]]))"
   ]
  },
  {
   "cell_type": "markdown",
   "metadata": {},
   "source": [
    "### 5. Create a Pizza class with the attributes order_number and ingredients (which is given as a list). Only the ingredients will be given as input.\n",
    "You should also make it so that its possible to choose a ready made pizza flavour rather than typing out the ingredients manually! As well as creating this Pizza class, hard-code the following pizza flavours. <br>\n",
    "Name &nbsp; &nbsp;&nbsp; &nbsp; &nbsp; &nbsp;&nbsp; &nbsp;&nbsp; &nbsp;&nbsp; &nbsp; Ingredients <br>\n",
    "hawaiian &nbsp; &nbsp;&nbsp; &nbsp; &nbsp; &nbsp;&nbsp; &nbsp;&nbsp;  ham, pineapple <br>\n",
    "meat_festival &nbsp; &nbsp;&nbsp; &nbsp; &nbsp; beef,meatball, bacon <br>\n",
    "garden_feast &nbsp; &nbsp;&nbsp; &nbsp; &nbsp;spinach, olives, mushroom <br>\n",
    "Examples <br>\n",
    "p1 = Pizza([\"bacon\", \"parmesan\", \"ham\"])    # order 1 <br>\n",
    "p2 = Pizza.garden_feast()                  # order 2 <br>\n",
    "p1.ingredients ➞ [\"bacon\", \"parmesan\", \"ham\"] <br>\n",
    "p2.ingredients ➞ [\"spinach\", \"olives\", \"mushroom\"] <br>\n",
    "p1.order_number ➞ 1 <br>\n",
    "p2.order_number ➞ 2 <br>\n",
    "#### Answer :"
   ]
  },
  {
   "cell_type": "code",
   "execution_count": 36,
   "metadata": {},
   "outputs": [
    {
     "name": "stdout",
     "output_type": "stream",
     "text": [
      "['bacon', 'parmesan', 'ham']\n",
      "['spinach', 'olives', 'mushroom']\n",
      "1\n",
      "2\n"
     ]
    }
   ],
   "source": [
    "class Pizza:\n",
    "    order_count = 0\n",
    "    def __init__(self,ingredients=None):\n",
    "        self.ingredients = ingredients\n",
    "        self.order_number = Pizza.order_count+1\n",
    "        Pizza.order_count = self.order_number\n",
    "    def hawaiian(self):\n",
    "        self.ingredients = ['ham', 'pineapple']\n",
    "    def meat_festival(self):\n",
    "        self.ingredients = ['beef', 'meatball', 'bacon']\n",
    "    def garden_feast(self):\n",
    "        self.ingredients = ['spinach', 'olives', 'mushroom']\n",
    "        \n",
    "p1 = Pizza([\"bacon\", \"parmesan\", \"ham\"])\n",
    "p2 = Pizza()\n",
    "p2.garden_feast()\n",
    "print(p1.ingredients)\n",
    "print(p2.ingredients)\n",
    "print(p1.order_number)\n",
    "print(p2.order_number)"
   ]
  }
 ],
 "metadata": {
  "kernelspec": {
   "display_name": "Python 3",
   "language": "python",
   "name": "python3"
  },
  "language_info": {
   "codemirror_mode": {
    "name": "ipython",
    "version": 3
   },
   "file_extension": ".py",
   "mimetype": "text/x-python",
   "name": "python",
   "nbconvert_exporter": "python",
   "pygments_lexer": "ipython3",
   "version": "3.8.5"
  }
 },
 "nbformat": 4,
 "nbformat_minor": 4
}
