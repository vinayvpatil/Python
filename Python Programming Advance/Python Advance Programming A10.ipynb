{
 "cells": [
  {
   "cell_type": "markdown",
   "metadata": {},
   "source": [
    "## Python Advance Programming A10\n",
    "### 1. Create a function that takes the width, height and character and returns a picture frame as a 2D list.\n",
    "Examples\n",
    "get_frame(4, 5, \"#\") ➞ [[\"####\"],[\"#  #\"],[\"#  #\"],[\"#  #\"],[\"####\"]]     \n",
    "Frame is 4 characters wide and 5 characters tall.  \n",
    "get_frame(10, 3, \"*\") ➞ [[\"\\*\\*\\*\\*\\*\\*\\*\\*\\*\\*\"],[\"\\*        \\*\"],[\"\\*\\*\\*\\*\\*\\*\\*\\*\\*\\*\"]]        \n",
    "Frame is 10 characters and wide and 3 characters tall.       \n",
    "get_frame(2, 5, \"0\") ➞ \"invalid\"   \n",
    "Frame's width is not more than 2.         \n",
    "#### Answer :"
   ]
  },
  {
   "cell_type": "code",
   "execution_count": 2,
   "metadata": {},
   "outputs": [
    {
     "name": "stdout",
     "output_type": "stream",
     "text": [
      "[['####'], ['#  #'], ['#  #'], ['#  #'], ['####']]\n",
      "[['**********'], ['*        *'], ['**********']]\n",
      "Invalid\n"
     ]
    }
   ],
   "source": [
    "def get_frame(w,h,c):\n",
    "    output = []\n",
    "    if w > 2:\n",
    "        for i in range(h):\n",
    "            x = []\n",
    "            if i == 0 or i == h-1:\n",
    "                x.append(c*w)\n",
    "            else:\n",
    "                pattern = c + ' ' * (w-2) + c\n",
    "                x.append(pattern)\n",
    "            output.append(x)                \n",
    "        return output\n",
    "    else:\n",
    "        return 'Invalid'            \n",
    "print(get_frame(4,5,'#')) \n",
    "print(get_frame(10,3,'*'))\n",
    "print(get_frame(2,5,'0'))"
   ]
  },
  {
   "cell_type": "markdown",
   "metadata": {},
   "source": [
    "### 2. Write three functions:\n",
    "  1. boolean_and             \n",
    "  2. boolean_or    \n",
    "  3. boolean_xor     \n",
    "These functions should evaluate a list of True and False values, starting from the leftmost element and evaluating pairwise.   \n",
    "Examples        \n",
    "boolean_and([True, True, False, True]) ➞ False            \n",
    "[True, True, False, True] => [True, False, True] => [False, True] => False    \n",
    "boolean_or([True, True, False, False]) ➞ True    \n",
    "[True, True, False, True] => [True, False, False] => [True, False] => True    \n",
    "boolean_xor([True, True, False, False]) ➞ False   \n",
    "[True, True, False, False] => [False, False, False] => [False, False] => False   \n",
    "#### Answer : "
   ]
  },
  {
   "cell_type": "code",
   "execution_count": 7,
   "metadata": {},
   "outputs": [
    {
     "name": "stdout",
     "output_type": "stream",
     "text": [
      "False\n",
      "True\n",
      "False\n"
     ]
    }
   ],
   "source": [
    "def boolean_and(list1):\n",
    "    output = True\n",
    "    i = 0\n",
    "    while i < len(list1):\n",
    "        output = output and list1[i]\n",
    "        list1.pop(i)\n",
    "        list1[0] = output\n",
    "        length = len(list1)\n",
    "        i += 1\n",
    "    return list1[0] and list1[1]\n",
    "def boolean_or(list1):\n",
    "    output = False\n",
    "    i = 0\n",
    "    while i < len(list1):\n",
    "        output = output or list1[i]\n",
    "        list1.pop(i)\n",
    "        list1[0] = output\n",
    "        length = len(list1)\n",
    "        i += 1\n",
    "    return list1[0] or list1[1]\n",
    "\n",
    "def boolean_xor(list1):\n",
    "    output = True\n",
    "    i = 0\n",
    "    while i < len(list1):\n",
    "        output = output ^ list1[i]\n",
    "        list1.pop(i)\n",
    "        list1[0] = output\n",
    "        length = len(list1)\n",
    "        i += 1\n",
    "    return list1[0] ^ list1[1]\n",
    "print(boolean_and([False, True, False, True]) )        \n",
    "print(boolean_or([True, True, False, False])) \n",
    "print(boolean_xor([True, True, False, False]))"
   ]
  },
  {
   "cell_type": "markdown",
   "metadata": {},
   "source": [
    "### 3. Create a function that creates a box based on dimension n.\n",
    "Examples       \n",
    "make_box(5) ➞ [\"#####\",\"#   #\",\"#   #\",\"#   #\",\"#####\"]         \n",
    "make_box(3) ➞ [\"###\",\"# #\",\"###\"]      \n",
    "make_box(2) ➞ [\"##\",\"##\"]         \n",
    "make_box(1) ➞ [\"#\"]   \n",
    "#### Answer :"
   ]
  },
  {
   "cell_type": "code",
   "execution_count": 8,
   "metadata": {},
   "outputs": [
    {
     "name": "stdout",
     "output_type": "stream",
     "text": [
      "#####\n",
      "#   #\n",
      "#   #\n",
      "#   #\n",
      "#####\n",
      "\n",
      "##\n",
      "##\n",
      "\n",
      "#\n",
      "\n"
     ]
    }
   ],
   "source": [
    "def make_box(n):\n",
    "    output = []\n",
    "    for i in range(n):\n",
    "        if i == 0 or i == n-1:\n",
    "            output.append('#'*n)\n",
    "        else:\n",
    "            output.append('#'+' '*(n-2)+'#')\n",
    "    for i in output:\n",
    "        print(i)\n",
    "    print()   \n",
    "make_box(5)   \n",
    "make_box(2)\n",
    "make_box(1)"
   ]
  },
  {
   "cell_type": "markdown",
   "metadata": {},
   "source": [
    "### 4. Given a common phrase, return False if any individual word in the phrase contains duplicate letters. Return True otherwise.\n",
    "Examples       \n",
    "no_duplicate_letters(\"Fortune favours the bold.\") ➞ True        \n",
    "no_duplicate_letters(\"You can lead a horse to water, but you can't make him drink.\") ➞ True          \n",
    "no_duplicate_letters(\"Look before you leap.\") ➞ False      \n",
    "Duplicate letters in \"Look\" and \"before\".       \n",
    "no_duplicate_letters(\"An apple a day keeps the doctor away.\") ➞ False       \n",
    "Duplicate letters in \"apple\", \"keeps\", \"doctor\", and \"away\".   \n",
    "#### Answer :"
   ]
  },
  {
   "cell_type": "code",
   "execution_count": 9,
   "metadata": {},
   "outputs": [
    {
     "name": "stdout",
     "output_type": "stream",
     "text": [
      "True\n",
      "True\n",
      "False\n",
      "False\n"
     ]
    }
   ],
   "source": [
    "def no_duplicate_letters(phrase):\n",
    "    output = None\n",
    "    for i in phrase.split(' '):\n",
    "        if len(i) == len(set(i)):\n",
    "            output = True\n",
    "        else:\n",
    "            output = False\n",
    "            break\n",
    "    print(output)  \n",
    "no_duplicate_letters(\"Fortune favours the bold.\")\n",
    "no_duplicate_letters(\"You can lead a horse to water, but you can't make him drink.\")\n",
    "no_duplicate_letters(\"Look before you leap.\")\n",
    "no_duplicate_letters(\"An apple a day keeps the doctor away.\")"
   ]
  },
  {
   "cell_type": "markdown",
   "metadata": {},
   "source": [
    "### 5. Write a regular expression that will match the states that voted yes to President Trump's impeachment. You must use RegEx positive lookahead.\n",
    "Example          \n",
    "txt = \"Texas = no, California = yes, Florida = yes, Michigan = no\" \n",
    "pattern = \"yourregularexpressionhere\"         \n",
    "re.findall(pattern, txt) ➞ [\"California\", \"Florida\"]  \n",
    "#### Answer :"
   ]
  },
  {
   "cell_type": "code",
   "execution_count": 15,
   "metadata": {},
   "outputs": [
    {
     "name": "stdout",
     "output_type": "stream",
     "text": [
      "['California', 'Florida']\n",
      "['California', 'Florida']\n"
     ]
    }
   ],
   "source": [
    "#Solution 1\n",
    "import re\n",
    "txt = \"Texas = no, California = yes, Florida = yes, Michigan = no\"\n",
    "pattern1 = r'\\w+(?=\\s=\\syes*)'\n",
    "output1 = re.findall(pattern1,txt)\n",
    "print(output1)\n",
    "\n",
    "#Solution 2\n",
    "import re\n",
    "txt = \"Texas = no, California = yes, Florida = yes, Michigan = no\" \n",
    "pattern2 = r'[a-zA-Z]+(?= = yes)'\n",
    "output2 = re.findall(pattern2, txt)\n",
    "print(output2)"
   ]
  }
 ],
 "metadata": {
  "kernelspec": {
   "display_name": "Python 3",
   "language": "python",
   "name": "python3"
  },
  "language_info": {
   "codemirror_mode": {
    "name": "ipython",
    "version": 3
   },
   "file_extension": ".py",
   "mimetype": "text/x-python",
   "name": "python",
   "nbconvert_exporter": "python",
   "pygments_lexer": "ipython3",
   "version": "3.8.5"
  }
 },
 "nbformat": 4,
 "nbformat_minor": 4
}
