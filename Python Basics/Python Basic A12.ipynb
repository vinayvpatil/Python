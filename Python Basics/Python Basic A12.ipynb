{
 "cells": [
  {
   "cell_type": "markdown",
   "metadata": {},
   "source": [
    "## Python Basic A12\n",
    "### 1. In what modes should the PdfFileReader() and PdfFileWriter() File objects will be opened?\n",
    "#### Answer :\n",
    "PdfFileReader() file objects will open in read-binary ('rb') mode.    \n",
    "PdfFileWriter() file objects will open in write-binary ('wb') mode.     \n",
    "### 2. From a PdfFileReader object, how do you get a Page object for page 5?  \n",
    "#### Answer :  \n",
    "We can get a Page object for page 5 by calling getPage(4)       \n",
    "### 3. What PdfFileReader variable stores the number of pages in the PDF document?  \n",
    "#### Answer :\n",
    "numPages variable  \n",
    "### 4. If a PdfFileReader object’s PDF is encrypted with the password swordfish, what must you do before you can obtain Page objects from it? \n",
    "#### Answer : \n",
    "To obtain Page objects which is encrypted with password swordfish, we should call decrypt('swordfish')        \n",
    "### 5. What methods do you use to rotate a page? \n",
    "#### Answer :    \n",
    "rotateClockwise() and rotateCounterClockwise() methods are used to rotate a page.    \n",
    "The degrees to rotate is passed as an integer argument.    \n",
    "### 6. What is the difference between a Run object and a Paragraph object?\n",
    "#### Answer : \n",
    "A paragraph begins on a new line and contains multiple runs.     \n",
    "Runs are contiguous groups of characters within a paragraph.    \n",
    "### 7. How do you obtain a list of Paragraph objects for a Document object that’s stored in a variable named doc?\n",
    "#### Answer :\n",
    "doc.paragraphs  \n",
    "### 8. What type of object has bold, underline, italic, strike, and outline variables?\n",
    "#### Answer :\n",
    "Run object  \n",
    "### 9. What is the difference between False, True, and None for the bold variable?  \n",
    "#### Answer :\n",
    "bold = True  # Run object is always bolded.    \n",
    "bold = False # Run object is never bolded no matter what the style’s bold setting is.       \n",
    "bold = None # Run object just uses the style’s bold setting.      \n",
    "### 10. How do you create a Document object for a new Word document?  \n",
    "#### Answer :\n",
    "by calling the docx.Document() function.    \n",
    "### 11. How do you add a paragraph with the text 'Hello, there!' to a Document object stored in a variable named doc?\n",
    "#### Answer : \n",
    "doc.add_paragraph('Hello, there!')   \n",
    "### 12. What integers represent the levels of headings available in Word documents?\n",
    "#### Answer :   \n",
    "integers 0, 1, 2, 3, and 4  "
   ]
  }
 ],
 "metadata": {
  "kernelspec": {
   "display_name": "Python 3",
   "language": "python",
   "name": "python3"
  },
  "language_info": {
   "codemirror_mode": {
    "name": "ipython",
    "version": 3
   },
   "file_extension": ".py",
   "mimetype": "text/x-python",
   "name": "python",
   "nbconvert_exporter": "python",
   "pygments_lexer": "ipython3",
   "version": "3.8.5"
  }
 },
 "nbformat": 4,
 "nbformat_minor": 4
}
