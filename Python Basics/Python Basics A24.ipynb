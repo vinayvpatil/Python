{
 "cells": [
  {
   "cell_type": "markdown",
   "metadata": {},
   "source": [
    "## Python Basics A24\n",
    "### 1. What is the relationship between def statements and lambda expressions ?\n",
    "#### Answer :\n",
    "**lamda expressions** are used to create Anonymous function. They can have any number of arguments, but it can have only one expression. It cannot contain any statements and it returns a function object which can be assigned to any variable. They can be used in the block they were created.          \n",
    "\n",
    "**def statements** are used to create normal function. It help break our program into smaller and modular chunks. As our program grows larger and larger, functions make it more organised and manageable. They can be called and used anywhere we want. It is explained in below codes."
   ]
  },
  {
   "cell_type": "code",
   "execution_count": 4,
   "metadata": {},
   "outputs": [
    {
     "name": "stdout",
     "output_type": "stream",
     "text": [
      "Output using def statement :  9\n",
      "Output lambda expression :  9\n"
     ]
    }
   ],
   "source": [
    "#defining a function using def statement\n",
    "def add(a,b):\n",
    "      return a+b\n",
    "print(\"Output using def statement : \", add(4,5))\n",
    "    \n",
    "#defining a lambda funcion using lambda expression\n",
    "add = lambda x, y : x + y \n",
    "print(\"Output lambda expression : \",add(4,5))"
   ]
  },
  {
   "cell_type": "markdown",
   "metadata": {},
   "source": [
    "### 2. What is the benefit of lambda?\n",
    "#### Answer :\n",
    "- lambda functions can be created in a single line   \n",
    "- lambda functions can be assigned to a variable and can be called easily using that variable.  \n",
    "- lambda functions make code looks simple and readable.\n",
    "- They can be executed very fast.        "
   ]
  },
  {
   "cell_type": "markdown",
   "metadata": {},
   "source": [
    "### 3. Compare and contrast map, filter, and reduce.\n",
    "#### Answer :\n"
   ]
  },
  {
   "cell_type": "markdown",
   "metadata": {},
   "source": [
    "**map() :** The map() function is a higher-order function. It accepts another function and a sequence of ‘iterables’ as parameters and provides output after applying the function to each iterable in the sequence.                     \n",
    "**filter() :** The filter() function is used to generate an output list of values that return true when the function is called.               \n",
    "**reduce() :** The reduce() function applies a provided function to ‘iterables’ and returns a single value, as the name implies.                  \n",
    "It is explained in below codes."
   ]
  },
  {
   "cell_type": "code",
   "execution_count": 7,
   "metadata": {},
   "outputs": [
    {
     "name": "stdout",
     "output_type": "stream",
     "text": [
      "Result from map() function -- [125, 216, 343, 512, 729]\n",
      "Result from filter() function -- [5, 7, 9]\n",
      "Result from reduce() function -- 35\n"
     ]
    }
   ],
   "source": [
    "# map function to provide cubes of all the numbers\n",
    "print('Result from map() function --',list(map(lambda x:x*x*x, [5,6,7,8,9])))\n",
    "# fitler function to provide odd numbers from the list\n",
    "print('Result from filter() function --',list(filter(lambda x:x%2 !=0, [5,6,7,8,9])))\n",
    "# reduce function to add all the numbers in the list\n",
    "print('Result from reduce() function --',reduce(lambda x,y:x+y, [5,6,7,8,9]))"
   ]
  },
  {
   "cell_type": "markdown",
   "metadata": {},
   "source": [
    "### 4. What are function annotations, and how are they used?\n",
    "#### Answer :\n",
    "Function annotations are arbitrary python expressions that are associated with various part of functions. These expressions are evaluated at compile time and have no life in python’s runtime environment. Python does not attach any meaning to these annotations. They take life when interpreted by third party libraries, for example, mypy.            \n",
    "**Annotations for simple parameters :** The argument name is followed by ‘:’ which is then followed by the expression. Annotation syntax is shown below.          \n",
    "def myfunction(a: expression, b: expression = 5):           \n",
    "**Annotations for excess parameters :** Excess parameters for e.g. \\*args and \\*\\*kwargs, allow arbitrary number of arguments to be passed in a function call. Annotation syntax of such parameters is shown below.           \n",
    "def myfunction(\\*args: expression, \\*kwargs: expression):    \n",
    "**Annotations for nested parameters :** Nested parameters are useful feature of python 2x where a tuple is passed in a function call and automatic unpacking takes place. This feature is removed in python 3x and manual unpacking should be done. Annotation is done after the variable and not after the tuple as shown below.                           \n",
    "def myfunction((a: expression, b: expression), (c: expression, d: expression)):"
   ]
  },
  {
   "cell_type": "markdown",
   "metadata": {},
   "source": [
    "### 5. What are recursive functions, and how are they used?\n",
    "#### Answer :\n",
    "In Python, a function can call other functions. It is even possible for the function to call itself. These types of construct are termed as **recursive functions.**              \n",
    "**Advantages of using recursive function**\n",
    "- A complicated function can be split down into smaller sub-problems utilizing recursion.     \n",
    "- Sequence creation is simpler through recursion than utilizing any nested iteration.         \n",
    "- Recursive functions render the code look simple and effective.            \n",
    "Following is an example of a recursive function to find the factorial of an integer. "
   ]
  },
  {
   "cell_type": "code",
   "execution_count": 9,
   "metadata": {},
   "outputs": [
    {
     "name": "stdout",
     "output_type": "stream",
     "text": [
      "The factorial of 5 is 120\n"
     ]
    }
   ],
   "source": [
    "def factorial(i):\n",
    "    if i == 1:\n",
    "        return 1\n",
    "    else:\n",
    "        return (i * factorial(i-1))\n",
    "number = 5\n",
    "print(\"The factorial of\", number, \"is\", factorial(number))"
   ]
  },
  {
   "cell_type": "markdown",
   "metadata": {},
   "source": [
    "### 6. What are some general design guidelines for coding functions?\n",
    "#### Answer :\n",
    "- Use 4-space indentation and no tabs.       \n",
    "- Use docstrings to define a particular program or define a particular function.         \n",
    "- Wrap lines so that they don’t exceed 79 characters.       \n",
    "- Use of regular and updated comments are valuable to both the coders and users.          \n",
    "- Use Python’s default UTF-8 or ASCII encodings and not any fancy encodings.      \n",
    "- Use spaces around operators and after commas, but not directly inside bracketing constructs.  \n",
    "- Don’t use non-ASCII characters in identifiers.         \n",
    "- While naming of function of methods always use self for the first argument."
   ]
  },
  {
   "cell_type": "markdown",
   "metadata": {},
   "source": [
    "### 7. Name three or more ways that functions can communicate results to a caller.\n",
    "#### Answer :\n",
    "- print       \n",
    "- return      \n",
    "-yield  "
   ]
  }
 ],
 "metadata": {
  "kernelspec": {
   "display_name": "Python 3",
   "language": "python",
   "name": "python3"
  },
  "language_info": {
   "codemirror_mode": {
    "name": "ipython",
    "version": 3
   },
   "file_extension": ".py",
   "mimetype": "text/x-python",
   "name": "python",
   "nbconvert_exporter": "python",
   "pygments_lexer": "ipython3",
   "version": "3.8.5"
  }
 },
 "nbformat": 4,
 "nbformat_minor": 4
}
