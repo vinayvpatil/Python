{
 "cells": [
  {
   "cell_type": "markdown",
   "metadata": {},
   "source": [
    "## Python Basics A8\n",
    "### 1. Is the Python Standard Library included with PyInputPlus?\n",
    "#### Answer :\n",
    "No, PyInputPlus is a third-party module and it doesn’t have Python Standard Library.\n",
    "### 2. Why is PyInputPlus commonly imported with import pyinputplus as pyip?\n",
    "#### Answer : \n",
    "We import pyinputplus as pyip to make our code shorter. So we can type pyip instead of long pyinputplus\n",
    "### 3. How do you distinguish between inputInt() and inputFloat()?\n",
    "#### Answer :\n",
    "The inputInt() function returns an int value eg. 8  \n",
    "while the inputFloat() function returns a float value eg. 8.0\n",
    "### 4. Using PyInputPlus, how do you ensure that the user enters a whole number between 0 and 99?\n",
    "#### Answer :\n",
    "By calling pyinputplus.inputint(min=0, max=99)  \n",
    "### 5. What is transferred to the keyword arguments allowRegexes and blockRegexes?\n",
    "#### Answer :\n",
    "A list of regex strings that are either explicitly allowed or denied\n",
    "### 6. If a blank input is entered three times, what does inputStr(limit=3) do?\n",
    "#### Answer :  \n",
    "inputStr(limit=3) will raise RetryLimitException\n",
    "### 7. If blank input is entered three times, what does inputStr(limit=3, default='hello') do?\n",
    "#### Answer : \n",
    "inputStr(limit=3, default='hello') will return **'hello'**"
   ]
  }
 ],
 "metadata": {
  "kernelspec": {
   "display_name": "Python 3",
   "language": "python",
   "name": "python3"
  },
  "language_info": {
   "codemirror_mode": {
    "name": "ipython",
    "version": 3
   },
   "file_extension": ".py",
   "mimetype": "text/x-python",
   "name": "python",
   "nbconvert_exporter": "python",
   "pygments_lexer": "ipython3",
   "version": "3.8.5"
  }
 },
 "nbformat": 4,
 "nbformat_minor": 4
}
