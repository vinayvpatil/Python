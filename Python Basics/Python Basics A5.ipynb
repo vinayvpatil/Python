{
 "cells": [
  {
   "cell_type": "markdown",
   "metadata": {},
   "source": [
    "## Python Basics A5\n",
    "### 1. What does an empty dictionary's code look like?\n",
    "#### Answer :\n",
    "\n",
    "a = {}    \n",
    "b = dict()"
   ]
  },
  {
   "cell_type": "markdown",
   "metadata": {},
   "source": [
    "### 2. What is the value of a dictionary value with the key 'foo' and the value 42?\n",
    "#### Answer : {'foo': 42}\n",
    "### 3. What is the most significant distinction between a dictionary and a list?\n",
    "#### Answer :\n",
    "The items stored in a dictionary are unordered while the items stored in a list are ordered.  \n",
    "Items are stored in dictionary in key-value pairs and they can be accessed using keys while in list, stored items can be accessed using index position.\n",
    "### 4. What happens if you try to access spam['foo'] if spam is {'bar': 100}?\n",
    "#### Answer : It will give a KeyError as mentioned Key ('foo') is not present in the spam dictionary."
   ]
  },
  {
   "cell_type": "code",
   "execution_count": 1,
   "metadata": {},
   "outputs": [
    {
     "ename": "KeyError",
     "evalue": "'foo'",
     "output_type": "error",
     "traceback": [
      "\u001b[1;31m---------------------------------------------------------------------------\u001b[0m",
      "\u001b[1;31mKeyError\u001b[0m                                  Traceback (most recent call last)",
      "\u001b[1;32m<ipython-input-1-56a8e50c7ff8>\u001b[0m in \u001b[0;36m<module>\u001b[1;34m\u001b[0m\n\u001b[0;32m      1\u001b[0m \u001b[0mspam\u001b[0m \u001b[1;33m=\u001b[0m \u001b[1;33m{\u001b[0m\u001b[1;34m'bar'\u001b[0m\u001b[1;33m:\u001b[0m \u001b[1;36m100\u001b[0m\u001b[1;33m}\u001b[0m\u001b[1;33m\u001b[0m\u001b[1;33m\u001b[0m\u001b[0m\n\u001b[1;32m----> 2\u001b[1;33m \u001b[0mspam\u001b[0m\u001b[1;33m[\u001b[0m\u001b[1;34m'foo'\u001b[0m\u001b[1;33m]\u001b[0m\u001b[1;33m\u001b[0m\u001b[1;33m\u001b[0m\u001b[0m\n\u001b[0m",
      "\u001b[1;31mKeyError\u001b[0m: 'foo'"
     ]
    }
   ],
   "source": [
    "spam = {'bar': 100}\n",
    "spam['foo']"
   ]
  },
  {
   "cell_type": "markdown",
   "metadata": {},
   "source": [
    "### 5. If a dictionary is stored in spam, what is the difference between the expressions 'cat' in spam and 'cat' in spam.keys()?\n",
    "#### Answer :  There is no difference as both expressions will check whether key 'cat' is present in the spam dictionary or not. If it is present it will give True value otherwise False."
   ]
  },
  {
   "cell_type": "code",
   "execution_count": 2,
   "metadata": {},
   "outputs": [
    {
     "name": "stdout",
     "output_type": "stream",
     "text": [
      "True\n",
      "True\n"
     ]
    }
   ],
   "source": [
    "spam = {'cat':1, 'dog' :2, 'tiger' :3}\n",
    "print ('cat' in spam )\n",
    "print ('cat' in spam.keys())"
   ]
  },
  {
   "cell_type": "markdown",
   "metadata": {},
   "source": [
    "### 6. If a dictionary is stored in spam, what is the difference between the expressions 'cat' in spam and 'cat' in spam.values()?\n",
    "#### Answer :  \n",
    "**'cat' in spam** will check whether key 'cat' is present in the spam dictionary or not. If it is present it will give True value otherwise False.   \n",
    "**'cat' in spam.values()** will check whether value 'cat' is present in the spam dictionary or not. If it is present it will give True value otherwise False.  "
   ]
  },
  {
   "cell_type": "code",
   "execution_count": 3,
   "metadata": {},
   "outputs": [
    {
     "name": "stdout",
     "output_type": "stream",
     "text": [
      "True\n",
      "False\n"
     ]
    }
   ],
   "source": [
    "spam = {'cat':1, 'dog' :2, 'tiger' :3}\n",
    "print ('cat' in spam )\n",
    "print ('cat' in spam.values())"
   ]
  },
  {
   "cell_type": "markdown",
   "metadata": {},
   "source": [
    "### 7. What is a shortcut for the following code?\n",
    "if 'color' not in spam:     \n",
    "spam['color'] = 'black'\n",
    "### Answer : spam.setdefault('color', 'black')  \n",
    "setdefault() method returns the key value available in the dictionary (if the mentioned key is present in the dictionary) and if the mentioned key is not available in the dictionary then it will return provided default value."
   ]
  },
  {
   "cell_type": "code",
   "execution_count": 4,
   "metadata": {},
   "outputs": [
    {
     "name": "stdout",
     "output_type": "stream",
     "text": [
      "{'vinay': 2, 'color': 'black'}\n"
     ]
    }
   ],
   "source": [
    "#in this program, mentioned key is not present in the dictonary so it will return default key:value\n",
    "spam = {'vinay': 2}\n",
    "spam.setdefault('color', 'black')\n",
    "print (spam)"
   ]
  },
  {
   "cell_type": "code",
   "execution_count": 5,
   "metadata": {},
   "outputs": [
    {
     "name": "stdout",
     "output_type": "stream",
     "text": [
      "{'color': 2}\n"
     ]
    }
   ],
   "source": [
    "#in this program, mentioned key is present in the dictonary so it will return key:value from the dictionary itself.\n",
    "spam = {'color': 2}\n",
    "spam.setdefault('color', 'black')\n",
    "print (spam)"
   ]
  },
  {
   "cell_type": "markdown",
   "metadata": {},
   "source": [
    "### 8. How do you \"pretty print\" dictionary values using which module and function?\n",
    "#### Answer :\n",
    "pprint is a Python module that provides the capability to pretty print Python data types to be more readable. This module also supports pretty-printing dictionary.\n",
    "Within the pprint module there is a function with the same name pprint(), which is the function used to pretty-print the given string or object.   \n",
    "The pprint() output is definitely more readable. What it does is to break each dictionary element in the array right after the commas while also sorting the dictionary’s values by key.   \n",
    "pprint() will not pretty print nested objects, including nested dictionaries. So if we expect our values to be nested, then this is not the solution for that."
   ]
  },
  {
   "cell_type": "code",
   "execution_count": 6,
   "metadata": {},
   "outputs": [
    {
     "name": "stdout",
     "output_type": "stream",
     "text": [
      "[{'Age': '23', 'City': 'Mumbai', 'Name': 'Vinay'},\n",
      " {'Age': '44', 'City': 'Delhi', 'Name': 'Ajay'},\n",
      " {'Age': '29', 'City': 'Jaipur', 'Name': 'Vijay'},\n",
      " {'Age': '35', 'City': 'Chennai', 'Name': 'Ramesh'}]\n"
     ]
    }
   ],
   "source": [
    "import pprint\n",
    "\n",
    "dict1 = [\n",
    "  {'Name': 'Vinay', 'Age': '23', 'City': 'Mumbai'},\n",
    "  {'Name': 'Ajay', 'Age': '44', 'City': 'Delhi'},\n",
    "  {'Name': 'Vijay', 'Age': '29', 'City': 'Jaipur'},\n",
    "  {'Name': 'Ramesh', 'Age': '35', 'City': 'Chennai'}\n",
    "]\n",
    "\n",
    "pprint.pprint(dict1)"
   ]
  },
  {
   "cell_type": "code",
   "execution_count": 7,
   "metadata": {},
   "outputs": [
    {
     "name": "stdout",
     "output_type": "stream",
     "text": [
      "[{'Name': 'Vinay', 'Age': '23', 'City': 'Mumbai'}, {'Name': 'Ajay', 'Age': '44', 'City': 'Delhi'}, {'Name': 'Vijay', 'Age': '29', 'City': 'Jaipur'}, {'Name': 'Ramesh', 'Age': '35', 'City': 'Chennai'}]\n"
     ]
    }
   ],
   "source": [
    "#Lets check output if pprint() is not used\n",
    "print (dict1)"
   ]
  }
 ],
 "metadata": {
  "kernelspec": {
   "display_name": "Python 3",
   "language": "python",
   "name": "python3"
  },
  "language_info": {
   "codemirror_mode": {
    "name": "ipython",
    "version": 3
   },
   "file_extension": ".py",
   "mimetype": "text/x-python",
   "name": "python",
   "nbconvert_exporter": "python",
   "pygments_lexer": "ipython3",
   "version": "3.8.5"
  }
 },
 "nbformat": 4,
 "nbformat_minor": 4
}
