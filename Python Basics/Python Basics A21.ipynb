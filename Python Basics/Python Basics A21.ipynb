{
 "cells": [
  {
   "cell_type": "markdown",
   "metadata": {},
   "source": [
    "## Python Basics A21\n",
    "### 1. Add the current date to the text file today.txt as a string.\n",
    "#### Answer :"
   ]
  },
  {
   "cell_type": "code",
   "execution_count": 8,
   "metadata": {},
   "outputs": [],
   "source": [
    "from datetime import date\n",
    "current = date.today()\n",
    "string1 = current.isoformat()\n",
    "with open('today', 'wt') as output:\n",
    "    output.write(string1)"
   ]
  },
  {
   "cell_type": "markdown",
   "metadata": {},
   "source": [
    "### 2. Read the text file today.txt into the string today_string\n",
    "#### Answer :"
   ]
  },
  {
   "cell_type": "code",
   "execution_count": 16,
   "metadata": {},
   "outputs": [
    {
     "data": {
      "text/plain": [
       "'2021-12-05'"
      ]
     },
     "execution_count": 16,
     "metadata": {},
     "output_type": "execute_result"
    }
   ],
   "source": [
    "with open('today', 'rt') as input:\n",
    "    today_string = input.read()\n",
    "today_string"
   ]
  },
  {
   "cell_type": "markdown",
   "metadata": {},
   "source": [
    "### 3. Parse the date from today_string.\n",
    "#### Answer :"
   ]
  },
  {
   "cell_type": "code",
   "execution_count": 20,
   "metadata": {},
   "outputs": [
    {
     "name": "stdout",
     "output_type": "stream",
     "text": [
      "2021-12-05 00:00:00\n"
     ]
    }
   ],
   "source": [
    "from datetime import datetime\n",
    "parsed_data = datetime.strptime(today_string, '%Y-%m-%d')\n",
    "print(parsed_data)"
   ]
  },
  {
   "cell_type": "markdown",
   "metadata": {},
   "source": [
    "### 4. List the files in your current directory\n",
    "#### Answer :"
   ]
  },
  {
   "cell_type": "code",
   "execution_count": 21,
   "metadata": {},
   "outputs": [
    {
     "data": {
      "text/plain": [
       "['.ipynb_checkpoints',\n",
       " 'books.csv',\n",
       " 'books.db',\n",
       " 'Python Basic A12.ipynb',\n",
       " 'Python Basics A1.ipynb',\n",
       " 'Python Basics A10.ipynb',\n",
       " 'Python Basics A11.ipynb',\n",
       " 'Python Basics A13.ipynb',\n",
       " 'Python Basics A14.ipynb',\n",
       " 'Python Basics A15.ipynb',\n",
       " 'Python Basics A16.ipynb',\n",
       " 'Python Basics A17.ipynb',\n",
       " 'Python Basics A18.ipynb',\n",
       " 'Python Basics A19.ipynb',\n",
       " 'Python Basics A2.ipynb',\n",
       " 'Python Basics A20.ipynb',\n",
       " 'Python Basics A21.ipynb',\n",
       " 'Python Basics A3.ipynb',\n",
       " 'Python Basics A4.ipynb',\n",
       " 'Python Basics A5.ipynb',\n",
       " 'Python Basics A6.ipynb',\n",
       " 'Python Basics A7.ipynb',\n",
       " 'Python Basics A8.ipynb',\n",
       " 'Python Basics A9.ipynb',\n",
       " 'test.txt',\n",
       " 'today',\n",
       " 'zoo.py',\n",
       " '__pycache__']"
      ]
     },
     "execution_count": 21,
     "metadata": {},
     "output_type": "execute_result"
    }
   ],
   "source": [
    "import os\n",
    "os.listdir('.')"
   ]
  },
  {
   "cell_type": "markdown",
   "metadata": {},
   "source": [
    "### 5. Create a list of all of the files in your parent directory (minimum five files should be available).\n",
    "#### Answer :"
   ]
  },
  {
   "cell_type": "code",
   "execution_count": 3,
   "metadata": {},
   "outputs": [
    {
     "data": {
      "text/plain": [
       "['1',\n",
       " '2',\n",
       " '3',\n",
       " 'python basic assignments',\n",
       " 'python programming basic assignments']"
      ]
     },
     "execution_count": 3,
     "metadata": {},
     "output_type": "execute_result"
    }
   ],
   "source": [
    "import os\n",
    "os.listdir('..')"
   ]
  },
  {
   "cell_type": "markdown",
   "metadata": {},
   "source": [
    "### 6. Use multiprocessing to create three separate processes. Make each one wait a random number of seconds between one and five, print the current time, and then exit.\n",
    "#### Answer :"
   ]
  },
  {
   "cell_type": "code",
   "execution_count": 14,
   "metadata": {},
   "outputs": [
    {
     "name": "stdout",
     "output_type": "stream",
     "text": [
      "Current time is :  18:02:48\n",
      "Current time is :  18:02:50\n",
      "Current time is :  18:02:54\n"
     ]
    }
   ],
   "source": [
    "import threading \n",
    "import time\n",
    "\n",
    "def time1():\n",
    "        time.sleep(1)\n",
    "        a=time.localtime()\n",
    "        b=time.strftime(\"%H:%M:%S\",a)\n",
    "        print(\"Current time is : \", b)\n",
    "def time2():\n",
    "        time.sleep(3)\n",
    "        a=time.localtime()\n",
    "        b=time.strftime(\"%H:%M:%S\",a)\n",
    "        print(\"Current time is : \", b)\n",
    "def time3():\n",
    "        time.sleep(7)\n",
    "        a=time.localtime()\n",
    "        b=time.strftime(\"%H:%M:%S\",a)\n",
    "        print(\"Current time is : \", b)\n",
    "\n",
    "t1 = threading.Thread(target=time1)  \n",
    "t2 = threading.Thread(target=time2)\n",
    "t3 = threading.Thread(target=time3)\n",
    "\n",
    "t1.start()\n",
    "t2.start()\n",
    "t3.start()"
   ]
  },
  {
   "cell_type": "markdown",
   "metadata": {},
   "source": [
    "### 7. Create a date object of your day of birth.\n",
    "#### Answer :"
   ]
  },
  {
   "cell_type": "code",
   "execution_count": 17,
   "metadata": {},
   "outputs": [
    {
     "name": "stdout",
     "output_type": "stream",
     "text": [
      "1990-10-30\n"
     ]
    }
   ],
   "source": [
    "import datetime\n",
    "myDOB=datetime.date(1990,10,30)\n",
    "print(myDOB)"
   ]
  },
  {
   "cell_type": "markdown",
   "metadata": {},
   "source": [
    "### 8. What day of the week was your day of birth?\n",
    "#### Answer :"
   ]
  },
  {
   "cell_type": "code",
   "execution_count": 23,
   "metadata": {},
   "outputs": [
    {
     "data": {
      "text/plain": [
       "'Tuesday'"
      ]
     },
     "execution_count": 23,
     "metadata": {},
     "output_type": "execute_result"
    }
   ],
   "source": [
    "from datetime import datetime\n",
    "myDOB = datetime(1990,10,30)\n",
    "myDOB.strftime(\"%A\")"
   ]
  },
  {
   "cell_type": "markdown",
   "metadata": {},
   "source": [
    "### 9. When will you be (or when were you) 10,000 days old?\n",
    "#### Answer :"
   ]
  },
  {
   "cell_type": "code",
   "execution_count": 30,
   "metadata": {},
   "outputs": [
    {
     "name": "stdout",
     "output_type": "stream",
     "text": [
      "2018-03-17 00:00:00\n"
     ]
    }
   ],
   "source": [
    "from datetime import timedelta\n",
    "futureday = myDOB + timedelta(days=10000)\n",
    "print (futureday)"
   ]
  }
 ],
 "metadata": {
  "kernelspec": {
   "display_name": "Python 3",
   "language": "python",
   "name": "python3"
  },
  "language_info": {
   "codemirror_mode": {
    "name": "ipython",
    "version": 3
   },
   "file_extension": ".py",
   "mimetype": "text/x-python",
   "name": "python",
   "nbconvert_exporter": "python",
   "pygments_lexer": "ipython3",
   "version": "3.8.5"
  }
 },
 "nbformat": 4,
 "nbformat_minor": 4
}
