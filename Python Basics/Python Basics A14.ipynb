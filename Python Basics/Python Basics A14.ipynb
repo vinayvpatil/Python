{
 "cells": [
  {
   "cell_type": "markdown",
   "metadata": {},
   "source": [
    "## Python Basics A14\n",
    "### 1. What does RGBA stand for?\n",
    "#### Answer :\n",
    "RGBA stands for Red, Green, Blue and Alpha.  \n",
    "### 2. From the Pillow module, how do you get the RGBA value of any images?\n",
    "#### Answer :\n",
    "ImageColor.getcolor()   \n",
    "### 3. What is a box tuple, and how does it work?\n",
    "#### Answer : \n",
    "A box tuple is a tuple value of four integers - 1) left-edge x-coordinate 2) top-edge y-coordinate 3) width 4) height.   \n",
    "Box tuple argument is passed in Pillow's function and method and is used to address Image pixels.  \n",
    "### 4. Use your image and load in notebook then, How can you find out the width and height of an Image object?\n",
    "#### Answer :\n",
    "imageObj.size can be used to find the width and height of an Image object     \n",
    "### 5. What method would you call to get Image object for a 100×100 image, excluding the lower-left quarter of it?\n",
    "#### Answer :\n",
    "imageObj.crop((0, 50, 50, 50)).      \n",
    "### 6. After making changes to an Image object, how could you save it as an image file?\n",
    "#### Answer :\n",
    "by calling the imageObj.save('new_filename.jpg') method of the Image object.     \n",
    "### 7. What module contains Pillow’s shape-drawing code?\n",
    "#### Answer : \n",
    "ImageDraw module     \n",
    "### 8. Image objects do not have drawing methods. What kind of object does? How do you get this kind of object?\n",
    "#### Answer :\n",
    "ImageDraw objects have shape-drawing methods such as point(), line(), or rectangle().   \n",
    "They are returned by passing the Image object to the ImageDraw.Draw() function.  "
   ]
  }
 ],
 "metadata": {
  "kernelspec": {
   "display_name": "Python 3",
   "language": "python",
   "name": "python3"
  },
  "language_info": {
   "codemirror_mode": {
    "name": "ipython",
    "version": 3
   },
   "file_extension": ".py",
   "mimetype": "text/x-python",
   "name": "python",
   "nbconvert_exporter": "python",
   "pygments_lexer": "ipython3",
   "version": "3.8.5"
  }
 },
 "nbformat": 4,
 "nbformat_minor": 4
}
