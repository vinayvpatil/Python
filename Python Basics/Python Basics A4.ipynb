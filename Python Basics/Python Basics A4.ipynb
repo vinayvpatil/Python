{
 "cells": [
  {
   "cell_type": "markdown",
   "metadata": {},
   "source": [
    "## Python Basics A4\n",
    "### 1. What exactly is [ ]?\n",
    "#### Answer :\n",
    "It is a representation of an empty list.\n",
    "\n",
    "### 2. In a list of values stored in a variable called spam, how would you assign the value 'hello' as the third value? (Assume [2, 4, 6, 8, 10] are in spam.)\n",
    "#### Answer :\n",
    "We can assign a value to the list by using it's index numbers. As we want the value 'hello' as the third value of the list we can assign the same by assigning it to the second index of the list. It is explained below."
   ]
  },
  {
   "cell_type": "code",
   "execution_count": 1,
   "metadata": {},
   "outputs": [
    {
     "name": "stdout",
     "output_type": "stream",
     "text": [
      "[2, 4, 'hello', 8, 10]\n"
     ]
    }
   ],
   "source": [
    "spam = [2, 4, 6, 8, 10]\n",
    "spam[2] = 'hello'\n",
    "print(spam)"
   ]
  },
  {
   "cell_type": "markdown",
   "metadata": {},
   "source": [
    "Let's pretend the spam includes the list ['a', 'b', 'c', 'd'] for the next three queries."
   ]
  },
  {
   "cell_type": "code",
   "execution_count": 2,
   "metadata": {},
   "outputs": [],
   "source": [
    "spam=['a', 'b', 'c', 'd']"
   ]
  },
  {
   "cell_type": "markdown",
   "metadata": {},
   "source": [
    "### 3. What is the value of spam[int(int('3' * 2) / 11)]?\n",
    "#### Answer : 'd'\n",
    "Explanation - '3'*2 give o/p as a string '33'. It's int value is 33 which is divided by 11 which gives value 3  \n",
    "So spam[3] gives the value of element stored at 2nd index which is 'd'"
   ]
  },
  {
   "cell_type": "code",
   "execution_count": 3,
   "metadata": {},
   "outputs": [
    {
     "data": {
      "text/plain": [
       "'d'"
      ]
     },
     "execution_count": 3,
     "metadata": {},
     "output_type": "execute_result"
    }
   ],
   "source": [
    "spam[int(int('3' * 2) / 11)]"
   ]
  },
  {
   "cell_type": "markdown",
   "metadata": {},
   "source": [
    "### 4. What is the value of spam[-1]?\n",
    "#### Answer : 'd'\n",
    "Explanation - The negative indexing is the act of indexing from the end of the list with indexing starting at -1 i.e. -1 gives the last element of list, -2 gives the second last element of list and so on."
   ]
  },
  {
   "cell_type": "code",
   "execution_count": 4,
   "metadata": {},
   "outputs": [
    {
     "data": {
      "text/plain": [
       "'d'"
      ]
     },
     "execution_count": 4,
     "metadata": {},
     "output_type": "execute_result"
    }
   ],
   "source": [
    "spam=['a', 'b', 'c', 'd']\n",
    "spam[-1]"
   ]
  },
  {
   "cell_type": "markdown",
   "metadata": {},
   "source": [
    "### 5. What is the value of spam[:2]?\n",
    "#### Answer : ['a', 'b']\n",
    "Explanation - Index start is not mentioned so it will be 0 and index stop is 2 so it will return all values from index 0 to index 1"
   ]
  },
  {
   "cell_type": "code",
   "execution_count": 5,
   "metadata": {},
   "outputs": [
    {
     "data": {
      "text/plain": [
       "['a', 'b']"
      ]
     },
     "execution_count": 5,
     "metadata": {},
     "output_type": "execute_result"
    }
   ],
   "source": [
    "spam[:2]"
   ]
  },
  {
   "cell_type": "markdown",
   "metadata": {},
   "source": [
    "Let's pretend bacon has the list [3.14, 'cat', 11, 'cat', True] for the next three questions."
   ]
  },
  {
   "cell_type": "code",
   "execution_count": 6,
   "metadata": {},
   "outputs": [],
   "source": [
    "bacon = [3.14, 'cat', 11, 'cat', True]"
   ]
  },
  {
   "cell_type": "markdown",
   "metadata": {},
   "source": [
    "### 6. What is the value of bacon.index('cat')?\n",
    "#### Answer : 1\n",
    "Explanation - index method will return the index of first occuerence of 'cat'"
   ]
  },
  {
   "cell_type": "code",
   "execution_count": 7,
   "metadata": {},
   "outputs": [
    {
     "data": {
      "text/plain": [
       "1"
      ]
     },
     "execution_count": 7,
     "metadata": {},
     "output_type": "execute_result"
    }
   ],
   "source": [
    "bacon.index('cat')"
   ]
  },
  {
   "cell_type": "markdown",
   "metadata": {},
   "source": [
    "### 7. How does bacon.append(99) change the look of the list value in bacon?\n",
    "#### Answer : \n",
    "Append() method is used to add one new element to the existing list. Its adds the element at the end of the list."
   ]
  },
  {
   "cell_type": "code",
   "execution_count": 8,
   "metadata": {},
   "outputs": [
    {
     "data": {
      "text/plain": [
       "[3.14, 'cat', 11, 'cat', True, 99]"
      ]
     },
     "execution_count": 8,
     "metadata": {},
     "output_type": "execute_result"
    }
   ],
   "source": [
    "bacon.append(99)\n",
    "bacon"
   ]
  },
  {
   "cell_type": "markdown",
   "metadata": {},
   "source": [
    "### 8. How does bacon.remove('cat') change the look of the list in bacon?\n",
    "#### Answer :\n",
    "remove () method removes the first occurence of the element in the list"
   ]
  },
  {
   "cell_type": "code",
   "execution_count": 9,
   "metadata": {},
   "outputs": [
    {
     "data": {
      "text/plain": [
       "[3.14, 11, 'cat', True, 99]"
      ]
     },
     "execution_count": 9,
     "metadata": {},
     "output_type": "execute_result"
    }
   ],
   "source": [
    "bacon.remove('cat')\n",
    "bacon"
   ]
  },
  {
   "cell_type": "markdown",
   "metadata": {},
   "source": [
    "### 9. What are the list concatenation and list replication operators?\n",
    "#### Answer :\n",
    "list concatenation operator is +    \n",
    "list replication operator is *"
   ]
  },
  {
   "cell_type": "code",
   "execution_count": 10,
   "metadata": {},
   "outputs": [
    {
     "name": "stdout",
     "output_type": "stream",
     "text": [
      "[1, 2, 3, 4, 5, 2, 6, 4]\n",
      "[1, 2, 3, 4, 1, 2, 3, 4]\n"
     ]
    }
   ],
   "source": [
    "list1 = [1,2,3,4]\n",
    "list2 = [5,2,6,4]\n",
    "print(list1 + list2) #List Concatenation\n",
    "print(list1*2) #List Replication"
   ]
  },
  {
   "cell_type": "markdown",
   "metadata": {},
   "source": [
    "### 10. What is difference between the list methods append() and insert()?\n",
    "#### Answer :\n",
    "Append() method is used to add one new element to the existing list. Its adds the element at the end of the list.   \n",
    "While insert(a,b) method inserts the specified value (b) at the specified position (a)."
   ]
  },
  {
   "cell_type": "code",
   "execution_count": 11,
   "metadata": {},
   "outputs": [
    {
     "name": "stdout",
     "output_type": "stream",
     "text": [
      "[1, 2, 3, 4, -1]\n",
      "[5, 2, 6, 'vinay', 4]\n"
     ]
    }
   ],
   "source": [
    "list1 = [1,2,3,4]\n",
    "list2 = [5,2,6,4]\n",
    "list1.append(-1)\n",
    "list2.insert(3, 'vinay')\n",
    "print (list1)\n",
    "print (list2)"
   ]
  },
  {
   "cell_type": "markdown",
   "metadata": {},
   "source": [
    "### 11. What are the two methods for removing items from a list?\n",
    "#### Answer :\n",
    "pop() and remove() method is used for removing items from a list  \n",
    "pop(a) method removes the element from the ath index of the list.  \n",
    "remove(a) method is used to delete the first occurrence of the element(a) mentioned in its arguments."
   ]
  },
  {
   "cell_type": "code",
   "execution_count": 12,
   "metadata": {},
   "outputs": [
    {
     "name": "stdout",
     "output_type": "stream",
     "text": [
      "[1, 2, 4]\n",
      "[5, 2, 4]\n",
      "[8, 9, 0]\n"
     ]
    }
   ],
   "source": [
    "list1 = [1,2,3,4]\n",
    "list2 = [5,2,6,4]\n",
    "list3 = [7,6,10,8,9,0]\n",
    "list1.pop(2)\n",
    "list2.remove(6)\n",
    "del list3[0:3]\n",
    "print (list1)\n",
    "print (list2)\n",
    "print (list3)"
   ]
  },
  {
   "cell_type": "markdown",
   "metadata": {},
   "source": [
    "### 12. Describe how list values and string values are identical.\n",
    "#### Answer :\n",
    "List can hold elements of string data type so list values and string values can be identical.   \n",
    "In below eg. we can see both string and list values are identical.\n"
   ]
  },
  {
   "cell_type": "code",
   "execution_count": 13,
   "metadata": {},
   "outputs": [
    {
     "name": "stdout",
     "output_type": "stream",
     "text": [
      "<class 'str'>\n",
      "I am Vinay\n",
      "<class 'list'>\n",
      "['I am Vinay']\n"
     ]
    }
   ],
   "source": [
    "string1 = \"I am Vinay\" #string\n",
    "print (type(string1))\n",
    "print (string1)\n",
    "\n",
    "list1 = [\"I am Vinay\"] #list\n",
    "print(type(list1))\n",
    "print (list1)\n"
   ]
  },
  {
   "cell_type": "markdown",
   "metadata": {},
   "source": [
    "### 13. What's the difference between tuples and lists?\n",
    "#### Answer :\n",
    "Lists are mutable (elements can be added, deleted or modified) but Tuples are immutable.    \n",
    "Lists are represented using square brackets [] while Tuples are represented using parentheses ()  "
   ]
  },
  {
   "cell_type": "markdown",
   "metadata": {},
   "source": [
    "### 14. How do you type a tuple value that only contains the integer 42?\n",
    "#### Answer :\n",
    "Comma (,) should be used after 42 if it is only integer element in the tuple. If comma is not used then the python interpreter will consider it as an integer class and not tuple. It can be explained in below code."
   ]
  },
  {
   "cell_type": "code",
   "execution_count": 14,
   "metadata": {},
   "outputs": [
    {
     "name": "stdout",
     "output_type": "stream",
     "text": [
      "<class 'int'>\n",
      "<class 'tuple'>\n"
     ]
    }
   ],
   "source": [
    "tuple1 = (42)\n",
    "print (type(tuple1))\n",
    "tuple2 = (42,)\n",
    "print (type(tuple2))"
   ]
  },
  {
   "cell_type": "markdown",
   "metadata": {},
   "source": [
    "### 15. How do you get a list value's tuple form? How do you get a tuple value's list form?\n",
    "#### Answer :\n",
    "tuple(list) can be used to convert list to tuple    \n",
    "list(tuple) can be used to convert tuple to list. It has been explained in below code."
   ]
  },
  {
   "cell_type": "code",
   "execution_count": 15,
   "metadata": {},
   "outputs": [
    {
     "name": "stdout",
     "output_type": "stream",
     "text": [
      "(1, 2, 3, 4, 5)\n",
      "<class 'tuple'>\n",
      "[4, 5, 6, 7, 8]\n",
      "<class 'list'>\n"
     ]
    }
   ],
   "source": [
    "list1 = [1,2,3,4,5]\n",
    "tuple1 = tuple(list1) #list conversion to tuple\n",
    "print (tuple1)\n",
    "print (type(tuple1))\n",
    "\n",
    "tuple2 = (4,5,6,7,8)\n",
    "list2 = list(tuple2) #tuple conversion to list\n",
    "print (list2)\n",
    "print (type(list2))"
   ]
  },
  {
   "cell_type": "markdown",
   "metadata": {},
   "source": [
    "### 16. Variables that \"contain\" list values are not necessarily lists themselves. Instead, what do they contain?\n",
    "#### Answer :\n",
    "**They contain references to list values.**    \n",
    "But for strings and integer values, variables simply contain the string or integer value. Python uses references whenever variables must store values of mutable data types, such as lists or dictionaries. For values of immutable data types such as strings, integers, or tuples, Python variables will store the value itself."
   ]
  },
  {
   "cell_type": "markdown",
   "metadata": {},
   "source": [
    "### 17. How do you distinguish between copy.copy() and copy.deepcopy()?\n",
    "#### Answer :  \n",
    "**copy.copy()** is a shallow copy, it constructs a new compound object and then inserts references into it to the objects found in the original. Any changes made to a copy of object do reflect in the original object.    \n",
    "**copy.deepcopy()** is a deep copy, it constructs a new compound object and then, recursively, inserts copies into it of the objects found in the original. Any changes made to a copy of object do not reflect in the original object.  \n",
    "**The difference between shallow and deep copying is only relevant for compound objects (objects that contain other objects, like lists or class instances):**\n",
    "Difference between copy.copy() and copy.deepcopy() can be well explained in below 2 programs."
   ]
  },
  {
   "cell_type": "code",
   "execution_count": 16,
   "metadata": {},
   "outputs": [
    {
     "name": "stdout",
     "output_type": "stream",
     "text": [
      " This is a original List1 - [8, 9, [100, 101, 102], 11, 12]\n",
      " This is a shallow copy of List1 created in List2 - [8, 9, [100, 101, 102], 11, 12]\n",
      " This is a modified List2 - [8, 9, [100, 500, 102], 11, 12]\n",
      " This is a List1 after List2 is modified - [8, 9, [100, 500, 102], 11, 12]\n"
     ]
    }
   ],
   "source": [
    "import copy\n",
    "List1 = [8,9,[100, 101, 102],11,12]\n",
    "print (\" This is a original List1 -\", List1)\n",
    "List2 = copy.copy(List1) #creating shallow copy of List1\n",
    "print (\" This is a shallow copy of List1 created in List2 -\", List2)\n",
    "List2[2][1] = 500 #we are only modifying List2 which is shallow copy of List1\n",
    "print (\" This is a modified List2 -\", List2)\n",
    "print (\" This is a List1 after List2 is modified -\", List1)"
   ]
  },
  {
   "cell_type": "code",
   "execution_count": 17,
   "metadata": {},
   "outputs": [
    {
     "name": "stdout",
     "output_type": "stream",
     "text": [
      " This is a original List3 - [10, 11, [50, 60, 70], 17, 18]\n",
      " This is a deep copy of List3 created in List4 - [10, 11, [50, 60, 70], 17, 18]\n",
      " This is a modified List4 - [10, 11, [50, 600, 70], 17, 18]\n",
      " This is a List3 after List4 is modified - [10, 11, [50, 60, 70], 17, 18]\n"
     ]
    }
   ],
   "source": [
    "List3 = [10,11,[50, 60, 70],17,18]\n",
    "print (\" This is a original List3 -\", List3)\n",
    "List4 = copy.deepcopy(List3) #creating deep copy of List1\n",
    "print (\" This is a deep copy of List3 created in List4 -\", List4)\n",
    "List4[2][1] = 600  #we are only modifying List4 which is deep copy of List3\n",
    "print (\" This is a modified List4 -\", List4)\n",
    "print (\" This is a List3 after List4 is modified -\", List3)"
   ]
  }
 ],
 "metadata": {
  "kernelspec": {
   "display_name": "Python 3",
   "language": "python",
   "name": "python3"
  },
  "language_info": {
   "codemirror_mode": {
    "name": "ipython",
    "version": 3
   },
   "file_extension": ".py",
   "mimetype": "text/x-python",
   "name": "python",
   "nbconvert_exporter": "python",
   "pygments_lexer": "ipython3",
   "version": "3.8.5"
  }
 },
 "nbformat": 4,
 "nbformat_minor": 4
}
