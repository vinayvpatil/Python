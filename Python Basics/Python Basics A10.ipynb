{
 "cells": [
  {
   "cell_type": "markdown",
   "metadata": {},
   "source": [
    "## Python Basics A10\n",
    "### 1. How do you distinguish between shutil.copy() and shutil.copytree()?\n",
    "#### Answer :\n",
    "**shutil.copy()** function copies a single file.   \n",
    "**shutil.copytree()** copies an entire folder along with all its contents.  \n",
    "### 2. What function is used to rename files??\n",
    "#### Answer :    \n",
    "shutil.move()    \n",
    "Syntax : shutil.move('oldname', 'renamedfiles/newname')  \n",
    "### 3. What is the difference between the delete functions in the send2trash and shutil modules?\n",
    "#### Answer :    \n",
    "delete functions in send2trash module will move a file or folder to the recycle bin.  \n",
    "delete functions in shutil module will permanently delete files and folders.  \n",
    "### 4.ZipFile objects have a close() method just like File objects’ close() method. What ZipFile method is equivalent to File objects’ open() method\n",
    "#### Answer :\n",
    "zipfile.ZipFile() function is equivalent to the File objects’ open() function.   \n",
    "Syntax : zipfile.ZipFile('filename', mode = 'r')  \n",
    "### 5. Create a programme that searches a folder tree for files with a certain file extension (such as .pdf or .jpg). Copy these files from whatever location they are in to a new folder.\n",
    "#### Answer : \n",
    "We have created a programme in which jpg and pdf files from one folder can be copied to new folder.  \n",
    "we have to input the destination_path of the folder where we want to copy the files  \n",
    "and input source_path of the folder from which we need to copy the files.  "
   ]
  },
  {
   "cell_type": "code",
   "execution_count": 1,
   "metadata": {},
   "outputs": [],
   "source": [
    "import os\n",
    "import shutil\n",
    "\n",
    "def copyfiles(source,destination,extensions):\n",
    "    source = os.path.abspath(source)\n",
    "    destination = os.path.abspath(destination)\n",
    "    for foldername, subfolder, filenames in os.walk(source):\n",
    "        for filename in filenames:\n",
    "            fileName,extension = os.path.splitext(filename)\n",
    "            if extension in extensions:\n",
    "                targetFile = foldername+os.path.sep+fileName+extension\n",
    "                shutil.copy(targetFile, destination)\n",
    "        print(f'Files copied successfully from {source} to {destination}')\n",
    "    \n",
    "extensions = ['.jpg','.pdf']\n",
    "source = 'source_path'\n",
    "destination = 'destination_path'\n",
    "copyfiles(source, destination, extensions)"
   ]
  }
 ],
 "metadata": {
  "kernelspec": {
   "display_name": "Python 3",
   "language": "python",
   "name": "python3"
  },
  "language_info": {
   "codemirror_mode": {
    "name": "ipython",
    "version": 3
   },
   "file_extension": ".py",
   "mimetype": "text/x-python",
   "name": "python",
   "nbconvert_exporter": "python",
   "pygments_lexer": "ipython3",
   "version": "3.8.5"
  }
 },
 "nbformat": 4,
 "nbformat_minor": 4
}
