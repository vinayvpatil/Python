{
 "cells": [
  {
   "cell_type": "markdown",
   "metadata": {},
   "source": [
    "## Python Basics A2\n",
    "### 1.What are the two values of the Boolean data type? How do you write them?\n",
    "#### Answer :\n",
    "True and False are the two values of the Boolean data type. First letter ( T, F) is always written in uppercase while the remaining letters are written in lower case.   \n",
    "It can be explained in below codes. "
   ]
  },
  {
   "cell_type": "code",
   "execution_count": 1,
   "metadata": {},
   "outputs": [
    {
     "name": "stdout",
     "output_type": "stream",
     "text": [
      "<class 'bool'>\n",
      "<class 'bool'>\n"
     ]
    }
   ],
   "source": [
    "x = True\n",
    "y = False\n",
    "print (type (x))\n",
    "print (type (y))"
   ]
  },
  {
   "cell_type": "markdown",
   "metadata": {},
   "source": [
    "### 2. What are the three different types of Boolean operators?\n",
    "#### Answer :\n",
    "Logical operators ( **and or not**) are the three different types of Boolean operators.   \n",
    "**and** operator returns True if both operands return True.   \n",
    "**or** operator returns True if any one operand is True.    \n",
    "**not** operator returns True if its operand is a False expression and returns False if it is True.      \n",
    "It can be explaind in below codes."
   ]
  },
  {
   "cell_type": "code",
   "execution_count": 2,
   "metadata": {},
   "outputs": [
    {
     "name": "stdout",
     "output_type": "stream",
     "text": [
      "False\n",
      "True\n",
      "True\n",
      "False\n",
      "False\n",
      "True\n"
     ]
    }
   ],
   "source": [
    "a = 20\n",
    "b = 30\n",
    "print (a > 30 and b == 30)\n",
    "print (a < 30 and b == 30)\n",
    "print (a > 30 or b == 30)\n",
    "print (a > 30 or b > 30)\n",
    "print (not(a<30))\n",
    "print (not(b<30))"
   ]
  },
  {
   "cell_type": "markdown",
   "metadata": {},
   "source": [
    "### 3. Make a list of each Boolean operator's truth tables (i.e. every possible combination of Boolean values for the operator and what it evaluate ).\n",
    "#### Answer :\n",
    "**Truth Table for and operaotor**  \n",
    "True and True is True.  \n",
    "True and False is False.  \n",
    "False and True is False.  \n",
    "False and False is False.  \n",
    " \n",
    "**Truth Table for or operaotor**  \n",
    "True or True is True.  \n",
    "True or False is True.  \n",
    "False or True is True.  \n",
    "False or False is False.  \n",
    " \n",
    "**Truth Table for not operaotor**    \n",
    "not True is False.    \n",
    "not False is True.  "
   ]
  },
  {
   "cell_type": "markdown",
   "metadata": {},
   "source": [
    "### 4. What are the values of the following expressions?\n",
    "### (5 > 4) and (3 == 5)\n",
    "### not (5 > 4)\n",
    "### (5 > 4) or (3 == 5)\n",
    "### not ((5 > 4) or (3 == 5))\n",
    "### (True and True) and (True == False)\n",
    "### (not False) or (not True)\n",
    "#### Answer :\n",
    "False  \n",
    "False  \n",
    "True  \n",
    "False  \n",
    "False  \n",
    "True   "
   ]
  },
  {
   "cell_type": "markdown",
   "metadata": {},
   "source": [
    "### 5. What are the six comparison operators?\n",
    "#### Answer :\n",
    "== , != , < , > , >= , <= "
   ]
  },
  {
   "cell_type": "markdown",
   "metadata": {},
   "source": [
    "### 6. How do you tell the difference between the equal to and assignment operators?Describe a condition and when you would use one.\n",
    "#### Answer :\n",
    "**== is the comparison operator** which is used to compare two values and give a boolean value True or False.   \n",
    "**= is the assignment operator** which is used to assign or store a value in a variable.   \n",
    "eg. in below code (a = 10), assignment operator (=) is used to store a value 10 in variable a.   \n",
    "while in (a == 20), comparison operator (==) will compare two values and if it is same it will give a value **True** or otherwise **False**"
   ]
  },
  {
   "cell_type": "code",
   "execution_count": 3,
   "metadata": {},
   "outputs": [
    {
     "data": {
      "text/plain": [
       "False"
      ]
     },
     "execution_count": 3,
     "metadata": {},
     "output_type": "execute_result"
    }
   ],
   "source": [
    "a = 10\n",
    "a == 20"
   ]
  },
  {
   "cell_type": "markdown",
   "metadata": {},
   "source": [
    "### 7. Identify the three blocks in this code:\n",
    "### spam = 0\n",
    "### if spam == 10:\n",
    "### print('eggs')\n",
    "### if spam > 5:\n",
    "### print('bacon')\n",
    "### else:\n",
    "### print('ham')\n",
    "### print('spam')\n",
    "### print('spam')\n",
    "#### Answer :   \n",
    "Collections of codes which are on same indent are called **blocks**. Or codes which sits inside a function are called **blocks**. They are normally found in  classes, loops and functions.    \n",
    "In above question, three blocks are:  \n",
    "print('eggs')  \n",
    "print('bacon')      \n",
    "print('ham')   "
   ]
  },
  {
   "cell_type": "markdown",
   "metadata": {},
   "source": [
    "### 8. Write code that prints Hello if 1 is stored in spam, prints Howdy if 2 is stored in spam, and prints Greetings! if anything else is stored in spam.\n",
    "#### Answer :"
   ]
  },
  {
   "cell_type": "code",
   "execution_count": 4,
   "metadata": {},
   "outputs": [
    {
     "name": "stdout",
     "output_type": "stream",
     "text": [
      "Hello\n",
      "Howdy\n",
      "Greetings!\n"
     ]
    }
   ],
   "source": [
    "def mycode(spam):\n",
    "    if spam == 1:\n",
    "        print (\"Hello\")\n",
    "    elif spam == 2:\n",
    "        print (\"Howdy\")\n",
    "    else:\n",
    "        print (\"Greetings!\")\n",
    "        \n",
    "mycode(1)\n",
    "mycode(2)\n",
    "mycode(4)"
   ]
  },
  {
   "cell_type": "markdown",
   "metadata": {},
   "source": [
    "### 9.If your programme is stuck in an endless loop, what keys you’ll press?\n",
    "#### Answer :\n",
    " Ctrl + C"
   ]
  },
  {
   "cell_type": "markdown",
   "metadata": {},
   "source": [
    "### 10. How can you tell the difference between break and continue?\n",
    "#### Answer :\n",
    "The **break statement** terminates the loop in which it is used. Control of the program flows to the statement immediately after the body of the loop.     \n",
    "The **continue statement** doesn't terminates the loop, it just skips the later part of the code present inside that loop.    Control of the program flows to the start of the loop."
   ]
  },
  {
   "cell_type": "markdown",
   "metadata": {},
   "source": [
    "### 11. In a for loop, what is the difference between range(10), range(0, 10), and range(0, 10, 1)?\n",
    "#### Answer :\n",
    "All three are same.     \n",
    "**range(10)** - it will help to iterate from numbers 0 to 9  \n",
    "**range(0,10)** - start = 0, end = 10, it will help to iterate from numbers 0 to 9   \n",
    "**range(0,10, 1)** - start = 0, end = 10, step = 1, it will help to iterate from numbers 0 to 9   "
   ]
  },
  {
   "cell_type": "markdown",
   "metadata": {},
   "source": [
    "#### 12. Write a short program that prints the numbers 1 to 10 using a for loop. Then write an equivalent program that prints the numbers 1 to 10 using a while loop.\n",
    "#### Answer :"
   ]
  },
  {
   "cell_type": "code",
   "execution_count": 5,
   "metadata": {},
   "outputs": [
    {
     "name": "stdout",
     "output_type": "stream",
     "text": [
      "1 2 3 4 5 6 7 8 9 10 "
     ]
    }
   ],
   "source": [
    "#for loop to print numbers from 1 to 10\n",
    "for i in range(1,11):\n",
    "    print(i, end = \" \")"
   ]
  },
  {
   "cell_type": "code",
   "execution_count": 7,
   "metadata": {},
   "outputs": [
    {
     "name": "stdout",
     "output_type": "stream",
     "text": [
      "1 2 3 4 5 6 7 8 9 10 "
     ]
    }
   ],
   "source": [
    "#while loop to print numbers from 1 to 10\n",
    "i = 1\n",
    "while (i<11):\n",
    "    print (i, end = \" \")\n",
    "    i = i + 1"
   ]
  },
  {
   "cell_type": "markdown",
   "metadata": {},
   "source": [
    "### 13. If you had a function named bacon() inside a module named spam, how would you call it after importing spam?   \n",
    "#### Answer :\n",
    "spam.bacon()"
   ]
  }
 ],
 "metadata": {
  "kernelspec": {
   "display_name": "Python 3",
   "language": "python",
   "name": "python3"
  },
  "language_info": {
   "codemirror_mode": {
    "name": "ipython",
    "version": 3
   },
   "file_extension": ".py",
   "mimetype": "text/x-python",
   "name": "python",
   "nbconvert_exporter": "python",
   "pygments_lexer": "ipython3",
   "version": "3.8.5"
  }
 },
 "nbformat": 4,
 "nbformat_minor": 4
}
