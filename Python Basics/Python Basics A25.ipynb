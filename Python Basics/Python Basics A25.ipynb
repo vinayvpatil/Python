{
 "cells": [
  {
   "cell_type": "markdown",
   "metadata": {},
   "source": [
    "## Python Basics A25\n",
    "### 1) . What is the difference between enclosing a list comprehension in square brackets and parentheses?\n",
    "#### Answer :\n",
    "Enclosing a list comprehension in square brackets creates a list while enclosing it in parentheses creates a generator. It can be explained in below codes."
   ]
  },
  {
   "cell_type": "code",
   "execution_count": 4,
   "metadata": {},
   "outputs": [
    {
     "name": "stdout",
     "output_type": "stream",
     "text": [
      "[0, 1, 2, 3, 4]\n",
      "<class 'list'>\n",
      "<generator object <genexpr> at 0x00535300>\n",
      "<class 'generator'>\n"
     ]
    }
   ],
   "source": [
    "list1 = [i for i in range(5)]\n",
    "print(list1)\n",
    "print(type(list1))\n",
    "list2 = (i for i in range(6))\n",
    "print(list2)\n",
    "print(type(list2))"
   ]
  },
  {
   "cell_type": "markdown",
   "metadata": {},
   "source": [
    "### 2) What is the relationship between generators and iterators?\n",
    "#### Answer :\n",
    "I have explained generators and iterators in details in my blog - https://inblog.in/Difference-between-containers-iteration-iterables-iterators-and-generators-in-Python-CAoTuaDVXW                 \n",
    "**Iterators** are objects, used to perform iteration on iterables like list, tuple, sets, strings, etc.    \n",
    "It uses 2 methods iter() and next()              \n",
    "iter() is used to convert a iterable to iterator.                     \n",
    "next() is used to access the elements of the iterator one by one in sequence.            \n",
    "**Generators** are iterators, they are used just like iterators and are used to perform iteration. They are mostly used in loops to generate an iterator by returning all the values in the loop without affecting the iteration of the loop. It uses a function and yield keyword instead of return which is normally used in the function body .   \n",
    "**All generators are iterators (but all Iterators are not generators).**      "
   ]
  },
  {
   "cell_type": "markdown",
   "metadata": {},
   "source": [
    "### 3) What are the signs that a function is a generator function?\n",
    "#### Answer :\n",
    "If yield keyword is used in the function instead of return."
   ]
  },
  {
   "cell_type": "markdown",
   "metadata": {},
   "source": [
    "### 4) What is the purpose of a yield statement?\n",
    "#### Answer :\n",
    "Yield statement returns a value without exiting the function. Yield maintains the state between function calls, and resumes from where it left off when we call the next() method again. So if yield is called in the generator, then the next time the same generator is called we will pick right back up after the last yield statement."
   ]
  },
  {
   "cell_type": "markdown",
   "metadata": {},
   "source": [
    "### 5) What is the relationship between map calls and list comprehensions? Make a comparison and contrast between the two.\n",
    "#### Answer :\n",
    "- List comprehension is more concise and easier to read as compared to map.       \n",
    "- List comprehension allows filtering while this is not possible in map. eg. to print all odd numbers  in range of 20, we can write [n for n in range(20) if n%2 != 0]. The same thing is not possible in map   \n",
    "- List comprehension are used when a list of results is required as final output but map only returns a map object.          \n",
    "- List comprehension is faster than map when we need to evaluate expressions that are too long or complicated to express            \n",
    "- Map is faster in case of calling an already defined function on a set of values.       "
   ]
  }
 ],
 "metadata": {
  "kernelspec": {
   "display_name": "Python 3",
   "language": "python",
   "name": "python3"
  },
  "language_info": {
   "codemirror_mode": {
    "name": "ipython",
    "version": 3
   },
   "file_extension": ".py",
   "mimetype": "text/x-python",
   "name": "python",
   "nbconvert_exporter": "python",
   "pygments_lexer": "ipython3",
   "version": "3.8.5"
  }
 },
 "nbformat": 4,
 "nbformat_minor": 4
}
