{
 "cells": [
  {
   "cell_type": "markdown",
   "metadata": {},
   "source": [
    "### 1. Why are functions advantageous to have in your programs?\n",
    "#### Answer :\n",
    "a) It improves the readability of code.    \n",
    "b) It improves the reusability of the code, Once a function is defined, it can be used over and over again.   \n",
    "c) Debugging of the code would be easier if we use functions, as errors are easy to be traced."
   ]
  },
  {
   "cell_type": "markdown",
   "metadata": {},
   "source": [
    "### 2. When does the code in a function run: when it's specified or when it's called?\n",
    "#### Answer :\n",
    "Code in a function runs when it is called."
   ]
  },
  {
   "cell_type": "markdown",
   "metadata": {},
   "source": [
    "### 3. What statement creates a function?\n",
    "#### Answer :\n",
    "def statement creates a function.    \n",
    "**Syntax for creating function**   \n",
    "def function_name (parameters):    \n",
    "eg. In the below code we have created a function (named addition) using def statement and passed 2 parameters (a, b) to the function.   \n",
    "def addition(a,b):"
   ]
  },
  {
   "cell_type": "markdown",
   "metadata": {},
   "source": [
    "### 4. What is the difference between a function and a function call?\n",
    "#### Answer :\n",
    "**Function** uses def statement and has codes within the body to perform tasks and return the value whenever it is called.   \n",
    "**Function call** means we calls a particular function and ask it to perform the tasks mentioned inside its body and return the value. Function call doesn't uses def statement."
   ]
  },
  {
   "cell_type": "markdown",
   "metadata": {},
   "source": [
    "### 5. How many global scopes are there in a Python program? How many local scopes?\n",
    "#### Answer :\n",
    "**Scope**  \n",
    "A variable is only available from inside the region it is created. This is called scope.  \n",
    "**Global Scope:**  \n",
    "A variable created in the main body of the Python code is a global variable and belongs to the global scope.  \n",
    "Global variables are available from within any scope, global and local.  \n",
    "**Local Scope:**  \n",
    "A variable created inside a function belongs to the local scope of that function, and can only be used inside that function.  \n",
    "**Global variable** is defined only once in the main body of the Python code so there is only one **global scope** in a   Program. but it can also be used in local scope by using **keyword global.**    \n",
    "While **Local variable** can be defined many number of times in **different functions in a program** so there can be many **local  scopes** in   different functions but **only one local scope is present in one particular function.**   \n"
   ]
  },
  {
   "cell_type": "markdown",
   "metadata": {},
   "source": [
    "### 6. What happens to variables in a local scope when the function call returns?\n",
    "#### Answer :\n",
    "Variable in local scope **gets destroyed (disappears)** when the function call returns.   \n",
    "The lifetime of that variable begins when the function is called and it's lifetime ends when function call returns.\n"
   ]
  },
  {
   "cell_type": "markdown",
   "metadata": {},
   "source": [
    "### 7. What is the concept of a return value? Is it possible to have a return value in an expression?\n",
    "#### Answer :\n",
    "return statement is a special statement that we can use inside a function or method to send the function’s result back to the caller. A return statement consists of the return keyword followed by an optional **value or expression.** The value returned by the function using return statement is called a **return value.**  \n",
    "Yes, return value can be used in an expression. As we can see in below codes, return value from the function is used in an expression and it evaluates a value."
   ]
  },
  {
   "cell_type": "code",
   "execution_count": 1,
   "metadata": {},
   "outputs": [
    {
     "data": {
      "text/plain": [
       "50"
      ]
     },
     "execution_count": 1,
     "metadata": {},
     "output_type": "execute_result"
    }
   ],
   "source": [
    "def myfunction ():\n",
    "    return 10\n",
    "myfunction() + 40  #expression in which return value is used from myfunction."
   ]
  },
  {
   "cell_type": "markdown",
   "metadata": {},
   "source": [
    "### 8. If a function does not have a return statement, what is the return value of a call to that function?\n",
    "#### Answer :\n",
    "It will return None."
   ]
  },
  {
   "cell_type": "markdown",
   "metadata": {},
   "source": [
    "### 9. How do you make a function variable refer to the global variable?\n",
    "#### Answer :\n",
    "We can make a function variable as a global variable by using **keyword global.**\n",
    "In the below program, variable (A) is created and assigned a value of 10 in main body of the program so it becomes global variable. But in below function (ourfunction) we have used a **keyword global** which makes the variable inside the function as a **global variable.** So the variable (A) will store the value returned by the function (ourfunction) as it has became our global variable of the main program."
   ]
  },
  {
   "cell_type": "code",
   "execution_count": 2,
   "metadata": {},
   "outputs": [
    {
     "name": "stdout",
     "output_type": "stream",
     "text": [
      "Value of A inside a function : 15\n",
      "Value of A outside a function : 15\n"
     ]
    }
   ],
   "source": [
    "A = 10\n",
    "\n",
    "def ourfunction():\n",
    "      \n",
    "    global A # using a global keyword\n",
    "    A = A + 5  # increment value of A by 5\n",
    "    print(\"Value of A inside a function :\", A)\n",
    "    \n",
    "ourfunction()\n",
    "print(\"Value of A outside a function :\", A)"
   ]
  },
  {
   "cell_type": "markdown",
   "metadata": {},
   "source": [
    "### 10. What is the data type of None?\n",
    "#### Answer :\n",
    "NoneType"
   ]
  },
  {
   "cell_type": "markdown",
   "metadata": {},
   "source": [
    "### 11. What does the sentence import areallyourpetsnamederic do?\n",
    "#### Answer :\n",
    "Python code in one module gains access to the code in another module by the process of importing it.   \n",
    "The **import statement** combines two operations; it searches for the named module, then it binds the results of that search to a name in the local scope.   \n",
    "**import areallyourpetsnamederic** sentence will import module named areallyourpetsnamederic   \n",
    "If above named module is not available in the system, then it will give error - ModuleNotFoundError"
   ]
  },
  {
   "cell_type": "markdown",
   "metadata": {},
   "source": [
    "### 12. If you had a bacon() feature in a spam module, what would you call it after importing spam?\n",
    "#### Answer :\n",
    "spam.bacon()"
   ]
  },
  {
   "cell_type": "markdown",
   "metadata": {},
   "source": [
    "### 13. What can you do to save a programme from crashing if it encounters an error?\n",
    "#### Answer :\n",
    "**Try and Except statement** can be used to save a programme from crashing if it encounters an error. \n"
   ]
  },
  {
   "cell_type": "markdown",
   "metadata": {},
   "source": [
    "### 14. What is the purpose of the try clause? What is the purpose of the except clause?\n",
    "#### Answer :\n",
    "The **try clause** is used to check code for errors i.e the code inside the try clause will execute when there is no error in the program.If there is any error in the code then try clause will generate an exception and except clause will gets executed.   \n",
    "**except clause** handles the error. The code inside the **except clause** will execute whenever the program encounters some error in the preceding try clause. We can print a message \"An exception occurred\" using **except clause**. It will give the message and will not affect the execution of further program"
   ]
  }
 ],
 "metadata": {
  "kernelspec": {
   "display_name": "Python 3",
   "language": "python",
   "name": "python3"
  },
  "language_info": {
   "codemirror_mode": {
    "name": "ipython",
    "version": 3
   },
   "file_extension": ".py",
   "mimetype": "text/x-python",
   "name": "python",
   "nbconvert_exporter": "python",
   "pygments_lexer": "ipython3",
   "version": "3.8.5"
  }
 },
 "nbformat": 4,
 "nbformat_minor": 4
}
