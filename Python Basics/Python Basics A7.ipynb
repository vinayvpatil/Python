{
 "cells": [
  {
   "cell_type": "markdown",
   "metadata": {},
   "source": [
    "## Python Basics A7\n",
    "### 1. What is the name of the feature responsible for generating Regex objects?\n",
    "#### Answer : re.compile()\n",
    "### 2. Why do raw strings often appear in Regex objects?\n",
    "#### Answer :\n",
    "raw string (r\"text\") keeps regular expressions meaningful and confusion-free.\n",
    "backslash (\\\\) is used in Regular expressions to indicate special forms or to allow special characters to be used without invoking their special meaning. This collides with Python’s usage of the same character for the same purpose in string literals.\n",
    "eg. if we want to use (\\n) in the regular expression it might create a problem. Hence, Raw strings are used (e.g. r\"\\n\") so that backslashes do not have to be escaped.\n",
    "### 3. What is the return value of the search() method?\n",
    "#### Answer :\n",
    "re.search(pattern,string) method returns a matched pattern if found in the string else it returns a None"
   ]
  },
  {
   "cell_type": "code",
   "execution_count": 1,
   "metadata": {},
   "outputs": [
    {
     "name": "stdout",
     "output_type": "stream",
     "text": [
      "Output: <re.Match object; span=(11, 12), match='V'>\n",
      "Output: None\n"
     ]
    }
   ],
   "source": [
    "import re\n",
    "match = re.search('v','My Name is Vinay', flags=re.IGNORECASE)\n",
    "print('Output:',match)\n",
    "match = re.search('Z','My Name is Vinay', flags=re.IGNORECASE)\n",
    "print('Output:',match)"
   ]
  },
  {
   "cell_type": "markdown",
   "metadata": {},
   "source": [
    "### 4. From a Match item, how do you get the actual strings that match the pattern?\n",
    "#### Answer :\n",
    "group() method can be used to get the actual strings that match the pattern"
   ]
  },
  {
   "cell_type": "code",
   "execution_count": 2,
   "metadata": {},
   "outputs": [
    {
     "name": "stdout",
     "output_type": "stream",
     "text": [
      "Output: Vinay\n"
     ]
    }
   ],
   "source": [
    "match = re.search('vinay','My Name is Vinay', flags=re.IGNORECASE)\n",
    "print('Output:',match.group())"
   ]
  },
  {
   "cell_type": "markdown",
   "metadata": {},
   "source": [
    "### 5. In the regex which created from the r'(\\d\\d\\d)-(\\d\\d\\d-\\d\\d\\d\\d)', what does group zero cover? Group 2? Group 1?\n",
    "#### Answer :\n",
    "Group 0 covers the entire match   \n",
    "group 1 covers the first set of parentheses  \n",
    "group 2 covers the second set of parentheses  "
   ]
  },
  {
   "cell_type": "markdown",
   "metadata": {},
   "source": [
    "### 6. In standard expression syntax, parentheses and intervals have distinct meanings. How can you tell a regex that you want it to fit real parentheses and periods?\n",
    "#### Answer :\n",
    "To fit real parentheses and periods we can use backslash \\ in front of the character.  "
   ]
  },
  {
   "cell_type": "markdown",
   "metadata": {},
   "source": [
    "### 7. The findall() method returns a string list or a list of string tuples. What causes it to return one of the two options?\n",
    "#### Answer :\n",
    "If the regex has no groups, a list of strings is returned.    \n",
    "If the regex has groups, a list of tuples of strings is returned.\n",
    "### 8. In standard expressions, what does the | character mean?\n",
    "#### Answer :\n",
    "In standard expressions | is a Bitwise logical operator. It returns 1 if either of the bit is 1 else 0.   \n",
    "eg. a = 10 = 1010 (Binary)  \n",
    "b = 4 =  0100 (Binary)   \n",
    "a | b = 1010 (Binary) = 14 (Decimal)\n",
    "### 9. In regular expressions, what does the character stand for?\n",
    "#### Answer : Question is incomplete, I am assuming it is about | character as it has been asked in above question for standard expressions.\n",
    "| symbol works as the (either or) operator meaning it checks whether the pattern before or after the symbol | is present in the string or not. For example -         \n",
    "a|b will match any string that contains either a, b or a or b such as acd, bcd, abcd, etc.\n",
    "### 10. In regular expressions, what is the difference between the + and * characters?\n",
    "#### Answer : \n",
    "\\* matches 0 or more repetitions of the preceding RE.   \n",
    "while + matches 1 or more repetitions of the preceding RE.\n",
    "### 11. What is the difference between {4} and {4,5} in regular expression?\n",
    "#### Answer : \n",
    "**{4}** - Matches exactly 4 number of occurrences of preceding expression.    \n",
    "**{4,5}** - Matches at least 4 and at most 5 occurrences of preceding expression.   \n",
    "### 12. What do you mean by the \\d, \\w, and \\s shorthand character classes signify in regular expressions?\n",
    "#### Answer :   \n",
    "**\\d** - Matches digits. Equivalent to [0-9].   \n",
    "**\\w** - Matches word characters.      \n",
    "**\\s** - Matches whitespace. Equivalent to [\\t\\n\\r\\f].     \n",
    "### 13. What do means by \\D, \\W, and \\S shorthand character classes signify in regular expressions?  \n",
    "#### Answer :     \n",
    "**\\D** - Matches nondigits.   \n",
    "**\\W** - Matches nonword characters.      \n",
    "**\\S** - Matches nonwhitespace.     \n",
    "### 14. What is the difference between .\\*? and .\\*?   \n",
    "#### Answer :      \n",
    "**.*?** matches nongreedy repeatation.     \n",
    "**.*** matches greedy repeatation. \n"
   ]
  },
  {
   "cell_type": "markdown",
   "metadata": {},
   "source": [
    "### 15. What is the syntax for matching both numbers and lowercase letters with a character class?\n",
    "#### Answer :\n",
    "[0-9a-z] or [a-z0-9]"
   ]
  },
  {
   "cell_type": "markdown",
   "metadata": {},
   "source": [
    "### 16. What is the procedure for making a normal expression in regax case insensitive?\n",
    "#### Answer :\n",
    "we can pass re.IGNORECASE as the second argument to re.compile()"
   ]
  },
  {
   "cell_type": "markdown",
   "metadata": {},
   "source": [
    "### 17. What does the . character normally match? What does it match if re.DOTALL is passed as 2nd argument in re.compile()?\n",
    "#### Answer :\n",
    "The . character matches all characters except the newline character.   \n",
    "If re.DOTALL is passed as 2nd argument in re.compile() then it will match all characters including the newline character. "
   ]
  },
  {
   "cell_type": "markdown",
   "metadata": {},
   "source": [
    "### 18. If numReg = re.compile(r'\\d+'), what will numRegex.sub('X', '11 drummers, 10 pipers, five rings, 4 hen') return?\n",
    "#### Answer :  'X drummers, X pipers, five rings, X hen'   "
   ]
  },
  {
   "cell_type": "code",
   "execution_count": 72,
   "metadata": {},
   "outputs": [
    {
     "data": {
      "text/plain": [
       "'X drummers, X pipers, five rings, X hen'"
      ]
     },
     "execution_count": 72,
     "metadata": {},
     "output_type": "execute_result"
    }
   ],
   "source": [
    "import re\n",
    "numReg = re.compile(r'\\d+')\n",
    "numReg.sub('X', '11 drummers, 10 pipers, five rings, 4 hen')"
   ]
  },
  {
   "cell_type": "markdown",
   "metadata": {},
   "source": [
    "### 19. What does passing re.VERBOSE as the 2nd argument to re.compile() allow to do?\n",
    "#### Answer :\n",
    "if re.VERBOSE is passed as the 2nd argument to re.compile() then it will allow us to add whitespace and comments to the string which is passed to re.compile()."
   ]
  },
  {
   "cell_type": "markdown",
   "metadata": {},
   "source": [
    "### 20. How would you write a regex that match a number with comma for every three digits? It must match the given following:   \n",
    "### '42'  \n",
    "### '1,234'  \n",
    "### '6,368,745'  \n",
    "### but not the following:   \n",
    "### '12,34,567' (which has only two digits between the commas)   \n",
    "### '1234' (which lacks commas)  \n",
    "#### Answer :  \n",
    "re.compile(r'\\d{1,3}(,\\d{3})*')"
   ]
  },
  {
   "cell_type": "code",
   "execution_count": 16,
   "metadata": {},
   "outputs": [
    {
     "name": "stdout",
     "output_type": "stream",
     "text": [
      "Input a number with commas\n",
      "2,345,345\n",
      "2,345,345 Number matches.\n"
     ]
    }
   ],
   "source": [
    "\n",
    "print('Input a number with commas')\n",
    "number = input() \n",
    "\n",
    "import re\n",
    "\n",
    "pattern = re.compile(r'\\d{1,3}(,\\d{3})*')\n",
    "\n",
    "matches = pattern.match(number)\n",
    "if matches.group(0) != number:\n",
    "    #Checks if input matches the number\n",
    "    #comma for every three digits\n",
    "    print ('Number Does Not Match.')\n",
    "\n",
    "else:\n",
    "    print(matches.group(0)+ ' Number matches.')\n",
    "    #If the input matches it will state verification."
   ]
  },
  {
   "cell_type": "markdown",
   "metadata": {},
   "source": [
    "### 21. How would you write a regex that matches the full name of someone whose last name is Watanabe? You ### can assume that the first name that comes before it will always be one word that begins with a capital letter. The regex must match the following:\n",
    "### 'Haruto Watanabe'\n",
    "### 'Alice Watanabe'\n",
    "### 'RoboCop Watanabe'\n",
    "### but not the following:\n",
    "### 'haruto Watanabe' (where the first name is not capitalized)\n",
    "### 'Mr. Watanabe' (where the preceding word has a nonletter character)\n",
    "### 'Watanabe' (which has no first name)\n",
    "### 'Haruto watanabe' (where Watanabe is not capitalized)\n",
    "\n",
    "#### Answer : re.compile(r'[A-Z][a-z]*\\sWatanabe')"
   ]
  },
  {
   "cell_type": "code",
   "execution_count": 67,
   "metadata": {},
   "outputs": [
    {
     "name": "stdout",
     "output_type": "stream",
     "text": [
      "Result:  Haruto Watanabe --- <re.Match object; span=(0, 15), match='Haruto Watanabe'>\n",
      "Result:  Alice Watanabe --- <re.Match object; span=(0, 14), match='Alice Watanabe'>\n",
      "Result:  RoboCop Watanabe --- <re.Match object; span=(4, 16), match='Cop Watanabe'>\n",
      "Result:  haruto Watanabe --- None\n",
      "Result:  Mr. Watanabe --- None\n",
      "Result:  Watanabe --- None\n",
      "Result:  Haruto watanabe --- None\n"
     ]
    }
   ],
   "source": [
    "import re\n",
    "name = re.compile(r'[A-Z][a-z]*\\sWatanabe')\n",
    "for i in ['Haruto Watanabe','Alice Watanabe','RoboCop Watanabe','haruto Watanabe',\n",
    "             'Mr. Watanabe','Watanabe','Haruto watanabe']:\n",
    "    print('Result: ',i,'---',name.search(i))"
   ]
  },
  {
   "cell_type": "markdown",
   "metadata": {},
   "source": [
    "### 22. How would you write a regex that matches a sentence where the first word is either Alice, Bob, or Carol; the second word is either eats, pets, or throws; the third word is apples, cats, or baseballs; and the sentence ends with a period? This regex should be case-insensitive. It must match the following:\n",
    "### 'Alice eats apples.'\n",
    "### 'Bob pets cats.'\n",
    "### 'Carol throws baseballs.'\n",
    "### 'Alice throws Apples.'\n",
    "### 'BOB EATS CATS.'\n",
    "### but not the following:\n",
    "### 'RoboCop eats apples.'\n",
    "### 'ALICE THROWS FOOTBALLS.'\n",
    "### 'Carol eats 7 cats.'\n",
    "#### Answer : re.compile(r'(Alice|Bob|Carol)\\s(eats|pets|throws)\\s(apples|cats|baseballs)\\\\.', re.IGNORECASE)"
   ]
  },
  {
   "cell_type": "code",
   "execution_count": 71,
   "metadata": {},
   "outputs": [
    {
     "name": "stdout",
     "output_type": "stream",
     "text": [
      "Result:  Alice eats apples. --- <re.Match object; span=(0, 18), match='Alice eats apples.'>\n",
      "Result:  Bob pets cats. --- <re.Match object; span=(0, 14), match='Bob pets cats.'>\n",
      "Result:  Carol throws baseballs. --- <re.Match object; span=(0, 23), match='Carol throws baseballs.'>\n",
      "Result:  Alice throws Apples. --- <re.Match object; span=(0, 20), match='Alice throws Apples.'>\n",
      "Result:  BOB EATS CATS. --- <re.Match object; span=(0, 14), match='BOB EATS CATS.'>\n",
      "Result:  RoboCop eats apples. --- None\n",
      "Result:  ALICE THROWS FOOTBALLS. --- None\n",
      "Result:  Carol eats 7 cats. --- None\n"
     ]
    }
   ],
   "source": [
    "import re\n",
    "sentence = re.compile(r'(Alice|Bob|Carol)\\s(eats|pets|throws)\\s(apples|cats|baseballs)\\.', re.IGNORECASE)\n",
    "for i in ['Alice eats apples.','Bob pets cats.','Carol throws baseballs.','Alice throws Apples.',\n",
    "          'BOB EATS CATS.','RoboCop eats apples.'\n",
    "          ,'ALICE THROWS FOOTBALLS.','Carol eats 7 cats.']:\n",
    "    print('Result: ',i,'---',sentence.search(i))"
   ]
  }
 ],
 "metadata": {
  "kernelspec": {
   "display_name": "Python 3",
   "language": "python",
   "name": "python3"
  },
  "language_info": {
   "codemirror_mode": {
    "name": "ipython",
    "version": 3
   },
   "file_extension": ".py",
   "mimetype": "text/x-python",
   "name": "python",
   "nbconvert_exporter": "python",
   "pygments_lexer": "ipython3",
   "version": "3.8.5"
  }
 },
 "nbformat": 4,
 "nbformat_minor": 4
}
