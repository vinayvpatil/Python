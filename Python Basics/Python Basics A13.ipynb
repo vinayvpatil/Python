{
 "cells": [
  {
   "cell_type": "markdown",
   "metadata": {},
   "source": [
    "## Python Basics A13\n",
    "### 1. What advantages do Excel spreadsheets have over CSV spreadsheets?\n",
    "#### Answer :  \n",
    "Advantages of Excel spreadsheets over CSV spreadsheets are:    \n",
    "1) It can have values of data types other than strings.  \n",
    "2) Cells can have different fonts, sizes and color settings.   \n",
    "3) Cells can have varying widths and heights.   \n",
    "4) Adjacent cells can be merged.   \n",
    "5) We can even embed images and charts.    \n",
    "### 2.What do you pass to csv.reader() and csv.writer() to create reader and writer objects?\n",
    "#### Answer : \n",
    "We pass a File object which is obtained from open()  \n",
    "### 3. What modes do File objects for reader and writer objects need to be opened in?\n",
    "#### Answer : \n",
    "File objects should be opened in **read-binary ('rb')** for reader objects.     \n",
    "File objects should be opened in **write-binary ('wb')** for writer objects.  \n",
    "### 4. What method takes a list argument and writes it to a CSV file?\n",
    "#### Answer :   \n",
    "writerow() method      \n",
    "### 5. What do the keyword arguments delimiter and line terminator do?\n",
    "#### Answer :   \n",
    "**delimiter argument** is a one character string used to separate cells in a row. eg. ','    \n",
    "**line terminator argument** is a string used to separate rows.eg. '\\r\\n'    \n",
    "### 6. What function takes a string of JSON data and returns a Python data structure?\n",
    "#### Answer :  \n",
    "json.loads()    \n",
    "### 7. What function takes a Python data structure and returns a string of JSON data?\n",
    "#### Answer :  \n",
    "json.dumps()   "
   ]
  }
 ],
 "metadata": {
  "kernelspec": {
   "display_name": "Python 3",
   "language": "python",
   "name": "python3"
  },
  "language_info": {
   "codemirror_mode": {
    "name": "ipython",
    "version": 3
   },
   "file_extension": ".py",
   "mimetype": "text/x-python",
   "name": "python",
   "nbconvert_exporter": "python",
   "pygments_lexer": "ipython3",
   "version": "3.8.5"
  }
 },
 "nbformat": 4,
 "nbformat_minor": 4
}
