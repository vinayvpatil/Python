{
 "cells": [
  {
   "cell_type": "markdown",
   "metadata": {},
   "source": [
    "## Python Basics A1"
   ]
  },
  {
   "cell_type": "markdown",
   "metadata": {},
   "source": [
    "### 1. In the below elements which of them are values or an expression? eg:- values can be integer or string and expressions will be mathematical operators.                                 \n",
    " *,    ’hello’,   -87.8,   -,   /,   +,   6\n",
    "#### Answer\n",
    "**Values** - ‘hello’ ,  -87.8 ,  6    \n",
    "**Expression** - * ,  - ,  / ,  +"
   ]
  },
  {
   "cell_type": "markdown",
   "metadata": {},
   "source": [
    "### 2. What is the difference between string and variable?\n",
    "#### Answer   \n",
    "**String** is an immutable sequence data type. It has sequence of Unicode characters wrapped inside single, double, or triple quotes    \n",
    "while **variable** is a container or reserved memory location which stores a data. When we create a variable, we reserve a space in memory.     \n",
    "The stored data is of different data types. Different data types are  \n",
    "1)\tNumeric (integer, float, complex number)      \n",
    "2)\tDictionary     \n",
    "3)\tBoolean  \n",
    "4)\tSet  \n",
    "5)\tSequence type (string, list, tuple)  \n",
    "E.g. If we write a below code in a program  \n",
    " V = “I am Vinay”    \n",
    "In the above code we have a created a **variable** V and assigned a data  “I am Vinay” to that variable and the data type of the assigned data is a **string** as there is a sequence of Unicode characters wrapped inside double quotes. "
   ]
  },
  {
   "cell_type": "markdown",
   "metadata": {},
   "source": [
    "### 3. Describe three different data types.  \n",
    "#### Answer   \n",
    "Let’s discuss 3 different data types:   \n",
    "**1)\tNumeric data types** – There are 3 types of numeric data types  \n",
    "**a)\tInteger** - An integer is a whole number, negative, positive or zero. If values like -2, 0, 2 is assigned to a variable then these can be called as integer data type.    \n",
    "Eg.  a = 0  \n",
    "B= -2  \n",
    "C= 2   \n",
    "**b)\tFloat** - Floats are decimals (positive or negative). Numbers having exponents are also considered as float. lower case e or   an upper-case E is used to define float. Eg. 5.2 , -4.5 , 0.03, -0.04, 6.4e22  \n",
    "**c)\tComplex** – It is a combination of real number and imaginary number. Letter j is used to denote imaginary component. If we use other letters like i, a, b then our code will give error  \n",
    "Eg. a = 23 + 5j  \n",
    "Complex numbers can be added to integer and floats which can be explained in below codes.   \n"
   ]
  },
  {
   "cell_type": "code",
   "execution_count": 7,
   "metadata": {},
   "outputs": [
    {
     "data": {
      "text/plain": [
       "complex"
      ]
     },
     "execution_count": 7,
     "metadata": {},
     "output_type": "execute_result"
    }
   ],
   "source": [
    "a = 23 + 5j # complex variable\n",
    "type (a)"
   ]
  },
  {
   "cell_type": "code",
   "execution_count": 8,
   "metadata": {},
   "outputs": [
    {
     "data": {
      "text/plain": [
       "int"
      ]
     },
     "execution_count": 8,
     "metadata": {},
     "output_type": "execute_result"
    }
   ],
   "source": [
    "b = 2 # integer variable\n",
    "type (b)"
   ]
  },
  {
   "cell_type": "code",
   "execution_count": 9,
   "metadata": {},
   "outputs": [
    {
     "data": {
      "text/plain": [
       "float"
      ]
     },
     "execution_count": 9,
     "metadata": {},
     "output_type": "execute_result"
    }
   ],
   "source": [
    "c = 2.5 # float variable\n",
    "type (c)"
   ]
  },
  {
   "cell_type": "code",
   "execution_count": 5,
   "metadata": {},
   "outputs": [
    {
     "name": "stdout",
     "output_type": "stream",
     "text": [
      "(25+5j)\n"
     ]
    }
   ],
   "source": [
    "d = a+b # addition of complex and integer variable\n",
    "print (d)"
   ]
  },
  {
   "cell_type": "code",
   "execution_count": 6,
   "metadata": {},
   "outputs": [
    {
     "name": "stdout",
     "output_type": "stream",
     "text": [
      "(25.5+5j)\n"
     ]
    }
   ],
   "source": [
    "e = a+c # addition of complex and float variable\n",
    "print (e)"
   ]
  },
  {
   "cell_type": "markdown",
   "metadata": {},
   "source": [
    "**2) Boolean Data Types -** It represents 2 values of logic **(True or Flase)** and is associated with  conditional statement."
   ]
  },
  {
   "cell_type": "code",
   "execution_count": 11,
   "metadata": {},
   "outputs": [
    {
     "name": "stdout",
     "output_type": "stream",
     "text": [
      "<class 'bool'>\n",
      "<class 'bool'>\n"
     ]
    }
   ],
   "source": [
    "x = True\n",
    "y = False\n",
    "print (type (x))\n",
    "print (type (y))"
   ]
  },
  {
   "cell_type": "markdown",
   "metadata": {},
   "source": [
    "**3) Set data types -** is a collection of distinct objects, do not hold duplicate items, stores elements in no particular order. It is created using curly braces {}    \n",
    "eg.  a = {45, 67, 56, 1, vinay}"
   ]
  },
  {
   "cell_type": "markdown",
   "metadata": {},
   "source": [
    "### 4. What is an expression made up of? What do all expressions do? \n",
    "#### Answer\n",
    "Expression is made up of values, variables, operators and function calls. All expressions performs a operation and evaluates (produces) a value.     "
   ]
  },
  {
   "cell_type": "markdown",
   "metadata": {},
   "source": [
    "### 5. This assignment statements, like spam = 10. What is the difference between an expression and a      statement.\n",
    "#### Answer\n",
    "**Expression** evaluates a value. (eg. 2+5, a+1, x+10)      \n",
    "Whereas **Statement** is an instruction that a Python interpreter can execute.  \n",
    "There are many types of statements - assignment statement (eg. a= 10), print statement (eg. print (a)),   \n",
    "if statement, for statement, while statement, pass statement, del statement, return statement,   \n",
    "import statement, continue and break statement."
   ]
  },
  {
   "cell_type": "markdown",
   "metadata": {},
   "source": [
    "### 6. After running the following code, what does the variable bacon contain?\n",
    "### bacon = 22 \n",
    "### bacon + 1\n",
    "#### Answer :\n",
    "(bacon + 1) is an expression and it will evaluate the value as 23 but it will not change the value of variable bacon so bacon variable will contain the value 22. It can be explained in below code. "
   ]
  },
  {
   "cell_type": "code",
   "execution_count": 7,
   "metadata": {},
   "outputs": [
    {
     "data": {
      "text/plain": [
       "23"
      ]
     },
     "execution_count": 7,
     "metadata": {},
     "output_type": "execute_result"
    }
   ],
   "source": [
    "bacon = 22\n",
    "bacon + 1"
   ]
  },
  {
   "cell_type": "code",
   "execution_count": 8,
   "metadata": {},
   "outputs": [
    {
     "name": "stdout",
     "output_type": "stream",
     "text": [
      "22\n"
     ]
    }
   ],
   "source": [
    "print (bacon)"
   ]
  },
  {
   "cell_type": "markdown",
   "metadata": {},
   "source": [
    "### 7. What should the values of the following two terms be?\n",
    "###  'spam' + 'spamspam'\n",
    "###  'spam' * 3\n",
    "#### Answer :\n",
    "expression 1 will perform string concatenation and will give value 'spamspamspam'      \n",
    "expression 2 will perform string multiplication and will give value 'spamspamspam'"
   ]
  },
  {
   "cell_type": "code",
   "execution_count": 10,
   "metadata": {},
   "outputs": [
    {
     "data": {
      "text/plain": [
       "'spamspamspam'"
      ]
     },
     "execution_count": 10,
     "metadata": {},
     "output_type": "execute_result"
    }
   ],
   "source": [
    "'spam' + 'spamspam'"
   ]
  },
  {
   "cell_type": "code",
   "execution_count": 11,
   "metadata": {},
   "outputs": [
    {
     "data": {
      "text/plain": [
       "'spamspamspam'"
      ]
     },
     "execution_count": 11,
     "metadata": {},
     "output_type": "execute_result"
    }
   ],
   "source": [
    "'spam' * 3"
   ]
  },
  {
   "cell_type": "markdown",
   "metadata": {},
   "source": [
    "### 8. Why is eggs a valid variable name while 100 is invalid?\n",
    "#### Answer :\n",
    "In python, variable name cannot start with a number that's why 100 is an ivalid variable name and as eggs starts with a letter it is a valid variable.    \n",
    "**Below are the Python rules for naming a variable**  \n",
    "Variable name must start with a letter or the underscore ( _ ) character.  \n",
    "Variable name cannot start with a number.  \n",
    "Variable name can only contain alpha-numeric characters and underscores (A-z, 0-9, _ ).  \n",
    "Variable names are case-sensitive (name, VINAY and vinay are three different variables).  \n",
    "Python keywords cannot be used for naming the variable  "
   ]
  },
  {
   "cell_type": "markdown",
   "metadata": {},
   "source": [
    "### 9. What three functions can be used to get the integer, floating-point number, or string version of a value?\n",
    "#### Answer :\n",
    " int() function converts given input to integer  \n",
    " float() function converts given input to floating-point number  \n",
    " str() function converts given input to string           \n",
    " It has been explained in below code."
   ]
  },
  {
   "cell_type": "code",
   "execution_count": 13,
   "metadata": {},
   "outputs": [
    {
     "name": "stdout",
     "output_type": "stream",
     "text": [
      "10\n",
      "10.0\n",
      "10\n"
     ]
    }
   ],
   "source": [
    "x = 10\n",
    "print (int(x))\n",
    "print (float (x))\n",
    "print (str(x))"
   ]
  },
  {
   "cell_type": "markdown",
   "metadata": {},
   "source": [
    "### 10. Why does this expression cause an error? How can you fix it?\n",
    "### 'I have eaten ' + 99 + ' burritos.'\n",
    "#### Answer:   \n",
    "Above expression gives error because we cannot concatenate string with an integer (99).  \n",
    "To perform concatenation in above expression we need to convert integer (99) to a string then it will give o/p as we can see in below code."
   ]
  },
  {
   "cell_type": "code",
   "execution_count": 14,
   "metadata": {},
   "outputs": [
    {
     "data": {
      "text/plain": [
       "'I have eaten 99 burritos.'"
      ]
     },
     "execution_count": 14,
     "metadata": {},
     "output_type": "execute_result"
    }
   ],
   "source": [
    "'I have eaten ' + str(99) + ' burritos.'"
   ]
  }
 ],
 "metadata": {
  "kernelspec": {
   "display_name": "Python 3",
   "language": "python",
   "name": "python3"
  },
  "language_info": {
   "codemirror_mode": {
    "name": "ipython",
    "version": 3
   },
   "file_extension": ".py",
   "mimetype": "text/x-python",
   "name": "python",
   "nbconvert_exporter": "python",
   "pygments_lexer": "ipython3",
   "version": "3.8.5"
  }
 },
 "nbformat": 4,
 "nbformat_minor": 4
}
