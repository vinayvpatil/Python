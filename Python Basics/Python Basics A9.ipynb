{
 "cells": [
  {
   "cell_type": "markdown",
   "metadata": {},
   "source": [
    "## Python Basics A9\n",
    "### 1. To what does a relative path refer?\n",
    "#### Answer :\n",
    "relative path refers to the path relative to current working directory.\n",
    "### 2. What does an absolute path start with your operating system?\n",
    "#### Answer :\n",
    "Absolute paths start with the root folder as / or C:\\\n",
    "### 3. What do the functions os.getcwd() and os.chdir() do?\n",
    "#### Answer : \n",
    "os.getcwd() function returns the current working directory.  \n",
    "os.chdir() function changes the current working directory.\n",
    "### 4. What are the . and .. folders?  \n",
    "#### Answer :   \n",
    ". folder is the current folder.  \n",
    ".. is the parent folder.  \n",
    "### 5. In C:\\bacon\\eggs\\spam.txt, which part is the dir name, and which part is the base name? \n",
    "#### Answer :  \n",
    "C:\\bacon\\eggs is the dir name.  \n",
    "spam.txt is the base name.\n",
    "### 6. What are the three “mode” arguments that can be passed to the open() function?  \n",
    "#### Answer :  \n",
    "'r' for read mode.   \n",
    "'w' for write mode.   \n",
    "'a' for append mode. \n",
    "### 7. What happens if an existing file is opened in write mode? \n",
    "#### Answer :  \n",
    "It will be erased and completely overwritten.\n",
    "### 8. How do you tell the difference between read() and readlines()?\n",
    "#### Answer :   \n",
    "read() method returns the file’s entire contents as a single string value.  \n",
    "readlines() method returns a list of strings where each string is a line from the file’s contents.\n",
    "### 9. What data structure does a shelf value resemble?\n",
    "#### Answer :  \n",
    "A shelf value resembles a dictionary value, it has keys and values.\n"
   ]
  }
 ],
 "metadata": {
  "kernelspec": {
   "display_name": "Python 3",
   "language": "python",
   "name": "python3"
  },
  "language_info": {
   "codemirror_mode": {
    "name": "ipython",
    "version": 3
   },
   "file_extension": ".py",
   "mimetype": "text/x-python",
   "name": "python",
   "nbconvert_exporter": "python",
   "pygments_lexer": "ipython3",
   "version": "3.8.5"
  }
 },
 "nbformat": 4,
 "nbformat_minor": 4
}
