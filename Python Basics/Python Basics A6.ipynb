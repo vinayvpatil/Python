{
 "cells": [
  {
   "cell_type": "markdown",
   "metadata": {},
   "source": [
    "## Python Basics A6\n",
    "### 1. What are escape characters, and how do you use them?\n",
    "#### Answer :\n",
    "To insert characters that are illegal in a string, we use an escape character.   \n",
    "An escape character is a backslash \\ followed by the character we want to insert.  \n",
    "An example of an illegal character is a double quote inside a string that is surrounded by double quotes:  "
   ]
  },
  {
   "cell_type": "code",
   "execution_count": 4,
   "metadata": {},
   "outputs": [
    {
     "ename": "SyntaxError",
     "evalue": "invalid syntax (<ipython-input-4-155ed28515e2>, line 2)",
     "output_type": "error",
     "traceback": [
      "\u001b[1;36m  File \u001b[1;32m\"<ipython-input-4-155ed28515e2>\"\u001b[1;36m, line \u001b[1;32m2\u001b[0m\n\u001b[1;33m    string1 =\"My name is \"Vinay\"\"\u001b[0m\n\u001b[1;37m                          ^\u001b[0m\n\u001b[1;31mSyntaxError\u001b[0m\u001b[1;31m:\u001b[0m invalid syntax\n"
     ]
    }
   ],
   "source": [
    "#we cannot use double quotes \"\" inside a string that's why below code will give error\n",
    "string1 =\"My name is \"Vinay\"\"\n",
    "print(string1)"
   ]
  },
  {
   "cell_type": "code",
   "execution_count": 5,
   "metadata": {},
   "outputs": [
    {
     "name": "stdout",
     "output_type": "stream",
     "text": [
      "My name is \"Vinay\"\n"
     ]
    }
   ],
   "source": [
    "#Using escape character\\ to use illegal character \"\" inside a string.\n",
    "string1 =\"My name is \\\"Vinay\\\"\"\n",
    "print(string1)"
   ]
  },
  {
   "cell_type": "markdown",
   "metadata": {},
   "source": [
    "### 2. What do the escape characters n and t stand for?\n",
    "#### Answer :\n",
    "n - new line   \n",
    "t - tab\n",
    "### 3. What is the way to include backslash characters in a string?\n",
    "#### Answer : \n",
    "backslash \\ is a escape character used to insert illegal character in a string and it is always placed before the illegal character.\n",
    "### 4. The string \"Howl's Moving Castle\" is a correct value. Why isn't the single quote character in the word Howl's not escaped a problem?\n",
    "#### Answer : \n",
    "It didn't create a problem because the string is enclosed in double quotes \"\" while single quote ' is used inside the string.\n",
    "### 5. How do you write a string of newlines if you don't want to use the n character?\n",
    "#### Answer :\n",
    "**Multiline string** can be used to write a string of newlines.  \n",
    "A multiline string in Python begins and ends with either three single quotes or three double quotes. Any quotes, tabs, or newlines in between the “triple quotes” are considered part of the string. Python’s indentation rules for blocks do not apply to lines inside a multiline string.  "
   ]
  },
  {
   "cell_type": "code",
   "execution_count": 6,
   "metadata": {},
   "outputs": [
    {
     "name": "stdout",
     "output_type": "stream",
     "text": [
      "I\n",
      "am\n",
      "vinay\n"
     ]
    }
   ],
   "source": [
    "string2 = '''I\n",
    "am\n",
    "vinay'''\n",
    "print (string2)"
   ]
  },
  {
   "cell_type": "markdown",
   "metadata": {},
   "source": [
    "### 6. What are the values of the given expressions?\n",
    "### 'Hello, world!'[1]\n",
    "### 'Hello, world!'[0:5]\n",
    "### 'Hello, world!'[:5]\n",
    "### 'Hello, world!'[3:]\n",
    "#### Answer :\n",
    "**Hello, world!'[1]** - 'e'   \n",
    "\n",
    "**'Hello, world!'[0:5]** -'Hello'  \n",
    "\n",
    "**'Hello, world!'[:5]** - 'Hello'  \n",
    "  \n",
    "**'Hello, world!'[3:]** -  'lo, world!'  \n",
    "### 7. What are the values of the following expressions?\n",
    "### 'Hello'.upper()   \n",
    "### 'Hello'.upper().isupper()  \n",
    "### 'Hello'.upper().lower()  \n",
    "#### Answer :  \n",
    "**'Hello'.upper()** - 'HELLO'  \n",
    "**'Hello'.upper().isupper()** - True  \n",
    "**'Hello'.upper().lower()** - 'hello'  \n",
    "### 8. What are the values of the following expressions?  \n",
    "### 'Remember, remember, the fifth of July.'.split()   \n",
    "### '-'.join('There can only one.'.split())   \n",
    "#### Answer :  \n",
    "**'Remember, remember, the fifth of July.'.split()** - ['Remember,', 'remember,', 'the', 'fifth', 'of', 'July.']    \n",
    "**'-'.join('There can only one.'.split())** -  'There-can-only-one.'  \n",
    "\n"
   ]
  },
  {
   "cell_type": "markdown",
   "metadata": {},
   "source": [
    "### 9. What are the methods for right-justifying, left-justifying, and centering a string?\n",
    "#### Answer :\n",
    "rjust(),  ljust(),  center()"
   ]
  },
  {
   "cell_type": "code",
   "execution_count": 7,
   "metadata": {},
   "outputs": [
    {
     "name": "stdout",
     "output_type": "stream",
     "text": [
      "----------I am Vinay\n",
      "I am Vinay----------\n",
      "-----I am Vinay-----\n"
     ]
    }
   ],
   "source": [
    "string3=\"I am Vinay\"\n",
    "print(string3.rjust(20, '-'))   ##for right alignment\n",
    "print(string3.ljust(20, '-'))   ##for left alignment\n",
    "print(string3.center(20, '-'))  ##for center alignment"
   ]
  },
  {
   "cell_type": "markdown",
   "metadata": {},
   "source": [
    "###  10. What is the best way to remove whitespace characters from the start or end?\n",
    "#### Answer :\n",
    "**string.strip()** method is used to remove whitespace characters from the both start and end.  \n",
    "**string.lstrip()** method is used to remove whitespace characters from the start.  \n",
    "**string.rstrip()** method  is used to remove whitespace characters from the end.  "
   ]
  },
  {
   "cell_type": "code",
   "execution_count": 8,
   "metadata": {},
   "outputs": [
    {
     "name": "stdout",
     "output_type": "stream",
     "text": [
      "     I am Vinay             \n",
      "I am Vinay\n"
     ]
    }
   ],
   "source": [
    "string4 = \"     I am Vinay             \"\n",
    "print(string4) #will print string with whitespaces\n",
    "print(string4.strip()) #will print string without whitespaces"
   ]
  }
 ],
 "metadata": {
  "kernelspec": {
   "display_name": "Python 3",
   "language": "python",
   "name": "python3"
  },
  "language_info": {
   "codemirror_mode": {
    "name": "ipython",
    "version": 3
   },
   "file_extension": ".py",
   "mimetype": "text/x-python",
   "name": "python",
   "nbconvert_exporter": "python",
   "pygments_lexer": "ipython3",
   "version": "3.8.5"
  }
 },
 "nbformat": 4,
 "nbformat_minor": 4
}
