{
 "cells": [
  {
   "cell_type": "markdown",
   "metadata": {},
   "source": [
    "## Python Advance A25\n",
    "### Q1. What is the distinction between a numpy array and a pandas data frame? Is there a way to convert between the two if there is?\n",
    "#### Answer :\n",
    "Numpy Ndarray provides a lot of convenient and optimized methods for performing several mathematical operations on vectors. <br>\n",
    "Pandas Dataframe is an in-memory 2-dimensional tabular representation of data. In simpler words, it can be seen as a spreadsheet having rows and columns.  <br>\n",
    "Conversion : Dataframe=pandas.DataFrame(array)"
   ]
  },
  {
   "cell_type": "markdown",
   "metadata": {},
   "source": [
    "### Q2. What can go wrong when an user enters in a stock-ticker symbol, and how do you handle it?\n",
    "#### Answer :\n",
    "If the user enters stock-ticker symbol it is most likely to give an Error. It can be handled through exception handling."
   ]
  },
  {
   "cell_type": "markdown",
   "metadata": {},
   "source": [
    "### Q3. Identify some of the plotting techniques that are used to produce a stock-market chart.\n",
    "#### Answer :\n",
    "LINE CHART.POINT AND FIGURE CHART, CANDLESTICK CHART, BAR CHART."
   ]
  },
  {
   "cell_type": "markdown",
   "metadata": {},
   "source": [
    "### Q4. Why is it essential to print a legend on a stock market chart?\n",
    "#### Answer :\n",
    "Legends adds a beauty to visualize the trend of data w.r.t. different features. It creates the different trend in different colors indicating that which is belong to which trend is belong to which feature."
   ]
  },
  {
   "cell_type": "markdown",
   "metadata": {},
   "source": [
    "### Q5. What is the best way to limit the length of a pandas data frame to less than a year?\n",
    "#### Answer :\n",
    "We can use start and end parameters for that. In start we write the date from where we are starting and at the end we write the end date. So within this span we can restric the duration.Also we can use the parameters like periods for how much times we need the duration and we can also use the frequency parameter."
   ]
  },
  {
   "cell_type": "markdown",
   "metadata": {},
   "source": [
    "### Q6. What is the definition of a 180-day moving average?\n",
    "#### Answer :\n",
    "Moving Averages help to filter out market noise and smooth out fluctuations in price. In statistics, a moving average is a calculation used to analyze data points by creating a series of averages of different subsets of the full data set. 180-day moving average is the average of a given set of prices over the 180 days in the past."
   ]
  },
  {
   "cell_type": "markdown",
   "metadata": {},
   "source": [
    "### Q7. Did the chapter's final example use \"indirect\" importing? If so, how exactly do you do it?\n",
    "#### Answer :\n",
    "A relative import specifies the resource to be imported relative to the current location\n",
    "An absolute import specifies the resource to be imported using its full path from the project’s root folder"
   ]
  }
 ],
 "metadata": {
  "kernelspec": {
   "display_name": "Python 3",
   "language": "python",
   "name": "python3"
  },
  "language_info": {
   "codemirror_mode": {
    "name": "ipython",
    "version": 3
   },
   "file_extension": ".py",
   "mimetype": "text/x-python",
   "name": "python",
   "nbconvert_exporter": "python",
   "pygments_lexer": "ipython3",
   "version": "3.8.5"
  }
 },
 "nbformat": 4,
 "nbformat_minor": 4
}
